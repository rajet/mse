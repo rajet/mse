{
 "cells": [
  {
   "cell_type": "markdown",
   "metadata": {
    "id": "dfjRPxKIcE-n"
   },
   "source": [
    "## Exercise 1: Data Loading, Inspection and Visualization\n",
    "For this exercise, we use NBA data `nba_stats.csv` provided.\n"
   ]
  },
  {
   "cell_type": "code",
   "execution_count": 4,
   "metadata": {
    "id": "VFxE6lmZkyWW"
   },
   "outputs": [],
   "source": [
    "# Import requiered packages\n",
    "import pandas as pd\n",
    "import matplotlib.pyplot as plt"
   ]
  },
  {
   "cell_type": "markdown",
   "metadata": {},
   "source": [
    "#### 1. Load the dataset."
   ]
  },
  {
   "cell_type": "code",
   "execution_count": 6,
   "metadata": {},
   "outputs": [],
   "source": [
    "df = pd.read_csv('nba_stats.csv', low_memory=False)"
   ]
  },
  {
   "cell_type": "markdown",
   "metadata": {
    "colab": {
     "base_uri": "https://localhost:8080/",
     "height": 204
    },
    "id": "zsDyWkz528x1",
    "outputId": "e84eda28-60bd-4dec-8691-68a9c1b097d3"
   },
   "source": [
    "#### 2. Get an overview of the dataset"
   ]
  },
  {
   "cell_type": "code",
   "execution_count": 11,
   "metadata": {},
   "outputs": [
    {
     "data": {
      "text/html": [
       "<div>\n",
       "<style scoped>\n",
       "    .dataframe tbody tr th:only-of-type {\n",
       "        vertical-align: middle;\n",
       "    }\n",
       "\n",
       "    .dataframe tbody tr th {\n",
       "        vertical-align: top;\n",
       "    }\n",
       "\n",
       "    .dataframe thead th {\n",
       "        text-align: right;\n",
       "    }\n",
       "</style>\n",
       "<table border=\"1\" class=\"dataframe\">\n",
       "  <thead>\n",
       "    <tr style=\"text-align: right;\">\n",
       "      <th></th>\n",
       "      <th>Year</th>\n",
       "      <th>Player</th>\n",
       "      <th>Pos</th>\n",
       "      <th>Age</th>\n",
       "      <th>Tm</th>\n",
       "      <th>MP</th>\n",
       "      <th>FT</th>\n",
       "      <th>TRB</th>\n",
       "      <th>AST</th>\n",
       "      <th>STL</th>\n",
       "      <th>BLK</th>\n",
       "      <th>TOV</th>\n",
       "      <th>PF</th>\n",
       "      <th>PTS</th>\n",
       "    </tr>\n",
       "  </thead>\n",
       "  <tbody>\n",
       "    <tr>\n",
       "      <th>0</th>\n",
       "      <td>2017</td>\n",
       "      <td>Ivica Zubac</td>\n",
       "      <td>C</td>\n",
       "      <td>19</td>\n",
       "      <td>LAL</td>\n",
       "      <td>609</td>\n",
       "      <td>32</td>\n",
       "      <td>159</td>\n",
       "      <td>30</td>\n",
       "      <td>14</td>\n",
       "      <td>33</td>\n",
       "      <td>30</td>\n",
       "      <td>66</td>\n",
       "      <td>284</td>\n",
       "    </tr>\n",
       "    <tr>\n",
       "      <th>1</th>\n",
       "      <td>2017</td>\n",
       "      <td>Gerald Green</td>\n",
       "      <td>SF</td>\n",
       "      <td>31</td>\n",
       "      <td>BOS</td>\n",
       "      <td>538</td>\n",
       "      <td>33</td>\n",
       "      <td>85</td>\n",
       "      <td>33</td>\n",
       "      <td>9</td>\n",
       "      <td>7</td>\n",
       "      <td>25</td>\n",
       "      <td>48</td>\n",
       "      <td>262</td>\n",
       "    </tr>\n",
       "    <tr>\n",
       "      <th>2</th>\n",
       "      <td>2017</td>\n",
       "      <td>Danny Green</td>\n",
       "      <td>SG</td>\n",
       "      <td>29</td>\n",
       "      <td>SAS</td>\n",
       "      <td>1807</td>\n",
       "      <td>27</td>\n",
       "      <td>224</td>\n",
       "      <td>124</td>\n",
       "      <td>71</td>\n",
       "      <td>58</td>\n",
       "      <td>76</td>\n",
       "      <td>120</td>\n",
       "      <td>497</td>\n",
       "    </tr>\n",
       "    <tr>\n",
       "      <th>3</th>\n",
       "      <td>2017</td>\n",
       "      <td>Jerian Grant</td>\n",
       "      <td>PG</td>\n",
       "      <td>24</td>\n",
       "      <td>CHI</td>\n",
       "      <td>1028</td>\n",
       "      <td>65</td>\n",
       "      <td>111</td>\n",
       "      <td>120</td>\n",
       "      <td>47</td>\n",
       "      <td>8</td>\n",
       "      <td>44</td>\n",
       "      <td>93</td>\n",
       "      <td>370</td>\n",
       "    </tr>\n",
       "    <tr>\n",
       "      <th>4</th>\n",
       "      <td>2017</td>\n",
       "      <td>Jerami Grant</td>\n",
       "      <td>SF</td>\n",
       "      <td>22</td>\n",
       "      <td>OKC</td>\n",
       "      <td>1490</td>\n",
       "      <td>86</td>\n",
       "      <td>199</td>\n",
       "      <td>46</td>\n",
       "      <td>33</td>\n",
       "      <td>75</td>\n",
       "      <td>41</td>\n",
       "      <td>144</td>\n",
       "      <td>421</td>\n",
       "    </tr>\n",
       "  </tbody>\n",
       "</table>\n",
       "</div>"
      ],
      "text/plain": [
       "   Year        Player Pos  Age   Tm    MP  FT  TRB  AST  STL  BLK  TOV   PF  \\\n",
       "0  2017   Ivica Zubac   C   19  LAL   609  32  159   30   14   33   30   66   \n",
       "1  2017  Gerald Green  SF   31  BOS   538  33   85   33    9    7   25   48   \n",
       "2  2017   Danny Green  SG   29  SAS  1807  27  224  124   71   58   76  120   \n",
       "3  2017  Jerian Grant  PG   24  CHI  1028  65  111  120   47    8   44   93   \n",
       "4  2017  Jerami Grant  SF   22  OKC  1490  86  199   46   33   75   41  144   \n",
       "\n",
       "   PTS  \n",
       "0  284  \n",
       "1  262  \n",
       "2  497  \n",
       "3  370  \n",
       "4  421  "
      ]
     },
     "execution_count": 11,
     "metadata": {},
     "output_type": "execute_result"
    }
   ],
   "source": [
    "df.head()"
   ]
  },
  {
   "cell_type": "code",
   "execution_count": 10,
   "metadata": {},
   "outputs": [
    {
     "data": {
      "text/html": [
       "<div>\n",
       "<style scoped>\n",
       "    .dataframe tbody tr th:only-of-type {\n",
       "        vertical-align: middle;\n",
       "    }\n",
       "\n",
       "    .dataframe tbody tr th {\n",
       "        vertical-align: top;\n",
       "    }\n",
       "\n",
       "    .dataframe thead th {\n",
       "        text-align: right;\n",
       "    }\n",
       "</style>\n",
       "<table border=\"1\" class=\"dataframe\">\n",
       "  <thead>\n",
       "    <tr style=\"text-align: right;\">\n",
       "      <th></th>\n",
       "      <th>Year</th>\n",
       "      <th>Player</th>\n",
       "      <th>Pos</th>\n",
       "      <th>Age</th>\n",
       "      <th>Tm</th>\n",
       "      <th>MP</th>\n",
       "      <th>FT</th>\n",
       "      <th>TRB</th>\n",
       "      <th>AST</th>\n",
       "      <th>STL</th>\n",
       "      <th>BLK</th>\n",
       "      <th>TOV</th>\n",
       "      <th>PF</th>\n",
       "      <th>PTS</th>\n",
       "    </tr>\n",
       "  </thead>\n",
       "  <tbody>\n",
       "    <tr>\n",
       "      <th>19640</th>\n",
       "      <td>1978</td>\n",
       "      <td>Eddie Owens</td>\n",
       "      <td>SF</td>\n",
       "      <td>24</td>\n",
       "      <td>BUF</td>\n",
       "      <td>63</td>\n",
       "      <td>3</td>\n",
       "      <td>10</td>\n",
       "      <td>5</td>\n",
       "      <td>1</td>\n",
       "      <td>0</td>\n",
       "      <td>3</td>\n",
       "      <td>9</td>\n",
       "      <td>21</td>\n",
       "    </tr>\n",
       "    <tr>\n",
       "      <th>19641</th>\n",
       "      <td>1978</td>\n",
       "      <td>Tom Owens</td>\n",
       "      <td>C</td>\n",
       "      <td>28</td>\n",
       "      <td>POR</td>\n",
       "      <td>1714</td>\n",
       "      <td>206</td>\n",
       "      <td>541</td>\n",
       "      <td>160</td>\n",
       "      <td>33</td>\n",
       "      <td>37</td>\n",
       "      <td>152</td>\n",
       "      <td>263</td>\n",
       "      <td>832</td>\n",
       "    </tr>\n",
       "    <tr>\n",
       "      <th>19642</th>\n",
       "      <td>1978</td>\n",
       "      <td>Joe Pace</td>\n",
       "      <td>C</td>\n",
       "      <td>24</td>\n",
       "      <td>WSB</td>\n",
       "      <td>438</td>\n",
       "      <td>57</td>\n",
       "      <td>134</td>\n",
       "      <td>23</td>\n",
       "      <td>12</td>\n",
       "      <td>21</td>\n",
       "      <td>44</td>\n",
       "      <td>86</td>\n",
       "      <td>191</td>\n",
       "    </tr>\n",
       "    <tr>\n",
       "      <th>19643</th>\n",
       "      <td>1978</td>\n",
       "      <td>Robert Parish*</td>\n",
       "      <td>C</td>\n",
       "      <td>24</td>\n",
       "      <td>GSW</td>\n",
       "      <td>1969</td>\n",
       "      <td>165</td>\n",
       "      <td>680</td>\n",
       "      <td>95</td>\n",
       "      <td>79</td>\n",
       "      <td>123</td>\n",
       "      <td>201</td>\n",
       "      <td>291</td>\n",
       "      <td>1025</td>\n",
       "    </tr>\n",
       "    <tr>\n",
       "      <th>19644</th>\n",
       "      <td>1978</td>\n",
       "      <td>Willie Norwood</td>\n",
       "      <td>SF</td>\n",
       "      <td>30</td>\n",
       "      <td>DET</td>\n",
       "      <td>260</td>\n",
       "      <td>20</td>\n",
       "      <td>54</td>\n",
       "      <td>14</td>\n",
       "      <td>13</td>\n",
       "      <td>3</td>\n",
       "      <td>17</td>\n",
       "      <td>45</td>\n",
       "      <td>88</td>\n",
       "    </tr>\n",
       "  </tbody>\n",
       "</table>\n",
       "</div>"
      ],
      "text/plain": [
       "       Year          Player Pos  Age   Tm    MP   FT  TRB  AST  STL  BLK  TOV  \\\n",
       "19640  1978     Eddie Owens  SF   24  BUF    63    3   10    5    1    0    3   \n",
       "19641  1978       Tom Owens   C   28  POR  1714  206  541  160   33   37  152   \n",
       "19642  1978        Joe Pace   C   24  WSB   438   57  134   23   12   21   44   \n",
       "19643  1978  Robert Parish*   C   24  GSW  1969  165  680   95   79  123  201   \n",
       "19644  1978  Willie Norwood  SF   30  DET   260   20   54   14   13    3   17   \n",
       "\n",
       "        PF   PTS  \n",
       "19640    9    21  \n",
       "19641  263   832  \n",
       "19642   86   191  \n",
       "19643  291  1025  \n",
       "19644   45    88  "
      ]
     },
     "execution_count": 10,
     "metadata": {},
     "output_type": "execute_result"
    }
   ],
   "source": [
    "df.tail()"
   ]
  },
  {
   "cell_type": "code",
   "execution_count": 12,
   "metadata": {},
   "outputs": [
    {
     "name": "stdout",
     "output_type": "stream",
     "text": [
      "<class 'pandas.core.frame.DataFrame'>\n",
      "RangeIndex: 19645 entries, 0 to 19644\n",
      "Data columns (total 14 columns):\n",
      " #   Column  Non-Null Count  Dtype \n",
      "---  ------  --------------  ----- \n",
      " 0   Year    19645 non-null  int64 \n",
      " 1   Player  19645 non-null  object\n",
      " 2   Pos     19645 non-null  object\n",
      " 3   Age     19645 non-null  int64 \n",
      " 4   Tm      19645 non-null  object\n",
      " 5   MP      19645 non-null  int64 \n",
      " 6   FT      19645 non-null  int64 \n",
      " 7   TRB     19645 non-null  int64 \n",
      " 8   AST     19645 non-null  int64 \n",
      " 9   STL     19645 non-null  int64 \n",
      " 10  BLK     19645 non-null  int64 \n",
      " 11  TOV     19645 non-null  int64 \n",
      " 12  PF      19645 non-null  int64 \n",
      " 13  PTS     19645 non-null  int64 \n",
      "dtypes: int64(11), object(3)\n",
      "memory usage: 2.1+ MB\n"
     ]
    }
   ],
   "source": [
    "df.info()"
   ]
  },
  {
   "cell_type": "code",
   "execution_count": 13,
   "metadata": {},
   "outputs": [
    {
     "data": {
      "text/html": [
       "<div>\n",
       "<style scoped>\n",
       "    .dataframe tbody tr th:only-of-type {\n",
       "        vertical-align: middle;\n",
       "    }\n",
       "\n",
       "    .dataframe tbody tr th {\n",
       "        vertical-align: top;\n",
       "    }\n",
       "\n",
       "    .dataframe thead th {\n",
       "        text-align: right;\n",
       "    }\n",
       "</style>\n",
       "<table border=\"1\" class=\"dataframe\">\n",
       "  <thead>\n",
       "    <tr style=\"text-align: right;\">\n",
       "      <th></th>\n",
       "      <th>Year</th>\n",
       "      <th>Age</th>\n",
       "      <th>MP</th>\n",
       "      <th>FT</th>\n",
       "      <th>TRB</th>\n",
       "      <th>AST</th>\n",
       "      <th>STL</th>\n",
       "      <th>BLK</th>\n",
       "      <th>TOV</th>\n",
       "      <th>PF</th>\n",
       "      <th>PTS</th>\n",
       "    </tr>\n",
       "  </thead>\n",
       "  <tbody>\n",
       "    <tr>\n",
       "      <th>count</th>\n",
       "      <td>19645.000000</td>\n",
       "      <td>19645.000000</td>\n",
       "      <td>19645.000000</td>\n",
       "      <td>19645.000000</td>\n",
       "      <td>19645.000000</td>\n",
       "      <td>19645.000000</td>\n",
       "      <td>19645.000000</td>\n",
       "      <td>19645.000000</td>\n",
       "      <td>19645.000000</td>\n",
       "      <td>19645.000000</td>\n",
       "      <td>19645.000000</td>\n",
       "    </tr>\n",
       "    <tr>\n",
       "      <th>mean</th>\n",
       "      <td>1999.475897</td>\n",
       "      <td>26.803614</td>\n",
       "      <td>1168.571596</td>\n",
       "      <td>94.487910</td>\n",
       "      <td>205.793739</td>\n",
       "      <td>111.669738</td>\n",
       "      <td>39.252380</td>\n",
       "      <td>24.340799</td>\n",
       "      <td>73.939832</td>\n",
       "      <td>109.474116</td>\n",
       "      <td>490.462662</td>\n",
       "    </tr>\n",
       "    <tr>\n",
       "      <th>std</th>\n",
       "      <td>11.263847</td>\n",
       "      <td>3.973302</td>\n",
       "      <td>925.141538</td>\n",
       "      <td>107.579824</td>\n",
       "      <td>204.223512</td>\n",
       "      <td>137.530665</td>\n",
       "      <td>38.159662</td>\n",
       "      <td>36.649355</td>\n",
       "      <td>67.713803</td>\n",
       "      <td>81.652565</td>\n",
       "      <td>481.407801</td>\n",
       "    </tr>\n",
       "    <tr>\n",
       "      <th>min</th>\n",
       "      <td>1978.000000</td>\n",
       "      <td>18.000000</td>\n",
       "      <td>0.000000</td>\n",
       "      <td>0.000000</td>\n",
       "      <td>0.000000</td>\n",
       "      <td>0.000000</td>\n",
       "      <td>0.000000</td>\n",
       "      <td>0.000000</td>\n",
       "      <td>0.000000</td>\n",
       "      <td>0.000000</td>\n",
       "      <td>0.000000</td>\n",
       "    </tr>\n",
       "    <tr>\n",
       "      <th>25%</th>\n",
       "      <td>1990.000000</td>\n",
       "      <td>24.000000</td>\n",
       "      <td>317.000000</td>\n",
       "      <td>16.000000</td>\n",
       "      <td>47.000000</td>\n",
       "      <td>17.000000</td>\n",
       "      <td>9.000000</td>\n",
       "      <td>3.000000</td>\n",
       "      <td>18.000000</td>\n",
       "      <td>36.000000</td>\n",
       "      <td>96.000000</td>\n",
       "    </tr>\n",
       "    <tr>\n",
       "      <th>50%</th>\n",
       "      <td>2000.000000</td>\n",
       "      <td>26.000000</td>\n",
       "      <td>995.000000</td>\n",
       "      <td>57.000000</td>\n",
       "      <td>146.000000</td>\n",
       "      <td>63.000000</td>\n",
       "      <td>29.000000</td>\n",
       "      <td>11.000000</td>\n",
       "      <td>55.000000</td>\n",
       "      <td>100.000000</td>\n",
       "      <td>342.000000</td>\n",
       "    </tr>\n",
       "    <tr>\n",
       "      <th>75%</th>\n",
       "      <td>2009.000000</td>\n",
       "      <td>29.000000</td>\n",
       "      <td>1906.000000</td>\n",
       "      <td>136.000000</td>\n",
       "      <td>297.000000</td>\n",
       "      <td>154.000000</td>\n",
       "      <td>59.000000</td>\n",
       "      <td>29.000000</td>\n",
       "      <td>112.000000</td>\n",
       "      <td>171.000000</td>\n",
       "      <td>757.000000</td>\n",
       "    </tr>\n",
       "    <tr>\n",
       "      <th>max</th>\n",
       "      <td>2017.000000</td>\n",
       "      <td>44.000000</td>\n",
       "      <td>3638.000000</td>\n",
       "      <td>833.000000</td>\n",
       "      <td>1530.000000</td>\n",
       "      <td>1164.000000</td>\n",
       "      <td>301.000000</td>\n",
       "      <td>456.000000</td>\n",
       "      <td>464.000000</td>\n",
       "      <td>386.000000</td>\n",
       "      <td>3041.000000</td>\n",
       "    </tr>\n",
       "  </tbody>\n",
       "</table>\n",
       "</div>"
      ],
      "text/plain": [
       "               Year           Age            MP            FT           TRB  \\\n",
       "count  19645.000000  19645.000000  19645.000000  19645.000000  19645.000000   \n",
       "mean    1999.475897     26.803614   1168.571596     94.487910    205.793739   \n",
       "std       11.263847      3.973302    925.141538    107.579824    204.223512   \n",
       "min     1978.000000     18.000000      0.000000      0.000000      0.000000   \n",
       "25%     1990.000000     24.000000    317.000000     16.000000     47.000000   \n",
       "50%     2000.000000     26.000000    995.000000     57.000000    146.000000   \n",
       "75%     2009.000000     29.000000   1906.000000    136.000000    297.000000   \n",
       "max     2017.000000     44.000000   3638.000000    833.000000   1530.000000   \n",
       "\n",
       "                AST           STL           BLK           TOV            PF  \\\n",
       "count  19645.000000  19645.000000  19645.000000  19645.000000  19645.000000   \n",
       "mean     111.669738     39.252380     24.340799     73.939832    109.474116   \n",
       "std      137.530665     38.159662     36.649355     67.713803     81.652565   \n",
       "min        0.000000      0.000000      0.000000      0.000000      0.000000   \n",
       "25%       17.000000      9.000000      3.000000     18.000000     36.000000   \n",
       "50%       63.000000     29.000000     11.000000     55.000000    100.000000   \n",
       "75%      154.000000     59.000000     29.000000    112.000000    171.000000   \n",
       "max     1164.000000    301.000000    456.000000    464.000000    386.000000   \n",
       "\n",
       "                PTS  \n",
       "count  19645.000000  \n",
       "mean     490.462662  \n",
       "std      481.407801  \n",
       "min        0.000000  \n",
       "25%       96.000000  \n",
       "50%      342.000000  \n",
       "75%      757.000000  \n",
       "max     3041.000000  "
      ]
     },
     "execution_count": 13,
     "metadata": {},
     "output_type": "execute_result"
    }
   ],
   "source": [
    "df.describe()"
   ]
  },
  {
   "cell_type": "markdown",
   "metadata": {
    "id": "KzdSEbjU4lhq"
   },
   "source": [
    "###### 1. Find the average age of the players for the year 2017."
   ]
  },
  {
   "cell_type": "code",
   "execution_count": 14,
   "metadata": {},
   "outputs": [
    {
     "data": {
      "text/plain": [
       "26.803614151183506"
      ]
     },
     "execution_count": 14,
     "metadata": {},
     "output_type": "execute_result"
    }
   ],
   "source": [
    "df[\"Age\"].mean()"
   ]
  },
  {
   "cell_type": "markdown",
   "metadata": {
    "id": "1297AnJi442Y"
   },
   "source": [
    "###### 2. Plot the total number of points (`PTS`) per year since 2000"
   ]
  },
  {
   "cell_type": "code",
   "execution_count": 21,
   "metadata": {},
   "outputs": [
    {
     "data": {
      "image/png": "[encoded data removed]",
      "text/plain": [
       "<Figure size 1000x600 with 1 Axes>"
      ]
     },
     "metadata": {},
     "output_type": "display_data"
    }
   ],
   "source": [
    "filtered_df = df[df[\"Year\"] > 2000]\n",
    "points_per_year = filtered_df.groupby(\"Year\")[\"PTS\"].sum()\n",
    "points_per_year.plot(kind=\"bar\", title=\"Total Points Per Year Since 2000\", figsize=(10, 6))\n",
    "\n",
    "plt.xlabel(\"Year\")\n",
    "plt.ylabel(\"Total Points (PTS)\")\n",
    "plt.xticks(rotation=45)\n",
    "plt.grid(axis=\"y\", linestyle=\"--\", alpha=0.7)\n",
    "plt.show()"
   ]
  },
  {
   "cell_type": "markdown",
   "metadata": {
    "id": "0x26BZp390bp"
   },
   "source": [
    "###### 3. Plot the number of players per year since 2010. What is the year with the most players?"
   ]
  },
  {
   "cell_type": "code",
   "execution_count": 22,
   "metadata": {},
   "outputs": [
    {
     "data": {
      "text/plain": [
       "<Axes: xlabel='Year'>"
      ]
     },
     "execution_count": 22,
     "metadata": {},
     "output_type": "execute_result"
    },
    {
     "data": {
      "image/png": "[encoded data removed]",
      "text/plain": [
       "<Figure size 640x480 with 1 Axes>"
      ]
     },
     "metadata": {},
     "output_type": "display_data"
    }
   ],
   "source": [
    "filtered_df = df[df[\"Year\"] > 2010]\n",
    "player_per_year = filtered_df.groupby(\"Year\").nunique\n",
    "player_per_year.plot(kind=\"bar\")"
   ]
  }
 ],
 "metadata": {
  "colab": {
   "authorship_tag": "ABX9TyMGQSXPDnwvhfsfH00XG7VF",
   "collapsed_sections": [],
   "include_colab_link": true,
   "name": "Exercises_Solutions.ipynb",
   "provenance": []
  },
  "kernelspec": {
   "display_name": "Python 3 (ipykernel)",
   "language": "python",
   "name": "python3"
  },
  "language_info": {
   "codemirror_mode": {
    "name": "ipython",
    "version": 3
   },
   "file_extension": ".py",
   "mimetype": "text/x-python",
   "name": "python",
   "nbconvert_exporter": "python",
   "pygments_lexer": "ipython3",
   "version": "3.12.7"
  }
 },
 "nbformat": 4,
 "nbformat_minor": 4
}
