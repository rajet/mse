{
 "cells": [
  {
   "cell_type": "markdown",
   "metadata": {
    "id": "5Uz1UIQ4mo--"
   },
   "source": [
    "# Model Selection KNN\n",
    "\n"
   ]
  },
  {
   "cell_type": "code",
   "execution_count": null,
   "metadata": {
    "colab": {
     "base_uri": "https://localhost:8080/"
    },
    "executionInfo": {
     "elapsed": 552,
     "status": "ok",
     "timestamp": 1615359171028,
     "user": {
      "displayName": "Helmut Grabner",
      "photoUrl": "https://lh3.googleusercontent.com/a-/AOh14Gh7VFoSO9VR3VvyyTFY2VEA3A1vWKRswaJHGQ3HoA=s64",
      "userId": "06526771998566964714"
     },
     "user_tz": -60
    },
    "id": "Ui_1KLAdc28F",
    "outputId": "36db6239-f0e3-4ae5-a3cc-b0a4e4030653"
   },
   "outputs": [],
   "source": [
    "# load necessary libraries\n",
    "import seaborn as sns\n",
    "import pandas as pd\n",
    "import matplotlib.pyplot as plt\n",
    "from sklearn.model_selection import train_test_split\n",
    "from sklearn.preprocessing import StandardScaler\n",
    "from sklearn.metrics import confusion_matrix\n",
    "import numpy as np\n",
    "np.random.seed(1)\n",
    "%matplotlib inline"
   ]
  },
  {
   "cell_type": "markdown",
   "metadata": {},
   "source": [
    "## kNN: Find the best k?\n",
    "\n",
    "We will again work with the diabetes dataset that contains patient attributes (e.g. age, glucose, ...) and information on whether the patient is diagnosed with diabetes (0 meaning \"no\", 1 meaning \"yes\"). The goal is to learn a model that predicts whether a (new) patient has diabetes given a set of patient attributes. This is a classification task and you can use the kNN classifier. The kNN classifier has a hyperparameter `k` and in order to find its optimal value for our target problem we need to do hyperparameter tuning (model selection). That will be the main goal of the tasks in this exercise.\n",
    "\n",
    "#### Prepare the data for learning\n",
    "Get the inputs X and targets y from the dataset. Always leave a poriton of the data for testing. The test dataset should not be used for model development or model selection but should be kept for the performance assessment of the final model. We split the data-set into 80% training and 20% test examples to create the training set and test set."
   ]
  },
  {
   "cell_type": "code",
   "execution_count": null,
   "metadata": {},
   "outputs": [],
   "source": [
    "# get data\n",
    "df = pd.read_csv('DiabetesDataset.csv')\n",
    "# keep the patient characteristics as inputs X and the diabetes as target y\n",
    "X = df.drop(columns=['Diabetes'])\n",
    "y = df['Diabetes'].values\n",
    "\n",
    "#split dataset into train and test data\n",
    "X_train, X_test, y_train, y_test = train_test_split(X, y, test_size=0.1, random_state=1)\n",
    "\n",
    "# check out the size of the training and test datasets\n",
    "print (\"Training Set Size:\", len(X_train))\n",
    "print (\"Test Set Size:\", len(X_test))"
   ]
  },
  {
   "cell_type": "markdown",
   "metadata": {
    "id": "MWLAAu-Ibe-5"
   },
   "source": [
    "### 1. Cerate a validation set\n",
    "One way to select the best `k` is to use a validation set (do hyperparameter tuning using a validation set). The validation set is also called a development set. \n",
    "\n",
    "Obtain a validation set by splitting the previously created training set into two parts: 80% used for training and 20% used for validation.\n",
    "\n",
    "How many samples are in the three sets now?\n"
   ]
  },
  {
   "cell_type": "code",
   "execution_count": null,
   "metadata": {
    "colab": {
     "base_uri": "https://localhost:8080/"
    },
    "executionInfo": {
     "elapsed": 633,
     "status": "ok",
     "timestamp": 1615359173934,
     "user": {
      "displayName": "Helmut Grabner",
      "photoUrl": "https://lh3.googleusercontent.com/a-/AOh14Gh7VFoSO9VR3VvyyTFY2VEA3A1vWKRswaJHGQ3HoA=s64",
      "userId": "06526771998566964714"
     },
     "user_tz": -60
    },
    "id": "u3iijGh0eGKl",
    "outputId": "e66b6b0a-c316-446b-b592-47e024440976"
   },
   "outputs": [],
   "source": [
    "#### START YOUR CODE HERE ####\n",
    "# Obtain the validation set\n",
    "\n",
    "# get the sizes of the different sets\n",
    "\n",
    "#### END YOUR CODE HERE ####"
   ]
  },
  {
   "cell_type": "markdown",
   "metadata": {},
   "source": [
    "### 2. Find optimal k using the validation set\n",
    "Use the validation set to estimate the best k for the kNN classifier. Choose the best `k` from the values from 1 to 100 using the accuracy score. Plot the computed accuracy scores for all considered values of `k` with a line plot and draw a vertical line at the best `k`."
   ]
  },
  {
   "cell_type": "code",
   "execution_count": null,
   "metadata": {
    "colab": {
     "base_uri": "https://localhost:8080/",
     "height": 298
    },
    "executionInfo": {
     "elapsed": 1760,
     "status": "ok",
     "timestamp": 1615359176839,
     "user": {
      "displayName": "Helmut Grabner",
      "photoUrl": "https://lh3.googleusercontent.com/a-/AOh14Gh7VFoSO9VR3VvyyTFY2VEA3A1vWKRswaJHGQ3HoA=s64",
      "userId": "06526771998566964714"
     },
     "user_tz": -60
    },
    "id": "FpSrSSRXdIa8",
    "outputId": "45ef890d-20b1-4f45-e7b0-befa9306b680"
   },
   "outputs": [],
   "source": [
    "# single crossvalidation for given K\n",
    "from sklearn.neighbors import KNeighborsClassifier\n",
    "\n",
    "# list to store the scores for the different k values\n",
    "scores = []\n",
    "# loop from 1 to 100 to find the best k for k-NN. \n",
    "for k in range(1,101):\n",
    "  #### START YOUR CODE HERE ####\n",
    "  #train the kNN classifier\n",
    "  \n",
    "  # compute the predictions on the validation set\n",
    "\n",
    "  # compute the accuracy score on the validation set \n",
    "\n",
    "  # add the accuracy score to your scores list  \n",
    "\n",
    "# find the k that yields the best accuracy score and the best score\n",
    "\n",
    "\n",
    "# plot the computed accuracy scores for all tested values of k and draw a vertical line at the k\n",
    "\n",
    "#### END YOUR CODE HERE ####\n"
   ]
  },
  {
   "cell_type": "markdown",
   "metadata": {},
   "source": [
    "### 3. Train a final kNN classifier\n",
    "Train a final classifier using the best k you selected on the validation set and evaluate its performance (accuracy score) on the test set. Print the test accuracy score and compute and display a confusion matrix for the test set."
   ]
  },
  {
   "cell_type": "code",
   "execution_count": null,
   "metadata": {
    "colab": {
     "base_uri": "https://localhost:8080/"
    },
    "executionInfo": {
     "elapsed": 544,
     "status": "ok",
     "timestamp": 1615359182410,
     "user": {
      "displayName": "Helmut Grabner",
      "photoUrl": "https://lh3.googleusercontent.com/a-/AOh14Gh7VFoSO9VR3VvyyTFY2VEA3A1vWKRswaJHGQ3HoA=s64",
      "userId": "06526771998566964714"
     },
     "user_tz": -60
    },
    "id": "7MVFHeBHikUM",
    "outputId": "ac84411d-06ab-4f6d-b157-0b62cbfb52dc"
   },
   "outputs": [],
   "source": [
    "#### START YOUR SOLUTION HERE ####\n",
    "# fit the knn classifier\n",
    "\n",
    "# compute predictions on the test data\n",
    "\n",
    "# compute and print the accuracy on the test data\n",
    "\n",
    "# compute the confusion matrix for the test set\n",
    "\n",
    "# plot the confusion matrix for the test set using a heatmap\n",
    "\n",
    "#### END YOUR SOLUTION HERE ####"
   ]
  },
  {
   "cell_type": "markdown",
   "metadata": {
    "id": "h3_OrQdtX1BI"
   },
   "source": [
    "### 4. Select best k using Cross-Validation (CV)\n",
    "\n",
    "Instead of using a validation set use the whole training data und a 10-fold cross-validation to estimate the best `k`. Choose the best `k` from the values from 1 to 100. Plot the mean CV accuracy scores for all considered values of `k`, their standard deviations and a vertical line for the best `k`. \n",
    "\n",
    "#### Hint: \n",
    "[Cross validation score](https://scikit-learn.org/stable/modules/generated/sklearn.model_selection.cross_val_score.html#sklearn.model_selection.cross_val_score)"
   ]
  },
  {
   "cell_type": "code",
   "execution_count": null,
   "metadata": {
    "colab": {
     "base_uri": "https://localhost:8080/",
     "height": 298
    },
    "executionInfo": {
     "elapsed": 7459,
     "status": "ok",
     "timestamp": 1615362440991,
     "user": {
      "displayName": "Helmut Grabner",
      "photoUrl": "https://lh3.googleusercontent.com/a-/AOh14Gh7VFoSO9VR3VvyyTFY2VEA3A1vWKRswaJHGQ3HoA=s64",
      "userId": "06526771998566964714"
     },
     "user_tz": -60
    },
    "id": "0X_3TOruz_Jw",
    "outputId": "f7b1a698-f5a0-46e4-c3c4-e34b5bb12c01"
   },
   "outputs": [],
   "source": [
    "# single crossvalidation for given K\n",
    "from sklearn.neighbors import KNeighborsClassifier\n",
    "from sklearn.model_selection import cross_val_score\n",
    "\n",
    "# arrays to store the mean and standard deviation of the cross validation scores for each tested value of k\n",
    "mean_scores = np.array([])\n",
    "scores_std =np.array([])\n",
    "# loop from 1 to 100 to find the best k for kNN\n",
    "for k in range(1,101):\n",
    "#### START YOUR CODE HERE ####\n",
    "  # create a new kNN model\n",
    "\n",
    "  # compute the accuracy scores for each fold of a 10-fold CV\n",
    "\n",
    "  \n",
    "  # compute the average and standard deviation of the CV scores and add them to their respective arrays\n",
    "\n",
    "# find the best k and best score\n",
    "\n",
    "# plot all scores for all tested values of k with their standard deviations and a vertical line the depicts the best k\n",
    "\n",
    "#### END YOUR CODE HERE ####\n"
   ]
  },
  {
   "cell_type": "markdown",
   "metadata": {},
   "source": [
    "### 5. Train a final kNN classifier based on the CV hyperparameter tuning\n",
    "Train a final classifier using the best `k` you selected in the 10-fold cross-validation and evaluate its performance (accuracy score) on the test set. Print the test accuracy score and compute and display a confusion matrix for the test set."
   ]
  },
  {
   "cell_type": "code",
   "execution_count": null,
   "metadata": {
    "colab": {
     "base_uri": "https://localhost:8080/"
    },
    "executionInfo": {
     "elapsed": 585,
     "status": "ok",
     "timestamp": 1615359195006,
     "user": {
      "displayName": "Helmut Grabner",
      "photoUrl": "https://lh3.googleusercontent.com/a-/AOh14Gh7VFoSO9VR3VvyyTFY2VEA3A1vWKRswaJHGQ3HoA=s64",
      "userId": "06526771998566964714"
     },
     "user_tz": -60
    },
    "id": "64k77JjOisch",
    "outputId": "77455fa9-278b-4a81-90de-42d8d8e0b56f"
   },
   "outputs": [],
   "source": [
    "#### START YOUR SOLUTION HERE ####\n",
    "# train the final kNN classifier to the training data\n",
    "\n",
    "# compute predictions for the test data\n",
    "\n",
    "# compute and print the accuracy score on the test data\n",
    "\n",
    "# compute the confusion matrix for the test set\n",
    "\n",
    "# plot the confusion matrix for the test set using a heatmap\n",
    "\n",
    "#### END YOUR SOLUTION HERE ####"
   ]
  },
  {
   "cell_type": "markdown",
   "metadata": {},
   "source": [
    "### 6. Hyperparameter tuning (multiple parameters)\n",
    "Find which hyperparameters `n_neighbors` (for the range 1 to 100), `p` (L1 or L2 norm for the distance) and `weights` (equal importance or importance based on distance) of the [KNN class](https://scikit-learn.org/stable/modules/generated/sklearn.neighbors.KNeighborsClassifier.html) are the optimal ones. \n",
    "\n",
    "#### Hint: \n",
    "[Grid Search Cross Validation](https://scikit-learn.org/stable/modules/generated/sklearn.model_selection.GridSearchCV.html)."
   ]
  },
  {
   "cell_type": "code",
   "execution_count": null,
   "metadata": {},
   "outputs": [],
   "source": [
    "# Grid Search - hyperparameter tuning when we have more than one parameter\n",
    "from sklearn.model_selection import GridSearchCV\n",
    "### START YOUR SOLUTION HERE ###\n",
    "# define the grid of the three parameters to test\n",
    "\n",
    "# train the kNN model\n",
    "\n",
    "# print the best hyperparameters and the corresponding averaged CV accuracy score\n",
    "\n",
    "### END YOUR SOLUTION HERE ###"
   ]
  },
  {
   "cell_type": "markdown",
   "metadata": {},
   "source": [
    "### 7. Fit the model using the selected (best) hyperparameters\n",
    "Train a final classifier using the selected, best hyperparaeters in the grid search CV, evaluate its performance (accuracy score) on the test set and print the accuracy score and the confusion matrix."
   ]
  },
  {
   "cell_type": "code",
   "execution_count": null,
   "metadata": {},
   "outputs": [],
   "source": [
    "#### START YOUR SOLUTION HERE ####\n",
    "# fit a kNN classifier with the best parameters selected in the grid search CV\n",
    "\n",
    "# compute the predictions on the test data using the trained model\n",
    "\n",
    "# compute the test accuracy score\n",
    "\n",
    "# compute the confusion matrix for the test set\n",
    "\n",
    "# plot the confusion matrix for the test set using a heatmap\n",
    "\n",
    "#### END YOUR SOLUTION HERE ####"
   ]
  },
  {
   "cell_type": "code",
   "execution_count": null,
   "metadata": {},
   "outputs": [],
   "source": []
  }
 ],
 "metadata": {
  "colab": {
   "collapsed_sections": [],
   "name": "P03 Hyperparameter Tuning (Solution).ipynb",
   "provenance": [],
   "toc_visible": true
  },
  "kernelspec": {
   "display_name": "Python 3 (ipykernel)",
   "language": "python",
   "name": "python3"
  },
  "language_info": {
   "codemirror_mode": {
    "name": "ipython",
    "version": 3
   },
   "file_extension": ".py",
   "mimetype": "text/x-python",
   "name": "python",
   "nbconvert_exporter": "python",
   "pygments_lexer": "ipython3",
   "version": "3.10.13"
  }
 },
 "nbformat": 4,
 "nbformat_minor": 1
}
