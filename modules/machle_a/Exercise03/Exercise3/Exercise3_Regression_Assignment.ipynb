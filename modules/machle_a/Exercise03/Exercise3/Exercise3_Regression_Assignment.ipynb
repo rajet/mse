{
 "cells": [
  {
   "cell_type": "code",
   "execution_count": 1,
   "id": "15dc4475-7f7d-4457-8762-bb031a0629b2",
   "metadata": {
    "id": "15dc4475-7f7d-4457-8762-bb031a0629b2"
   },
   "outputs": [],
   "source": [
    "# Import standard libraries\n",
    "import pandas as pd\n",
    "import numpy as np\n",
    "import seaborn as sns\n",
    "import matplotlib.pylab as plt\n",
    "%matplotlib inline\n",
    "\n",
    "# Import to load arff file from url\n",
    "from scipy.io import arff\n",
    "import urllib.request\n",
    "import io\n",
    "\n",
    "# Sklearn import\n",
    "from sklearn.model_selection import train_test_split # Splitting the data set\n",
    "from sklearn.model_selection import KFold, cross_val_score # Cross validation\n",
    "from sklearn.preprocessing import MinMaxScaler # Normalization\n",
    "from sklearn.preprocessing import PolynomialFeatures # Polynomial features\n",
    "from sklearn.preprocessing import LabelEncoder #Label encoding\n",
    "from sklearn.preprocessing import OneHotEncoder # 1-hot encoding\n",
    "from sklearn.linear_model import LinearRegression # Regression linear model\n",
    "from sklearn.linear_model import Lasso # Lasso model\n",
    "from sklearn.linear_model import Ridge # Ridge model\n",
    "from sklearn.linear_model import LassoCV # Lasso with cross validation\n",
    "from sklearn.linear_model import RidgeCV # Ridge with cross validation\n",
    "from sklearn.linear_model import ElasticNet # ElasticNet model\n",
    "from sklearn.metrics import mean_squared_error, mean_absolute_error, r2_score # Metrics for errors"
   ]
  },
  {
   "cell_type": "markdown",
   "id": "a844a8c0-078c-4946-8927-e570469c601c",
   "metadata": {
    "id": "a844a8c0-078c-4946-8927-e570469c601c"
   },
   "source": [
    "# Regression"
   ]
  },
  {
   "cell_type": "markdown",
   "id": "7763984b-c9d6-43b0-ba06-fd749431aa32",
   "metadata": {
    "id": "7763984b-c9d6-43b0-ba06-fd749431aa32"
   },
   "source": [
    "## Background\n",
    "\n",
    "### Objective\n",
    "\n",
    "The goal of a regression is to estimate the relationships between a dependent variable (aka outcome, target, response, or label) and one or more independent variables (aka features, attributes, predictors).\n",
    "\n",
    "Why?\n",
    "- Predict outcome values\n",
    "- Test a model / hypothesis\n",
    "- ...\n"
   ]
  },
  {
   "cell_type": "markdown",
   "id": "251e9265-3d22-4a07-8838-23b32fce472f",
   "metadata": {
    "id": "251e9265-3d22-4a07-8838-23b32fce472f"
   },
   "source": [
    "### Model\n",
    "\n",
    "Suppose we have *n* observations of an outcome $\\boldsymbol{y}$ and *d* associated features $\\boldsymbol{x_1}$, $\\boldsymbol{x_2}$, ... , $\\boldsymbol{x_d}$ (note that $\\boldsymbol{y}$, $\\boldsymbol{x_1}$, ..., $\\boldsymbol{x_d}$ are vectors):\n",
    "\n",
    "| | Outcome | Feature 1 | Feature 2 | ... | Feature d |\n",
    "|:-------|:----------:|:----------:|:----------:|:----------:|:----------:|\n",
    "| Observation 1 | $y_1$ | $x_{11}$ | $x_{12}$ | ... | $x_{1d}$ |\n",
    "| Observation 2 | $y_2$ | $x_{21}$ | $x_{22}$ | ... | $x_{2d}$ |\n",
    "| ... | ... | ... | ... | ... | ... |\n",
    "| Observation n | $y_n$ | $x_{n1}$ | $x_{n2}$ | ... | $x_{nd}$ |\n",
    "\n",
    "The goal of regression is to relate input feature variables to the outcome variable, to either predict outcomes for new observations and/or to understand the effect of the features on the output. For both goals, we need to find a function that approximates the output “well enough” given some inputs.\n",
    "\n",
    "For instance, in the case of multivariate linear regression, for each observation, we have the predicted value $\\hat{y_i}$:\n",
    "$$\\hat{y_i}:=w_0 + w_1 x_{i,1} +  w_2 x_{i,2} + ... +  w_d x_{i,d}$$\n",
    "where $w_0$ the intercept (bias term), and $w_1$, ... , $w_d$ the slope coefficients (i.e., weights) of each feature.\n",
    "\n",
    "More generally, let $f$ be our model function, $\\boldsymbol{w}=(w_0, w_1, ..., w_d)$ the vector of weights, and $\\boldsymbol{X}=[\\boldsymbol{x_1}$, ... , $\\boldsymbol{x_d}]$ the matrix of feature variables. For all observations, we have, with $\\boldsymbol{X_{i*}}$ the $i^{th}$ row:\n",
    "\n",
    "$$\\hat{y_i} := f(\\boldsymbol{X_{i*}}, \\boldsymbol{w})$$\n",
    "\n",
    "In our illustration, we have focused on a multivariate linear regression, but the formulation will be the same for more complex models, such as neural networks that are also functions mapping inputs to outputs, which we will see later in this course.\n",
    "\n",
    "Now our objective is to find the predicted values $\\hat{y_i}$ that are the closest to the observations $y_i$ of the available dataset. In other words, we want to minimize the errors $\\epsilon_i = y_i - \\hat{y_i}$. There are several possible techniques. Below, we present the simplest one, namely the *least squares* problem."
   ]
  },
  {
   "cell_type": "markdown",
   "id": "1edb4df8-98f9-4903-ae42-65e57e0d8a84",
   "metadata": {
    "id": "1edb4df8-98f9-4903-ae42-65e57e0d8a84"
   },
   "source": [
    "#### Least squares problem\n",
    "\n",
    "The idea is to minimize the sum of squared residuals (aka RSS - Residual Sum of Squares):\n",
    "\n",
    "$$ \\min_\\boldsymbol{w} \\sum_{i=1}^n (y_i - \\hat{y_i})^2 = \\min_\\boldsymbol{w} \\sum_{i=1}^n (y_i - f(\\boldsymbol{X_{i*}}, \\boldsymbol{w}))^2 $$\n",
    "\n",
    "Graphically, for a simple linear regression, we minimize the area of the squares between our observation and our predicted value:  \n",
    "\n",
    "<img src='https://upload.wikimedia.org/wikipedia/commons/8/86/Coefficient_of_Determination.svg' width=\"600\">\n",
    "\n",
    "Source: [Wikipedia - Coefficient of determination. Author: Orzetto](https://commons.wikimedia.org/wiki/File:Coefficient_of_Determination.svg)\n",
    "\n",
    "The [coefficient of determination](https://en.wikipedia.org/wiki/Coefficient_of_determination) $R^2$ informs about the goodness of fit: $R^2= 1 -\\frac{\\color{blue}{RSS}}{\\color{red}{TSS}} $\n",
    "- Residual Sum of Squares: $\\color{blue}{RSS=\\sum_i (y_i - \\hat{y_i})^2}$\n",
    "- Total Sum of Squares: $\\color{red}{TSS=\\sum_i (y_i - \\bar{y})^2}$\n",
    "\n",
    "When $R^2=1$, then $RSS=0$, meaning all the errors are equal to zero, and the model gives \"perfect\" prediction.  \n",
    "When $R^2=0$, then $RSS=TSS$, hence our model is not more informative that taking the average of our observations.\n",
    "\n",
    "The prediction errors will generally decrease with the complexity of the model (e.g. polynomial regression). But what could go wrong?\n",
    "- The prediction error decreases but... there is a risk of overfitting: the model does not generalize well on unseen data!\n"
   ]
  },
  {
   "cell_type": "markdown",
   "id": "0a5500d8-76a8-4fc0-b128-b8779ba221ab",
   "metadata": {
    "id": "0a5500d8-76a8-4fc0-b128-b8779ba221ab",
    "jp-MarkdownHeadingCollapsed": true
   },
   "source": [
    "#### Regularization <a id='model-regul'></a>\n",
    "\n",
    "The objective of [regularization](https://en.wikipedia.org/wiki/Regularization_(mathematics)) is to address [overfitting](https://en.wikipedia.org/wiki/Overfitting).\n",
    "\n",
    "The general idea is to put an additional constraint - or penalty - on our parameters $\\boldsymbol{w}$, instead of focusing only on optimizing the errors. Here is the new problem formulation:\n",
    "\n",
    "$$ \\min_\\boldsymbol{w} L(\\boldsymbol{y}, \\boldsymbol{X}, \\boldsymbol{w}) + \\lambda R(\\boldsymbol{w}) $$\n",
    "\n",
    "- $L(\\boldsymbol{y}, \\boldsymbol{X}, \\boldsymbol{w})$ is the **loss/cost** function. It measures the prediction error (on a given dataset).\n",
    "    - For instance, we can use the least square loss function:\n",
    "$ L(\\boldsymbol{y}, \\boldsymbol{X}, \\boldsymbol{w}) = \\frac{1}{n} \\sum_i^n (y_i - f(\\boldsymbol{X_{i*}}, \\boldsymbol{w}))^2 $\n",
    "- $\\lambda$ is the penalty term\n",
    "- $R(\\boldsymbol{w})$ is the **regularization** function that constrains the model, typically penalizing the model parameters $w_1$, ..., $w_d$ (weights escluding the bias term).\n",
    "\n",
    "What regularization function should we use? Below are some common examples...\n",
    "\n",
    "**LASSO**  regression, standing for \"Least Absolute Selection and Shrinkage\", is using the $L_1$-norm ([absolute value norm](https://en.wikipedia.org/wiki/Norm_(mathematics)#Absolute-value_norm)) of the parameters as regularization function:\n",
    "$$ R(\\boldsymbol{w})= \\sum_{j=1}^d |w_j| $$\n",
    "\n",
    "- Pros\n",
    "    - Force most entries of $\\boldsymbol{w}$ to be 0. In other words, there is feature selection effect, and the technique is preferred when $\\boldsymbol{w}$ is expected to be sparse\n",
    "- Cons\n",
    "    - Arbitrary selection among highly correlated variables\n",
    "    - Selects at most $n$ features when more features than observations ($d > n$)\n",
    "    - Features with small $w_j$ values will be forced to zero\n",
    "\n",
    "**Ridge** regression is using the square of the $L_2$-norm ([Euclidean norm](https://en.wikipedia.org/wiki/Norm_(mathematics)#Euclidean_norm)) of the parameters as regularization function: $$R(\\boldsymbol{w})= \\sum_{j=1}^d w_j^2 $$\n",
    "\n",
    "- Pros\n",
    "    - More stable solution (shrink parameters estimate). This method is thus preferred when $\\boldsymbol{w}$ is expected to take small values\n",
    "- Cons\n",
    "    - Less sensitive to data\n",
    "    - $\\boldsymbol{w}$ is typically still not sparse (no explicit feature selection)\n",
    "\n",
    "**Elastic net** regression is using a linear combination of Ridge and Lasso: $$ R(\\boldsymbol{w})= \\lambda_1 \\sum_{j=1}^d |w_j| + \\lambda_2 \\sum_{j=1}^d w_j^2 $$\n",
    "\n",
    "- Pros\n",
    "    - Ridge term makes the problem convex (unique solution)\n",
    "    - Overcome some of the limitations of LASSO: can select group of highly correlated variables and more than $n$ features when more features than observations ($d > n$)\n"
   ]
  },
  {
   "cell_type": "markdown",
   "id": "7bb4289a-28bd-45fc-8ac1-08ff817145e1",
   "metadata": {
    "id": "7bb4289a-28bd-45fc-8ac1-08ff817145e1"
   },
   "source": [
    "#### Why LASSO leads to feature selection?\n",
    "\n",
    "In the previous section, we have state that LASSO regression forces weights to zero, hence doing feature selection, while Ridge was shrinking parameters. Why is that? The answer lies in the shape of the functions. Mathematically, the ridge regularization function is convex while LASSO is not.\n",
    "\n",
    "What does it imply? Let's see graphically, in a model with two features:\n",
    "$$ \\hat{y_i}= w_1 x_{i,1} + w_2 x_{i,2} $$\n",
    "\n",
    "The least square loss function is quadratic:\n",
    "$$L(w_1, w_2) = \\sum_i^n (y_i - w_1 x_{i,1} - w_2 x_{i,2})^2$$\n",
    "\n",
    "Hence, plotted in a plan, our \"indifference curves\" (i.e., the curves such that the loss function is equal to a given value) would look like elliptical contours - see figure below, in red. Without regularization, our optimum would be located at the center of the ellipse.\n",
    "\n",
    "What happens when we add a regularization term?\n",
    "We transform our minimization problem. Mathematically, adding the regularization term is equivalent to adding a constraint on the weights:\n",
    "- LASSO: $|w_1| + |w_2| \\leq t$\n",
    "- Ridge: $w_1^2 + w_2^2 \\leq t$\n",
    "\n",
    "Graphically, LASSO constraint looks like a diamond (cyan) while Ridge constraint is a disk (green).\n",
    "\n",
    "When we relaxed the constraints, the constrained regions (diamond and disk) get bigger, and can eventually hit the center of the ellipse. In such case, the optimum weights are the one obtained without regularization.\n",
    "\n",
    "Otherwise, the optimum weights are obtained at the intersection of the elliptical contours and of the constrained regions. With LASSO, this intersection will happen at one of the corners of the diamond, i.e., when one of the weight is equal to zero. With Ridge, the intersection will happen at one point of the circle: while the values of the weights are shrunk, they will (almost) never be exactly zero.\n",
    "\n",
    "<img src='https://miro.medium.com/v2/resize:fit:1400/format:webp/1*Jd03Hyt2bpEv1r7UijLlpg.png' width=\"600\">\n",
    "\n",
    "Source: [Ridge and Lasso Regression: L1 and L2 Regularization](https://towardsdatascience.com/ridge-and-lasso-regression-a-complete-guide-with-python-scikit-learn-e20e34bcbf0b), Saptashwa Bhattacharyya, Towards Data Science"
   ]
  },
  {
   "cell_type": "markdown",
   "id": "93156a60-d070-4bc1-a9d7-dfe574c1dacd",
   "metadata": {
    "id": "93156a60-d070-4bc1-a9d7-dfe574c1dacd"
   },
   "source": [
    "### Solving our model: learning parameters via gradient descent\n",
    "\n",
    "To find the solution of our problem, we use numerical optimization: we search the minimum by iteration. Recall the optimization problem we want to solve: minimize the prediction errors (loss function), with a constraint on our parameters (regularization function).\n",
    "\n",
    "$$ \\min_\\theta L(\\boldsymbol{y}, \\boldsymbol{X}, \\boldsymbol{w}) + \\lambda R(\\boldsymbol{w}) $$\n",
    "\n",
    "We call $J$ our objective function (also called cost function) $J:= L + \\lambda R$\n",
    "\n",
    "One possible numerical method to solve this problem is the [gradient descent](https://en.wikipedia.org/wiki/Gradient_descent). It is an optimization algorithm with iterative updating rule:\n",
    "\n",
    "0. We first start with an initial value $\\boldsymbol{w^0}=(w^0_0, w^0_1,...,w^0_d)$, selected at random or a best guess\n",
    "1. We update our parameters: $\\boldsymbol{w^{k+1}}=\\boldsymbol{w^{k}}+ \\gamma \\nabla (J[\\boldsymbol{w^{k}}])$\n",
    "    - $\\gamma$ is the learning rate\n",
    "    - $\\nabla (J[\\boldsymbol{w^{k}}])$ is the gradient, i.e., the derivatives of $J$ with respect to $w_0$, $w_1$, ..., $w_d$; and evaluated at $\\boldsymbol{w^{k}}$\n",
    "2. We continue until a given convergence criteria is obtained (fixed point)\n",
    "\n",
    "There are many flavours of this methods, but they often consist in tweaking the update rule."
   ]
  },
  {
   "cell_type": "markdown",
   "id": "ce878d70-296b-4ce2-9a05-a5d0410d79e1",
   "metadata": {
    "id": "ce878d70-296b-4ce2-9a05-a5d0410d79e1"
   },
   "source": [
    "## Implementation\n",
    "\n",
    "We will use the python library **sklearn** (for more details see [documentation](https://scikit-learn.org/stable/index.html)) to implement various regression techniques, including the one discussed above: simple (univariate) linear regression, multivariate linear regression, polynomial linear regression, lasso, ridge, scaling, encoding, cross-validation.\n",
    "\n",
    "**Remember, you train your model (learn parameters) using your training set, and then evaluate its generalization performance on the (unseen) test set.**\n",
    "\n",
    "Hence, after loading and cleaning our dataset, we will follow these steps:\n",
    "1. Preprocessing: split our dataset between training set (80% of observations) and test set (20% of observations), scaling, encoding\n",
    "2. Create and fit our model, i.e., learn the parameters using the training set\n",
    "3. Predict new observations and evaluate our model using the test set\n"
   ]
  },
  {
   "cell_type": "markdown",
   "id": "408ec895-7ade-45c9-a8c2-dd284e5a9715",
   "metadata": {
    "id": "408ec895-7ade-45c9-a8c2-dd284e5a9715"
   },
   "source": [
    "### Load and discover the dataset\n",
    "\n",
    "In this section, we will use the weather dataset, which contains weather data e.g., temperature, wind speed, humidity, rain in Canberra between November 2007 and October 2008. Let's load and explore our dataset."
   ]
  },
  {
   "cell_type": "code",
   "execution_count": 2,
   "id": "0c288953-a267-4f5c-9271-40079cb5fea5",
   "metadata": {
    "id": "0c288953-a267-4f5c-9271-40079cb5fea5"
   },
   "outputs": [
    {
     "data": {
      "text/html": [
       "<div>\n",
       "<style scoped>\n",
       "    .dataframe tbody tr th:only-of-type {\n",
       "        vertical-align: middle;\n",
       "    }\n",
       "\n",
       "    .dataframe tbody tr th {\n",
       "        vertical-align: top;\n",
       "    }\n",
       "\n",
       "    .dataframe thead th {\n",
       "        text-align: right;\n",
       "    }\n",
       "</style>\n",
       "<table border=\"1\" class=\"dataframe\">\n",
       "  <thead>\n",
       "    <tr style=\"text-align: right;\">\n",
       "      <th></th>\n",
       "      <th>Date</th>\n",
       "      <th>Location</th>\n",
       "      <th>MinTemp</th>\n",
       "      <th>MaxTemp</th>\n",
       "      <th>Rainfall</th>\n",
       "      <th>Evaporation</th>\n",
       "      <th>Sunshine</th>\n",
       "      <th>WindGustDir</th>\n",
       "      <th>WindGustSpeed</th>\n",
       "      <th>WindDir9am</th>\n",
       "      <th>...</th>\n",
       "      <th>Humidity3pm</th>\n",
       "      <th>Pressure9am</th>\n",
       "      <th>Pressure3pm</th>\n",
       "      <th>Cloud9am</th>\n",
       "      <th>Cloud3pm</th>\n",
       "      <th>Temp9am</th>\n",
       "      <th>Temp3pm</th>\n",
       "      <th>RainToday</th>\n",
       "      <th>RISK_MM</th>\n",
       "      <th>RainTomorrow</th>\n",
       "    </tr>\n",
       "  </thead>\n",
       "  <tbody>\n",
       "    <tr>\n",
       "      <th>0</th>\n",
       "      <td>2007-11-01</td>\n",
       "      <td>Canberra</td>\n",
       "      <td>8.0</td>\n",
       "      <td>24.3</td>\n",
       "      <td>0.0</td>\n",
       "      <td>3.4</td>\n",
       "      <td>6.3</td>\n",
       "      <td>NW</td>\n",
       "      <td>30.0</td>\n",
       "      <td>SW</td>\n",
       "      <td>...</td>\n",
       "      <td>29</td>\n",
       "      <td>1019.7</td>\n",
       "      <td>1015.0</td>\n",
       "      <td>7</td>\n",
       "      <td>7</td>\n",
       "      <td>14.4</td>\n",
       "      <td>23.6</td>\n",
       "      <td>No</td>\n",
       "      <td>3.6</td>\n",
       "      <td>Yes</td>\n",
       "    </tr>\n",
       "    <tr>\n",
       "      <th>1</th>\n",
       "      <td>2007-11-02</td>\n",
       "      <td>Canberra</td>\n",
       "      <td>14.0</td>\n",
       "      <td>26.9</td>\n",
       "      <td>3.6</td>\n",
       "      <td>4.4</td>\n",
       "      <td>9.7</td>\n",
       "      <td>ENE</td>\n",
       "      <td>39.0</td>\n",
       "      <td>E</td>\n",
       "      <td>...</td>\n",
       "      <td>36</td>\n",
       "      <td>1012.4</td>\n",
       "      <td>1008.4</td>\n",
       "      <td>5</td>\n",
       "      <td>3</td>\n",
       "      <td>17.5</td>\n",
       "      <td>25.7</td>\n",
       "      <td>Yes</td>\n",
       "      <td>3.6</td>\n",
       "      <td>Yes</td>\n",
       "    </tr>\n",
       "    <tr>\n",
       "      <th>2</th>\n",
       "      <td>2007-11-03</td>\n",
       "      <td>Canberra</td>\n",
       "      <td>13.7</td>\n",
       "      <td>23.4</td>\n",
       "      <td>3.6</td>\n",
       "      <td>5.8</td>\n",
       "      <td>3.3</td>\n",
       "      <td>NW</td>\n",
       "      <td>85.0</td>\n",
       "      <td>N</td>\n",
       "      <td>...</td>\n",
       "      <td>69</td>\n",
       "      <td>1009.5</td>\n",
       "      <td>1007.2</td>\n",
       "      <td>8</td>\n",
       "      <td>7</td>\n",
       "      <td>15.4</td>\n",
       "      <td>20.2</td>\n",
       "      <td>Yes</td>\n",
       "      <td>39.8</td>\n",
       "      <td>Yes</td>\n",
       "    </tr>\n",
       "    <tr>\n",
       "      <th>3</th>\n",
       "      <td>2007-11-04</td>\n",
       "      <td>Canberra</td>\n",
       "      <td>13.3</td>\n",
       "      <td>15.5</td>\n",
       "      <td>39.8</td>\n",
       "      <td>7.2</td>\n",
       "      <td>9.1</td>\n",
       "      <td>NW</td>\n",
       "      <td>54.0</td>\n",
       "      <td>WNW</td>\n",
       "      <td>...</td>\n",
       "      <td>56</td>\n",
       "      <td>1005.5</td>\n",
       "      <td>1007.0</td>\n",
       "      <td>2</td>\n",
       "      <td>7</td>\n",
       "      <td>13.5</td>\n",
       "      <td>14.1</td>\n",
       "      <td>Yes</td>\n",
       "      <td>2.8</td>\n",
       "      <td>Yes</td>\n",
       "    </tr>\n",
       "    <tr>\n",
       "      <th>4</th>\n",
       "      <td>2007-11-05</td>\n",
       "      <td>Canberra</td>\n",
       "      <td>7.6</td>\n",
       "      <td>16.1</td>\n",
       "      <td>2.8</td>\n",
       "      <td>5.6</td>\n",
       "      <td>10.6</td>\n",
       "      <td>SSE</td>\n",
       "      <td>50.0</td>\n",
       "      <td>SSE</td>\n",
       "      <td>...</td>\n",
       "      <td>49</td>\n",
       "      <td>1018.3</td>\n",
       "      <td>1018.5</td>\n",
       "      <td>7</td>\n",
       "      <td>7</td>\n",
       "      <td>11.1</td>\n",
       "      <td>15.4</td>\n",
       "      <td>Yes</td>\n",
       "      <td>0.0</td>\n",
       "      <td>No</td>\n",
       "    </tr>\n",
       "  </tbody>\n",
       "</table>\n",
       "<p>5 rows × 24 columns</p>\n",
       "</div>"
      ],
      "text/plain": [
       "         Date  Location  MinTemp  MaxTemp  Rainfall  Evaporation  Sunshine  \\\n",
       "0  2007-11-01  Canberra      8.0     24.3       0.0          3.4       6.3   \n",
       "1  2007-11-02  Canberra     14.0     26.9       3.6          4.4       9.7   \n",
       "2  2007-11-03  Canberra     13.7     23.4       3.6          5.8       3.3   \n",
       "3  2007-11-04  Canberra     13.3     15.5      39.8          7.2       9.1   \n",
       "4  2007-11-05  Canberra      7.6     16.1       2.8          5.6      10.6   \n",
       "\n",
       "  WindGustDir  WindGustSpeed WindDir9am  ... Humidity3pm  Pressure9am  \\\n",
       "0          NW           30.0         SW  ...          29       1019.7   \n",
       "1         ENE           39.0          E  ...          36       1012.4   \n",
       "2          NW           85.0          N  ...          69       1009.5   \n",
       "3          NW           54.0        WNW  ...          56       1005.5   \n",
       "4         SSE           50.0        SSE  ...          49       1018.3   \n",
       "\n",
       "   Pressure3pm  Cloud9am  Cloud3pm  Temp9am  Temp3pm  RainToday  RISK_MM  \\\n",
       "0       1015.0         7         7     14.4     23.6         No      3.6   \n",
       "1       1008.4         5         3     17.5     25.7        Yes      3.6   \n",
       "2       1007.2         8         7     15.4     20.2        Yes     39.8   \n",
       "3       1007.0         2         7     13.5     14.1        Yes      2.8   \n",
       "4       1018.5         7         7     11.1     15.4        Yes      0.0   \n",
       "\n",
       "   RainTomorrow  \n",
       "0           Yes  \n",
       "1           Yes  \n",
       "2           Yes  \n",
       "3           Yes  \n",
       "4            No  \n",
       "\n",
       "[5 rows x 24 columns]"
      ]
     },
     "metadata": {},
     "output_type": "display_data"
    },
    {
     "name": "stdout",
     "output_type": "stream",
     "text": [
      "Date              object\n",
      "Location          object\n",
      "MinTemp          float64\n",
      "MaxTemp          float64\n",
      "Rainfall         float64\n",
      "Evaporation      float64\n",
      "Sunshine         float64\n",
      "WindGustDir       object\n",
      "WindGustSpeed    float64\n",
      "WindDir9am        object\n",
      "WindDir3pm        object\n",
      "WindSpeed9am     float64\n",
      "WindSpeed3pm       int64\n",
      "Humidity9am        int64\n",
      "Humidity3pm        int64\n",
      "Pressure9am      float64\n",
      "Pressure3pm      float64\n",
      "Cloud9am           int64\n",
      "Cloud3pm           int64\n",
      "Temp9am          float64\n",
      "Temp3pm          float64\n",
      "RainToday         object\n",
      "RISK_MM          float64\n",
      "RainTomorrow      object\n",
      "dtype: object\n"
     ]
    }
   ],
   "source": [
    "#Load the dataset\n",
    "weather = pd.read_csv('weather.csv').drop_duplicates().dropna() # drop duplicates and NaN values\n",
    "\n",
    "# Display a sample of the data\n",
    "display(weather.head())\n",
    "\n",
    "#Print the data types\n",
    "print(weather.dtypes)"
   ]
  },
  {
   "cell_type": "markdown",
   "id": "6e2217a0-fa78-447c-9b7d-c893f842bdf2",
   "metadata": {
    "id": "6e2217a0-fa78-447c-9b7d-c893f842bdf2"
   },
   "source": [
    "Note that the dataset contains numerical variables (e.g., temperature, rainfall, humidity, pressure) and categorial variables (e.g., wind direction). In addition, we have weather data at 9am and 3pm. We will only work with values concerning 3pm for simplicity. Let's get some summary statistics:"
   ]
  },
  {
   "cell_type": "code",
   "execution_count": 3,
   "id": "1ef3b2d4-ef9c-4254-a730-ebcde33acf0e",
   "metadata": {
    "id": "1ef3b2d4-ef9c-4254-a730-ebcde33acf0e"
   },
   "outputs": [
    {
     "data": {
      "text/html": [
       "<div>\n",
       "<style scoped>\n",
       "    .dataframe tbody tr th:only-of-type {\n",
       "        vertical-align: middle;\n",
       "    }\n",
       "\n",
       "    .dataframe tbody tr th {\n",
       "        vertical-align: top;\n",
       "    }\n",
       "\n",
       "    .dataframe thead th {\n",
       "        text-align: right;\n",
       "    }\n",
       "</style>\n",
       "<table border=\"1\" class=\"dataframe\">\n",
       "  <thead>\n",
       "    <tr style=\"text-align: right;\">\n",
       "      <th></th>\n",
       "      <th>Temp3pm</th>\n",
       "      <th>Humidity3pm</th>\n",
       "      <th>Cloud3pm</th>\n",
       "      <th>Pressure3pm</th>\n",
       "      <th>WindSpeed3pm</th>\n",
       "      <th>Sunshine</th>\n",
       "      <th>Rainfall</th>\n",
       "    </tr>\n",
       "  </thead>\n",
       "  <tbody>\n",
       "    <tr>\n",
       "      <th>count</th>\n",
       "      <td>328.000000</td>\n",
       "      <td>328.000000</td>\n",
       "      <td>328.000000</td>\n",
       "      <td>328.000000</td>\n",
       "      <td>328.000000</td>\n",
       "      <td>328.000000</td>\n",
       "      <td>328.000000</td>\n",
       "    </tr>\n",
       "    <tr>\n",
       "      <th>mean</th>\n",
       "      <td>19.556402</td>\n",
       "      <td>44.003049</td>\n",
       "      <td>4.000000</td>\n",
       "      <td>1016.530793</td>\n",
       "      <td>18.185976</td>\n",
       "      <td>8.014939</td>\n",
       "      <td>1.440854</td>\n",
       "    </tr>\n",
       "    <tr>\n",
       "      <th>std</th>\n",
       "      <td>6.644311</td>\n",
       "      <td>16.605975</td>\n",
       "      <td>2.652101</td>\n",
       "      <td>6.469774</td>\n",
       "      <td>8.926759</td>\n",
       "      <td>3.506646</td>\n",
       "      <td>4.289427</td>\n",
       "    </tr>\n",
       "    <tr>\n",
       "      <th>min</th>\n",
       "      <td>5.100000</td>\n",
       "      <td>13.000000</td>\n",
       "      <td>0.000000</td>\n",
       "      <td>996.800000</td>\n",
       "      <td>4.000000</td>\n",
       "      <td>0.000000</td>\n",
       "      <td>0.000000</td>\n",
       "    </tr>\n",
       "    <tr>\n",
       "      <th>25%</th>\n",
       "      <td>14.500000</td>\n",
       "      <td>32.000000</td>\n",
       "      <td>1.000000</td>\n",
       "      <td>1012.400000</td>\n",
       "      <td>11.000000</td>\n",
       "      <td>6.000000</td>\n",
       "      <td>0.000000</td>\n",
       "    </tr>\n",
       "    <tr>\n",
       "      <th>50%</th>\n",
       "      <td>18.850000</td>\n",
       "      <td>42.500000</td>\n",
       "      <td>4.000000</td>\n",
       "      <td>1016.900000</td>\n",
       "      <td>17.000000</td>\n",
       "      <td>8.750000</td>\n",
       "      <td>0.000000</td>\n",
       "    </tr>\n",
       "    <tr>\n",
       "      <th>75%</th>\n",
       "      <td>24.225000</td>\n",
       "      <td>54.000000</td>\n",
       "      <td>7.000000</td>\n",
       "      <td>1021.125000</td>\n",
       "      <td>24.000000</td>\n",
       "      <td>10.700000</td>\n",
       "      <td>0.200000</td>\n",
       "    </tr>\n",
       "    <tr>\n",
       "      <th>max</th>\n",
       "      <td>34.500000</td>\n",
       "      <td>93.000000</td>\n",
       "      <td>8.000000</td>\n",
       "      <td>1033.200000</td>\n",
       "      <td>52.000000</td>\n",
       "      <td>13.600000</td>\n",
       "      <td>39.800000</td>\n",
       "    </tr>\n",
       "  </tbody>\n",
       "</table>\n",
       "</div>"
      ],
      "text/plain": [
       "          Temp3pm  Humidity3pm    Cloud3pm  Pressure3pm  WindSpeed3pm  \\\n",
       "count  328.000000   328.000000  328.000000   328.000000    328.000000   \n",
       "mean    19.556402    44.003049    4.000000  1016.530793     18.185976   \n",
       "std      6.644311    16.605975    2.652101     6.469774      8.926759   \n",
       "min      5.100000    13.000000    0.000000   996.800000      4.000000   \n",
       "25%     14.500000    32.000000    1.000000  1012.400000     11.000000   \n",
       "50%     18.850000    42.500000    4.000000  1016.900000     17.000000   \n",
       "75%     24.225000    54.000000    7.000000  1021.125000     24.000000   \n",
       "max     34.500000    93.000000    8.000000  1033.200000     52.000000   \n",
       "\n",
       "         Sunshine    Rainfall  \n",
       "count  328.000000  328.000000  \n",
       "mean     8.014939    1.440854  \n",
       "std      3.506646    4.289427  \n",
       "min      0.000000    0.000000  \n",
       "25%      6.000000    0.000000  \n",
       "50%      8.750000    0.000000  \n",
       "75%     10.700000    0.200000  \n",
       "max     13.600000   39.800000  "
      ]
     },
     "metadata": {},
     "output_type": "display_data"
    },
    {
     "data": {
      "text/html": [
       "<div>\n",
       "<style scoped>\n",
       "    .dataframe tbody tr th:only-of-type {\n",
       "        vertical-align: middle;\n",
       "    }\n",
       "\n",
       "    .dataframe tbody tr th {\n",
       "        vertical-align: top;\n",
       "    }\n",
       "\n",
       "    .dataframe thead th {\n",
       "        text-align: right;\n",
       "    }\n",
       "</style>\n",
       "<table border=\"1\" class=\"dataframe\">\n",
       "  <thead>\n",
       "    <tr style=\"text-align: right;\">\n",
       "      <th></th>\n",
       "      <th>Temp3pm</th>\n",
       "      <th>Humidity3pm</th>\n",
       "      <th>Cloud3pm</th>\n",
       "      <th>Pressure3pm</th>\n",
       "      <th>WindSpeed3pm</th>\n",
       "      <th>Sunshine</th>\n",
       "      <th>Rainfall</th>\n",
       "    </tr>\n",
       "  </thead>\n",
       "  <tbody>\n",
       "    <tr>\n",
       "      <th>Temp3pm</th>\n",
       "      <td>1.000000</td>\n",
       "      <td>-0.569348</td>\n",
       "      <td>-0.181667</td>\n",
       "      <td>-0.332099</td>\n",
       "      <td>-0.239119</td>\n",
       "      <td>0.463721</td>\n",
       "      <td>-0.089740</td>\n",
       "    </tr>\n",
       "    <tr>\n",
       "      <th>Humidity3pm</th>\n",
       "      <td>-0.569348</td>\n",
       "      <td>1.000000</td>\n",
       "      <td>0.530715</td>\n",
       "      <td>-0.047607</td>\n",
       "      <td>0.015860</td>\n",
       "      <td>-0.760267</td>\n",
       "      <td>0.287244</td>\n",
       "    </tr>\n",
       "    <tr>\n",
       "      <th>Cloud3pm</th>\n",
       "      <td>-0.181667</td>\n",
       "      <td>0.530715</td>\n",
       "      <td>1.000000</td>\n",
       "      <td>-0.146235</td>\n",
       "      <td>0.011625</td>\n",
       "      <td>-0.657198</td>\n",
       "      <td>0.134894</td>\n",
       "    </tr>\n",
       "    <tr>\n",
       "      <th>Pressure3pm</th>\n",
       "      <td>-0.332099</td>\n",
       "      <td>-0.047607</td>\n",
       "      <td>-0.146235</td>\n",
       "      <td>1.000000</td>\n",
       "      <td>-0.318008</td>\n",
       "      <td>-0.024120</td>\n",
       "      <td>-0.263710</td>\n",
       "    </tr>\n",
       "    <tr>\n",
       "      <th>WindSpeed3pm</th>\n",
       "      <td>-0.239119</td>\n",
       "      <td>0.015860</td>\n",
       "      <td>0.011625</td>\n",
       "      <td>-0.318008</td>\n",
       "      <td>1.000000</td>\n",
       "      <td>0.046140</td>\n",
       "      <td>0.058151</td>\n",
       "    </tr>\n",
       "    <tr>\n",
       "      <th>Sunshine</th>\n",
       "      <td>0.463721</td>\n",
       "      <td>-0.760267</td>\n",
       "      <td>-0.657198</td>\n",
       "      <td>-0.024120</td>\n",
       "      <td>0.046140</td>\n",
       "      <td>1.000000</td>\n",
       "      <td>-0.158062</td>\n",
       "    </tr>\n",
       "    <tr>\n",
       "      <th>Rainfall</th>\n",
       "      <td>-0.089740</td>\n",
       "      <td>0.287244</td>\n",
       "      <td>0.134894</td>\n",
       "      <td>-0.263710</td>\n",
       "      <td>0.058151</td>\n",
       "      <td>-0.158062</td>\n",
       "      <td>1.000000</td>\n",
       "    </tr>\n",
       "  </tbody>\n",
       "</table>\n",
       "</div>"
      ],
      "text/plain": [
       "               Temp3pm  Humidity3pm  Cloud3pm  Pressure3pm  WindSpeed3pm  \\\n",
       "Temp3pm       1.000000    -0.569348 -0.181667    -0.332099     -0.239119   \n",
       "Humidity3pm  -0.569348     1.000000  0.530715    -0.047607      0.015860   \n",
       "Cloud3pm     -0.181667     0.530715  1.000000    -0.146235      0.011625   \n",
       "Pressure3pm  -0.332099    -0.047607 -0.146235     1.000000     -0.318008   \n",
       "WindSpeed3pm -0.239119     0.015860  0.011625    -0.318008      1.000000   \n",
       "Sunshine      0.463721    -0.760267 -0.657198    -0.024120      0.046140   \n",
       "Rainfall     -0.089740     0.287244  0.134894    -0.263710      0.058151   \n",
       "\n",
       "              Sunshine  Rainfall  \n",
       "Temp3pm       0.463721 -0.089740  \n",
       "Humidity3pm  -0.760267  0.287244  \n",
       "Cloud3pm     -0.657198  0.134894  \n",
       "Pressure3pm  -0.024120 -0.263710  \n",
       "WindSpeed3pm  0.046140  0.058151  \n",
       "Sunshine      1.000000 -0.158062  \n",
       "Rainfall     -0.158062  1.000000  "
      ]
     },
     "metadata": {},
     "output_type": "display_data"
    }
   ],
   "source": [
    "# Select features of interest\n",
    "weather3pm = weather.loc[:,['Temp3pm','Humidity3pm', 'Cloud3pm', 'Pressure3pm', 'WindSpeed3pm', 'WindDir3pm', 'Sunshine', 'Rainfall']]\n",
    "\n",
    "# Summary statistics\n",
    "display(weather3pm.describe())\n",
    "\n",
    "# Correlation matrix\n",
    "display(weather3pm.corr(numeric_only = True))"
   ]
  },
  {
   "cell_type": "markdown",
   "id": "fd5d4f07-25df-4901-9e7b-8da09078035c",
   "metadata": {
    "id": "fd5d4f07-25df-4901-9e7b-8da09078035c"
   },
   "source": [
    "### Linear regression\n",
    "\n",
    "We will first implement a simple (univariate) linear regression. Our goal in this section will be to try to predict the temperature given the level of humidity:\n",
    "\n",
    "$$\\hat{Temperature_i} = w_0 + w_1 Humidity_i$$\n"
   ]
  },
  {
   "cell_type": "code",
   "execution_count": 4,
   "id": "e10968c4-2605-46df-a4df-66695f98639c",
   "metadata": {
    "id": "e10968c4-2605-46df-a4df-66695f98639c"
   },
   "outputs": [],
   "source": [
    "X = weather3pm[['Humidity3pm']]\n",
    "y = weather3pm[['Temp3pm']]"
   ]
  },
  {
   "cell_type": "markdown",
   "id": "2da1d609-f411-4205-9026-f452795d8dac",
   "metadata": {
    "id": "2da1d609-f411-4205-9026-f452795d8dac"
   },
   "source": [
    "#### Splitting the dataset <a id='linear-split'></a>"
   ]
  },
  {
   "cell_type": "markdown",
   "id": "2e022dc7-61eb-41cd-b112-8f099274231c",
   "metadata": {
    "id": "2e022dc7-61eb-41cd-b112-8f099274231c"
   },
   "source": [
    "We again use the `train_test_split` ([Documentation](https://scikit-learn.org/stable/modules/generated/sklearn.model_selection.train_test_split.html)) to split the available data into training and test set.\n",
    "\n",
    "The training set will be used to retrieve the best values of the weights $w_0$ and $w_1$ according to a combination of input (humidity) and output (temperature) observations. The test set will be used to evaluate our model. Since our model will be trained on particular values we want to test its generalization ability on a new set of data (the test set).\n",
    "\n",
    "The test size here is of 20% of the original data."
   ]
  },
  {
   "cell_type": "code",
   "execution_count": 5,
   "id": "f7023d68-1d77-455b-a56f-06e9b1d1f83d",
   "metadata": {
    "id": "f7023d68-1d77-455b-a56f-06e9b1d1f83d"
   },
   "outputs": [],
   "source": [
    "X_train, X_test, y_train, y_test = train_test_split(X, y, test_size=0.2, random_state=0, shuffle=True)"
   ]
  },
  {
   "cell_type": "markdown",
   "id": "e3035add-c9a3-4b13-b98a-dad8d6981a3a",
   "metadata": {
    "id": "e3035add-c9a3-4b13-b98a-dad8d6981a3a"
   },
   "source": [
    "Note that we control how the data shuffling is applied by providing a random state, in order to obtain reproducible output across multiple function calls."
   ]
  },
  {
   "cell_type": "markdown",
   "id": "4f0a1b43-4e06-4b70-8a83-c5e58d99e2d7",
   "metadata": {
    "id": "4f0a1b43-4e06-4b70-8a83-c5e58d99e2d7"
   },
   "source": [
    "#### Create and Fit model <a id='linear-train'></a>\n",
    "\n",
    "To predict the output variable we will use a simple linear regression, the module is called `LinearRegression` ([Documentation](https://scikit-learn.org/stable/modules/generated/sklearn.linear_model.LinearRegression.html#sklearn.linear_model.LinearRegression)). Here is the import line:\n",
    "\n",
    "```python\n",
    "from sklearn.linear_model import LinearRegression\n",
    "```\n",
    "We follow three steps:\n",
    "1. Create a new `LinearRegression` model from sklearn\n",
    "2. Fill the linear model from the X_train (feature) and the y_train data (target) using the `fit()` function\n",
    "3. Check the model accuracy using the `score()` function, which returns the coefficient of determination $R^2$ of the prediction. The best possible score is 1 and it can be negative (because the model can be arbitrarily worse). A constant model that always predicts the expected value of y, disregarding the input features, would get a $R^2$ score of 0."
   ]
  },
  {
   "cell_type": "code",
   "execution_count": 6,
   "id": "6e909b23-c4db-408d-8bd9-3267b8281632",
   "metadata": {
    "id": "6e909b23-c4db-408d-8bd9-3267b8281632"
   },
   "outputs": [
    {
     "name": "stdout",
     "output_type": "stream",
     "text": [
      "R² Score of the model:  0.313\n"
     ]
    }
   ],
   "source": [
    "# There are three steps to model something with sklearn\n",
    "# 1. Set up the model\n",
    "model = LinearRegression(fit_intercept= True)\n",
    "# 2. Use fit\n",
    "model.fit(X_train, y_train)\n",
    "# 3. Check the score/accuracy\n",
    "print(\"R\\u00b2 Score of the model: \", round(model.score(X_train, y_train), 3))"
   ]
  },
  {
   "cell_type": "markdown",
   "id": "7e935629-c646-44e6-8491-ecbf664b8e75",
   "metadata": {
    "id": "7e935629-c646-44e6-8491-ecbf664b8e75"
   },
   "source": [
    "After fitting the model, we can easily retrieve the values of the different weights coefficients (the intercept, and the weight of each feature):"
   ]
  },
  {
   "cell_type": "code",
   "execution_count": 7,
   "id": "a615f08f-a1b1-40df-b897-d2e01edc9b6e",
   "metadata": {
    "id": "a615f08f-a1b1-40df-b897-d2e01edc9b6e"
   },
   "outputs": [
    {
     "name": "stdout",
     "output_type": "stream",
     "text": [
      "Intercept:  29.543003059769497\n",
      "Features coefficients (weigths):  -0.22661055784458156\n"
     ]
    }
   ],
   "source": [
    "print(\"Intercept: \", model.intercept_[0])\n",
    "print(\"Features coefficients (weigths): \", model.coef_.flatten()[0])"
   ]
  },
  {
   "cell_type": "markdown",
   "id": "9e0847dc-82aa-4ffd-b3fb-1cc8d076c69f",
   "metadata": {
    "id": "9e0847dc-82aa-4ffd-b3fb-1cc8d076c69f"
   },
   "source": [
    "The intercept corresponds to the value of $w_0$. There is only one coefficient,  $w_1$ linked to the humidity feature. Since we have only one value for intercept and coefficients represented as arrays, we apply `flatten()` and `[0]`."
   ]
  },
  {
   "cell_type": "markdown",
   "id": "0dc6921d-d075-4f8c-9ef8-e7ebdb150513",
   "metadata": {
    "id": "0dc6921d-d075-4f8c-9ef8-e7ebdb150513"
   },
   "source": [
    "#### Prediction and Evaluation <a id='linear-test'></a>"
   ]
  },
  {
   "cell_type": "markdown",
   "id": "d9ccce46-92c5-4a27-8c76-1a19582d77a9",
   "metadata": {
    "id": "d9ccce46-92c5-4a27-8c76-1a19582d77a9"
   },
   "source": [
    "Once the model is trained, we can use the `predict()` function to predict the values of the test set using `X_test`. This prediction can be compared to the truth value, i.e., `y_test`. Let's try with one value of the test set. Note that our model takes a matrix as inputs (X matrix), so even if we want to do a prediction for a scalar value we should use `[[...]]`."
   ]
  },
  {
   "cell_type": "code",
   "execution_count": 8,
   "id": "128dbb23-825b-415d-adff-0498b84b3f68",
   "metadata": {
    "id": "128dbb23-825b-415d-adff-0498b84b3f68"
   },
   "outputs": [
    {
     "name": "stdout",
     "output_type": "stream",
     "text": [
      "Prediction/observed temperature for humidity 28: 23.2°C vs 27.0°C\n"
     ]
    },
    {
     "name": "stderr",
     "output_type": "stream",
     "text": [
      "/home/rajet/anaconda3/lib/python3.12/site-packages/sklearn/base.py:493: UserWarning: X does not have valid feature names, but LinearRegression was fitted with feature names\n",
      "  warnings.warn(\n"
     ]
    }
   ],
   "source": [
    "humidity_test = X_test.iloc[0].values[0]\n",
    "temperature_predicted = model.predict([[humidity_test]]).flatten()[0]\n",
    "temperature_test = y_test.iloc[0].values[0]\n",
    "print(f\"Prediction/observed temperature for humidity {humidity_test}: {temperature_predicted:.1f}°C vs {temperature_test}°C\")"
   ]
  },
  {
   "cell_type": "markdown",
   "id": "c2af149f-9cf2-45a1-9b15-279ecf50ef0a",
   "metadata": {
    "id": "c2af149f-9cf2-45a1-9b15-279ecf50ef0a"
   },
   "source": [
    "To better understand how the prediction and actual values differ, we can plot the predictions (line) and the true values from the test set (dots). It is more interesting to predict from the test set because our model is not trained on these values unlike the train set."
   ]
  },
  {
   "cell_type": "code",
   "execution_count": 9,
   "id": "9d637373-0311-4c2f-a57d-447880d667b0",
   "metadata": {
    "id": "9d637373-0311-4c2f-a57d-447880d667b0"
   },
   "outputs": [],
   "source": [
    "# Model prediction from X_test\n",
    "predictions = model.predict(X_test)"
   ]
  },
  {
   "cell_type": "code",
   "execution_count": 10,
   "id": "3f7f3b64-b184-464d-9ce2-7ff5660696bf",
   "metadata": {
    "id": "3f7f3b64-b184-464d-9ce2-7ff5660696bf"
   },
   "outputs": [
    {
     "data": {
      "image/png": "[encoded data removed]",
      "text/plain": [
       "<Figure size 640x480 with 1 Axes>"
      ]
     },
     "metadata": {},
     "output_type": "display_data"
    }
   ],
   "source": [
    "# Plot the prediction (the line) over the true value (the dots)\n",
    "plt.scatter(X_test, y_test)\n",
    "plt.plot(X_test, predictions, 'r')\n",
    "plt.title(\"Humidity level against temperature\")\n",
    "plt.xlabel('Humidity level')\n",
    "plt.ylabel('Temperature °C')\n",
    "plt.show()"
   ]
  },
  {
   "cell_type": "markdown",
   "id": "7a390f16-263a-4fcc-a73d-ad784df0e15f",
   "metadata": {
    "id": "7a390f16-263a-4fcc-a73d-ad784df0e15f"
   },
   "source": [
    "We can compare the error of our model by using some metrics like the **MAE (mean absolute error)**, **MSE (mean squared error)** or **coefficient of determination $R^2$** score. Sklearn offers some nice modules to compute these measures ([MAE](https://scikit-learn.org/stable/modules/generated/sklearn.metrics.mean_absolute_error.html#sklearn.metrics.mean_absolute_error), [MSE](https://scikit-learn.org/stable/modules/generated/sklearn.metrics.mean_squared_error.html#sklearn.metrics.mean_squared_error), [$R^2$](https://scikit-learn.org/stable/modules/generated/sklearn.metrics.r2_score.html#sklearn.metrics.r2_score)).\n",
    "Here is the import line:\n",
    "\n",
    "```python\n",
    "from sklearn.metrics import mean_squared_error, mean_absolute_error, r2_score\n",
    "```\n",
    "\n",
    "These metrics takes the `y_test` values and the `predictions` as arguments. Basically it will analyse how far the prediction is from the true value. Using these metrics is very helpful when comparing the performance of model."
   ]
  },
  {
   "cell_type": "code",
   "execution_count": 11,
   "id": "0b9d60e8-8d03-422b-af93-ed637627c00c",
   "metadata": {
    "id": "0b9d60e8-8d03-422b-af93-ed637627c00c",
    "tags": []
   },
   "outputs": [
    {
     "name": "stdout",
     "output_type": "stream",
     "text": [
      "MAE: 4.27\n",
      "MSE: 24.44\n",
      "R²: 0.37 \n"
     ]
    }
   ],
   "source": [
    "# Compute the MAE, the MSE and the R^2\n",
    "mae = mean_absolute_error(y_test, predictions)\n",
    "mse = mean_squared_error(y_test, predictions)\n",
    "r2 = r2_score(y_test, predictions)\n",
    "\n",
    "print(f\"MAE: {mae:0.2f}\")\n",
    "print(f\"MSE: {mse:0.2f}\")\n",
    "print(f\"R\\u00b2: {r2:0.2f} \" )"
   ]
  },
  {
   "cell_type": "markdown",
   "id": "1de879df-bec6-44fd-972b-a918a0edd6f2",
   "metadata": {
    "id": "1de879df-bec6-44fd-972b-a918a0edd6f2"
   },
   "source": [
    "It is also interesting to compare the results of these metrics between the data from the *test set* and those from the *train set* to see whether our model generalizes well:"
   ]
  },
  {
   "cell_type": "code",
   "execution_count": 12,
   "id": "ae9a003d-89f5-43d9-ae48-b3a5a49e0683",
   "metadata": {
    "id": "ae9a003d-89f5-43d9-ae48-b3a5a49e0683"
   },
   "outputs": [
    {
     "name": "stdout",
     "output_type": "stream",
     "text": [
      "MAE test set: 4.27; MAE train set: 4.77;\n",
      "MSE test set: 24.44; MSE train set: 31.08;\n",
      "R² test set: 0.37; R² train set: 0.31;\n"
     ]
    }
   ],
   "source": [
    "predictions_train = model.predict(X_train)\n",
    "mae_train = mean_absolute_error(y_train, predictions_train)\n",
    "mse_train = mean_squared_error(y_train, predictions_train)\n",
    "r2_train = r2_score(y_train, predictions_train)\n",
    "\n",
    "print(f\"MAE test set: {mae:0.2f}; MAE train set: {mae_train:0.2f};\")\n",
    "print(f\"MSE test set: {mse:0.2f}; MSE train set: {mse_train:0.2f};\")\n",
    "print(f\"R\\u00b2 test set: {r2:0.2f}; R\\u00b2 train set: {r2_train:0.2f};\" )"
   ]
  },
  {
   "cell_type": "markdown",
   "id": "129db0b0-bb62-49f7-abbc-fb7c784c35b7",
   "metadata": {
    "id": "129db0b0-bb62-49f7-abbc-fb7c784c35b7"
   },
   "source": [
    "Remember, the higher the $R^2$ value, the better the fit. In this case, the test data yields a higher coefficient as well as lower mean absolute and mean squared errors. While it might seem a bit counterintuitive, one possible explanation lies in the observations selected when we split our dataset into training/test set and the size of the dataset. One remedy would be to rely on cross validation."
   ]
  },
  {
   "cell_type": "markdown",
   "id": "13b24342-de96-4c76-bffb-7ee7be91495f",
   "metadata": {
    "id": "13b24342-de96-4c76-bffb-7ee7be91495f"
   },
   "source": [
    "### Multivariate linear regression"
   ]
  },
  {
   "cell_type": "markdown",
   "id": "473bce73-3a6d-446f-a951-17de9e8d5c67",
   "metadata": {
    "id": "473bce73-3a6d-446f-a951-17de9e8d5c67"
   },
   "source": [
    "We will now apply the same method to several features, namely, humidity, pressure, wind speed, wind direction, sunshine, rainfall, and cloud data to predict the temperature, still at 3pm."
   ]
  },
  {
   "cell_type": "code",
   "execution_count": 13,
   "id": "816effc4-c997-441d-8234-59408fe79fe4",
   "metadata": {
    "id": "816effc4-c997-441d-8234-59408fe79fe4"
   },
   "outputs": [],
   "source": [
    "X = weather[['Humidity3pm', 'Cloud3pm', 'Pressure3pm', 'WindSpeed3pm', 'WindDir3pm', 'Sunshine', 'Rainfall']]\n",
    "y = weather[['Temp3pm']]"
   ]
  },
  {
   "cell_type": "markdown",
   "id": "77ab2d22-ae5a-48c7-96fd-1c5ee2182f1e",
   "metadata": {
    "id": "77ab2d22-ae5a-48c7-96fd-1c5ee2182f1e"
   },
   "source": [
    "#### Splitting dataset <a id='multivariate-split'></a>"
   ]
  },
  {
   "cell_type": "markdown",
   "id": "f9757fd7-ad04-4812-a2b5-bacc06d19bd5",
   "metadata": {
    "id": "f9757fd7-ad04-4812-a2b5-bacc06d19bd5"
   },
   "source": [
    "We apply the same procedure as before:"
   ]
  },
  {
   "cell_type": "code",
   "execution_count": 14,
   "id": "ff29ea2d-ef2e-4065-9d71-d36db8ae966e",
   "metadata": {
    "id": "ff29ea2d-ef2e-4065-9d71-d36db8ae966e"
   },
   "outputs": [],
   "source": [
    "X_train, X_test, y_train, y_test = train_test_split(X, y, test_size=0.2, random_state=0, shuffle=True)"
   ]
  },
  {
   "cell_type": "markdown",
   "id": "6b946fce-a5c5-483b-babe-5cbd2c27be3b",
   "metadata": {
    "id": "6b946fce-a5c5-483b-babe-5cbd2c27be3b"
   },
   "source": [
    "#### Preprocessing: encoding categorical variables\n",
    "\n",
    "The feature 'WindDir3pm' is a categorical variable. To use it in our model, we need to encode it. Here, we will use a label encoding, using the sklearn module `LabelEncoder`. As an alternative, we could use 1-hot encoding, with the sklearn module `OneHotEncoder`. Here are the import lines:\n",
    "\n",
    "```python\n",
    "from sklearn.preprocessing import LabelEncoder\n",
    "from sklearn.preprocessing import OneHotEncoder\n",
    "```\n",
    "\n",
    "**Note:** You should encore your data after splitting the dataset to avoid data leakage (train-test contamination), first transforming the training set and then the test set based on the encoding maps from train data."
   ]
  },
  {
   "cell_type": "code",
   "execution_count": 15,
   "id": "db9483ee-4279-4d8e-81fd-8b24cb418174",
   "metadata": {
    "id": "db9483ee-4279-4d8e-81fd-8b24cb418174",
    "tags": []
   },
   "outputs": [
    {
     "name": "stdout",
     "output_type": "stream",
     "text": [
      "    WindDir3pm\n",
      "1            W\n",
      "333         NW\n",
      "8          ENE\n",
      "232        WNW\n",
      "101          W\n",
      "..         ...\n",
      "361         NW\n",
      "204        SSW\n",
      "119         SE\n",
      "47           E\n",
      "179        WNW\n",
      "\n",
      "[262 rows x 1 columns]\n",
      "     WindDir3pm\n",
      "1            13\n",
      "333           7\n",
      "8             1\n",
      "232          14\n",
      "101          13\n",
      "..          ...\n",
      "361           7\n",
      "204          11\n",
      "119           9\n",
      "47            0\n",
      "179          14\n",
      "\n",
      "[262 rows x 1 columns]\n"
     ]
    }
   ],
   "source": [
    "print(X_train[['WindDir3pm']])\n",
    "# Extract the column of interest\n",
    "wind_dir_3pm = X_train[['WindDir3pm']].values.ravel()\n",
    "wind_dir_3pm_test = X_test[['WindDir3pm']].values.ravel()\n",
    "#Define the encoder\n",
    "le = LabelEncoder()\n",
    "#Fit the encoder\n",
    "le.fit(wind_dir_3pm)\n",
    "#Transform the train and the test set\n",
    "X_train = X_train.assign(WindDir3pm=le.transform(wind_dir_3pm))\n",
    "X_test = X_test.assign(WindDir3pm=le.transform(wind_dir_3pm_test))\n",
    "print(X_train[['WindDir3pm']])"
   ]
  },
  {
   "cell_type": "markdown",
   "id": "57ffb331-7ce5-48ba-8e5a-c24d6bac380b",
   "metadata": {
    "id": "57ffb331-7ce5-48ba-8e5a-c24d6bac380b"
   },
   "source": [
    "#### Rescaling\n",
    "\n",
    "Next, we rescale our data.\n",
    "\n",
    "**Note:** Generally you should normalize the data right after splitting the dataset. The normalization is important here to reduce the variance of our model and get better results.\n",
    "\n",
    "We can use the sklearn `MinMaxScaler` module to normalize the data. This estimator scales and translates each feature individually such that it is in the given range on the training set, e.g. between zero and one. Here is the import line:\n",
    "\n",
    "```python\n",
    "from sklearn.preprocessing import MinMaxScaler\n",
    "```"
   ]
  },
  {
   "cell_type": "code",
   "execution_count": 16,
   "id": "5ae1dd0d-936d-4e7c-a3c5-2463fde05582",
   "metadata": {
    "colab": {
     "base_uri": "https://localhost:8080/",
     "height": 216
    },
    "id": "5ae1dd0d-936d-4e7c-a3c5-2463fde05582",
    "outputId": "e499829a-c0d4-46f5-d967-303f25c52945"
   },
   "outputs": [],
   "source": [
    "#Define the scaler\n",
    "scaler = MinMaxScaler()\n",
    "#Fit the scaler\n",
    "scaler.fit(X_train)\n",
    "#Transform the training and the test set\n",
    "X_train = scaler.transform(X_train)\n",
    "X_test = scaler.transform(X_test)\n",
    "\n",
    "## Note that these two steps can be merged into one (only for the training set)\n",
    "# X_train = scaler.fit_transform(X_train)\n",
    "# X_test = scaler.transform(X_test)"
   ]
  },
  {
   "cell_type": "markdown",
   "id": "661fd9a2-9b49-409d-883a-4f8a67d9bcc6",
   "metadata": {
    "id": "661fd9a2-9b49-409d-883a-4f8a67d9bcc6"
   },
   "source": [
    "#### Create and Fit model <a id='multivariate-train'></a>\n",
    "\n",
    "We follow the same steps as before:"
   ]
  },
  {
   "cell_type": "code",
   "execution_count": 17,
   "id": "a4701ab3-91c8-4219-bd3e-4dbf2dabe463",
   "metadata": {
    "id": "a4701ab3-91c8-4219-bd3e-4dbf2dabe463"
   },
   "outputs": [
    {
     "name": "stdout",
     "output_type": "stream",
     "text": [
      "R² Score of the model:  0.621\n",
      "Intercept:  37.93596617948595\n"
     ]
    },
    {
     "data": {
      "text/html": [
       "<div>\n",
       "<style scoped>\n",
       "    .dataframe tbody tr th:only-of-type {\n",
       "        vertical-align: middle;\n",
       "    }\n",
       "\n",
       "    .dataframe tbody tr th {\n",
       "        vertical-align: top;\n",
       "    }\n",
       "\n",
       "    .dataframe thead th {\n",
       "        text-align: right;\n",
       "    }\n",
       "</style>\n",
       "<table border=\"1\" class=\"dataframe\">\n",
       "  <thead>\n",
       "    <tr style=\"text-align: right;\">\n",
       "      <th></th>\n",
       "      <th>Coefficients multivariate model</th>\n",
       "    </tr>\n",
       "  </thead>\n",
       "  <tbody>\n",
       "    <tr>\n",
       "      <th>Humidity3pm</th>\n",
       "      <td>-16.236408</td>\n",
       "    </tr>\n",
       "    <tr>\n",
       "      <th>Cloud3pm</th>\n",
       "      <td>2.993911</td>\n",
       "    </tr>\n",
       "    <tr>\n",
       "      <th>Pressure3pm</th>\n",
       "      <td>-19.235234</td>\n",
       "    </tr>\n",
       "    <tr>\n",
       "      <th>WindSpeed3pm</th>\n",
       "      <td>-13.840040</td>\n",
       "    </tr>\n",
       "    <tr>\n",
       "      <th>WindDir3pm</th>\n",
       "      <td>-2.875112</td>\n",
       "    </tr>\n",
       "    <tr>\n",
       "      <th>Sunshine</th>\n",
       "      <td>4.779577</td>\n",
       "    </tr>\n",
       "    <tr>\n",
       "      <th>Rainfall</th>\n",
       "      <td>-2.598842</td>\n",
       "    </tr>\n",
       "  </tbody>\n",
       "</table>\n",
       "</div>"
      ],
      "text/plain": [
       "              Coefficients multivariate model\n",
       "Humidity3pm                        -16.236408\n",
       "Cloud3pm                             2.993911\n",
       "Pressure3pm                        -19.235234\n",
       "WindSpeed3pm                       -13.840040\n",
       "WindDir3pm                          -2.875112\n",
       "Sunshine                             4.779577\n",
       "Rainfall                            -2.598842"
      ]
     },
     "execution_count": 17,
     "metadata": {},
     "output_type": "execute_result"
    }
   ],
   "source": [
    "# 1. Set up the model\n",
    "model = LinearRegression()\n",
    "# 2. Use fit\n",
    "model.fit(X_train, y_train)\n",
    "# 3. Check the score/accuracy\n",
    "print(\"R\\u00b2 Score of the model: \", round(model.score(X_train, y_train), 3))\n",
    "# 4. Print the coefficients of the linear model\n",
    "print(\"Intercept: \", model.intercept_[0])\n",
    "model_coeff = pd.DataFrame(model.coef_.flatten(),\n",
    "                     index=['Humidity3pm', 'Cloud3pm', 'Pressure3pm', 'WindSpeed3pm', 'WindDir3pm', 'Sunshine', 'Rainfall'],\n",
    "                     columns=['Coefficients multivariate model'])\n",
    "model_coeff # Get the coefficients, w"
   ]
  },
  {
   "cell_type": "markdown",
   "id": "8a4f3195-df05-4e44-bcf5-a48798290afc",
   "metadata": {
    "id": "8a4f3195-df05-4e44-bcf5-a48798290afc"
   },
   "source": [
    "The coefficient values inform us about the relative importance of each feature for our prediction."
   ]
  },
  {
   "cell_type": "markdown",
   "id": "5f84a99e-91e9-404f-9530-e2815863c9a1",
   "metadata": {
    "id": "5f84a99e-91e9-404f-9530-e2815863c9a1"
   },
   "source": [
    "#### Prediction and evaluation <a id='multivariate-test'></a>"
   ]
  },
  {
   "cell_type": "markdown",
   "id": "7ca48e7b-b5e6-41b9-994e-fc7473178231",
   "metadata": {
    "id": "7ca48e7b-b5e6-41b9-994e-fc7473178231"
   },
   "source": [
    "Finally, we evaluate our model performance following the same procedure as before:"
   ]
  },
  {
   "cell_type": "code",
   "execution_count": 18,
   "id": "2b808dfe-3938-4776-b3f0-ba1158639bca",
   "metadata": {
    "id": "2b808dfe-3938-4776-b3f0-ba1158639bca"
   },
   "outputs": [
    {
     "name": "stdout",
     "output_type": "stream",
     "text": [
      "MAE test set: 3.22; MAE training set: 3.39;\n",
      "MSE test set: 15.86; MSE training set: 17.13;\n",
      "R² test set: 0.59; R² training set: 0.62;\n"
     ]
    }
   ],
   "source": [
    "# Predict:\n",
    "predictions = model.predict(X_test)\n",
    "\n",
    "# Compute the MAE, the MSE and the R^2 on the test set\n",
    "mae = mean_absolute_error(y_test, predictions)\n",
    "mse = mean_squared_error(y_test, predictions)\n",
    "r2 = r2_score(y_test, predictions)\n",
    "\n",
    "# Compute the MAE, the MSE and the R^2 on the training set\n",
    "predictions_train = model.predict(X_train)\n",
    "mae_train = mean_absolute_error(y_train, predictions_train)\n",
    "mse_train = mean_squared_error(y_train, predictions_train)\n",
    "r2_train = r2_score(y_train, predictions_train)\n",
    "\n",
    "print(f\"MAE test set: {mae:0.2f}; MAE training set: {mae_train:0.2f};\")\n",
    "print(f\"MSE test set: {mse:0.2f}; MSE training set: {mse_train:0.2f};\")\n",
    "print(f\"R\\u00b2 test set: {r2:0.2f}; R\\u00b2 training set: {r2_train:0.2f};\" )"
   ]
  },
  {
   "cell_type": "markdown",
   "id": "bae2b3d5-e92a-4f9b-858e-3b445b42da0c",
   "metadata": {
    "id": "bae2b3d5-e92a-4f9b-858e-3b445b42da0c"
   },
   "source": [
    "The mean absolute error and mean squared error in our multivariate analysis are lower than in the univariate case: as expected, adding more complexity (features) seemed to have improved our prediction.\n",
    "\n",
    "Note that you should not use the $R^2$ to compare several models since the indicator is sensitive to the number of features. Instead, you can for instance use the [Adjusted $R^2$](https://en.wikipedia.org/wiki/Coefficient_of_determination#Adjusted_R2)."
   ]
  },
  {
   "cell_type": "markdown",
   "id": "507f9093-8d25-4100-aefd-028a591d7892",
   "metadata": {
    "id": "507f9093-8d25-4100-aefd-028a591d7892"
   },
   "source": [
    "### Polynomial linear regression"
   ]
  },
  {
   "cell_type": "markdown",
   "id": "b860983d-4ab8-4539-987e-7389c2ee1fdd",
   "metadata": {
    "id": "b860983d-4ab8-4539-987e-7389c2ee1fdd"
   },
   "source": [
    "Polynomial regression is very powerful as a sufficiently higher degree polynomial is flexible enough to fit any function. We are using the module  `PolynomialFeatures` to preprocess our data ([Documentation](https://scikit-learn.org/stable/modules/generated/sklearn.preprocessing.PolynomialFeatures.html)):\n",
    "\n",
    "```python\n",
    "from sklearn.preprocessing import PolynomialFeatures\n",
    "```\n",
    "\n",
    "The function `PolynomialFeatures` generates a new feature matrix consisting of all polynomial combinations of the features with degree less than or equal to the specified degree."
   ]
  },
  {
   "cell_type": "code",
   "execution_count": 19,
   "id": "f57bad78-09db-4851-bca7-aed019401b99",
   "metadata": {
    "id": "f57bad78-09db-4851-bca7-aed019401b99"
   },
   "outputs": [
    {
     "name": "stdout",
     "output_type": "stream",
     "text": [
      "['1' 'Humidity3pm' 'Cloud3pm' 'Pressure3pm' 'WindSpeed3pm' 'WindDir3pm'\n",
      " 'Sunshine' 'Rainfall' 'Humidity3pm^2' 'Humidity3pm Cloud3pm'\n",
      " 'Humidity3pm Pressure3pm' 'Humidity3pm WindSpeed3pm'\n",
      " 'Humidity3pm WindDir3pm' 'Humidity3pm Sunshine' 'Humidity3pm Rainfall'\n",
      " 'Cloud3pm^2' 'Cloud3pm Pressure3pm' 'Cloud3pm WindSpeed3pm'\n",
      " 'Cloud3pm WindDir3pm' 'Cloud3pm Sunshine' 'Cloud3pm Rainfall'\n",
      " 'Pressure3pm^2' 'Pressure3pm WindSpeed3pm' 'Pressure3pm WindDir3pm'\n",
      " 'Pressure3pm Sunshine' 'Pressure3pm Rainfall' 'WindSpeed3pm^2'\n",
      " 'WindSpeed3pm WindDir3pm' 'WindSpeed3pm Sunshine' 'WindSpeed3pm Rainfall'\n",
      " 'WindDir3pm^2' 'WindDir3pm Sunshine' 'WindDir3pm Rainfall' 'Sunshine^2'\n",
      " 'Sunshine Rainfall' 'Rainfall^2']\n"
     ]
    }
   ],
   "source": [
    "# We will use a degree 2\n",
    "poly = PolynomialFeatures(2)\n",
    "# Transform our training and test set\n",
    "X_train_poly = poly.fit_transform(X_train)\n",
    "X_test_poly = poly.transform(X_test)\n",
    "# Feature name:\n",
    "X_poly_features = poly.get_feature_names_out(['Humidity3pm', 'Cloud3pm', 'Pressure3pm', 'WindSpeed3pm', 'WindDir3pm', 'Sunshine', 'Rainfall'])\n",
    "print(X_poly_features)"
   ]
  },
  {
   "cell_type": "markdown",
   "id": "2d9ff39b-d50d-4352-bf2e-eeebcb849cd8",
   "metadata": {
    "id": "2d9ff39b-d50d-4352-bf2e-eeebcb849cd8"
   },
   "source": [
    "Now we proceed as before, performing a linear regression:"
   ]
  },
  {
   "cell_type": "code",
   "execution_count": 20,
   "id": "5c7620c4-27ef-46d0-b3fc-a43d3683c911",
   "metadata": {
    "id": "5c7620c4-27ef-46d0-b3fc-a43d3683c911"
   },
   "outputs": [
    {
     "name": "stdout",
     "output_type": "stream",
     "text": [
      "R² Score of the model:  0.718\n"
     ]
    },
    {
     "data": {
      "text/html": [
       "<div>\n",
       "<style scoped>\n",
       "    .dataframe tbody tr th:only-of-type {\n",
       "        vertical-align: middle;\n",
       "    }\n",
       "\n",
       "    .dataframe tbody tr th {\n",
       "        vertical-align: top;\n",
       "    }\n",
       "\n",
       "    .dataframe thead th {\n",
       "        text-align: right;\n",
       "    }\n",
       "</style>\n",
       "<table border=\"1\" class=\"dataframe\">\n",
       "  <thead>\n",
       "    <tr style=\"text-align: right;\">\n",
       "      <th></th>\n",
       "      <th>Coefficients polynomial model</th>\n",
       "    </tr>\n",
       "  </thead>\n",
       "  <tbody>\n",
       "    <tr>\n",
       "      <th>1</th>\n",
       "      <td>70.818534</td>\n",
       "    </tr>\n",
       "    <tr>\n",
       "      <th>Humidity3pm</th>\n",
       "      <td>-34.497306</td>\n",
       "    </tr>\n",
       "    <tr>\n",
       "      <th>Cloud3pm</th>\n",
       "      <td>-14.110065</td>\n",
       "    </tr>\n",
       "    <tr>\n",
       "      <th>Pressure3pm</th>\n",
       "      <td>-58.905587</td>\n",
       "    </tr>\n",
       "    <tr>\n",
       "      <th>WindSpeed3pm</th>\n",
       "      <td>-44.953044</td>\n",
       "    </tr>\n",
       "    <tr>\n",
       "      <th>WindDir3pm</th>\n",
       "      <td>-16.625414</td>\n",
       "    </tr>\n",
       "    <tr>\n",
       "      <th>Sunshine</th>\n",
       "      <td>-18.112180</td>\n",
       "    </tr>\n",
       "    <tr>\n",
       "      <th>Rainfall</th>\n",
       "      <td>-2.382792</td>\n",
       "    </tr>\n",
       "    <tr>\n",
       "      <th>Humidity3pm^2</th>\n",
       "      <td>5.297209</td>\n",
       "    </tr>\n",
       "    <tr>\n",
       "      <th>Humidity3pm Cloud3pm</th>\n",
       "      <td>3.811526</td>\n",
       "    </tr>\n",
       "    <tr>\n",
       "      <th>Humidity3pm Pressure3pm</th>\n",
       "      <td>28.136987</td>\n",
       "    </tr>\n",
       "    <tr>\n",
       "      <th>Humidity3pm WindSpeed3pm</th>\n",
       "      <td>12.537486</td>\n",
       "    </tr>\n",
       "    <tr>\n",
       "      <th>Humidity3pm WindDir3pm</th>\n",
       "      <td>-8.755339</td>\n",
       "    </tr>\n",
       "    <tr>\n",
       "      <th>Humidity3pm Sunshine</th>\n",
       "      <td>-7.294708</td>\n",
       "    </tr>\n",
       "    <tr>\n",
       "      <th>Humidity3pm Rainfall</th>\n",
       "      <td>8.673520</td>\n",
       "    </tr>\n",
       "    <tr>\n",
       "      <th>Cloud3pm^2</th>\n",
       "      <td>-1.263658</td>\n",
       "    </tr>\n",
       "    <tr>\n",
       "      <th>Cloud3pm Pressure3pm</th>\n",
       "      <td>6.184263</td>\n",
       "    </tr>\n",
       "    <tr>\n",
       "      <th>Cloud3pm WindSpeed3pm</th>\n",
       "      <td>11.543304</td>\n",
       "    </tr>\n",
       "    <tr>\n",
       "      <th>Cloud3pm WindDir3pm</th>\n",
       "      <td>1.151535</td>\n",
       "    </tr>\n",
       "    <tr>\n",
       "      <th>Cloud3pm Sunshine</th>\n",
       "      <td>14.325605</td>\n",
       "    </tr>\n",
       "    <tr>\n",
       "      <th>Cloud3pm Rainfall</th>\n",
       "      <td>11.561408</td>\n",
       "    </tr>\n",
       "    <tr>\n",
       "      <th>Pressure3pm^2</th>\n",
       "      <td>10.339247</td>\n",
       "    </tr>\n",
       "    <tr>\n",
       "      <th>Pressure3pm WindSpeed3pm</th>\n",
       "      <td>16.659560</td>\n",
       "    </tr>\n",
       "    <tr>\n",
       "      <th>Pressure3pm WindDir3pm</th>\n",
       "      <td>18.404142</td>\n",
       "    </tr>\n",
       "    <tr>\n",
       "      <th>Pressure3pm Sunshine</th>\n",
       "      <td>-1.986992</td>\n",
       "    </tr>\n",
       "    <tr>\n",
       "      <th>Pressure3pm Rainfall</th>\n",
       "      <td>-0.245664</td>\n",
       "    </tr>\n",
       "    <tr>\n",
       "      <th>WindSpeed3pm^2</th>\n",
       "      <td>5.415717</td>\n",
       "    </tr>\n",
       "    <tr>\n",
       "      <th>WindSpeed3pm WindDir3pm</th>\n",
       "      <td>0.445015</td>\n",
       "    </tr>\n",
       "    <tr>\n",
       "      <th>WindSpeed3pm Sunshine</th>\n",
       "      <td>15.305645</td>\n",
       "    </tr>\n",
       "    <tr>\n",
       "      <th>WindSpeed3pm Rainfall</th>\n",
       "      <td>-19.222073</td>\n",
       "    </tr>\n",
       "    <tr>\n",
       "      <th>WindDir3pm^2</th>\n",
       "      <td>4.630299</td>\n",
       "    </tr>\n",
       "    <tr>\n",
       "      <th>WindDir3pm Sunshine</th>\n",
       "      <td>0.635540</td>\n",
       "    </tr>\n",
       "    <tr>\n",
       "      <th>WindDir3pm Rainfall</th>\n",
       "      <td>20.616689</td>\n",
       "    </tr>\n",
       "    <tr>\n",
       "      <th>Sunshine^2</th>\n",
       "      <td>13.589054</td>\n",
       "    </tr>\n",
       "    <tr>\n",
       "      <th>Sunshine Rainfall</th>\n",
       "      <td>-5.688230</td>\n",
       "    </tr>\n",
       "    <tr>\n",
       "      <th>Rainfall^2</th>\n",
       "      <td>-22.396915</td>\n",
       "    </tr>\n",
       "  </tbody>\n",
       "</table>\n",
       "</div>"
      ],
      "text/plain": [
       "                          Coefficients polynomial model\n",
       "1                                             70.818534\n",
       "Humidity3pm                                  -34.497306\n",
       "Cloud3pm                                     -14.110065\n",
       "Pressure3pm                                  -58.905587\n",
       "WindSpeed3pm                                 -44.953044\n",
       "WindDir3pm                                   -16.625414\n",
       "Sunshine                                     -18.112180\n",
       "Rainfall                                      -2.382792\n",
       "Humidity3pm^2                                  5.297209\n",
       "Humidity3pm Cloud3pm                           3.811526\n",
       "Humidity3pm Pressure3pm                       28.136987\n",
       "Humidity3pm WindSpeed3pm                      12.537486\n",
       "Humidity3pm WindDir3pm                        -8.755339\n",
       "Humidity3pm Sunshine                          -7.294708\n",
       "Humidity3pm Rainfall                           8.673520\n",
       "Cloud3pm^2                                    -1.263658\n",
       "Cloud3pm Pressure3pm                           6.184263\n",
       "Cloud3pm WindSpeed3pm                         11.543304\n",
       "Cloud3pm WindDir3pm                            1.151535\n",
       "Cloud3pm Sunshine                             14.325605\n",
       "Cloud3pm Rainfall                             11.561408\n",
       "Pressure3pm^2                                 10.339247\n",
       "Pressure3pm WindSpeed3pm                      16.659560\n",
       "Pressure3pm WindDir3pm                        18.404142\n",
       "Pressure3pm Sunshine                          -1.986992\n",
       "Pressure3pm Rainfall                          -0.245664\n",
       "WindSpeed3pm^2                                 5.415717\n",
       "WindSpeed3pm WindDir3pm                        0.445015\n",
       "WindSpeed3pm Sunshine                         15.305645\n",
       "WindSpeed3pm Rainfall                        -19.222073\n",
       "WindDir3pm^2                                   4.630299\n",
       "WindDir3pm Sunshine                            0.635540\n",
       "WindDir3pm Rainfall                           20.616689\n",
       "Sunshine^2                                    13.589054\n",
       "Sunshine Rainfall                             -5.688230\n",
       "Rainfall^2                                   -22.396915"
      ]
     },
     "execution_count": 20,
     "metadata": {},
     "output_type": "execute_result"
    }
   ],
   "source": [
    "# Set up the model\n",
    "model_poly = LinearRegression(fit_intercept=False) # we don't need fit intercept since polynomial features function add a column of ones to the data\n",
    "\n",
    "# Fit\n",
    "model_poly.fit(X_train_poly, y_train)\n",
    "\n",
    "# Check the score/accuracy\n",
    "print(\"R\\u00b2 Score of the model: \", round(model_poly.score(X_train_poly, y_train), 3))\n",
    "\n",
    "# Print the coefficients of the linear model\n",
    "model_coeff = pd.DataFrame(model_poly.coef_.flatten(),\n",
    "                     index=X_poly_features,\n",
    "                     columns=['Coefficients polynomial model'])\n",
    "model_coeff # Get the coefficients, w"
   ]
  },
  {
   "cell_type": "markdown",
   "id": "06aa43f9-24d2-4240-a70c-56dd980360e0",
   "metadata": {
    "id": "06aa43f9-24d2-4240-a70c-56dd980360e0"
   },
   "source": [
    "Finally, we evaluate the performance of our model:"
   ]
  },
  {
   "cell_type": "code",
   "execution_count": 21,
   "id": "0ed5f470-252b-4dbd-8923-b3f385ce2014",
   "metadata": {
    "id": "0ed5f470-252b-4dbd-8923-b3f385ce2014"
   },
   "outputs": [
    {
     "name": "stdout",
     "output_type": "stream",
     "text": [
      "MAE test set: 2.94; MAE training set: 2.90;\n",
      "MSE test set: 13.84; MSE training set: 12.75;\n",
      "R² test set: 0.64; R² training set: 0.72;\n"
     ]
    }
   ],
   "source": [
    "# Predict:\n",
    "predictions = model_poly.predict(X_test_poly)\n",
    "\n",
    "# Compute the MAE, the MSE and the R^2 on the test set\n",
    "mae = mean_absolute_error(y_test, predictions)\n",
    "mse = mean_squared_error(y_test, predictions)\n",
    "r2 = r2_score(y_test, predictions)\n",
    "\n",
    "# Compute the MAE, the MSE and the R^2 on the training set\n",
    "predictions_train = model_poly.predict(X_train_poly)\n",
    "mae_train = mean_absolute_error(y_train, predictions_train)\n",
    "mse_train = mean_squared_error(y_train, predictions_train)\n",
    "r2_train = r2_score(y_train, predictions_train)\n",
    "\n",
    "print(f\"MAE test set: {mae:0.2f}; MAE training set: {mae_train:0.2f};\")\n",
    "print(f\"MSE test set: {mse:0.2f}; MSE training set: {mse_train:0.2f};\")\n",
    "print(f\"R\\u00b2 test set: {r2:0.2f}; R\\u00b2 training set: {r2_train:0.2f};\" )"
   ]
  },
  {
   "cell_type": "markdown",
   "id": "a8eef147-4cf8-409b-87b4-ce94ff5b32a3",
   "metadata": {
    "id": "a8eef147-4cf8-409b-87b4-ce94ff5b32a3"
   },
   "source": [
    "The mean absolute and mean square errors on the test set decreased.\n",
    "\n",
    "However, beware, that complex models tend to overfit.\n",
    "\n",
    "For instance, if we were to use polynomial features with a degree 3, the mean absolute and mean square errors on the training set would decrease, but the errors on the test set would dramatically increase - and the $R^2$ on the test set would even be negative. Try it!\n",
    "\n",
    "To avoid such issue, we can implement some regularization techniques."
   ]
  },
  {
   "cell_type": "markdown",
   "id": "4b479c69-6f18-47c0-b5e0-d21faf02f5f7",
   "metadata": {
    "id": "4b479c69-6f18-47c0-b5e0-d21faf02f5f7"
   },
   "source": [
    "### Regularization <a id='implement-regul'></a>\n",
    "\n",
    "We will now implement some regularization techniques discussed above, in combination of our previous polynomial linear regression."
   ]
  },
  {
   "cell_type": "markdown",
   "id": "37aa6718-2463-4e2c-bc2a-e644fd158012",
   "metadata": {
    "id": "37aa6718-2463-4e2c-bc2a-e644fd158012"
   },
   "source": [
    "#### Lasso"
   ]
  },
  {
   "cell_type": "markdown",
   "id": "c5d8e0cf-3bfa-4cc6-bbff-988e3da32a1c",
   "metadata": {
    "id": "c5d8e0cf-3bfa-4cc6-bbff-988e3da32a1c"
   },
   "source": [
    "We can use the sklearn `Lasso` module to implement a Lasso regularization ([Documentation](https://scikit-learn.org/stable/modules/generated/sklearn.linear_model.Lasso.html)). Here is the import line:\n",
    "\n",
    "```python\n",
    "from sklearn.linear_model import Lasso\n",
    "```\n",
    "\n",
    "The procedure is the same as before. Since we already split our dataset and preprocessed our training and test sets, we can create the model, fit it, and then evaluate its performance.\n",
    "\n",
    "When creating the model, we can specify the penalty term, `alpha` as an argument of `Lasso()`:"
   ]
  },
  {
   "cell_type": "code",
   "execution_count": 22,
   "id": "74d447bb-2150-4566-80c6-64c4088d1316",
   "metadata": {
    "id": "74d447bb-2150-4566-80c6-64c4088d1316"
   },
   "outputs": [
    {
     "name": "stdout",
     "output_type": "stream",
     "text": [
      "R² Score of the model:  0.424\n"
     ]
    },
    {
     "data": {
      "text/html": [
       "<div>\n",
       "<style scoped>\n",
       "    .dataframe tbody tr th:only-of-type {\n",
       "        vertical-align: middle;\n",
       "    }\n",
       "\n",
       "    .dataframe tbody tr th {\n",
       "        vertical-align: top;\n",
       "    }\n",
       "\n",
       "    .dataframe thead th {\n",
       "        text-align: right;\n",
       "    }\n",
       "</style>\n",
       "<table border=\"1\" class=\"dataframe\">\n",
       "  <thead>\n",
       "    <tr style=\"text-align: right;\">\n",
       "      <th></th>\n",
       "      <th>Coefficients Lasso model</th>\n",
       "    </tr>\n",
       "  </thead>\n",
       "  <tbody>\n",
       "    <tr>\n",
       "      <th>1</th>\n",
       "      <td>16.480539</td>\n",
       "    </tr>\n",
       "    <tr>\n",
       "      <th>Humidity3pm</th>\n",
       "      <td>-3.131065</td>\n",
       "    </tr>\n",
       "    <tr>\n",
       "      <th>Cloud3pm</th>\n",
       "      <td>2.723063</td>\n",
       "    </tr>\n",
       "    <tr>\n",
       "      <th>Pressure3pm</th>\n",
       "      <td>-0.000000</td>\n",
       "    </tr>\n",
       "    <tr>\n",
       "      <th>WindSpeed3pm</th>\n",
       "      <td>-2.157586</td>\n",
       "    </tr>\n",
       "    <tr>\n",
       "      <th>WindDir3pm</th>\n",
       "      <td>0.000000</td>\n",
       "    </tr>\n",
       "    <tr>\n",
       "      <th>Sunshine</th>\n",
       "      <td>0.000000</td>\n",
       "    </tr>\n",
       "    <tr>\n",
       "      <th>Rainfall</th>\n",
       "      <td>-0.000000</td>\n",
       "    </tr>\n",
       "    <tr>\n",
       "      <th>Humidity3pm^2</th>\n",
       "      <td>-0.000000</td>\n",
       "    </tr>\n",
       "    <tr>\n",
       "      <th>Humidity3pm Cloud3pm</th>\n",
       "      <td>-0.000000</td>\n",
       "    </tr>\n",
       "    <tr>\n",
       "      <th>Humidity3pm Pressure3pm</th>\n",
       "      <td>-0.000000</td>\n",
       "    </tr>\n",
       "    <tr>\n",
       "      <th>Humidity3pm WindSpeed3pm</th>\n",
       "      <td>-0.000000</td>\n",
       "    </tr>\n",
       "    <tr>\n",
       "      <th>Humidity3pm WindDir3pm</th>\n",
       "      <td>-0.000000</td>\n",
       "    </tr>\n",
       "    <tr>\n",
       "      <th>Humidity3pm Sunshine</th>\n",
       "      <td>-0.000000</td>\n",
       "    </tr>\n",
       "    <tr>\n",
       "      <th>Humidity3pm Rainfall</th>\n",
       "      <td>-0.000000</td>\n",
       "    </tr>\n",
       "    <tr>\n",
       "      <th>Cloud3pm^2</th>\n",
       "      <td>0.000000</td>\n",
       "    </tr>\n",
       "    <tr>\n",
       "      <th>Cloud3pm Pressure3pm</th>\n",
       "      <td>-0.000000</td>\n",
       "    </tr>\n",
       "    <tr>\n",
       "      <th>Cloud3pm WindSpeed3pm</th>\n",
       "      <td>-0.000000</td>\n",
       "    </tr>\n",
       "    <tr>\n",
       "      <th>Cloud3pm WindDir3pm</th>\n",
       "      <td>0.000000</td>\n",
       "    </tr>\n",
       "    <tr>\n",
       "      <th>Cloud3pm Sunshine</th>\n",
       "      <td>0.000000</td>\n",
       "    </tr>\n",
       "    <tr>\n",
       "      <th>Cloud3pm Rainfall</th>\n",
       "      <td>-0.000000</td>\n",
       "    </tr>\n",
       "    <tr>\n",
       "      <th>Pressure3pm^2</th>\n",
       "      <td>-3.868799</td>\n",
       "    </tr>\n",
       "    <tr>\n",
       "      <th>Pressure3pm WindSpeed3pm</th>\n",
       "      <td>-0.000000</td>\n",
       "    </tr>\n",
       "    <tr>\n",
       "      <th>Pressure3pm WindDir3pm</th>\n",
       "      <td>-0.000000</td>\n",
       "    </tr>\n",
       "    <tr>\n",
       "      <th>Pressure3pm Sunshine</th>\n",
       "      <td>-0.000000</td>\n",
       "    </tr>\n",
       "    <tr>\n",
       "      <th>Pressure3pm Rainfall</th>\n",
       "      <td>-0.000000</td>\n",
       "    </tr>\n",
       "    <tr>\n",
       "      <th>WindSpeed3pm^2</th>\n",
       "      <td>-0.000000</td>\n",
       "    </tr>\n",
       "    <tr>\n",
       "      <th>WindSpeed3pm WindDir3pm</th>\n",
       "      <td>-0.000000</td>\n",
       "    </tr>\n",
       "    <tr>\n",
       "      <th>WindSpeed3pm Sunshine</th>\n",
       "      <td>-0.000000</td>\n",
       "    </tr>\n",
       "    <tr>\n",
       "      <th>WindSpeed3pm Rainfall</th>\n",
       "      <td>-0.000000</td>\n",
       "    </tr>\n",
       "    <tr>\n",
       "      <th>WindDir3pm^2</th>\n",
       "      <td>-0.000000</td>\n",
       "    </tr>\n",
       "    <tr>\n",
       "      <th>WindDir3pm Sunshine</th>\n",
       "      <td>0.000000</td>\n",
       "    </tr>\n",
       "    <tr>\n",
       "      <th>WindDir3pm Rainfall</th>\n",
       "      <td>-0.000000</td>\n",
       "    </tr>\n",
       "    <tr>\n",
       "      <th>Sunshine^2</th>\n",
       "      <td>11.676768</td>\n",
       "    </tr>\n",
       "    <tr>\n",
       "      <th>Sunshine Rainfall</th>\n",
       "      <td>-0.000000</td>\n",
       "    </tr>\n",
       "    <tr>\n",
       "      <th>Rainfall^2</th>\n",
       "      <td>-0.000000</td>\n",
       "    </tr>\n",
       "  </tbody>\n",
       "</table>\n",
       "</div>"
      ],
      "text/plain": [
       "                          Coefficients Lasso model\n",
       "1                                        16.480539\n",
       "Humidity3pm                              -3.131065\n",
       "Cloud3pm                                  2.723063\n",
       "Pressure3pm                              -0.000000\n",
       "WindSpeed3pm                             -2.157586\n",
       "WindDir3pm                                0.000000\n",
       "Sunshine                                  0.000000\n",
       "Rainfall                                 -0.000000\n",
       "Humidity3pm^2                            -0.000000\n",
       "Humidity3pm Cloud3pm                     -0.000000\n",
       "Humidity3pm Pressure3pm                  -0.000000\n",
       "Humidity3pm WindSpeed3pm                 -0.000000\n",
       "Humidity3pm WindDir3pm                   -0.000000\n",
       "Humidity3pm Sunshine                     -0.000000\n",
       "Humidity3pm Rainfall                     -0.000000\n",
       "Cloud3pm^2                                0.000000\n",
       "Cloud3pm Pressure3pm                     -0.000000\n",
       "Cloud3pm WindSpeed3pm                    -0.000000\n",
       "Cloud3pm WindDir3pm                       0.000000\n",
       "Cloud3pm Sunshine                         0.000000\n",
       "Cloud3pm Rainfall                        -0.000000\n",
       "Pressure3pm^2                            -3.868799\n",
       "Pressure3pm WindSpeed3pm                 -0.000000\n",
       "Pressure3pm WindDir3pm                   -0.000000\n",
       "Pressure3pm Sunshine                     -0.000000\n",
       "Pressure3pm Rainfall                     -0.000000\n",
       "WindSpeed3pm^2                           -0.000000\n",
       "WindSpeed3pm WindDir3pm                  -0.000000\n",
       "WindSpeed3pm Sunshine                    -0.000000\n",
       "WindSpeed3pm Rainfall                    -0.000000\n",
       "WindDir3pm^2                             -0.000000\n",
       "WindDir3pm Sunshine                       0.000000\n",
       "WindDir3pm Rainfall                      -0.000000\n",
       "Sunshine^2                               11.676768\n",
       "Sunshine Rainfall                        -0.000000\n",
       "Rainfall^2                               -0.000000"
      ]
     },
     "execution_count": 22,
     "metadata": {},
     "output_type": "execute_result"
    }
   ],
   "source": [
    "# Set up the model\n",
    "lasso_model = Lasso(alpha=0.2, fit_intercept=False)\n",
    "\n",
    "# Use fit\n",
    "lasso_model.fit(X_train_poly, y_train)\n",
    "\n",
    "# Check the score/accuracy\n",
    "print(\"R\\u00b2 Score of the model: \", round(lasso_model.score(X_train_poly, y_train), 3))\n",
    "\n",
    "# Print the coefficients of the linear model\n",
    "model_coeff = pd.DataFrame(lasso_model.coef_.flatten(),\n",
    "                     index=X_poly_features,\n",
    "                     columns=['Coefficients Lasso model'])\n",
    "model_coeff"
   ]
  },
  {
   "cell_type": "markdown",
   "id": "09736396-e3d2-4189-a95d-a33887c61561",
   "metadata": {
    "id": "09736396-e3d2-4189-a95d-a33887c61561"
   },
   "source": [
    "Notice the weights? Most of them were forced to zero, meaning our model will not use the corresponding features for its prediction. The intuition here is that the corresponding features hadn’t provided enough predictive power to be worth considering alongside the other features.\n",
    "\n",
    "Let's keep going with the evaluation of the model:"
   ]
  },
  {
   "cell_type": "code",
   "execution_count": 23,
   "id": "7b295bbe-1f23-4e72-9366-d11da3c02983",
   "metadata": {
    "id": "7b295bbe-1f23-4e72-9366-d11da3c02983"
   },
   "outputs": [
    {
     "name": "stdout",
     "output_type": "stream",
     "text": [
      "MAE test set: 4.07; MAE training set: 4.20;\n",
      "MSE test set: 24.21; MSE training set: 26.06;\n",
      "R² test set: 0.38; R² training set: 0.42;\n"
     ]
    }
   ],
   "source": [
    "# Predict:\n",
    "predictions = lasso_model.predict(X_test_poly)\n",
    "\n",
    "# Compute the MAE, the MSE and the R^2 on the test set\n",
    "mae_lasso = mean_absolute_error(y_test, predictions)\n",
    "mse_lasso = mean_squared_error(y_test, predictions)\n",
    "r2_lasso = r2_score(y_test, predictions)\n",
    "\n",
    "# Compute the MAE, the MSE and the R^2 on the training set\n",
    "predictions_train = lasso_model.predict(X_train_poly)\n",
    "mae_train_lasso = mean_absolute_error(y_train, predictions_train)\n",
    "mse_train_lasso = mean_squared_error(y_train, predictions_train)\n",
    "r2_train_lasso = r2_score(y_train, predictions_train)\n",
    "\n",
    "print(f\"MAE test set: {mae_lasso:0.2f}; MAE training set: {mae_train_lasso:0.2f};\")\n",
    "print(f\"MSE test set: {mse_lasso:0.2f}; MSE training set: {mse_train_lasso:0.2f};\")\n",
    "print(f\"R\\u00b2 test set: {r2_lasso:0.2f}; R\\u00b2 training set: {r2_train_lasso:0.2f};\" )"
   ]
  },
  {
   "cell_type": "markdown",
   "id": "8a5aa6c3-d8a1-4b41-aff2-a526d4af5442",
   "metadata": {
    "id": "8a5aa6c3-d8a1-4b41-aff2-a526d4af5442"
   },
   "source": [
    "As a result of Lasso regularization, the MAE and MSE on the test set are increasing. Let's pursue our exploration with a Ridge regularization:"
   ]
  },
  {
   "cell_type": "markdown",
   "id": "2a84e5c3-1b82-4d58-8e2b-156eded59ab5",
   "metadata": {
    "id": "2a84e5c3-1b82-4d58-8e2b-156eded59ab5"
   },
   "source": [
    "#### Ridge\n",
    "\n",
    "We can use the sklearn `Ridge` module to implement a Ridge regularization ([Documentation](https://scikit-learn.org/stable/modules/generated/sklearn.linear_model.Ridge.html)). Here is the import line:\n",
    "\n",
    "```python\n",
    "from sklearn.linear_model import Ridge\n",
    "```\n",
    "\n",
    "We proceed as before:"
   ]
  },
  {
   "cell_type": "code",
   "execution_count": 24,
   "id": "5035aba2-dddc-442d-9022-4c891ab71ba4",
   "metadata": {
    "id": "5035aba2-dddc-442d-9022-4c891ab71ba4"
   },
   "outputs": [
    {
     "name": "stdout",
     "output_type": "stream",
     "text": [
      "R² Score of the model:  0.66\n"
     ]
    },
    {
     "data": {
      "text/html": [
       "<div>\n",
       "<style scoped>\n",
       "    .dataframe tbody tr th:only-of-type {\n",
       "        vertical-align: middle;\n",
       "    }\n",
       "\n",
       "    .dataframe tbody tr th {\n",
       "        vertical-align: top;\n",
       "    }\n",
       "\n",
       "    .dataframe thead th {\n",
       "        text-align: right;\n",
       "    }\n",
       "</style>\n",
       "<table border=\"1\" class=\"dataframe\">\n",
       "  <thead>\n",
       "    <tr style=\"text-align: right;\">\n",
       "      <th></th>\n",
       "      <th>Coefficients Ridge model</th>\n",
       "      <th>Coefficients Lasso model</th>\n",
       "      <th>Coefficients polynomial model</th>\n",
       "    </tr>\n",
       "  </thead>\n",
       "  <tbody>\n",
       "    <tr>\n",
       "      <th>1</th>\n",
       "      <td>21.167430</td>\n",
       "      <td>16.480539</td>\n",
       "      <td>70.818534</td>\n",
       "    </tr>\n",
       "    <tr>\n",
       "      <th>Humidity3pm</th>\n",
       "      <td>-3.083184</td>\n",
       "      <td>-3.131065</td>\n",
       "      <td>-34.497306</td>\n",
       "    </tr>\n",
       "    <tr>\n",
       "      <th>Cloud3pm</th>\n",
       "      <td>4.714199</td>\n",
       "      <td>2.723063</td>\n",
       "      <td>-14.110065</td>\n",
       "    </tr>\n",
       "    <tr>\n",
       "      <th>Pressure3pm</th>\n",
       "      <td>-1.346583</td>\n",
       "      <td>-0.000000</td>\n",
       "      <td>-58.905587</td>\n",
       "    </tr>\n",
       "    <tr>\n",
       "      <th>WindSpeed3pm</th>\n",
       "      <td>-3.411386</td>\n",
       "      <td>-2.157586</td>\n",
       "      <td>-44.953044</td>\n",
       "    </tr>\n",
       "    <tr>\n",
       "      <th>WindDir3pm</th>\n",
       "      <td>2.601451</td>\n",
       "      <td>0.000000</td>\n",
       "      <td>-16.625414</td>\n",
       "    </tr>\n",
       "    <tr>\n",
       "      <th>Sunshine</th>\n",
       "      <td>8.691005</td>\n",
       "      <td>0.000000</td>\n",
       "      <td>-18.112180</td>\n",
       "    </tr>\n",
       "    <tr>\n",
       "      <th>Rainfall</th>\n",
       "      <td>0.266296</td>\n",
       "      <td>-0.000000</td>\n",
       "      <td>-2.382792</td>\n",
       "    </tr>\n",
       "    <tr>\n",
       "      <th>Humidity3pm^2</th>\n",
       "      <td>0.421859</td>\n",
       "      <td>-0.000000</td>\n",
       "      <td>5.297209</td>\n",
       "    </tr>\n",
       "    <tr>\n",
       "      <th>Humidity3pm Cloud3pm</th>\n",
       "      <td>0.046893</td>\n",
       "      <td>-0.000000</td>\n",
       "      <td>3.811526</td>\n",
       "    </tr>\n",
       "    <tr>\n",
       "      <th>Humidity3pm Pressure3pm</th>\n",
       "      <td>-1.658249</td>\n",
       "      <td>-0.000000</td>\n",
       "      <td>28.136987</td>\n",
       "    </tr>\n",
       "    <tr>\n",
       "      <th>Humidity3pm WindSpeed3pm</th>\n",
       "      <td>-4.754987</td>\n",
       "      <td>-0.000000</td>\n",
       "      <td>12.537486</td>\n",
       "    </tr>\n",
       "    <tr>\n",
       "      <th>Humidity3pm WindDir3pm</th>\n",
       "      <td>-7.051185</td>\n",
       "      <td>-0.000000</td>\n",
       "      <td>-8.755339</td>\n",
       "    </tr>\n",
       "    <tr>\n",
       "      <th>Humidity3pm Sunshine</th>\n",
       "      <td>-8.350637</td>\n",
       "      <td>-0.000000</td>\n",
       "      <td>-7.294708</td>\n",
       "    </tr>\n",
       "    <tr>\n",
       "      <th>Humidity3pm Rainfall</th>\n",
       "      <td>1.697219</td>\n",
       "      <td>-0.000000</td>\n",
       "      <td>8.673520</td>\n",
       "    </tr>\n",
       "    <tr>\n",
       "      <th>Cloud3pm^2</th>\n",
       "      <td>-0.601082</td>\n",
       "      <td>0.000000</td>\n",
       "      <td>-1.263658</td>\n",
       "    </tr>\n",
       "    <tr>\n",
       "      <th>Cloud3pm Pressure3pm</th>\n",
       "      <td>-0.183609</td>\n",
       "      <td>-0.000000</td>\n",
       "      <td>6.184263</td>\n",
       "    </tr>\n",
       "    <tr>\n",
       "      <th>Cloud3pm WindSpeed3pm</th>\n",
       "      <td>-0.052566</td>\n",
       "      <td>-0.000000</td>\n",
       "      <td>11.543304</td>\n",
       "    </tr>\n",
       "    <tr>\n",
       "      <th>Cloud3pm WindDir3pm</th>\n",
       "      <td>-0.775338</td>\n",
       "      <td>0.000000</td>\n",
       "      <td>1.151535</td>\n",
       "    </tr>\n",
       "    <tr>\n",
       "      <th>Cloud3pm Sunshine</th>\n",
       "      <td>0.226056</td>\n",
       "      <td>0.000000</td>\n",
       "      <td>14.325605</td>\n",
       "    </tr>\n",
       "    <tr>\n",
       "      <th>Cloud3pm Rainfall</th>\n",
       "      <td>1.919206</td>\n",
       "      <td>-0.000000</td>\n",
       "      <td>11.561408</td>\n",
       "    </tr>\n",
       "    <tr>\n",
       "      <th>Pressure3pm^2</th>\n",
       "      <td>-5.906742</td>\n",
       "      <td>-3.868799</td>\n",
       "      <td>10.339247</td>\n",
       "    </tr>\n",
       "    <tr>\n",
       "      <th>Pressure3pm WindSpeed3pm</th>\n",
       "      <td>-4.299129</td>\n",
       "      <td>-0.000000</td>\n",
       "      <td>16.659560</td>\n",
       "    </tr>\n",
       "    <tr>\n",
       "      <th>Pressure3pm WindDir3pm</th>\n",
       "      <td>-2.454472</td>\n",
       "      <td>-0.000000</td>\n",
       "      <td>18.404142</td>\n",
       "    </tr>\n",
       "    <tr>\n",
       "      <th>Pressure3pm Sunshine</th>\n",
       "      <td>-7.136742</td>\n",
       "      <td>-0.000000</td>\n",
       "      <td>-1.986992</td>\n",
       "    </tr>\n",
       "    <tr>\n",
       "      <th>Pressure3pm Rainfall</th>\n",
       "      <td>0.211044</td>\n",
       "      <td>-0.000000</td>\n",
       "      <td>-0.245664</td>\n",
       "    </tr>\n",
       "    <tr>\n",
       "      <th>WindSpeed3pm^2</th>\n",
       "      <td>-1.303169</td>\n",
       "      <td>-0.000000</td>\n",
       "      <td>5.415717</td>\n",
       "    </tr>\n",
       "    <tr>\n",
       "      <th>WindSpeed3pm WindDir3pm</th>\n",
       "      <td>-4.157581</td>\n",
       "      <td>-0.000000</td>\n",
       "      <td>0.445015</td>\n",
       "    </tr>\n",
       "    <tr>\n",
       "      <th>WindSpeed3pm Sunshine</th>\n",
       "      <td>-1.053097</td>\n",
       "      <td>-0.000000</td>\n",
       "      <td>15.305645</td>\n",
       "    </tr>\n",
       "    <tr>\n",
       "      <th>WindSpeed3pm Rainfall</th>\n",
       "      <td>-1.131560</td>\n",
       "      <td>-0.000000</td>\n",
       "      <td>-19.222073</td>\n",
       "    </tr>\n",
       "    <tr>\n",
       "      <th>WindDir3pm^2</th>\n",
       "      <td>0.828722</td>\n",
       "      <td>-0.000000</td>\n",
       "      <td>4.630299</td>\n",
       "    </tr>\n",
       "    <tr>\n",
       "      <th>WindDir3pm Sunshine</th>\n",
       "      <td>0.343187</td>\n",
       "      <td>0.000000</td>\n",
       "      <td>0.635540</td>\n",
       "    </tr>\n",
       "    <tr>\n",
       "      <th>WindDir3pm Rainfall</th>\n",
       "      <td>-0.973821</td>\n",
       "      <td>-0.000000</td>\n",
       "      <td>20.616689</td>\n",
       "    </tr>\n",
       "    <tr>\n",
       "      <th>Sunshine^2</th>\n",
       "      <td>7.080499</td>\n",
       "      <td>11.676768</td>\n",
       "      <td>13.589054</td>\n",
       "    </tr>\n",
       "    <tr>\n",
       "      <th>Sunshine Rainfall</th>\n",
       "      <td>-2.841213</td>\n",
       "      <td>-0.000000</td>\n",
       "      <td>-5.688230</td>\n",
       "    </tr>\n",
       "    <tr>\n",
       "      <th>Rainfall^2</th>\n",
       "      <td>-2.574652</td>\n",
       "      <td>-0.000000</td>\n",
       "      <td>-22.396915</td>\n",
       "    </tr>\n",
       "  </tbody>\n",
       "</table>\n",
       "</div>"
      ],
      "text/plain": [
       "                          Coefficients Ridge model  Coefficients Lasso model  \\\n",
       "1                                        21.167430                 16.480539   \n",
       "Humidity3pm                              -3.083184                 -3.131065   \n",
       "Cloud3pm                                  4.714199                  2.723063   \n",
       "Pressure3pm                              -1.346583                 -0.000000   \n",
       "WindSpeed3pm                             -3.411386                 -2.157586   \n",
       "WindDir3pm                                2.601451                  0.000000   \n",
       "Sunshine                                  8.691005                  0.000000   \n",
       "Rainfall                                  0.266296                 -0.000000   \n",
       "Humidity3pm^2                             0.421859                 -0.000000   \n",
       "Humidity3pm Cloud3pm                      0.046893                 -0.000000   \n",
       "Humidity3pm Pressure3pm                  -1.658249                 -0.000000   \n",
       "Humidity3pm WindSpeed3pm                 -4.754987                 -0.000000   \n",
       "Humidity3pm WindDir3pm                   -7.051185                 -0.000000   \n",
       "Humidity3pm Sunshine                     -8.350637                 -0.000000   \n",
       "Humidity3pm Rainfall                      1.697219                 -0.000000   \n",
       "Cloud3pm^2                               -0.601082                  0.000000   \n",
       "Cloud3pm Pressure3pm                     -0.183609                 -0.000000   \n",
       "Cloud3pm WindSpeed3pm                    -0.052566                 -0.000000   \n",
       "Cloud3pm WindDir3pm                      -0.775338                  0.000000   \n",
       "Cloud3pm Sunshine                         0.226056                  0.000000   \n",
       "Cloud3pm Rainfall                         1.919206                 -0.000000   \n",
       "Pressure3pm^2                            -5.906742                 -3.868799   \n",
       "Pressure3pm WindSpeed3pm                 -4.299129                 -0.000000   \n",
       "Pressure3pm WindDir3pm                   -2.454472                 -0.000000   \n",
       "Pressure3pm Sunshine                     -7.136742                 -0.000000   \n",
       "Pressure3pm Rainfall                      0.211044                 -0.000000   \n",
       "WindSpeed3pm^2                           -1.303169                 -0.000000   \n",
       "WindSpeed3pm WindDir3pm                  -4.157581                 -0.000000   \n",
       "WindSpeed3pm Sunshine                    -1.053097                 -0.000000   \n",
       "WindSpeed3pm Rainfall                    -1.131560                 -0.000000   \n",
       "WindDir3pm^2                              0.828722                 -0.000000   \n",
       "WindDir3pm Sunshine                       0.343187                  0.000000   \n",
       "WindDir3pm Rainfall                      -0.973821                 -0.000000   \n",
       "Sunshine^2                                7.080499                 11.676768   \n",
       "Sunshine Rainfall                        -2.841213                 -0.000000   \n",
       "Rainfall^2                               -2.574652                 -0.000000   \n",
       "\n",
       "                          Coefficients polynomial model  \n",
       "1                                             70.818534  \n",
       "Humidity3pm                                  -34.497306  \n",
       "Cloud3pm                                     -14.110065  \n",
       "Pressure3pm                                  -58.905587  \n",
       "WindSpeed3pm                                 -44.953044  \n",
       "WindDir3pm                                   -16.625414  \n",
       "Sunshine                                     -18.112180  \n",
       "Rainfall                                      -2.382792  \n",
       "Humidity3pm^2                                  5.297209  \n",
       "Humidity3pm Cloud3pm                           3.811526  \n",
       "Humidity3pm Pressure3pm                       28.136987  \n",
       "Humidity3pm WindSpeed3pm                      12.537486  \n",
       "Humidity3pm WindDir3pm                        -8.755339  \n",
       "Humidity3pm Sunshine                          -7.294708  \n",
       "Humidity3pm Rainfall                           8.673520  \n",
       "Cloud3pm^2                                    -1.263658  \n",
       "Cloud3pm Pressure3pm                           6.184263  \n",
       "Cloud3pm WindSpeed3pm                         11.543304  \n",
       "Cloud3pm WindDir3pm                            1.151535  \n",
       "Cloud3pm Sunshine                             14.325605  \n",
       "Cloud3pm Rainfall                             11.561408  \n",
       "Pressure3pm^2                                 10.339247  \n",
       "Pressure3pm WindSpeed3pm                      16.659560  \n",
       "Pressure3pm WindDir3pm                        18.404142  \n",
       "Pressure3pm Sunshine                          -1.986992  \n",
       "Pressure3pm Rainfall                          -0.245664  \n",
       "WindSpeed3pm^2                                 5.415717  \n",
       "WindSpeed3pm WindDir3pm                        0.445015  \n",
       "WindSpeed3pm Sunshine                         15.305645  \n",
       "WindSpeed3pm Rainfall                        -19.222073  \n",
       "WindDir3pm^2                                   4.630299  \n",
       "WindDir3pm Sunshine                            0.635540  \n",
       "WindDir3pm Rainfall                           20.616689  \n",
       "Sunshine^2                                    13.589054  \n",
       "Sunshine Rainfall                             -5.688230  \n",
       "Rainfall^2                                   -22.396915  "
      ]
     },
     "execution_count": 24,
     "metadata": {},
     "output_type": "execute_result"
    }
   ],
   "source": [
    "# Set up the model\n",
    "ridge_model = Ridge(alpha=1.0, fit_intercept=False)\n",
    "\n",
    "# Use fit\n",
    "ridge_model.fit(X_train_poly, y_train)\n",
    "\n",
    "# Check the score/accuracy\n",
    "print(\"R\\u00b2 Score of the model: \", round(ridge_model.score(X_train_poly, y_train), 3))\n",
    "\n",
    "# Print the coefficients of the linear model\n",
    "model_coeff = pd.DataFrame(ridge_model.coef_.flatten(),\n",
    "                     index=X_poly_features,\n",
    "                     columns=['Coefficients Ridge model'])\n",
    "model_coeff['Coefficients Lasso model']=lasso_model.coef_.flatten()\n",
    "model_coeff['Coefficients polynomial model']=model_poly.coef_.flatten()\n",
    "model_coeff"
   ]
  },
  {
   "cell_type": "markdown",
   "id": "71c80654-6691-489d-8ad2-c953a82b259d",
   "metadata": {
    "id": "71c80654-6691-489d-8ad2-c953a82b259d"
   },
   "source": [
    "Note how the coefficients with the Ridge regularization were shrinked, but not forced to zero as in the Lasso regularization.\n",
    "\n",
    "Let's evaluate our new model."
   ]
  },
  {
   "cell_type": "code",
   "execution_count": 25,
   "id": "8cf0ae93-d287-4fe8-b8c1-726906cb2478",
   "metadata": {
    "id": "8cf0ae93-d287-4fe8-b8c1-726906cb2478"
   },
   "outputs": [
    {
     "name": "stdout",
     "output_type": "stream",
     "text": [
      "MAE test set: 3.00; MAE training set: 3.19;\n",
      "MSE test set: 14.00; MSE training set: 15.38;\n",
      "R² test set: 0.64; R² training set: 0.66;\n"
     ]
    }
   ],
   "source": [
    "# Predict:\n",
    "predictions = ridge_model.predict(X_test_poly)\n",
    "\n",
    "# Compute the MAE, the MSE and the R^2 on the test set\n",
    "mae_ridge = mean_absolute_error(y_test, predictions)\n",
    "mse_ridge = mean_squared_error(y_test, predictions)\n",
    "r2_ridge = r2_score(y_test, predictions)\n",
    "\n",
    "# Compute the MAE, the MSE and the R^2 on the training set\n",
    "predictions_train = ridge_model.predict(X_train_poly)\n",
    "mae_train_ridge = mean_absolute_error(y_train, predictions_train)\n",
    "mse_train_ridge = mean_squared_error(y_train, predictions_train)\n",
    "r2_train_ridge = r2_score(y_train, predictions_train)\n",
    "\n",
    "print(f\"MAE test set: {mae_ridge:0.2f}; MAE training set: {mae_train_ridge:0.2f};\")\n",
    "print(f\"MSE test set: {mse_ridge:0.2f}; MSE training set: {mse_train_ridge:0.2f};\")\n",
    "print(f\"R\\u00b2 test set: {r2_ridge:0.2f}; R\\u00b2 training set: {r2_train_ridge:0.2f};\" )"
   ]
  },
  {
   "cell_type": "markdown",
   "id": "1360b2cf-eef3-4181-89b4-cea2eacf331a",
   "metadata": {
    "id": "1360b2cf-eef3-4181-89b4-cea2eacf331a"
   },
   "source": [
    "Let's visualize the MAE and MSE on the test data obtained in our different models:"
   ]
  },
  {
   "cell_type": "code",
   "execution_count": 26,
   "id": "655d50d2-160d-4817-a61b-683685573552",
   "metadata": {
    "id": "655d50d2-160d-4817-a61b-683685573552"
   },
   "outputs": [
    {
     "data": {
      "text/html": [
       "<div>\n",
       "<style scoped>\n",
       "    .dataframe tbody tr th:only-of-type {\n",
       "        vertical-align: middle;\n",
       "    }\n",
       "\n",
       "    .dataframe tbody tr th {\n",
       "        vertical-align: top;\n",
       "    }\n",
       "\n",
       "    .dataframe thead th {\n",
       "        text-align: right;\n",
       "    }\n",
       "</style>\n",
       "<table border=\"1\" class=\"dataframe\">\n",
       "  <thead>\n",
       "    <tr style=\"text-align: right;\">\n",
       "      <th></th>\n",
       "      <th>Polynomial model</th>\n",
       "      <th>LASSO</th>\n",
       "      <th>Ridge</th>\n",
       "    </tr>\n",
       "  </thead>\n",
       "  <tbody>\n",
       "    <tr>\n",
       "      <th>MAE</th>\n",
       "      <td>2.943465</td>\n",
       "      <td>4.070092</td>\n",
       "      <td>2.997895</td>\n",
       "    </tr>\n",
       "    <tr>\n",
       "      <th>MSE</th>\n",
       "      <td>13.838756</td>\n",
       "      <td>24.208311</td>\n",
       "      <td>13.999620</td>\n",
       "    </tr>\n",
       "  </tbody>\n",
       "</table>\n",
       "</div>"
      ],
      "text/plain": [
       "     Polynomial model      LASSO      Ridge\n",
       "MAE          2.943465   4.070092   2.997895\n",
       "MSE         13.838756  24.208311  13.999620"
      ]
     },
     "execution_count": 26,
     "metadata": {},
     "output_type": "execute_result"
    }
   ],
   "source": [
    "model_comparison = pd.DataFrame([mae, mse], index=['MAE', 'MSE'], columns=['Polynomial model'])\n",
    "model_comparison['LASSO']=[mae_lasso, mse_lasso]\n",
    "model_comparison['Ridge']=[mae_ridge, mse_ridge]\n",
    "model_comparison"
   ]
  },
  {
   "cell_type": "markdown",
   "id": "99ec3f28-58c3-4864-87aa-ea7061124289",
   "metadata": {
    "id": "99ec3f28-58c3-4864-87aa-ea7061124289"
   },
   "source": [
    "The polynomial and Ridge models seem to perform similarly.\n",
    "\n",
    "However, note that the regularization parameter $\\alpha$ has a large impact on MAE and MSE in the test data. Moreover, the relationship between the test data MSE and $\\alpha$ is complicated and non-monotonic. Hence, one popular method for choosing the regularization parameter is cross-validation, which we will implement below."
   ]
  },
  {
   "cell_type": "markdown",
   "id": "c30e8907-031c-442e-b3ab-30dd7bda0fa0",
   "metadata": {
    "id": "c30e8907-031c-442e-b3ab-30dd7bda0fa0"
   },
   "source": [
    "### K-fold cross validation\n",
    "\n",
    "Roughly speaking, cross-validation splits the training dataset into many training/testing subsets, then chooses the regularization parameter value that minimizes the average MSE.\n",
    "\n",
    "More precisely, k-fold cross-validation does the following:\n",
    "\n",
    "1. Partition the dataset randomly into k subsets/”folds”.  \n",
    "2. Compute $MSE_j(\\alpha)=$ mean squared error in j-th subset when using the j-th subset as test data, and other k-1 as training data.  \n",
    "3. Minimize average (across folds) MSE $\\min_\\alpha \\frac{1}{k}\\sum_{j=1}^k MSE_j(\\alpha)$.\n",
    "\n",
    "<img src='https://scikit-learn.org/stable/_images/grid_search_cross_validation.png' width=\"500\">\n",
    "\n",
    "You can find a more detailed description of cross-validation [here](https://scikit-learn.org/stable/modules/cross_validation.html).\n",
    "\n",
    "We will implement cross validation in addition of our previous polynomial linear regression with ridge regularization. We are using the sklearn `RidgeCV` module ([Documentation](https://scikit-learn.org/stable/modules/generated/sklearn.linear_model.RidgeCV.html)). Here is the import line:\n",
    "\n",
    "```python\n",
    "from sklearn.linear_model import RidgeCV\n",
    "```\n",
    "\n",
    "In case, a similar module exists for Lasso regularization with cross-validation, namely `LassoCV` ([Documentation](https://scikit-learn.org/stable/modules/generated/sklearn.linear_model.LassoCV.html)).\n",
    "\n",
    "With the argument `cv`, we can specify the number of folds:"
   ]
  },
  {
   "cell_type": "code",
   "execution_count": 27,
   "id": "13478841-33dc-4f1f-96d4-dc47a1b858af",
   "metadata": {
    "id": "13478841-33dc-4f1f-96d4-dc47a1b858af"
   },
   "outputs": [
    {
     "name": "stdout",
     "output_type": "stream",
     "text": [
      "R² Score of the model:  0.701\n"
     ]
    },
    {
     "data": {
      "text/html": [
       "<div>\n",
       "<style scoped>\n",
       "    .dataframe tbody tr th:only-of-type {\n",
       "        vertical-align: middle;\n",
       "    }\n",
       "\n",
       "    .dataframe tbody tr th {\n",
       "        vertical-align: top;\n",
       "    }\n",
       "\n",
       "    .dataframe thead th {\n",
       "        text-align: right;\n",
       "    }\n",
       "</style>\n",
       "<table border=\"1\" class=\"dataframe\">\n",
       "  <thead>\n",
       "    <tr style=\"text-align: right;\">\n",
       "      <th></th>\n",
       "      <th>Coefficients Ridge model</th>\n",
       "      <th>Coefficients Lasso model</th>\n",
       "      <th>Coefficients polynomial model</th>\n",
       "      <th>Coefficients Ridge-CV model</th>\n",
       "    </tr>\n",
       "  </thead>\n",
       "  <tbody>\n",
       "    <tr>\n",
       "      <th>1</th>\n",
       "      <td>21.167430</td>\n",
       "      <td>16.480539</td>\n",
       "      <td>70.818534</td>\n",
       "      <td>29.980247</td>\n",
       "    </tr>\n",
       "    <tr>\n",
       "      <th>Humidity3pm</th>\n",
       "      <td>-3.083184</td>\n",
       "      <td>-3.131065</td>\n",
       "      <td>-34.497306</td>\n",
       "      <td>-8.429711</td>\n",
       "    </tr>\n",
       "    <tr>\n",
       "      <th>Cloud3pm</th>\n",
       "      <td>4.714199</td>\n",
       "      <td>2.723063</td>\n",
       "      <td>-14.110065</td>\n",
       "      <td>2.558045</td>\n",
       "    </tr>\n",
       "    <tr>\n",
       "      <th>Pressure3pm</th>\n",
       "      <td>-1.346583</td>\n",
       "      <td>-0.000000</td>\n",
       "      <td>-58.905587</td>\n",
       "      <td>-8.230082</td>\n",
       "    </tr>\n",
       "    <tr>\n",
       "      <th>WindSpeed3pm</th>\n",
       "      <td>-3.411386</td>\n",
       "      <td>-2.157586</td>\n",
       "      <td>-44.953044</td>\n",
       "      <td>-13.383001</td>\n",
       "    </tr>\n",
       "    <tr>\n",
       "      <th>WindDir3pm</th>\n",
       "      <td>2.601451</td>\n",
       "      <td>0.000000</td>\n",
       "      <td>-16.625414</td>\n",
       "      <td>-0.909233</td>\n",
       "    </tr>\n",
       "    <tr>\n",
       "      <th>Sunshine</th>\n",
       "      <td>8.691005</td>\n",
       "      <td>0.000000</td>\n",
       "      <td>-18.112180</td>\n",
       "      <td>11.709118</td>\n",
       "    </tr>\n",
       "    <tr>\n",
       "      <th>Rainfall</th>\n",
       "      <td>0.266296</td>\n",
       "      <td>-0.000000</td>\n",
       "      <td>-2.382792</td>\n",
       "      <td>0.906458</td>\n",
       "    </tr>\n",
       "    <tr>\n",
       "      <th>Humidity3pm^2</th>\n",
       "      <td>0.421859</td>\n",
       "      <td>-0.000000</td>\n",
       "      <td>5.297209</td>\n",
       "      <td>2.632328</td>\n",
       "    </tr>\n",
       "    <tr>\n",
       "      <th>Humidity3pm Cloud3pm</th>\n",
       "      <td>0.046893</td>\n",
       "      <td>-0.000000</td>\n",
       "      <td>3.811526</td>\n",
       "      <td>0.296088</td>\n",
       "    </tr>\n",
       "    <tr>\n",
       "      <th>Humidity3pm Pressure3pm</th>\n",
       "      <td>-1.658249</td>\n",
       "      <td>-0.000000</td>\n",
       "      <td>28.136987</td>\n",
       "      <td>5.541463</td>\n",
       "    </tr>\n",
       "    <tr>\n",
       "      <th>Humidity3pm WindSpeed3pm</th>\n",
       "      <td>-4.754987</td>\n",
       "      <td>-0.000000</td>\n",
       "      <td>12.537486</td>\n",
       "      <td>-1.600918</td>\n",
       "    </tr>\n",
       "    <tr>\n",
       "      <th>Humidity3pm WindDir3pm</th>\n",
       "      <td>-7.051185</td>\n",
       "      <td>-0.000000</td>\n",
       "      <td>-8.755339</td>\n",
       "      <td>-10.940408</td>\n",
       "    </tr>\n",
       "    <tr>\n",
       "      <th>Humidity3pm Sunshine</th>\n",
       "      <td>-8.350637</td>\n",
       "      <td>-0.000000</td>\n",
       "      <td>-7.294708</td>\n",
       "      <td>-13.265509</td>\n",
       "    </tr>\n",
       "    <tr>\n",
       "      <th>Humidity3pm Rainfall</th>\n",
       "      <td>1.697219</td>\n",
       "      <td>-0.000000</td>\n",
       "      <td>8.673520</td>\n",
       "      <td>3.984783</td>\n",
       "    </tr>\n",
       "    <tr>\n",
       "      <th>Cloud3pm^2</th>\n",
       "      <td>-0.601082</td>\n",
       "      <td>0.000000</td>\n",
       "      <td>-1.263658</td>\n",
       "      <td>-3.654692</td>\n",
       "    </tr>\n",
       "    <tr>\n",
       "      <th>Cloud3pm Pressure3pm</th>\n",
       "      <td>-0.183609</td>\n",
       "      <td>-0.000000</td>\n",
       "      <td>6.184263</td>\n",
       "      <td>-0.972508</td>\n",
       "    </tr>\n",
       "    <tr>\n",
       "      <th>Cloud3pm WindSpeed3pm</th>\n",
       "      <td>-0.052566</td>\n",
       "      <td>-0.000000</td>\n",
       "      <td>11.543304</td>\n",
       "      <td>4.504809</td>\n",
       "    </tr>\n",
       "    <tr>\n",
       "      <th>Cloud3pm WindDir3pm</th>\n",
       "      <td>-0.775338</td>\n",
       "      <td>0.000000</td>\n",
       "      <td>1.151535</td>\n",
       "      <td>-1.389989</td>\n",
       "    </tr>\n",
       "    <tr>\n",
       "      <th>Cloud3pm Sunshine</th>\n",
       "      <td>0.226056</td>\n",
       "      <td>0.000000</td>\n",
       "      <td>14.325605</td>\n",
       "      <td>5.319233</td>\n",
       "    </tr>\n",
       "    <tr>\n",
       "      <th>Cloud3pm Rainfall</th>\n",
       "      <td>1.919206</td>\n",
       "      <td>-0.000000</td>\n",
       "      <td>11.561408</td>\n",
       "      <td>8.245063</td>\n",
       "    </tr>\n",
       "    <tr>\n",
       "      <th>Pressure3pm^2</th>\n",
       "      <td>-5.906742</td>\n",
       "      <td>-3.868799</td>\n",
       "      <td>10.339247</td>\n",
       "      <td>-4.601638</td>\n",
       "    </tr>\n",
       "    <tr>\n",
       "      <th>Pressure3pm WindSpeed3pm</th>\n",
       "      <td>-4.299129</td>\n",
       "      <td>-0.000000</td>\n",
       "      <td>16.659560</td>\n",
       "      <td>0.716887</td>\n",
       "    </tr>\n",
       "    <tr>\n",
       "      <th>Pressure3pm WindDir3pm</th>\n",
       "      <td>-2.454472</td>\n",
       "      <td>-0.000000</td>\n",
       "      <td>18.404142</td>\n",
       "      <td>4.675586</td>\n",
       "    </tr>\n",
       "    <tr>\n",
       "      <th>Pressure3pm Sunshine</th>\n",
       "      <td>-7.136742</td>\n",
       "      <td>-0.000000</td>\n",
       "      <td>-1.986992</td>\n",
       "      <td>-17.329171</td>\n",
       "    </tr>\n",
       "    <tr>\n",
       "      <th>Pressure3pm Rainfall</th>\n",
       "      <td>0.211044</td>\n",
       "      <td>-0.000000</td>\n",
       "      <td>-0.245664</td>\n",
       "      <td>-0.476549</td>\n",
       "    </tr>\n",
       "    <tr>\n",
       "      <th>WindSpeed3pm^2</th>\n",
       "      <td>-1.303169</td>\n",
       "      <td>-0.000000</td>\n",
       "      <td>5.415717</td>\n",
       "      <td>0.202900</td>\n",
       "    </tr>\n",
       "    <tr>\n",
       "      <th>WindSpeed3pm WindDir3pm</th>\n",
       "      <td>-4.157581</td>\n",
       "      <td>-0.000000</td>\n",
       "      <td>0.445015</td>\n",
       "      <td>-3.559479</td>\n",
       "    </tr>\n",
       "    <tr>\n",
       "      <th>WindSpeed3pm Sunshine</th>\n",
       "      <td>-1.053097</td>\n",
       "      <td>-0.000000</td>\n",
       "      <td>15.305645</td>\n",
       "      <td>1.017390</td>\n",
       "    </tr>\n",
       "    <tr>\n",
       "      <th>WindSpeed3pm Rainfall</th>\n",
       "      <td>-1.131560</td>\n",
       "      <td>-0.000000</td>\n",
       "      <td>-19.222073</td>\n",
       "      <td>-4.157175</td>\n",
       "    </tr>\n",
       "    <tr>\n",
       "      <th>WindDir3pm^2</th>\n",
       "      <td>0.828722</td>\n",
       "      <td>-0.000000</td>\n",
       "      <td>4.630299</td>\n",
       "      <td>2.909522</td>\n",
       "    </tr>\n",
       "    <tr>\n",
       "      <th>WindDir3pm Sunshine</th>\n",
       "      <td>0.343187</td>\n",
       "      <td>0.000000</td>\n",
       "      <td>0.635540</td>\n",
       "      <td>-3.321442</td>\n",
       "    </tr>\n",
       "    <tr>\n",
       "      <th>WindDir3pm Rainfall</th>\n",
       "      <td>-0.973821</td>\n",
       "      <td>-0.000000</td>\n",
       "      <td>20.616689</td>\n",
       "      <td>4.404557</td>\n",
       "    </tr>\n",
       "    <tr>\n",
       "      <th>Sunshine^2</th>\n",
       "      <td>7.080499</td>\n",
       "      <td>11.676768</td>\n",
       "      <td>13.589054</td>\n",
       "      <td>6.678826</td>\n",
       "    </tr>\n",
       "    <tr>\n",
       "      <th>Sunshine Rainfall</th>\n",
       "      <td>-2.841213</td>\n",
       "      <td>-0.000000</td>\n",
       "      <td>-5.688230</td>\n",
       "      <td>-6.199071</td>\n",
       "    </tr>\n",
       "    <tr>\n",
       "      <th>Rainfall^2</th>\n",
       "      <td>-2.574652</td>\n",
       "      <td>-0.000000</td>\n",
       "      <td>-22.396915</td>\n",
       "      <td>-11.713438</td>\n",
       "    </tr>\n",
       "  </tbody>\n",
       "</table>\n",
       "</div>"
      ],
      "text/plain": [
       "                          Coefficients Ridge model  Coefficients Lasso model  \\\n",
       "1                                        21.167430                 16.480539   \n",
       "Humidity3pm                              -3.083184                 -3.131065   \n",
       "Cloud3pm                                  4.714199                  2.723063   \n",
       "Pressure3pm                              -1.346583                 -0.000000   \n",
       "WindSpeed3pm                             -3.411386                 -2.157586   \n",
       "WindDir3pm                                2.601451                  0.000000   \n",
       "Sunshine                                  8.691005                  0.000000   \n",
       "Rainfall                                  0.266296                 -0.000000   \n",
       "Humidity3pm^2                             0.421859                 -0.000000   \n",
       "Humidity3pm Cloud3pm                      0.046893                 -0.000000   \n",
       "Humidity3pm Pressure3pm                  -1.658249                 -0.000000   \n",
       "Humidity3pm WindSpeed3pm                 -4.754987                 -0.000000   \n",
       "Humidity3pm WindDir3pm                   -7.051185                 -0.000000   \n",
       "Humidity3pm Sunshine                     -8.350637                 -0.000000   \n",
       "Humidity3pm Rainfall                      1.697219                 -0.000000   \n",
       "Cloud3pm^2                               -0.601082                  0.000000   \n",
       "Cloud3pm Pressure3pm                     -0.183609                 -0.000000   \n",
       "Cloud3pm WindSpeed3pm                    -0.052566                 -0.000000   \n",
       "Cloud3pm WindDir3pm                      -0.775338                  0.000000   \n",
       "Cloud3pm Sunshine                         0.226056                  0.000000   \n",
       "Cloud3pm Rainfall                         1.919206                 -0.000000   \n",
       "Pressure3pm^2                            -5.906742                 -3.868799   \n",
       "Pressure3pm WindSpeed3pm                 -4.299129                 -0.000000   \n",
       "Pressure3pm WindDir3pm                   -2.454472                 -0.000000   \n",
       "Pressure3pm Sunshine                     -7.136742                 -0.000000   \n",
       "Pressure3pm Rainfall                      0.211044                 -0.000000   \n",
       "WindSpeed3pm^2                           -1.303169                 -0.000000   \n",
       "WindSpeed3pm WindDir3pm                  -4.157581                 -0.000000   \n",
       "WindSpeed3pm Sunshine                    -1.053097                 -0.000000   \n",
       "WindSpeed3pm Rainfall                    -1.131560                 -0.000000   \n",
       "WindDir3pm^2                              0.828722                 -0.000000   \n",
       "WindDir3pm Sunshine                       0.343187                  0.000000   \n",
       "WindDir3pm Rainfall                      -0.973821                 -0.000000   \n",
       "Sunshine^2                                7.080499                 11.676768   \n",
       "Sunshine Rainfall                        -2.841213                 -0.000000   \n",
       "Rainfall^2                               -2.574652                 -0.000000   \n",
       "\n",
       "                          Coefficients polynomial model  \\\n",
       "1                                             70.818534   \n",
       "Humidity3pm                                  -34.497306   \n",
       "Cloud3pm                                     -14.110065   \n",
       "Pressure3pm                                  -58.905587   \n",
       "WindSpeed3pm                                 -44.953044   \n",
       "WindDir3pm                                   -16.625414   \n",
       "Sunshine                                     -18.112180   \n",
       "Rainfall                                      -2.382792   \n",
       "Humidity3pm^2                                  5.297209   \n",
       "Humidity3pm Cloud3pm                           3.811526   \n",
       "Humidity3pm Pressure3pm                       28.136987   \n",
       "Humidity3pm WindSpeed3pm                      12.537486   \n",
       "Humidity3pm WindDir3pm                        -8.755339   \n",
       "Humidity3pm Sunshine                          -7.294708   \n",
       "Humidity3pm Rainfall                           8.673520   \n",
       "Cloud3pm^2                                    -1.263658   \n",
       "Cloud3pm Pressure3pm                           6.184263   \n",
       "Cloud3pm WindSpeed3pm                         11.543304   \n",
       "Cloud3pm WindDir3pm                            1.151535   \n",
       "Cloud3pm Sunshine                             14.325605   \n",
       "Cloud3pm Rainfall                             11.561408   \n",
       "Pressure3pm^2                                 10.339247   \n",
       "Pressure3pm WindSpeed3pm                      16.659560   \n",
       "Pressure3pm WindDir3pm                        18.404142   \n",
       "Pressure3pm Sunshine                          -1.986992   \n",
       "Pressure3pm Rainfall                          -0.245664   \n",
       "WindSpeed3pm^2                                 5.415717   \n",
       "WindSpeed3pm WindDir3pm                        0.445015   \n",
       "WindSpeed3pm Sunshine                         15.305645   \n",
       "WindSpeed3pm Rainfall                        -19.222073   \n",
       "WindDir3pm^2                                   4.630299   \n",
       "WindDir3pm Sunshine                            0.635540   \n",
       "WindDir3pm Rainfall                           20.616689   \n",
       "Sunshine^2                                    13.589054   \n",
       "Sunshine Rainfall                             -5.688230   \n",
       "Rainfall^2                                   -22.396915   \n",
       "\n",
       "                          Coefficients Ridge-CV model  \n",
       "1                                           29.980247  \n",
       "Humidity3pm                                 -8.429711  \n",
       "Cloud3pm                                     2.558045  \n",
       "Pressure3pm                                 -8.230082  \n",
       "WindSpeed3pm                               -13.383001  \n",
       "WindDir3pm                                  -0.909233  \n",
       "Sunshine                                    11.709118  \n",
       "Rainfall                                     0.906458  \n",
       "Humidity3pm^2                                2.632328  \n",
       "Humidity3pm Cloud3pm                         0.296088  \n",
       "Humidity3pm Pressure3pm                      5.541463  \n",
       "Humidity3pm WindSpeed3pm                    -1.600918  \n",
       "Humidity3pm WindDir3pm                     -10.940408  \n",
       "Humidity3pm Sunshine                       -13.265509  \n",
       "Humidity3pm Rainfall                         3.984783  \n",
       "Cloud3pm^2                                  -3.654692  \n",
       "Cloud3pm Pressure3pm                        -0.972508  \n",
       "Cloud3pm WindSpeed3pm                        4.504809  \n",
       "Cloud3pm WindDir3pm                         -1.389989  \n",
       "Cloud3pm Sunshine                            5.319233  \n",
       "Cloud3pm Rainfall                            8.245063  \n",
       "Pressure3pm^2                               -4.601638  \n",
       "Pressure3pm WindSpeed3pm                     0.716887  \n",
       "Pressure3pm WindDir3pm                       4.675586  \n",
       "Pressure3pm Sunshine                       -17.329171  \n",
       "Pressure3pm Rainfall                        -0.476549  \n",
       "WindSpeed3pm^2                               0.202900  \n",
       "WindSpeed3pm WindDir3pm                     -3.559479  \n",
       "WindSpeed3pm Sunshine                        1.017390  \n",
       "WindSpeed3pm Rainfall                       -4.157175  \n",
       "WindDir3pm^2                                 2.909522  \n",
       "WindDir3pm Sunshine                         -3.321442  \n",
       "WindDir3pm Rainfall                          4.404557  \n",
       "Sunshine^2                                   6.678826  \n",
       "Sunshine Rainfall                           -6.199071  \n",
       "Rainfall^2                                 -11.713438  "
      ]
     },
     "execution_count": 27,
     "metadata": {},
     "output_type": "execute_result"
    }
   ],
   "source": [
    "# Set up the model\n",
    "ridge_cv_model = RidgeCV(cv=5, fit_intercept=False)\n",
    "\n",
    "# Use fit\n",
    "ridge_cv_model.fit(X_train_poly, y_train)\n",
    "\n",
    "# Check the score/accuracy\n",
    "print(\"R\\u00b2 Score of the model: \", round(ridge_cv_model.score(X_train_poly, y_train), 3))\n",
    "\n",
    "# Print the coefficients of the linear model\n",
    "model_coeff['Coefficients Ridge-CV model']=ridge_cv_model.coef_.flatten()\n",
    "model_coeff"
   ]
  },
  {
   "cell_type": "markdown",
   "id": "8f8d4b7b-c366-4d40-85f9-d7d0a8115045",
   "metadata": {
    "id": "8f8d4b7b-c366-4d40-85f9-d7d0a8115045"
   },
   "source": [
    "As always, let's evaluate our model:"
   ]
  },
  {
   "cell_type": "code",
   "execution_count": 28,
   "id": "d1d775d4-bee0-4b00-8c3a-649bfddeb877",
   "metadata": {
    "id": "d1d775d4-bee0-4b00-8c3a-649bfddeb877"
   },
   "outputs": [
    {
     "name": "stdout",
     "output_type": "stream",
     "text": [
      "MAE test set: 2.90; MAE training set: 3.19;\n",
      "MSE test set: 13.35; MSE training set: 15.38;\n",
      "R² test set: 0.66; R² training set: 0.66;\n"
     ]
    }
   ],
   "source": [
    "# Predict:\n",
    "predictions = ridge_cv_model.predict(X_test_poly)\n",
    "\n",
    "# Compute the MAE, the MSE and the R^2 on the test set\n",
    "mae_ridge_cv = mean_absolute_error(y_test, predictions)\n",
    "mse_ridge_cv = mean_squared_error(y_test, predictions)\n",
    "r2_ridge_cv = r2_score(y_test, predictions)\n",
    "\n",
    "# Compute the MAE, the MSE and the R^2 on the training set\n",
    "predictions_train = ridge_cv_model.predict(X_train_poly)\n",
    "mae_train_ridge_cv = mean_absolute_error(y_train, predictions_train)\n",
    "mse_train_ridge_cv = mean_squared_error(y_train, predictions_train)\n",
    "r2_train_ridge_cv = r2_score(y_train, predictions_train)\n",
    "\n",
    "print(f\"MAE test set: {mae_ridge_cv:0.2f}; MAE training set: {mae_train_ridge:0.2f};\")\n",
    "print(f\"MSE test set: {mse_ridge_cv:0.2f}; MSE training set: {mse_train_ridge:0.2f};\")\n",
    "print(f\"R\\u00b2 test set: {r2_ridge_cv:0.2f}; R\\u00b2 training set: {r2_train_ridge:0.2f};\" )"
   ]
  },
  {
   "cell_type": "markdown",
   "id": "028b7425-49bd-41d8-88f5-5d2f4bcf364e",
   "metadata": {
    "id": "028b7425-49bd-41d8-88f5-5d2f4bcf364e"
   },
   "source": [
    "Let's compare our model to the previous ones:"
   ]
  },
  {
   "cell_type": "code",
   "execution_count": 29,
   "id": "79656074-a0e1-4a87-8f73-28bfa57a57d1",
   "metadata": {
    "id": "79656074-a0e1-4a87-8f73-28bfa57a57d1"
   },
   "outputs": [
    {
     "data": {
      "text/html": [
       "<div>\n",
       "<style scoped>\n",
       "    .dataframe tbody tr th:only-of-type {\n",
       "        vertical-align: middle;\n",
       "    }\n",
       "\n",
       "    .dataframe tbody tr th {\n",
       "        vertical-align: top;\n",
       "    }\n",
       "\n",
       "    .dataframe thead th {\n",
       "        text-align: right;\n",
       "    }\n",
       "</style>\n",
       "<table border=\"1\" class=\"dataframe\">\n",
       "  <thead>\n",
       "    <tr style=\"text-align: right;\">\n",
       "      <th></th>\n",
       "      <th>Polynomial model</th>\n",
       "      <th>LASSO</th>\n",
       "      <th>Ridge</th>\n",
       "      <th>Ridge with Cross Validation</th>\n",
       "    </tr>\n",
       "  </thead>\n",
       "  <tbody>\n",
       "    <tr>\n",
       "      <th>MAE</th>\n",
       "      <td>2.943465</td>\n",
       "      <td>4.070092</td>\n",
       "      <td>2.997895</td>\n",
       "      <td>2.899290</td>\n",
       "    </tr>\n",
       "    <tr>\n",
       "      <th>MSE</th>\n",
       "      <td>13.838756</td>\n",
       "      <td>24.208311</td>\n",
       "      <td>13.999620</td>\n",
       "      <td>13.345064</td>\n",
       "    </tr>\n",
       "  </tbody>\n",
       "</table>\n",
       "</div>"
      ],
      "text/plain": [
       "     Polynomial model      LASSO      Ridge  Ridge with Cross Validation\n",
       "MAE          2.943465   4.070092   2.997895                     2.899290\n",
       "MSE         13.838756  24.208311  13.999620                    13.345064"
      ]
     },
     "execution_count": 29,
     "metadata": {},
     "output_type": "execute_result"
    }
   ],
   "source": [
    "model_comparison['Ridge with Cross Validation']=[mae_ridge_cv, mse_ridge_cv]\n",
    "model_comparison"
   ]
  },
  {
   "cell_type": "markdown",
   "id": "06a70331-8134-4189-85f9-880ef1bb1401",
   "metadata": {
    "id": "06a70331-8134-4189-85f9-880ef1bb1401"
   },
   "source": [
    "By optimizing the regularization parameter, the MAE and MSE decreased a little."
   ]
  },
  {
   "cell_type": "markdown",
   "id": "a8367747-4cbe-45e1-8003-b4ba277f2741",
   "metadata": {
    "id": "a8367747-4cbe-45e1-8003-b4ba277f2741"
   },
   "source": [
    "## Assignment\n"
   ]
  },
  {
   "cell_type": "markdown",
   "id": "c6f169d7-4221-4e1d-b62a-dae28963c139",
   "metadata": {
    "id": "c6f169d7-4221-4e1d-b62a-dae28963c139"
   },
   "source": [
    "In this task, you will study the energy efficiency of buildings. More precisely, you will try to predict the heating loads of buildings based on the following features:\n",
    "- Relative Compactness\n",
    "- Surface Area\n",
    "- Wall Area\n",
    "- Roof Area\n",
    "- Overall Height\n",
    "- Orientation\n",
    "- Galzing Area\n",
    "- Glazing Area Distribution\n",
    "\n",
    "You will use the [Energy-Efficiency-Dataset](https://www.openml.org/search?type=data&status=active&id=43338), created by Angeliki Xifara, processed by Athanasios Tsanas, and made available on [OpenML](https://www.openml.org/), an open platform for sharing datasets, algorithms, and experiments.\n",
    "\n",
    "Let's load the dataset!\n",
    "\n"
   ]
  },
  {
   "cell_type": "code",
   "execution_count": 30,
   "id": "fea817c8-e3db-42fd-a429-8804c19b528d",
   "metadata": {
    "id": "fea817c8-e3db-42fd-a429-8804c19b528d"
   },
   "outputs": [],
   "source": [
    "df = pd.read_csv('energy-efficiency.csv', index_col=0)"
   ]
  },
  {
   "cell_type": "markdown",
   "id": "6ea0a3ee-2fda-45e2-bfbe-98f601ad0671",
   "metadata": {
    "id": "6ea0a3ee-2fda-45e2-bfbe-98f601ad0671"
   },
   "source": [
    "**Discover your dataset**\n",
    "\n",
    "- Explore your dataset, displaying a few observations, the types of your data, some summary statistics, the correlation matrix and so on."
   ]
  },
  {
   "cell_type": "code",
   "execution_count": 47,
   "id": "11c1303a-7a43-4bcc-a930-b91d16acf1af",
   "metadata": {
    "id": "11c1303a-7a43-4bcc-a930-b91d16acf1af"
   },
   "outputs": [
    {
     "data": {
      "text/html": [
       "<div>\n",
       "<style scoped>\n",
       "    .dataframe tbody tr th:only-of-type {\n",
       "        vertical-align: middle;\n",
       "    }\n",
       "\n",
       "    .dataframe tbody tr th {\n",
       "        vertical-align: top;\n",
       "    }\n",
       "\n",
       "    .dataframe thead th {\n",
       "        text-align: right;\n",
       "    }\n",
       "</style>\n",
       "<table border=\"1\" class=\"dataframe\">\n",
       "  <thead>\n",
       "    <tr style=\"text-align: right;\">\n",
       "      <th></th>\n",
       "      <th>Relative Compactness</th>\n",
       "      <th>Surface Area</th>\n",
       "      <th>Wall Area</th>\n",
       "      <th>Roof Area</th>\n",
       "      <th>Overall Height</th>\n",
       "      <th>Orientation</th>\n",
       "      <th>Galzing Area</th>\n",
       "      <th>Glazing Area Distribution</th>\n",
       "      <th>Heating Load</th>\n",
       "      <th>Cooling Load</th>\n",
       "    </tr>\n",
       "  </thead>\n",
       "  <tbody>\n",
       "    <tr>\n",
       "      <th>0</th>\n",
       "      <td>0.98</td>\n",
       "      <td>514.5</td>\n",
       "      <td>294.0</td>\n",
       "      <td>110.25</td>\n",
       "      <td>7.0</td>\n",
       "      <td>2.0</td>\n",
       "      <td>0.0</td>\n",
       "      <td>0.0</td>\n",
       "      <td>15.55</td>\n",
       "      <td>21.33</td>\n",
       "    </tr>\n",
       "    <tr>\n",
       "      <th>1</th>\n",
       "      <td>0.98</td>\n",
       "      <td>514.5</td>\n",
       "      <td>294.0</td>\n",
       "      <td>110.25</td>\n",
       "      <td>7.0</td>\n",
       "      <td>3.0</td>\n",
       "      <td>0.0</td>\n",
       "      <td>0.0</td>\n",
       "      <td>15.55</td>\n",
       "      <td>21.33</td>\n",
       "    </tr>\n",
       "    <tr>\n",
       "      <th>2</th>\n",
       "      <td>0.98</td>\n",
       "      <td>514.5</td>\n",
       "      <td>294.0</td>\n",
       "      <td>110.25</td>\n",
       "      <td>7.0</td>\n",
       "      <td>4.0</td>\n",
       "      <td>0.0</td>\n",
       "      <td>0.0</td>\n",
       "      <td>15.55</td>\n",
       "      <td>21.33</td>\n",
       "    </tr>\n",
       "    <tr>\n",
       "      <th>3</th>\n",
       "      <td>0.98</td>\n",
       "      <td>514.5</td>\n",
       "      <td>294.0</td>\n",
       "      <td>110.25</td>\n",
       "      <td>7.0</td>\n",
       "      <td>5.0</td>\n",
       "      <td>0.0</td>\n",
       "      <td>0.0</td>\n",
       "      <td>15.55</td>\n",
       "      <td>21.33</td>\n",
       "    </tr>\n",
       "    <tr>\n",
       "      <th>4</th>\n",
       "      <td>0.90</td>\n",
       "      <td>563.5</td>\n",
       "      <td>318.5</td>\n",
       "      <td>122.50</td>\n",
       "      <td>7.0</td>\n",
       "      <td>2.0</td>\n",
       "      <td>0.0</td>\n",
       "      <td>0.0</td>\n",
       "      <td>20.84</td>\n",
       "      <td>28.28</td>\n",
       "    </tr>\n",
       "  </tbody>\n",
       "</table>\n",
       "</div>"
      ],
      "text/plain": [
       "   Relative Compactness  Surface Area  Wall Area  Roof Area  Overall Height  \\\n",
       "0                  0.98         514.5      294.0     110.25             7.0   \n",
       "1                  0.98         514.5      294.0     110.25             7.0   \n",
       "2                  0.98         514.5      294.0     110.25             7.0   \n",
       "3                  0.98         514.5      294.0     110.25             7.0   \n",
       "4                  0.90         563.5      318.5     122.50             7.0   \n",
       "\n",
       "   Orientation  Galzing Area  Glazing Area Distribution  Heating Load  \\\n",
       "0          2.0           0.0                        0.0         15.55   \n",
       "1          3.0           0.0                        0.0         15.55   \n",
       "2          4.0           0.0                        0.0         15.55   \n",
       "3          5.0           0.0                        0.0         15.55   \n",
       "4          2.0           0.0                        0.0         20.84   \n",
       "\n",
       "   Cooling Load  \n",
       "0         21.33  \n",
       "1         21.33  \n",
       "2         21.33  \n",
       "3         21.33  \n",
       "4         28.28  "
      ]
     },
     "metadata": {},
     "output_type": "display_data"
    },
    {
     "name": "stdout",
     "output_type": "stream",
     "text": [
      "<bound method DataFrame.info of      Relative Compactness  Surface Area  Wall Area  Roof Area  Overall Height  \\\n",
      "0                    0.98         514.5      294.0     110.25             7.0   \n",
      "1                    0.98         514.5      294.0     110.25             7.0   \n",
      "2                    0.98         514.5      294.0     110.25             7.0   \n",
      "3                    0.98         514.5      294.0     110.25             7.0   \n",
      "4                    0.90         563.5      318.5     122.50             7.0   \n",
      "..                    ...           ...        ...        ...             ...   \n",
      "763                  0.64         784.0      343.0     220.50             3.5   \n",
      "764                  0.62         808.5      367.5     220.50             3.5   \n",
      "765                  0.62         808.5      367.5     220.50             3.5   \n",
      "766                  0.62         808.5      367.5     220.50             3.5   \n",
      "767                  0.62         808.5      367.5     220.50             3.5   \n",
      "\n",
      "     Orientation  Galzing Area  Glazing Area Distribution  Heating Load  \\\n",
      "0            2.0           0.0                        0.0         15.55   \n",
      "1            3.0           0.0                        0.0         15.55   \n",
      "2            4.0           0.0                        0.0         15.55   \n",
      "3            5.0           0.0                        0.0         15.55   \n",
      "4            2.0           0.0                        0.0         20.84   \n",
      "..           ...           ...                        ...           ...   \n",
      "763          5.0           0.4                        5.0         17.88   \n",
      "764          2.0           0.4                        5.0         16.54   \n",
      "765          3.0           0.4                        5.0         16.44   \n",
      "766          4.0           0.4                        5.0         16.48   \n",
      "767          5.0           0.4                        5.0         16.64   \n",
      "\n",
      "     Cooling Load  \n",
      "0           21.33  \n",
      "1           21.33  \n",
      "2           21.33  \n",
      "3           21.33  \n",
      "4           28.28  \n",
      "..            ...  \n",
      "763         21.40  \n",
      "764         16.88  \n",
      "765         17.11  \n",
      "766         16.61  \n",
      "767         16.03  \n",
      "\n",
      "[768 rows x 10 columns]>\n"
     ]
    }
   ],
   "source": [
    "display(df.head())\n",
    "print(df.info)"
   ]
  },
  {
   "cell_type": "markdown",
   "id": "4573a522-f6a6-4dd6-a68d-fbbfb8bdae99",
   "metadata": {
    "id": "4573a522-f6a6-4dd6-a68d-fbbfb8bdae99"
   },
   "source": [
    "**Multivariate linear regression**\n",
    "\n",
    "You will first implement a multivariate linear regression, using all the features listed in the assignment to predict the heating load.\n",
    "\n",
    "- Select your features and split your dataset between training and test set, using a 80-20 split"
   ]
  },
  {
   "cell_type": "code",
   "execution_count": 51,
   "id": "1d9e8542-7945-41b8-afe4-41167f95cbbb",
   "metadata": {
    "id": "1d9e8542-7945-41b8-afe4-41167f95cbbb"
   },
   "outputs": [],
   "source": [
    "# select needed features\n",
    "X = df[[\"Relative Compactness\", \"Surface Area\", \"Wall Area\", \"Roof Area\", \"Overall Height\", \"Orientation\", \"Galzing Area\", \"Glazing Area Distribution\"]]\n",
    "y = df[[\"Heating Load\"]]\n",
    "\n",
    "# select test and train data\n",
    "X_train, X_test, y_train, y_test = train_test_split(X, y, test_size=0.2, random_state=0, shuffle=True)"
   ]
  },
  {
   "cell_type": "markdown",
   "id": "a3bb7b7c-4356-40a0-b1fc-8ce4f2461270",
   "metadata": {
    "id": "a3bb7b7c-4356-40a0-b1fc-8ce4f2461270"
   },
   "source": [
    "- Rescale your features"
   ]
  },
  {
   "cell_type": "code",
   "execution_count": 52,
   "id": "79cbdf15-b4c3-44e7-a806-c7f5782c1914",
   "metadata": {
    "id": "79cbdf15-b4c3-44e7-a806-c7f5782c1914"
   },
   "outputs": [],
   "source": [
    "# Select scaler\n",
    "scaler = MinMaxScaler()\n",
    "\n",
    "# Transform the training and test set\n",
    "X_train = scaler.fit_transform(X_train)\n",
    "X_test = scaler.transform(X_test)"
   ]
  },
  {
   "cell_type": "markdown",
   "id": "e6f3de85-1699-43db-9560-c8cf51c376ad",
   "metadata": {
    "id": "e6f3de85-1699-43db-9560-c8cf51c376ad"
   },
   "source": [
    "- Create a linear regression model and train it."
   ]
  },
  {
   "cell_type": "code",
   "execution_count": 53,
   "id": "6346ee56-49f9-41fc-b650-29e3b0c4323d",
   "metadata": {
    "id": "6346ee56-49f9-41fc-b650-29e3b0c4323d"
   },
   "outputs": [
    {
     "data": {
      "text/html": [
       "<style>#sk-container-id-1 {\n",
       "  /* Definition of color scheme common for light and dark mode */\n",
       "  --sklearn-color-text: black;\n",
       "  --sklearn-color-line: gray;\n",
       "  /* Definition of color scheme for unfitted estimators */\n",
       "  --sklearn-color-unfitted-level-0: #fff5e6;\n",
       "  --sklearn-color-unfitted-level-1: #f6e4d2;\n",
       "  --sklearn-color-unfitted-level-2: #ffe0b3;\n",
       "  --sklearn-color-unfitted-level-3: chocolate;\n",
       "  /* Definition of color scheme for fitted estimators */\n",
       "  --sklearn-color-fitted-level-0: #f0f8ff;\n",
       "  --sklearn-color-fitted-level-1: #d4ebff;\n",
       "  --sklearn-color-fitted-level-2: #b3dbfd;\n",
       "  --sklearn-color-fitted-level-3: cornflowerblue;\n",
       "\n",
       "  /* Specific color for light theme */\n",
       "  --sklearn-color-text-on-default-background: var(--sg-text-color, var(--theme-code-foreground, var(--jp-content-font-color1, black)));\n",
       "  --sklearn-color-background: var(--sg-background-color, var(--theme-background, var(--jp-layout-color0, white)));\n",
       "  --sklearn-color-border-box: var(--sg-text-color, var(--theme-code-foreground, var(--jp-content-font-color1, black)));\n",
       "  --sklearn-color-icon: #696969;\n",
       "\n",
       "  @media (prefers-color-scheme: dark) {\n",
       "    /* Redefinition of color scheme for dark theme */\n",
       "    --sklearn-color-text-on-default-background: var(--sg-text-color, var(--theme-code-foreground, var(--jp-content-font-color1, white)));\n",
       "    --sklearn-color-background: var(--sg-background-color, var(--theme-background, var(--jp-layout-color0, #111)));\n",
       "    --sklearn-color-border-box: var(--sg-text-color, var(--theme-code-foreground, var(--jp-content-font-color1, white)));\n",
       "    --sklearn-color-icon: #878787;\n",
       "  }\n",
       "}\n",
       "\n",
       "#sk-container-id-1 {\n",
       "  color: var(--sklearn-color-text);\n",
       "}\n",
       "\n",
       "#sk-container-id-1 pre {\n",
       "  padding: 0;\n",
       "}\n",
       "\n",
       "#sk-container-id-1 input.sk-hidden--visually {\n",
       "  border: 0;\n",
       "  clip: rect(1px 1px 1px 1px);\n",
       "  clip: rect(1px, 1px, 1px, 1px);\n",
       "  height: 1px;\n",
       "  margin: -1px;\n",
       "  overflow: hidden;\n",
       "  padding: 0;\n",
       "  position: absolute;\n",
       "  width: 1px;\n",
       "}\n",
       "\n",
       "#sk-container-id-1 div.sk-dashed-wrapped {\n",
       "  border: 1px dashed var(--sklearn-color-line);\n",
       "  margin: 0 0.4em 0.5em 0.4em;\n",
       "  box-sizing: border-box;\n",
       "  padding-bottom: 0.4em;\n",
       "  background-color: var(--sklearn-color-background);\n",
       "}\n",
       "\n",
       "#sk-container-id-1 div.sk-container {\n",
       "  /* jupyter's `normalize.less` sets `[hidden] { display: none; }`\n",
       "     but bootstrap.min.css set `[hidden] { display: none !important; }`\n",
       "     so we also need the `!important` here to be able to override the\n",
       "     default hidden behavior on the sphinx rendered scikit-learn.org.\n",
       "     See: https://github.com/scikit-learn/scikit-learn/issues/21755 */\n",
       "  display: inline-block !important;\n",
       "  position: relative;\n",
       "}\n",
       "\n",
       "#sk-container-id-1 div.sk-text-repr-fallback {\n",
       "  display: none;\n",
       "}\n",
       "\n",
       "div.sk-parallel-item,\n",
       "div.sk-serial,\n",
       "div.sk-item {\n",
       "  /* draw centered vertical line to link estimators */\n",
       "  background-image: linear-gradient(var(--sklearn-color-text-on-default-background), var(--sklearn-color-text-on-default-background));\n",
       "  background-size: 2px 100%;\n",
       "  background-repeat: no-repeat;\n",
       "  background-position: center center;\n",
       "}\n",
       "\n",
       "/* Parallel-specific style estimator block */\n",
       "\n",
       "#sk-container-id-1 div.sk-parallel-item::after {\n",
       "  content: \"\";\n",
       "  width: 100%;\n",
       "  border-bottom: 2px solid var(--sklearn-color-text-on-default-background);\n",
       "  flex-grow: 1;\n",
       "}\n",
       "\n",
       "#sk-container-id-1 div.sk-parallel {\n",
       "  display: flex;\n",
       "  align-items: stretch;\n",
       "  justify-content: center;\n",
       "  background-color: var(--sklearn-color-background);\n",
       "  position: relative;\n",
       "}\n",
       "\n",
       "#sk-container-id-1 div.sk-parallel-item {\n",
       "  display: flex;\n",
       "  flex-direction: column;\n",
       "}\n",
       "\n",
       "#sk-container-id-1 div.sk-parallel-item:first-child::after {\n",
       "  align-self: flex-end;\n",
       "  width: 50%;\n",
       "}\n",
       "\n",
       "#sk-container-id-1 div.sk-parallel-item:last-child::after {\n",
       "  align-self: flex-start;\n",
       "  width: 50%;\n",
       "}\n",
       "\n",
       "#sk-container-id-1 div.sk-parallel-item:only-child::after {\n",
       "  width: 0;\n",
       "}\n",
       "\n",
       "/* Serial-specific style estimator block */\n",
       "\n",
       "#sk-container-id-1 div.sk-serial {\n",
       "  display: flex;\n",
       "  flex-direction: column;\n",
       "  align-items: center;\n",
       "  background-color: var(--sklearn-color-background);\n",
       "  padding-right: 1em;\n",
       "  padding-left: 1em;\n",
       "}\n",
       "\n",
       "\n",
       "/* Toggleable style: style used for estimator/Pipeline/ColumnTransformer box that is\n",
       "clickable and can be expanded/collapsed.\n",
       "- Pipeline and ColumnTransformer use this feature and define the default style\n",
       "- Estimators will overwrite some part of the style using the `sk-estimator` class\n",
       "*/\n",
       "\n",
       "/* Pipeline and ColumnTransformer style (default) */\n",
       "\n",
       "#sk-container-id-1 div.sk-toggleable {\n",
       "  /* Default theme specific background. It is overwritten whether we have a\n",
       "  specific estimator or a Pipeline/ColumnTransformer */\n",
       "  background-color: var(--sklearn-color-background);\n",
       "}\n",
       "\n",
       "/* Toggleable label */\n",
       "#sk-container-id-1 label.sk-toggleable__label {\n",
       "  cursor: pointer;\n",
       "  display: block;\n",
       "  width: 100%;\n",
       "  margin-bottom: 0;\n",
       "  padding: 0.5em;\n",
       "  box-sizing: border-box;\n",
       "  text-align: center;\n",
       "}\n",
       "\n",
       "#sk-container-id-1 label.sk-toggleable__label-arrow:before {\n",
       "  /* Arrow on the left of the label */\n",
       "  content: \"▸\";\n",
       "  float: left;\n",
       "  margin-right: 0.25em;\n",
       "  color: var(--sklearn-color-icon);\n",
       "}\n",
       "\n",
       "#sk-container-id-1 label.sk-toggleable__label-arrow:hover:before {\n",
       "  color: var(--sklearn-color-text);\n",
       "}\n",
       "\n",
       "/* Toggleable content - dropdown */\n",
       "\n",
       "#sk-container-id-1 div.sk-toggleable__content {\n",
       "  max-height: 0;\n",
       "  max-width: 0;\n",
       "  overflow: hidden;\n",
       "  text-align: left;\n",
       "  /* unfitted */\n",
       "  background-color: var(--sklearn-color-unfitted-level-0);\n",
       "}\n",
       "\n",
       "#sk-container-id-1 div.sk-toggleable__content.fitted {\n",
       "  /* fitted */\n",
       "  background-color: var(--sklearn-color-fitted-level-0);\n",
       "}\n",
       "\n",
       "#sk-container-id-1 div.sk-toggleable__content pre {\n",
       "  margin: 0.2em;\n",
       "  border-radius: 0.25em;\n",
       "  color: var(--sklearn-color-text);\n",
       "  /* unfitted */\n",
       "  background-color: var(--sklearn-color-unfitted-level-0);\n",
       "}\n",
       "\n",
       "#sk-container-id-1 div.sk-toggleable__content.fitted pre {\n",
       "  /* unfitted */\n",
       "  background-color: var(--sklearn-color-fitted-level-0);\n",
       "}\n",
       "\n",
       "#sk-container-id-1 input.sk-toggleable__control:checked~div.sk-toggleable__content {\n",
       "  /* Expand drop-down */\n",
       "  max-height: 200px;\n",
       "  max-width: 100%;\n",
       "  overflow: auto;\n",
       "}\n",
       "\n",
       "#sk-container-id-1 input.sk-toggleable__control:checked~label.sk-toggleable__label-arrow:before {\n",
       "  content: \"▾\";\n",
       "}\n",
       "\n",
       "/* Pipeline/ColumnTransformer-specific style */\n",
       "\n",
       "#sk-container-id-1 div.sk-label input.sk-toggleable__control:checked~label.sk-toggleable__label {\n",
       "  color: var(--sklearn-color-text);\n",
       "  background-color: var(--sklearn-color-unfitted-level-2);\n",
       "}\n",
       "\n",
       "#sk-container-id-1 div.sk-label.fitted input.sk-toggleable__control:checked~label.sk-toggleable__label {\n",
       "  background-color: var(--sklearn-color-fitted-level-2);\n",
       "}\n",
       "\n",
       "/* Estimator-specific style */\n",
       "\n",
       "/* Colorize estimator box */\n",
       "#sk-container-id-1 div.sk-estimator input.sk-toggleable__control:checked~label.sk-toggleable__label {\n",
       "  /* unfitted */\n",
       "  background-color: var(--sklearn-color-unfitted-level-2);\n",
       "}\n",
       "\n",
       "#sk-container-id-1 div.sk-estimator.fitted input.sk-toggleable__control:checked~label.sk-toggleable__label {\n",
       "  /* fitted */\n",
       "  background-color: var(--sklearn-color-fitted-level-2);\n",
       "}\n",
       "\n",
       "#sk-container-id-1 div.sk-label label.sk-toggleable__label,\n",
       "#sk-container-id-1 div.sk-label label {\n",
       "  /* The background is the default theme color */\n",
       "  color: var(--sklearn-color-text-on-default-background);\n",
       "}\n",
       "\n",
       "/* On hover, darken the color of the background */\n",
       "#sk-container-id-1 div.sk-label:hover label.sk-toggleable__label {\n",
       "  color: var(--sklearn-color-text);\n",
       "  background-color: var(--sklearn-color-unfitted-level-2);\n",
       "}\n",
       "\n",
       "/* Label box, darken color on hover, fitted */\n",
       "#sk-container-id-1 div.sk-label.fitted:hover label.sk-toggleable__label.fitted {\n",
       "  color: var(--sklearn-color-text);\n",
       "  background-color: var(--sklearn-color-fitted-level-2);\n",
       "}\n",
       "\n",
       "/* Estimator label */\n",
       "\n",
       "#sk-container-id-1 div.sk-label label {\n",
       "  font-family: monospace;\n",
       "  font-weight: bold;\n",
       "  display: inline-block;\n",
       "  line-height: 1.2em;\n",
       "}\n",
       "\n",
       "#sk-container-id-1 div.sk-label-container {\n",
       "  text-align: center;\n",
       "}\n",
       "\n",
       "/* Estimator-specific */\n",
       "#sk-container-id-1 div.sk-estimator {\n",
       "  font-family: monospace;\n",
       "  border: 1px dotted var(--sklearn-color-border-box);\n",
       "  border-radius: 0.25em;\n",
       "  box-sizing: border-box;\n",
       "  margin-bottom: 0.5em;\n",
       "  /* unfitted */\n",
       "  background-color: var(--sklearn-color-unfitted-level-0);\n",
       "}\n",
       "\n",
       "#sk-container-id-1 div.sk-estimator.fitted {\n",
       "  /* fitted */\n",
       "  background-color: var(--sklearn-color-fitted-level-0);\n",
       "}\n",
       "\n",
       "/* on hover */\n",
       "#sk-container-id-1 div.sk-estimator:hover {\n",
       "  /* unfitted */\n",
       "  background-color: var(--sklearn-color-unfitted-level-2);\n",
       "}\n",
       "\n",
       "#sk-container-id-1 div.sk-estimator.fitted:hover {\n",
       "  /* fitted */\n",
       "  background-color: var(--sklearn-color-fitted-level-2);\n",
       "}\n",
       "\n",
       "/* Specification for estimator info (e.g. \"i\" and \"?\") */\n",
       "\n",
       "/* Common style for \"i\" and \"?\" */\n",
       "\n",
       ".sk-estimator-doc-link,\n",
       "a:link.sk-estimator-doc-link,\n",
       "a:visited.sk-estimator-doc-link {\n",
       "  float: right;\n",
       "  font-size: smaller;\n",
       "  line-height: 1em;\n",
       "  font-family: monospace;\n",
       "  background-color: var(--sklearn-color-background);\n",
       "  border-radius: 1em;\n",
       "  height: 1em;\n",
       "  width: 1em;\n",
       "  text-decoration: none !important;\n",
       "  margin-left: 1ex;\n",
       "  /* unfitted */\n",
       "  border: var(--sklearn-color-unfitted-level-1) 1pt solid;\n",
       "  color: var(--sklearn-color-unfitted-level-1);\n",
       "}\n",
       "\n",
       ".sk-estimator-doc-link.fitted,\n",
       "a:link.sk-estimator-doc-link.fitted,\n",
       "a:visited.sk-estimator-doc-link.fitted {\n",
       "  /* fitted */\n",
       "  border: var(--sklearn-color-fitted-level-1) 1pt solid;\n",
       "  color: var(--sklearn-color-fitted-level-1);\n",
       "}\n",
       "\n",
       "/* On hover */\n",
       "div.sk-estimator:hover .sk-estimator-doc-link:hover,\n",
       ".sk-estimator-doc-link:hover,\n",
       "div.sk-label-container:hover .sk-estimator-doc-link:hover,\n",
       ".sk-estimator-doc-link:hover {\n",
       "  /* unfitted */\n",
       "  background-color: var(--sklearn-color-unfitted-level-3);\n",
       "  color: var(--sklearn-color-background);\n",
       "  text-decoration: none;\n",
       "}\n",
       "\n",
       "div.sk-estimator.fitted:hover .sk-estimator-doc-link.fitted:hover,\n",
       ".sk-estimator-doc-link.fitted:hover,\n",
       "div.sk-label-container:hover .sk-estimator-doc-link.fitted:hover,\n",
       ".sk-estimator-doc-link.fitted:hover {\n",
       "  /* fitted */\n",
       "  background-color: var(--sklearn-color-fitted-level-3);\n",
       "  color: var(--sklearn-color-background);\n",
       "  text-decoration: none;\n",
       "}\n",
       "\n",
       "/* Span, style for the box shown on hovering the info icon */\n",
       ".sk-estimator-doc-link span {\n",
       "  display: none;\n",
       "  z-index: 9999;\n",
       "  position: relative;\n",
       "  font-weight: normal;\n",
       "  right: .2ex;\n",
       "  padding: .5ex;\n",
       "  margin: .5ex;\n",
       "  width: min-content;\n",
       "  min-width: 20ex;\n",
       "  max-width: 50ex;\n",
       "  color: var(--sklearn-color-text);\n",
       "  box-shadow: 2pt 2pt 4pt #999;\n",
       "  /* unfitted */\n",
       "  background: var(--sklearn-color-unfitted-level-0);\n",
       "  border: .5pt solid var(--sklearn-color-unfitted-level-3);\n",
       "}\n",
       "\n",
       ".sk-estimator-doc-link.fitted span {\n",
       "  /* fitted */\n",
       "  background: var(--sklearn-color-fitted-level-0);\n",
       "  border: var(--sklearn-color-fitted-level-3);\n",
       "}\n",
       "\n",
       ".sk-estimator-doc-link:hover span {\n",
       "  display: block;\n",
       "}\n",
       "\n",
       "/* \"?\"-specific style due to the `<a>` HTML tag */\n",
       "\n",
       "#sk-container-id-1 a.estimator_doc_link {\n",
       "  float: right;\n",
       "  font-size: 1rem;\n",
       "  line-height: 1em;\n",
       "  font-family: monospace;\n",
       "  background-color: var(--sklearn-color-background);\n",
       "  border-radius: 1rem;\n",
       "  height: 1rem;\n",
       "  width: 1rem;\n",
       "  text-decoration: none;\n",
       "  /* unfitted */\n",
       "  color: var(--sklearn-color-unfitted-level-1);\n",
       "  border: var(--sklearn-color-unfitted-level-1) 1pt solid;\n",
       "}\n",
       "\n",
       "#sk-container-id-1 a.estimator_doc_link.fitted {\n",
       "  /* fitted */\n",
       "  border: var(--sklearn-color-fitted-level-1) 1pt solid;\n",
       "  color: var(--sklearn-color-fitted-level-1);\n",
       "}\n",
       "\n",
       "/* On hover */\n",
       "#sk-container-id-1 a.estimator_doc_link:hover {\n",
       "  /* unfitted */\n",
       "  background-color: var(--sklearn-color-unfitted-level-3);\n",
       "  color: var(--sklearn-color-background);\n",
       "  text-decoration: none;\n",
       "}\n",
       "\n",
       "#sk-container-id-1 a.estimator_doc_link.fitted:hover {\n",
       "  /* fitted */\n",
       "  background-color: var(--sklearn-color-fitted-level-3);\n",
       "}\n",
       "</style><div id=\"sk-container-id-1\" class=\"sk-top-container\"><div class=\"sk-text-repr-fallback\"><pre>LinearRegression()</pre><b>In a Jupyter environment, please rerun this cell to show the HTML representation or trust the notebook. <br />On GitHub, the HTML representation is unable to render, please try loading this page with nbviewer.org.</b></div><div class=\"sk-container\" hidden><div class=\"sk-item\"><div class=\"sk-estimator fitted sk-toggleable\"><input class=\"sk-toggleable__control sk-hidden--visually\" id=\"sk-estimator-id-1\" type=\"checkbox\" checked><label for=\"sk-estimator-id-1\" class=\"sk-toggleable__label fitted sk-toggleable__label-arrow fitted\">&nbsp;&nbsp;LinearRegression<a class=\"sk-estimator-doc-link fitted\" rel=\"noreferrer\" target=\"_blank\" href=\"https://scikit-learn.org/1.5/modules/generated/sklearn.linear_model.LinearRegression.html\">?<span>Documentation for LinearRegression</span></a><span class=\"sk-estimator-doc-link fitted\">i<span>Fitted</span></span></label><div class=\"sk-toggleable__content fitted\"><pre>LinearRegression()</pre></div> </div></div></div></div>"
      ],
      "text/plain": [
       "LinearRegression()"
      ]
     },
     "execution_count": 53,
     "metadata": {},
     "output_type": "execute_result"
    }
   ],
   "source": [
    "# Set up the model\n",
    "model = LinearRegression()\n",
    "\n",
    "# Use fit\n",
    "model.fit(X_train, y_train)"
   ]
  },
  {
   "cell_type": "markdown",
   "id": "7e68141e-abc3-45be-bd5e-0181be3c9650",
   "metadata": {
    "id": "7e68141e-abc3-45be-bd5e-0181be3c9650"
   },
   "source": [
    "- What is the $R^2$ of your model?\n",
    "- Display a dataframe with the coefficients of your model. Which ones are relatively more important? "
   ]
  },
  {
   "cell_type": "code",
   "execution_count": 55,
   "id": "cac297b2-c550-4398-a9a3-0dc6d66d7700",
   "metadata": {
    "id": "cac297b2-c550-4398-a9a3-0dc6d66d7700"
   },
   "outputs": [
    {
     "name": "stdout",
     "output_type": "stream",
     "text": [
      "R^2 Score:  0.918\n"
     ]
    }
   ],
   "source": [
    "# print the R^2 score\n",
    "print(\"R^2 Score: \", round(model.score(X_train, y_train), 3))"
   ]
  },
  {
   "cell_type": "markdown",
   "id": "06058101-939a-4f42-8f70-4dec794411f4",
   "metadata": {
    "id": "06058101-939a-4f42-8f70-4dec794411f4"
   },
   "source": [
    "- What are the MAE, MSE, and $R^2$ on the test data? How do they compare to the same metrics on the training data?"
   ]
  },
  {
   "cell_type": "code",
   "execution_count": 58,
   "id": "4c8f5e28",
   "metadata": {},
   "outputs": [
    {
     "name": "stdout",
     "output_type": "stream",
     "text": [
      "MAE test set: 2.22; MAE training set: 2.01;\n",
      "MSE test set: 10.10; MSE training set: 8.16;\n",
      "R² test set: 0.91; R² training set: 0.92;\n"
     ]
    }
   ],
   "source": [
    "# predict\n",
    "predictions = model.predict(X_test)\n",
    "\n",
    "# Compute the MAE, the MSE and the R^2 on the test set\n",
    "mae = mean_absolute_error(y_test, predictions)\n",
    "mse = mean_squared_error(y_test, predictions)\n",
    "r2 = r2_score(y_test, predictions)\n",
    "\n",
    "# Compute the MAE, the MSE and the R^2 on the training set\n",
    "predictions_train = model.predict(X_train)\n",
    "mae_train = mean_absolute_error(y_train, predictions_train)\n",
    "mse_train = mean_squared_error(y_train, predictions_train)\n",
    "r2_train = r2_score(y_train, predictions_train)\n",
    "\n",
    "print(f\"MAE test set: {mae:0.2f}; MAE training set: {mae_train:0.2f};\")\n",
    "print(f\"MSE test set: {mse:0.2f}; MSE training set: {mse_train:0.2f};\")\n",
    "print(f\"R\\u00b2 test set: {r2:0.2f}; R\\u00b2 training set: {r2_train:0.2f};\" )"
   ]
  },
  {
   "cell_type": "markdown",
   "id": "ddbbd52e-40d0-4eb0-88df-3ed3aa47d705",
   "metadata": {
    "id": "ddbbd52e-40d0-4eb0-88df-3ed3aa47d705"
   },
   "source": [
    "**Polynomial linear regression**\n",
    "\n",
    "- Generate a new feature matrix consisting of all polynomial combinations of the features with degree less than or equal to 2"
   ]
  },
  {
   "cell_type": "code",
   "execution_count": 59,
   "id": "e5803838-1e0e-4738-8ecf-a50eabcf7030",
   "metadata": {
    "id": "e5803838-1e0e-4738-8ecf-a50eabcf7030"
   },
   "outputs": [],
   "source": [
    "poly = PolynomialFeatures(2)\n",
    "\n",
    "X_train_poly = poly.fit_transform(X_train)\n",
    "X_test_poly = poly.transform(X_test)\n",
    "\n",
    "X_poly_features = poly.get_feature_names_out([\"Relative Compactness\", \"Surface Area\", \"Wall Area\", \"Roof Area\", \"Overall Height\", \"Orientation\", \"Galzing Area\", \"Glazing Area Distribution\"])"
   ]
  },
  {
   "cell_type": "markdown",
   "id": "a2b68850-7df7-496f-b93d-f0f14384eab3",
   "metadata": {
    "id": "a2b68850-7df7-496f-b93d-f0f14384eab3"
   },
   "source": [
    "- Train a linear regression model with polynomial features\n",
    "- What is the $R^2$"
   ]
  },
  {
   "cell_type": "code",
   "execution_count": 61,
   "id": "0172c7d8-4f78-4117-8df0-f54a4d1769f4",
   "metadata": {
    "id": "0172c7d8-4f78-4117-8df0-f54a4d1769f4"
   },
   "outputs": [
    {
     "name": "stdout",
     "output_type": "stream",
     "text": [
      "R^2 score of the model:  0.995\n"
     ]
    }
   ],
   "source": [
    "model_poly = LinearRegression(fit_intercept=False)\n",
    "\n",
    "model_poly.fit(X_train_poly, y_train)\n",
    "\n",
    "print(\"R^2 score of the model: \", round(model_poly.score(X_train_poly, y_train), 3))"
   ]
  },
  {
   "cell_type": "markdown",
   "id": "1a31c9b3-8f4f-42c4-b7bc-7f863e0223af",
   "metadata": {
    "id": "1a31c9b3-8f4f-42c4-b7bc-7f863e0223af"
   },
   "source": [
    "- What are the MAE, MSE, and $R^2$ on the test data? How do they compare to the same metrics on the training data?"
   ]
  },
  {
   "cell_type": "code",
   "execution_count": 62,
   "id": "0deb303c-4448-4459-8492-4baff05b398b",
   "metadata": {
    "id": "0deb303c-4448-4459-8492-4baff05b398b"
   },
   "outputs": [
    {
     "name": "stdout",
     "output_type": "stream",
     "text": [
      "MAE test set: 0.62; MAE training set: 0.52;\n",
      "MSE test set: 0.68; MSE training set: 0.48;\n",
      "R² test set: 0.99; R² training set: 1.00;\n"
     ]
    }
   ],
   "source": [
    "# Predict:\n",
    "predictions = model_poly.predict(X_test_poly)\n",
    "\n",
    "# Compute the MAE, the MSE and the R^2 on the test set\n",
    "mae = mean_absolute_error(y_test, predictions)\n",
    "mse = mean_squared_error(y_test, predictions)\n",
    "r2 = r2_score(y_test, predictions)\n",
    "\n",
    "# Compute the MAE, the MSE and the R^2 on the training set\n",
    "predictions_train = model_poly.predict(X_train_poly)\n",
    "mae_train = mean_absolute_error(y_train, predictions_train)\n",
    "mse_train = mean_squared_error(y_train, predictions_train)\n",
    "r2_train = r2_score(y_train, predictions_train)\n",
    "\n",
    "print(f\"MAE test set: {mae:0.2f}; MAE training set: {mae_train:0.2f};\")\n",
    "print(f\"MSE test set: {mse:0.2f}; MSE training set: {mse_train:0.2f};\")\n",
    "print(f\"R\\u00b2 test set: {r2:0.2f}; R\\u00b2 training set: {r2_train:0.2f};\" )"
   ]
  },
  {
   "cell_type": "markdown",
   "id": "c3b7c865-02dd-41cd-a87d-86a6be09fe19",
   "metadata": {
    "id": "c3b7c865-02dd-41cd-a87d-86a6be09fe19"
   },
   "source": [
    "The $R^2$ of one on the training set is suspicious, since it indicates a perfect fit. Could it be overfitting? Well, the errors are quite low and similar between training and test set so it seems that we have no overfitting issues, and we designed a great predictive model."
   ]
  },
  {
   "cell_type": "markdown",
   "id": "15cf576e-f6ee-439a-a52c-a9c53b14fdf3",
   "metadata": {
    "id": "15cf576e-f6ee-439a-a52c-a9c53b14fdf3"
   },
   "source": [
    "**Regularization**\n",
    "\n",
    "- Train a linear regression model with polynomial features and ridge regression\n",
    "- What are the MAE, MSE, and $R^2$ on the test data?"
   ]
  },
  {
   "cell_type": "code",
   "execution_count": 68,
   "id": "5bbfb723-c9da-4bb7-a13d-b24ab0b8f871",
   "metadata": {
    "id": "5bbfb723-c9da-4bb7-a13d-b24ab0b8f871"
   },
   "outputs": [
    {
     "name": "stdout",
     "output_type": "stream",
     "text": [
      "MAE test set: 1.94; MAE training set: 1.70;\n",
      "MSE test set: 7.68; MSE training set: 6.06;\n",
      "R² test set: 0.93; R² training set: 0.94;\n"
     ]
    }
   ],
   "source": [
    "# Set up model\n",
    "ridge_model = Ridge(alpha=1.0, fit_intercept=False)\n",
    "\n",
    "# Use fit\n",
    "ridge_model.fit(X_train_poly, y_train)\n",
    "\n",
    "# Predict:\n",
    "predictions = ridge_model.predict(X_test_poly)\n",
    "\n",
    "# Compute the MAE, the MSE and the R^2 on the test set\n",
    "mae_ridge = mean_absolute_error(y_test, predictions)\n",
    "mse_ridge = mean_squared_error(y_test, predictions)\n",
    "r2_ridge = r2_score(y_test, predictions)\n",
    "\n",
    "# Compute the MAE, the MSE and the R^2 on the training set\n",
    "predictions_train = ridge_model.predict(X_train_poly)\n",
    "mae_train_ridge = mean_absolute_error(y_train, predictions_train)\n",
    "mse_train_ridge = mean_squared_error(y_train, predictions_train)\n",
    "r2_train_ridge = r2_score(y_train, predictions_train)\n",
    "\n",
    "print(f\"MAE test set: {mae_ridge:0.2f}; MAE training set: {mae_train_ridge:0.2f};\")\n",
    "print(f\"MSE test set: {mse_ridge:0.2f}; MSE training set: {mse_train_ridge:0.2f};\")\n",
    "print(f\"R\\u00b2 test set: {r2_ridge:0.2f}; R\\u00b2 training set: {r2_train_ridge:0.2f};\" )"
   ]
  },
  {
   "cell_type": "markdown",
   "id": "4f95383d-b3de-419c-a25a-36b0e8c97ecf",
   "metadata": {
    "id": "4f95383d-b3de-419c-a25a-36b0e8c97ecf"
   },
   "source": [
    "- Train a linear regression model with polynomial features and lasso regression\n",
    "- What are the MAE, MSE, and $R^2$ on the test data?"
   ]
  },
  {
   "cell_type": "code",
   "execution_count": 67,
   "id": "524ba723-f7b7-464e-8dd1-74443c5b252b",
   "metadata": {
    "id": "524ba723-f7b7-464e-8dd1-74443c5b252b"
   },
   "outputs": [
    {
     "name": "stdout",
     "output_type": "stream",
     "text": [
      "MAE test set: 2.12; MAE training set: 1.90;\n",
      "MSE test set: 10.63; MSE training set: 7.92;\n",
      "R² test set: 0.90; R² training set: 0.92;\n"
     ]
    }
   ],
   "source": [
    "# Set up model\n",
    "lasso_model = Lasso(alpha=0.2, fit_intercept=False)\n",
    "\n",
    "# Use fit\n",
    "lasso_model.fit(X_train_poly, y_train)\n",
    "\n",
    "# Predict:\n",
    "predictions = lasso_model.predict(X_test_poly)\n",
    "\n",
    "# Compute the MAE, the MSE and the R^2 on the test set\n",
    "mae_lasso = mean_absolute_error(y_test, predictions)\n",
    "mse_lasso = mean_squared_error(y_test, predictions)\n",
    "r2_lasso = r2_score(y_test, predictions)\n",
    "\n",
    "# Compute the MAE, the MSE and the R^2 on the training set\n",
    "predictions_train = lasso_model.predict(X_train_poly)\n",
    "mae_train_lasso = mean_absolute_error(y_train, predictions_train)\n",
    "mse_train_lasso = mean_squared_error(y_train, predictions_train)\n",
    "r2_train_lasso = r2_score(y_train, predictions_train)\n",
    "\n",
    "print(f\"MAE test set: {mae_lasso:0.2f}; MAE training set: {mae_train_lasso:0.2f};\")\n",
    "print(f\"MSE test set: {mse_lasso:0.2f}; MSE training set: {mse_train_lasso:0.2f};\")\n",
    "print(f\"R\\u00b2 test set: {r2_lasso:0.2f}; R\\u00b2 training set: {r2_train_lasso:0.2f};\" )"
   ]
  },
  {
   "cell_type": "markdown",
   "id": "6684f684-68dc-4dc6-b350-1167637e3434",
   "metadata": {
    "id": "6684f684-68dc-4dc6-b350-1167637e3434"
   },
   "source": [
    "**Cross-validation**\n",
    "\n",
    "- Train a linear regression model with polynomial features, cross-validation, and the regularization technique of your choice (you can even explore other ones, such as Elastic Net)\n",
    "- What are the MAE, MSE, and $R^2$ on the test data?"
   ]
  },
  {
   "cell_type": "code",
   "execution_count": 69,
   "id": "0cbbc6ab-239c-4a8b-8ff6-62baa5dccad6",
   "metadata": {
    "id": "0cbbc6ab-239c-4a8b-8ff6-62baa5dccad6"
   },
   "outputs": [
    {
     "name": "stdout",
     "output_type": "stream",
     "text": [
      "MAE test set: 1.82; MAE training set: 1.70;\n",
      "MSE test set: 6.03; MSE training set: 6.06;\n",
      "R² test set: 0.95; R² training set: 0.94;\n"
     ]
    }
   ],
   "source": [
    "# Set up model with ridge CV\n",
    "ridge_cv_model = RidgeCV(cv=5, fit_intercept=False)\n",
    "\n",
    "# Use fit\n",
    "ridge_cv_model.fit(X_train_poly, y_train)\n",
    "\n",
    "# Predict:\n",
    "predictions = ridge_cv_model.predict(X_test_poly)\n",
    "\n",
    "# Compute the MAE, the MSE and the R^2 on the test set\n",
    "mae_ridge_cv = mean_absolute_error(y_test, predictions)\n",
    "mse_ridge_cv = mean_squared_error(y_test, predictions)\n",
    "r2_ridge_cv = r2_score(y_test, predictions)\n",
    "\n",
    "# Compute the MAE, the MSE and the R^2 on the training set\n",
    "predictions_train = ridge_cv_model.predict(X_train_poly)\n",
    "mae_train_ridge_cv = mean_absolute_error(y_train, predictions_train)\n",
    "mse_train_ridge_cv = mean_squared_error(y_train, predictions_train)\n",
    "r2_train_ridge_cv = r2_score(y_train, predictions_train)\n",
    "\n",
    "print(f\"MAE test set: {mae_ridge_cv:0.2f}; MAE training set: {mae_train_ridge:0.2f};\")\n",
    "print(f\"MSE test set: {mse_ridge_cv:0.2f}; MSE training set: {mse_train_ridge:0.2f};\")\n",
    "print(f\"R\\u00b2 test set: {r2_ridge_cv:0.2f}; R\\u00b2 training set: {r2_train_ridge:0.2f};\" )"
   ]
  },
  {
   "cell_type": "markdown",
   "id": "e87a4c2b-4d4e-43c0-b8d3-0a1507c5f72b",
   "metadata": {
    "id": "e87a4c2b-4d4e-43c0-b8d3-0a1507c5f72b"
   },
   "source": [
    "**Model comparison**\n",
    "\n",
    "- Compare your models. Which one gives the most accurate prediction?\n",
    "- Display the coefficients of your best model. What do you observe?"
   ]
  },
  {
   "cell_type": "code",
   "execution_count": 70,
   "id": "67c20480-a91a-4141-8c70-2959d3ef4027",
   "metadata": {
    "id": "67c20480-a91a-4141-8c70-2959d3ef4027"
   },
   "outputs": [
    {
     "data": {
      "text/html": [
       "<div>\n",
       "<style scoped>\n",
       "    .dataframe tbody tr th:only-of-type {\n",
       "        vertical-align: middle;\n",
       "    }\n",
       "\n",
       "    .dataframe tbody tr th {\n",
       "        vertical-align: top;\n",
       "    }\n",
       "\n",
       "    .dataframe thead th {\n",
       "        text-align: right;\n",
       "    }\n",
       "</style>\n",
       "<table border=\"1\" class=\"dataframe\">\n",
       "  <thead>\n",
       "    <tr style=\"text-align: right;\">\n",
       "      <th></th>\n",
       "      <th>Polynomial model</th>\n",
       "      <th>LASSO</th>\n",
       "      <th>Ridge</th>\n",
       "      <th>Ridge with Cross Validation</th>\n",
       "    </tr>\n",
       "  </thead>\n",
       "  <tbody>\n",
       "    <tr>\n",
       "      <th>MAE</th>\n",
       "      <td>0.620897</td>\n",
       "      <td>2.119298</td>\n",
       "      <td>1.944348</td>\n",
       "      <td>1.815038</td>\n",
       "    </tr>\n",
       "    <tr>\n",
       "      <th>MSE</th>\n",
       "      <td>0.680947</td>\n",
       "      <td>10.632243</td>\n",
       "      <td>7.683001</td>\n",
       "      <td>6.028507</td>\n",
       "    </tr>\n",
       "  </tbody>\n",
       "</table>\n",
       "</div>"
      ],
      "text/plain": [
       "     Polynomial model      LASSO     Ridge  Ridge with Cross Validation\n",
       "MAE          0.620897   2.119298  1.944348                     1.815038\n",
       "MSE          0.680947  10.632243  7.683001                     6.028507"
      ]
     },
     "execution_count": 70,
     "metadata": {},
     "output_type": "execute_result"
    }
   ],
   "source": [
    "model_comparison = pd.DataFrame([mae, mse], index=['MAE', 'MSE'], columns=['Polynomial model'])\n",
    "model_comparison['LASSO']=[mae_lasso, mse_lasso]\n",
    "model_comparison['Ridge']=[mae_ridge, mse_ridge]\n",
    "model_comparison['Ridge with Cross Validation']=[mae_ridge_cv, mse_ridge_cv]\n",
    "model_comparison"
   ]
  }
 ],
 "metadata": {
  "colab": {
   "provenance": []
  },
  "kernelspec": {
   "display_name": "Python 3 (ipykernel)",
   "language": "python",
   "name": "python3"
  },
  "language_info": {
   "codemirror_mode": {
    "name": "ipython",
    "version": 3
   },
   "file_extension": ".py",
   "mimetype": "text/x-python",
   "name": "python",
   "nbconvert_exporter": "python",
   "pygments_lexer": "ipython3",
   "version": "3.12.7"
  }
 },
 "nbformat": 4,
 "nbformat_minor": 5
}
