{
 "cells": [
  {
   "cell_type": "markdown",
   "id": "ixVvdJcCCckE",
   "metadata": {
    "id": "ixVvdJcCCckE"
   },
   "source": [
    "<a href=\"https://colab.research.google.com/github/michalis0/DataScience_and_MachineLearning/blob/master/Week_4/Week_4_solutions.ipynb\" target=\"_parent\"><img src=\"https://colab.research.google.com/assets/colab-badge.svg\" alt=\"Open In Colab\"/></a>"
   ]
  },
  {
   "cell_type": "code",
   "execution_count": 1,
   "id": "15dc4475-7f7d-4457-8762-bb031a0629b2",
   "metadata": {
    "id": "15dc4475-7f7d-4457-8762-bb031a0629b2"
   },
   "outputs": [],
   "source": [
    "# Import standard libraries\n",
    "import pandas as pd\n",
    "import numpy as np\n",
    "import seaborn as sns\n",
    "import matplotlib.pyplot as plt\n",
    "%matplotlib inline\n",
    "\n",
    "# Import to load arff file from url\n",
    "from scipy.io import arff\n",
    "import urllib.request\n",
    "import io\n",
    "\n",
    "# Sklearn import\n",
    "from sklearn.model_selection import train_test_split # Splitting the data set\n",
    "from sklearn.preprocessing import MinMaxScaler, StandardScaler # Normalization and standard scaler\n",
    "from sklearn.preprocessing import LabelEncoder, OneHotEncoder # Label and 1-hot encoding\n",
    "from sklearn.linear_model import LogisticRegression # Logistic regression model\n",
    "from sklearn.linear_model import LogisticRegressionCV # Logistic regression with cross-validation\n",
    "from sklearn.metrics import accuracy_score  # Accuracy\n",
    "from sklearn.metrics import confusion_matrix # Confusion matrix\n",
    "from sklearn.metrics import precision_score, recall_score, f1_score  # Precision, recall, and f1 score\n",
    "\n"
   ]
  },
  {
   "cell_type": "markdown",
   "id": "251e9265-3d22-4a07-8838-23b32fce472f",
   "metadata": {
    "id": "251e9265-3d22-4a07-8838-23b32fce472f",
    "tags": []
   },
   "source": [
    "## Logistic regression\n",
    "\n",
    "Suppose we have *n* observations of an outcome $\\boldsymbol{y}$ and *d* associated features $\\boldsymbol{x_1}$, $\\boldsymbol{x_2}$, ... , $\\boldsymbol{x_d}$ (note that $\\boldsymbol{y}$, $\\boldsymbol{x_1}$, ..., $\\boldsymbol{x_d}$ are vectors):\n",
    "\n",
    "| | Outcome | Feature 1 | Feature 2 | ... | Feature d |\n",
    "|:-------|:----------:|:----------:|:----------:|:----------:|:----------:|\n",
    "| Observation 1 | $y_1$ | $x_{11}$ | $x_{12}$ | ... | $x_{1d}$ |\n",
    "| Observation 2 | $y_2$ | $x_{21}$ | $x_{22}$ | ... | $x_{2d}$ |\n",
    "| ... | ... | ... | ... | ... | ... |\n",
    "| Observation n | $y_n$ | $x_{n1}$ | $x_{n2}$ | ... | $x_{nd}$ |\n",
    "\n",
    "We will focus on binary classification for now. In other words, our outcome can take two values, 0 and 1, which represent two classes (e.g., cat or dog, spam email or not, risky or safe loan, etc.).\n",
    "\n",
    "Remember when we did multivariate linear regression, we assumed that our model function $f_{\\text{mv}}$, i.e., our prediction, was a linear combination of our features. For each observation $i$, we assumed:\n",
    "$$f_{\\text{mv}}(\\boldsymbol{X_{i*}}, \\boldsymbol{w}):=w_0 + w_1 x_{i,1} +  w_2 x_{i,2} + ... +  w_d x_{i,d}$$\n",
    "with $\\boldsymbol{w}=(w_0, w_1, ..., w_d)$ the vector of weights, and $\\boldsymbol{X}=[\\boldsymbol{x_1}$, ... , $\\boldsymbol{x_d}]$ the matrix of feature variables.\n",
    "\n",
    "For each observation, our true outcome was $y_i = f_{\\text{mv}}(\\boldsymbol{X_{i*}}, \\boldsymbol{w}) + \\epsilon_i$, and our goal was to minimize the errors.\n",
    "\n",
    "In this setting, our model function $f_{\\text{mv}}$ can take any values. It is thus suited when our outcome is continuous. However, with binary classification, we are dealing with discrete values, and more precisely with 0 and 1. How can we modify our model to obtain proper predictions?\n",
    "\n",
    "The idea of logistic regression is to transform the predictions obtained with a linear regression such that the predictions are between 0 and 1. To do so, we rely on the [Sigmoid (logistic) function](https://en.wikipedia.org/wiki/Sigmoid_function):\n",
    "\n",
    "$$S(x) = \\frac{1}{1 + e^{-x}}$$\n",
    "\n",
    "<center>\n",
    "<img src='https://upload.wikimedia.org/wikipedia/commons/thumb/8/88/Logistic-curve.svg/1280px-Logistic-curve.svg.png' width=\"300\">\n",
    "</center>\n",
    "\n",
    "Source: Qef, from [Wikipedia Logistic Curve plot](https://commons.wikimedia.org/wiki/File:Logistic-curve.svg)\n",
    "\n",
    "With logistic regression, we apply the sigmoid function to the output of the multivariate regression model. Let $f_{\\text{logi}}$ be the prediction function of a logistic regression, we have:\n",
    "\n",
    "$$f_{\\text{logi}}(\\boldsymbol{X_{i*}}, \\boldsymbol{w}):= \\frac{1}{1 + e^{-(w_0 + w_1 x_{i,1} +  w_2 x_{i,2} + ... +  w_d x_{i,d})}}$$\n",
    "\n",
    "$f_{\\text{logi}}$ represents the probability that a given observation belongs to class 1, i.e., $y_i=1$:\n",
    "- We predict that the observation belongs to class 1 when $f_{\\text{logi}}(\\boldsymbol{X_{i*}}, \\boldsymbol{w}) \\geq 0.5$, i.e., when $w_0 + w_1 x_{i,1} +  w_2 x_{i,2} + ... +  w_d x_{i,d} \\geq 0$;\n",
    "- Reciprocally, we predict that the observation belongs to class 0 when $f_{\\text{logi}}(\\boldsymbol{X_{i*}}, \\boldsymbol{w})<0.5$, i.e., $w_0 + w_1 x_{i,1} +  w_2 x_{i,2} + ... +  w_d x_{i,d}<0$.\n",
    "\n",
    "Now our problem is the same as before: we want to minimize the errors of our model, learning the weights $w_0$, $w_1$, ..., $w_d$ from our data. To do so, we are minimizing our loss function... but which one? We will explore one option below.\n",
    "\n",
    "  "
   ]
  },
  {
   "cell_type": "markdown",
   "id": "1edb4df8-98f9-4903-ae42-65e57e0d8a84",
   "metadata": {
    "id": "1edb4df8-98f9-4903-ae42-65e57e0d8a84"
   },
   "source": [
    "#### Logistic Loss function\n",
    "\n",
    "For linear regression, we used the Least Squared Error as loss function:\n",
    "\n",
    "$$ \\min_\\boldsymbol{w} \\sum_{i=1}^n (y_i - f_{\\text{mv}}(\\boldsymbol{X_{i*}}, \\boldsymbol{w}))^2 $$\n",
    "\n",
    "Can we use the same for logistic regression? No! Indeed, using Least Squared Error with our new prediction function $f_{\\text{mv}}$ would result in a non-convex graph, which is not ideal for our minimization problem since we could be stuck in local minima:\n",
    "\n",
    "<center>\n",
    "<img src='https://miro.medium.com/v2/resize:fit:1100/format:webp/1*3o9_XoQP4TaceYPRZVHlxg.png' width=\"300\">\n",
    "</center>\n",
    "\n",
    "Source: Issam Laradji, [Non-convex Optimization](https://www.cs.ubc.ca/labs/lci/mlrg/slides/non_convex_optimization.pdf)\n",
    "\n",
    "So which loss function can we use? Ideally, we want to assign more punishment when predicting 1 while the actual value is 0 and when predicting 0 while the actual value is 1. One such function is the... **Logistic Loss**:\n",
    "\n",
    "$$L(\\boldsymbol{y}, \\boldsymbol{X}, \\boldsymbol{w})= -\\frac{1}{n} \\sum_{i=1}^n [y_i \\log(f_{\\text{logi}}(\\boldsymbol{X_{i*}}, \\boldsymbol{w})) + (1-y_i) \\log(1-f_{\\text{logi}}(\\boldsymbol{X_{i*}}, \\boldsymbol{w}))] $$\n",
    "\n",
    "Let's decompose our function to understand a bit more how it works. For each observation $i$, the cost is:\n",
    "\n",
    "$$\\text{Cost}_i = - y_i \\log(f_{\\text{logi}}(\\boldsymbol{X_{i*}}, \\boldsymbol{w})) - (1-y_i) \\log(1-f_{\\text{logi}}(\\boldsymbol{X_{i*}}, \\boldsymbol{w}))$$\n",
    "\n",
    "- When $y_i = 1$, $\\text{Cost}_i = - \\log(f_{\\text{logi}}(\\boldsymbol{X_{i*}}, \\boldsymbol{w}))$. Hence, if our predicted probability is 1, we have $\\text{Cost}_i=0$, i.e., no cost. However, when our predicted probability is approaching 0, our cost goes to infinity (because the logarithm goes to minus infinity when we get closer to zero).\n",
    "- When $y_i = 0$, $\\text{Cost}_i = - \\log(1-f_{\\text{logi}}(\\boldsymbol{X_{i*}}, \\boldsymbol{w}))$, and it works the other way around. If our predicted probability is zero, the cost is zero, but when our predicted probability is approaching 1, our cost goes to infinity.\n",
    "\n",
    "<center>\n",
    "<img src='https://miro.medium.com/v2/resize:fit:1400/format:webp/1*_NeTem-yeZ8Pr9cVUoi_HA.png' width=\"400\">\n",
    "</center>\n",
    "\n",
    "Source: Shuyu Luo, [Loss Function (Part II): Logistic Regression](https://towardsdatascience.com/optimization-loss-function-under-the-hood-part-ii-d20a239cde11)\n",
    "\n",
    "The Logistic Loss not only punishes errors with a very large cost, it is also convex. Hence, we can apply Gradient Descent to obtain the model parameters that minimize the loss!\n",
    "\n",
    "To learn more:\n",
    "- [Loss Function (Part II): Logistic Regression](https://towardsdatascience.com/optimization-loss-function-under-the-hood-part-ii-d20a239cde11), by Shuyu Luo, Published in Towards Data Science\n",
    "- [Understanding the log loss function](https://medium.com/analytics-vidhya/understanding-the-loss-function-of-logistic-regression-ac1eec2838ce), by Susmith Reddy, Published in Analytics Vidhya\n"
   ]
  },
  {
   "cell_type": "markdown",
   "id": "ce878d70-296b-4ce2-9a05-a5d0410d79e1",
   "metadata": {
    "id": "ce878d70-296b-4ce2-9a05-a5d0410d79e1"
   },
   "source": [
    "## Implementation\n",
    "\n",
    "\n",
    "For the walkthough we will use a **dataset on wine quality**. \n",
    "\n",
    "<img src='https://assets.pbimgs.com/pbimgs/rk/images/dp/wcm/202145/0002/schott-zwiesel-classico-wine-glasses-c.jpg' width=\"300\">\n",
    "\n",
    "The wine data set consists of 11 different parameters of wine such as alcohol content, acidity, and pH, which were measured for several wine samples from the North of Portugal.\n",
    "\n",
    "Source: P. Cortez, A. Cerdeira, F. Almeida, T. Matos and J. Reis. Modeling wine preferences by data mining from physicochemical properties. In *Decision Support Systems*, Elsevier, 47(4):547-553, 2009. Dataset obtained from UCI Machine Learning repository, [Wine Quality Data Set](https://archive.ics.uci.edu/ml/datasets/wine+quality).\n",
    "\n",
    "These wines were derived from different cultivars; therefore there have different quality, as a score between 0 and 10. We grouped the wines into two quality classes: 0 and 1, representing respectively  \"poor quality\" (score 0-5), and \"good quality\" (score 6-10).\n",
    "\n",
    "Our goal here is to find a model that can predict the class of wine given the 11 measured parameters, and find out the major differences among the two classes.\n",
    "\n"
   ]
  },
  {
   "cell_type": "markdown",
   "id": "751923ff-7b61-4ab9-af76-1b6b98b9e1f7",
   "metadata": {
    "id": "751923ff-7b61-4ab9-af76-1b6b98b9e1f7"
   },
   "source": [
    "### Load and discover dataset"
   ]
  },
  {
   "cell_type": "code",
   "execution_count": 6,
   "id": "0c288953-a267-4f5c-9271-40079cb5fea5",
   "metadata": {
    "colab": {
     "base_uri": "https://localhost:8080/",
     "height": 278
    },
    "id": "0c288953-a267-4f5c-9271-40079cb5fea5",
    "outputId": "38313177-7a64-46cf-ad37-a1f0d69979a4"
   },
   "outputs": [
    {
     "data": {
      "text/html": [
       "<div>\n",
       "<style scoped>\n",
       "    .dataframe tbody tr th:only-of-type {\n",
       "        vertical-align: middle;\n",
       "    }\n",
       "\n",
       "    .dataframe tbody tr th {\n",
       "        vertical-align: top;\n",
       "    }\n",
       "\n",
       "    .dataframe thead th {\n",
       "        text-align: right;\n",
       "    }\n",
       "</style>\n",
       "<table border=\"1\" class=\"dataframe\">\n",
       "  <thead>\n",
       "    <tr style=\"text-align: right;\">\n",
       "      <th></th>\n",
       "      <th>fixed acidity</th>\n",
       "      <th>volatile acidity</th>\n",
       "      <th>citric acid</th>\n",
       "      <th>residual sugar</th>\n",
       "      <th>chlorides</th>\n",
       "      <th>free sulfur dioxide</th>\n",
       "      <th>total sulfur dioxide</th>\n",
       "      <th>density</th>\n",
       "      <th>pH</th>\n",
       "      <th>sulphates</th>\n",
       "      <th>alcohol</th>\n",
       "      <th>quality</th>\n",
       "    </tr>\n",
       "  </thead>\n",
       "  <tbody>\n",
       "    <tr>\n",
       "      <th>0</th>\n",
       "      <td>7.4</td>\n",
       "      <td>0.70</td>\n",
       "      <td>0.00</td>\n",
       "      <td>1.9</td>\n",
       "      <td>0.076</td>\n",
       "      <td>11</td>\n",
       "      <td>34</td>\n",
       "      <td>0.9978</td>\n",
       "      <td>3.51</td>\n",
       "      <td>0.56</td>\n",
       "      <td>9.4</td>\n",
       "      <td>0</td>\n",
       "    </tr>\n",
       "    <tr>\n",
       "      <th>1</th>\n",
       "      <td>7.8</td>\n",
       "      <td>0.88</td>\n",
       "      <td>0.00</td>\n",
       "      <td>2.6</td>\n",
       "      <td>0.098</td>\n",
       "      <td>25</td>\n",
       "      <td>67</td>\n",
       "      <td>0.9968</td>\n",
       "      <td>3.20</td>\n",
       "      <td>0.68</td>\n",
       "      <td>9.8</td>\n",
       "      <td>0</td>\n",
       "    </tr>\n",
       "    <tr>\n",
       "      <th>2</th>\n",
       "      <td>7.8</td>\n",
       "      <td>0.76</td>\n",
       "      <td>0.04</td>\n",
       "      <td>2.3</td>\n",
       "      <td>0.092</td>\n",
       "      <td>15</td>\n",
       "      <td>54</td>\n",
       "      <td>0.9970</td>\n",
       "      <td>3.26</td>\n",
       "      <td>0.65</td>\n",
       "      <td>9.8</td>\n",
       "      <td>0</td>\n",
       "    </tr>\n",
       "    <tr>\n",
       "      <th>3</th>\n",
       "      <td>11.2</td>\n",
       "      <td>0.28</td>\n",
       "      <td>0.56</td>\n",
       "      <td>1.9</td>\n",
       "      <td>0.075</td>\n",
       "      <td>17</td>\n",
       "      <td>60</td>\n",
       "      <td>0.9980</td>\n",
       "      <td>3.16</td>\n",
       "      <td>0.58</td>\n",
       "      <td>9.8</td>\n",
       "      <td>1</td>\n",
       "    </tr>\n",
       "    <tr>\n",
       "      <th>4</th>\n",
       "      <td>7.4</td>\n",
       "      <td>0.70</td>\n",
       "      <td>0.00</td>\n",
       "      <td>1.9</td>\n",
       "      <td>0.076</td>\n",
       "      <td>11</td>\n",
       "      <td>34</td>\n",
       "      <td>0.9978</td>\n",
       "      <td>3.51</td>\n",
       "      <td>0.56</td>\n",
       "      <td>9.4</td>\n",
       "      <td>0</td>\n",
       "    </tr>\n",
       "  </tbody>\n",
       "</table>\n",
       "</div>"
      ],
      "text/plain": [
       "   fixed acidity  volatile acidity  citric acid  residual sugar  chlorides  \\\n",
       "0            7.4              0.70         0.00             1.9      0.076   \n",
       "1            7.8              0.88         0.00             2.6      0.098   \n",
       "2            7.8              0.76         0.04             2.3      0.092   \n",
       "3           11.2              0.28         0.56             1.9      0.075   \n",
       "4            7.4              0.70         0.00             1.9      0.076   \n",
       "\n",
       "   free sulfur dioxide  total sulfur dioxide  density    pH  sulphates  \\\n",
       "0                   11                    34   0.9978  3.51       0.56   \n",
       "1                   25                    67   0.9968  3.20       0.68   \n",
       "2                   15                    54   0.9970  3.26       0.65   \n",
       "3                   17                    60   0.9980  3.16       0.58   \n",
       "4                   11                    34   0.9978  3.51       0.56   \n",
       "\n",
       "   alcohol  quality  \n",
       "0      9.4        0  \n",
       "1      9.8        0  \n",
       "2      9.8        0  \n",
       "3      9.8        1  \n",
       "4      9.4        0  "
      ]
     },
     "metadata": {},
     "output_type": "display_data"
    },
    {
     "name": "stdout",
     "output_type": "stream",
     "text": [
      "['fixed acidity' 'volatile acidity' 'citric acid' 'residual sugar'\n",
      " 'chlorides' 'free sulfur dioxide' 'total sulfur dioxide' 'density' 'pH'\n",
      " 'sulphates' 'alcohol' 'quality']\n"
     ]
    }
   ],
   "source": [
    "#Load the dataset\n",
    "wines = pd.read_csv(\"wine-quality-red.csv\")\n",
    "\n",
    "# Display a sample of the data\n",
    "display(wines.head())\n",
    "\n",
    "# Print columns\n",
    "print(wines.columns.values)"
   ]
  },
  {
   "cell_type": "markdown",
   "id": "aef78718-ca7e-47fc-9099-348f12837f8c",
   "metadata": {
    "id": "aef78718-ca7e-47fc-9099-348f12837f8c"
   },
   "source": [
    "Note that we only have numerical variables, and thus won't need to encode any categorical variables.\n",
    "\n",
    "However, we will need to rescale our features since, they are on different scales: for instance, chlorides values are lower than 1 while sulfur dioxide can attain a value of 289."
   ]
  },
  {
   "cell_type": "code",
   "execution_count": 7,
   "id": "185e5eaf-6304-4801-abd4-b629e61de2c8",
   "metadata": {
    "colab": {
     "base_uri": "https://localhost:8080/",
     "height": 355
    },
    "id": "185e5eaf-6304-4801-abd4-b629e61de2c8",
    "outputId": "37c6fa32-3e14-42ec-bfa9-29f0c659ea84"
   },
   "outputs": [
    {
     "data": {
      "text/html": [
       "<div>\n",
       "<style scoped>\n",
       "    .dataframe tbody tr th:only-of-type {\n",
       "        vertical-align: middle;\n",
       "    }\n",
       "\n",
       "    .dataframe tbody tr th {\n",
       "        vertical-align: top;\n",
       "    }\n",
       "\n",
       "    .dataframe thead th {\n",
       "        text-align: right;\n",
       "    }\n",
       "</style>\n",
       "<table border=\"1\" class=\"dataframe\">\n",
       "  <thead>\n",
       "    <tr style=\"text-align: right;\">\n",
       "      <th></th>\n",
       "      <th>fixed acidity</th>\n",
       "      <th>volatile acidity</th>\n",
       "      <th>citric acid</th>\n",
       "      <th>residual sugar</th>\n",
       "      <th>chlorides</th>\n",
       "      <th>free sulfur dioxide</th>\n",
       "      <th>total sulfur dioxide</th>\n",
       "      <th>density</th>\n",
       "      <th>pH</th>\n",
       "      <th>sulphates</th>\n",
       "      <th>alcohol</th>\n",
       "      <th>quality</th>\n",
       "    </tr>\n",
       "  </thead>\n",
       "  <tbody>\n",
       "    <tr>\n",
       "      <th>count</th>\n",
       "      <td>1599.000000</td>\n",
       "      <td>1599.000000</td>\n",
       "      <td>1599.000000</td>\n",
       "      <td>1599.000000</td>\n",
       "      <td>1599.000000</td>\n",
       "      <td>1599.000000</td>\n",
       "      <td>1599.000000</td>\n",
       "      <td>1599.000000</td>\n",
       "      <td>1599.000000</td>\n",
       "      <td>1599.000000</td>\n",
       "      <td>1599.000000</td>\n",
       "      <td>1599.000000</td>\n",
       "    </tr>\n",
       "    <tr>\n",
       "      <th>mean</th>\n",
       "      <td>8.319637</td>\n",
       "      <td>0.527821</td>\n",
       "      <td>0.270976</td>\n",
       "      <td>2.538806</td>\n",
       "      <td>0.087467</td>\n",
       "      <td>15.875547</td>\n",
       "      <td>46.468418</td>\n",
       "      <td>0.996747</td>\n",
       "      <td>3.311113</td>\n",
       "      <td>0.658149</td>\n",
       "      <td>10.422983</td>\n",
       "      <td>0.534709</td>\n",
       "    </tr>\n",
       "    <tr>\n",
       "      <th>std</th>\n",
       "      <td>1.741096</td>\n",
       "      <td>0.179060</td>\n",
       "      <td>0.194801</td>\n",
       "      <td>1.409928</td>\n",
       "      <td>0.047065</td>\n",
       "      <td>10.460434</td>\n",
       "      <td>32.895920</td>\n",
       "      <td>0.001887</td>\n",
       "      <td>0.154386</td>\n",
       "      <td>0.169507</td>\n",
       "      <td>1.065668</td>\n",
       "      <td>0.498950</td>\n",
       "    </tr>\n",
       "    <tr>\n",
       "      <th>min</th>\n",
       "      <td>4.600000</td>\n",
       "      <td>0.120000</td>\n",
       "      <td>0.000000</td>\n",
       "      <td>0.900000</td>\n",
       "      <td>0.012000</td>\n",
       "      <td>1.000000</td>\n",
       "      <td>6.000000</td>\n",
       "      <td>0.990070</td>\n",
       "      <td>2.740000</td>\n",
       "      <td>0.330000</td>\n",
       "      <td>8.400000</td>\n",
       "      <td>0.000000</td>\n",
       "    </tr>\n",
       "    <tr>\n",
       "      <th>25%</th>\n",
       "      <td>7.100000</td>\n",
       "      <td>0.390000</td>\n",
       "      <td>0.090000</td>\n",
       "      <td>1.900000</td>\n",
       "      <td>0.070000</td>\n",
       "      <td>7.000000</td>\n",
       "      <td>22.000000</td>\n",
       "      <td>0.995600</td>\n",
       "      <td>3.210000</td>\n",
       "      <td>0.550000</td>\n",
       "      <td>9.500000</td>\n",
       "      <td>0.000000</td>\n",
       "    </tr>\n",
       "    <tr>\n",
       "      <th>50%</th>\n",
       "      <td>7.900000</td>\n",
       "      <td>0.520000</td>\n",
       "      <td>0.260000</td>\n",
       "      <td>2.200000</td>\n",
       "      <td>0.079000</td>\n",
       "      <td>14.000000</td>\n",
       "      <td>38.000000</td>\n",
       "      <td>0.996750</td>\n",
       "      <td>3.310000</td>\n",
       "      <td>0.620000</td>\n",
       "      <td>10.200000</td>\n",
       "      <td>1.000000</td>\n",
       "    </tr>\n",
       "    <tr>\n",
       "      <th>75%</th>\n",
       "      <td>9.200000</td>\n",
       "      <td>0.640000</td>\n",
       "      <td>0.420000</td>\n",
       "      <td>2.600000</td>\n",
       "      <td>0.090000</td>\n",
       "      <td>21.000000</td>\n",
       "      <td>62.000000</td>\n",
       "      <td>0.997835</td>\n",
       "      <td>3.400000</td>\n",
       "      <td>0.730000</td>\n",
       "      <td>11.100000</td>\n",
       "      <td>1.000000</td>\n",
       "    </tr>\n",
       "    <tr>\n",
       "      <th>max</th>\n",
       "      <td>15.900000</td>\n",
       "      <td>1.580000</td>\n",
       "      <td>1.000000</td>\n",
       "      <td>15.500000</td>\n",
       "      <td>0.611000</td>\n",
       "      <td>72.000000</td>\n",
       "      <td>289.000000</td>\n",
       "      <td>1.003690</td>\n",
       "      <td>4.010000</td>\n",
       "      <td>2.000000</td>\n",
       "      <td>14.900000</td>\n",
       "      <td>1.000000</td>\n",
       "    </tr>\n",
       "  </tbody>\n",
       "</table>\n",
       "</div>"
      ],
      "text/plain": [
       "       fixed acidity  volatile acidity  citric acid  residual sugar  \\\n",
       "count    1599.000000       1599.000000  1599.000000     1599.000000   \n",
       "mean        8.319637          0.527821     0.270976        2.538806   \n",
       "std         1.741096          0.179060     0.194801        1.409928   \n",
       "min         4.600000          0.120000     0.000000        0.900000   \n",
       "25%         7.100000          0.390000     0.090000        1.900000   \n",
       "50%         7.900000          0.520000     0.260000        2.200000   \n",
       "75%         9.200000          0.640000     0.420000        2.600000   \n",
       "max        15.900000          1.580000     1.000000       15.500000   \n",
       "\n",
       "         chlorides  free sulfur dioxide  total sulfur dioxide      density  \\\n",
       "count  1599.000000          1599.000000           1599.000000  1599.000000   \n",
       "mean      0.087467            15.875547             46.468418     0.996747   \n",
       "std       0.047065            10.460434             32.895920     0.001887   \n",
       "min       0.012000             1.000000              6.000000     0.990070   \n",
       "25%       0.070000             7.000000             22.000000     0.995600   \n",
       "50%       0.079000            14.000000             38.000000     0.996750   \n",
       "75%       0.090000            21.000000             62.000000     0.997835   \n",
       "max       0.611000            72.000000            289.000000     1.003690   \n",
       "\n",
       "                pH    sulphates      alcohol      quality  \n",
       "count  1599.000000  1599.000000  1599.000000  1599.000000  \n",
       "mean      3.311113     0.658149    10.422983     0.534709  \n",
       "std       0.154386     0.169507     1.065668     0.498950  \n",
       "min       2.740000     0.330000     8.400000     0.000000  \n",
       "25%       3.210000     0.550000     9.500000     0.000000  \n",
       "50%       3.310000     0.620000    10.200000     1.000000  \n",
       "75%       3.400000     0.730000    11.100000     1.000000  \n",
       "max       4.010000     2.000000    14.900000     1.000000  "
      ]
     },
     "execution_count": 7,
     "metadata": {},
     "output_type": "execute_result"
    }
   ],
   "source": [
    "wines.describe()"
   ]
  },
  {
   "cell_type": "markdown",
   "id": "0409233c-f2d4-48fa-a560-c9f45b0c4c64",
   "metadata": {
    "id": "0409233c-f2d4-48fa-a560-c9f45b0c4c64"
   },
   "source": [
    "We now define our features - all wine parameters - and our target variable - the wine quality:"
   ]
  },
  {
   "cell_type": "code",
   "execution_count": 8,
   "id": "66708daf-fce1-4eb2-84ca-709c3b556ff1",
   "metadata": {
    "id": "66708daf-fce1-4eb2-84ca-709c3b556ff1"
   },
   "outputs": [],
   "source": [
    "# Define features and target variable\n",
    "X = wines.drop(columns='quality')\n",
    "y = wines['quality']"
   ]
  },
  {
   "cell_type": "markdown",
   "id": "6e1dffca-cb02-4261-81df-b0729f88d975",
   "metadata": {
    "id": "6e1dffca-cb02-4261-81df-b0729f88d975"
   },
   "source": [
    "We know check how many observations we have for each class:"
   ]
  },
  {
   "cell_type": "code",
   "execution_count": 9,
   "id": "f5976a37-8e49-4f00-8bfb-76f3a5060e36",
   "metadata": {
    "colab": {
     "base_uri": "https://localhost:8080/"
    },
    "id": "f5976a37-8e49-4f00-8bfb-76f3a5060e36",
    "outputId": "896d0632-1018-4ac2-9afc-6f5f686a5879"
   },
   "outputs": [
    {
     "data": {
      "text/plain": [
       "quality\n",
       "1    855\n",
       "0    744\n",
       "Name: count, dtype: int64"
      ]
     },
     "execution_count": 9,
     "metadata": {},
     "output_type": "execute_result"
    }
   ],
   "source": [
    "# Count the number of observations (rows) corresponding to each value\n",
    "y.value_counts()"
   ]
  },
  {
   "cell_type": "markdown",
   "id": "a16d8f2c-5bd6-441c-96a8-3d1965171e68",
   "metadata": {
    "id": "a16d8f2c-5bd6-441c-96a8-3d1965171e68"
   },
   "source": [
    "We have 855 \"good\" quality wines and 744 \"poor\" quality wines. The number of observations for each class influence the quality of our predictions. Here, our dataset is reasonably balanced."
   ]
  },
  {
   "cell_type": "markdown",
   "id": "2da1d609-f411-4205-9026-f452795d8dac",
   "metadata": {
    "id": "2da1d609-f411-4205-9026-f452795d8dac"
   },
   "source": [
    "### Splitting the dataset"
   ]
  },
  {
   "cell_type": "markdown",
   "id": "2e022dc7-61eb-41cd-b112-8f099274231c",
   "metadata": {
    "id": "2e022dc7-61eb-41cd-b112-8f099274231c"
   },
   "source": [
    "As always, the first step is to split our data into random training and test subsets. Recall that the training set is used to learn the parameters of our model while the test set is used to evaluate our predictions.\n",
    "\n",
    "We use the `train_test_split` ([Documentation](https://scikit-learn.org/stable/modules/generated/sklearn.model_selection.train_test_split.html)) of sklearn and reserve 25% of the original data as test set."
   ]
  },
  {
   "cell_type": "code",
   "execution_count": 10,
   "id": "2bed44fb-c22b-4bc3-8c28-5bc1d2f469cb",
   "metadata": {
    "colab": {
     "base_uri": "https://localhost:8080/"
    },
    "id": "2bed44fb-c22b-4bc3-8c28-5bc1d2f469cb",
    "outputId": "3a700c17-bdb9-423d-a52c-cabc524a8583"
   },
   "outputs": [
    {
     "name": "stdout",
     "output_type": "stream",
     "text": [
      "The training set has 1199 observations, and the test set has 400 observations.\n"
     ]
    }
   ],
   "source": [
    "#Split data set into a train and a test data sets\n",
    "X_train, X_test, y_train, y_test = train_test_split(X, y, test_size=0.25, random_state=0, shuffle=True)\n",
    "\n",
    "print(f\"The training set has {X_train.shape[0]} observations, and the test set has {X_test.shape[0]} observations.\")"
   ]
  },
  {
   "cell_type": "markdown",
   "id": "d607ddfc-bfab-4834-a4fb-a54e93b12114",
   "metadata": {
    "id": "d607ddfc-bfab-4834-a4fb-a54e93b12114"
   },
   "source": [
    "### Rescaling\n",
    "\n",
    "When we have a dataset with features with very distinct ranges, many ML models (including logistic regression) might produce biased results. Thus we want the features to be in the same or similar range, which also helps the interpretation of the model parameters (weights). We therefore **normalize** the data. In our example solution below we will normalize both our **train AND test data** using the `MinMaxScaler()`([Documentation](https://scikit-learn.org/0.15/modules/generated/sklearn.preprocessing.MinMaxScaler.html)). "
   ]
  },
  {
   "cell_type": "code",
   "execution_count": 12,
   "id": "10a107b7-f1cb-4b31-a20f-ecdc9b61b7e6",
   "metadata": {
    "id": "10a107b7-f1cb-4b31-a20f-ecdc9b61b7e6"
   },
   "outputs": [],
   "source": [
    "# Define the scaler\n",
    "scaler = MinMaxScaler()\n",
    "\n",
    "# Fit the scaler\n",
    "scaler.fit(X_train) # here the scaler learns the min and max of each attribute from the training set\n",
    "\n",
    "# Transform the train and the test set\n",
    "X_train = scaler.transform(X_train)\n",
    "X_test = scaler.transform(X_test)\n"
   ]
  },
  {
   "cell_type": "markdown",
   "id": "4f0a1b43-4e06-4b70-8a83-c5e58d99e2d7",
   "metadata": {
    "id": "4f0a1b43-4e06-4b70-8a83-c5e58d99e2d7"
   },
   "source": [
    "### Building and training our classifier\n",
    "\n",
    "To predict the class of our target variable we use a logistic regression. The sklearn module is called `LogisticRegression()` ([Documentation](https://scikit-learn.org/stable/modules/generated/sklearn.linear_model.LogisticRegression.html)). \n",
    "\n",
    "Note that L2-regularization is applied by default. By specifying the argument *penalty*, you can specify the regularization techniques, namely 'l1', 'l2', 'elasticnet', or None.\n",
    "\n",
    "You can also specify the *solver*. By default, 'lbfgs' is used, which stands for [Limited-memory Broyden–Fletcher–Goldfarb–Shanno](https://en.wikipedia.org/wiki/Limited-memory_BFGS).\n",
    "Note that the choice of the algorithm depends on the penalty chosen. You can refer to the documentation for insights on the choice of solver/penalty depending on your problem and data.\n",
    "\n",
    "**A short note on solver:**\n",
    "L-BFGS approximates the Broyden–Fletcher–Goldfarb–Shanno algorithm ([BFGS](https://en.wikipedia.org/wiki/Broyden%E2%80%93Fletcher%E2%80%93Goldfarb%E2%80%93Shanno_algorithm)), which is based on [Newton's method](https://en.wikipedia.org/wiki/Newton%27s_method_in_optimization), an alternative to Gradient Descent. While the Gradient Descent rely on the gradient (first-order derivatives) to update our parameters, Newton's method also makes use of the [Hessian matrix](https://en.wikipedia.org/wiki/Hessian_matrix), i.e., the second-order derivatives. Newton's method generally converges faster than Gradient Descent. However, Newton's method is computationally-expensive and the Hessian might not even exist. Hence, numerical methods called [Quasi-Newton](https://en.wikipedia.org/wiki/Quasi-Newton_method), such as BFGS, have been developed to solve optimization problems.  "
   ]
  },
  {
   "cell_type": "code",
   "execution_count": 13,
   "id": "6e909b23-c4db-408d-8bd9-3267b8281632",
   "metadata": {
    "colab": {
     "base_uri": "https://localhost:8080/",
     "height": 74
    },
    "id": "6e909b23-c4db-408d-8bd9-3267b8281632",
    "outputId": "4cfd68c6-5f74-4ede-cdc9-83a803f562fd"
   },
   "outputs": [
    {
     "data": {
      "text/html": [
       "<style>#sk-container-id-1 {color: black;}#sk-container-id-1 pre{padding: 0;}#sk-container-id-1 div.sk-toggleable {background-color: white;}#sk-container-id-1 label.sk-toggleable__label {cursor: pointer;display: block;width: 100%;margin-bottom: 0;padding: 0.3em;box-sizing: border-box;text-align: center;}#sk-container-id-1 label.sk-toggleable__label-arrow:before {content: \"▸\";float: left;margin-right: 0.25em;color: #696969;}#sk-container-id-1 label.sk-toggleable__label-arrow:hover:before {color: black;}#sk-container-id-1 div.sk-estimator:hover label.sk-toggleable__label-arrow:before {color: black;}#sk-container-id-1 div.sk-toggleable__content {max-height: 0;max-width: 0;overflow: hidden;text-align: left;background-color: #f0f8ff;}#sk-container-id-1 div.sk-toggleable__content pre {margin: 0.2em;color: black;border-radius: 0.25em;background-color: #f0f8ff;}#sk-container-id-1 input.sk-toggleable__control:checked~div.sk-toggleable__content {max-height: 200px;max-width: 100%;overflow: auto;}#sk-container-id-1 input.sk-toggleable__control:checked~label.sk-toggleable__label-arrow:before {content: \"▾\";}#sk-container-id-1 div.sk-estimator input.sk-toggleable__control:checked~label.sk-toggleable__label {background-color: #d4ebff;}#sk-container-id-1 div.sk-label input.sk-toggleable__control:checked~label.sk-toggleable__label {background-color: #d4ebff;}#sk-container-id-1 input.sk-hidden--visually {border: 0;clip: rect(1px 1px 1px 1px);clip: rect(1px, 1px, 1px, 1px);height: 1px;margin: -1px;overflow: hidden;padding: 0;position: absolute;width: 1px;}#sk-container-id-1 div.sk-estimator {font-family: monospace;background-color: #f0f8ff;border: 1px dotted black;border-radius: 0.25em;box-sizing: border-box;margin-bottom: 0.5em;}#sk-container-id-1 div.sk-estimator:hover {background-color: #d4ebff;}#sk-container-id-1 div.sk-parallel-item::after {content: \"\";width: 100%;border-bottom: 1px solid gray;flex-grow: 1;}#sk-container-id-1 div.sk-label:hover label.sk-toggleable__label {background-color: #d4ebff;}#sk-container-id-1 div.sk-serial::before {content: \"\";position: absolute;border-left: 1px solid gray;box-sizing: border-box;top: 0;bottom: 0;left: 50%;z-index: 0;}#sk-container-id-1 div.sk-serial {display: flex;flex-direction: column;align-items: center;background-color: white;padding-right: 0.2em;padding-left: 0.2em;position: relative;}#sk-container-id-1 div.sk-item {position: relative;z-index: 1;}#sk-container-id-1 div.sk-parallel {display: flex;align-items: stretch;justify-content: center;background-color: white;position: relative;}#sk-container-id-1 div.sk-item::before, #sk-container-id-1 div.sk-parallel-item::before {content: \"\";position: absolute;border-left: 1px solid gray;box-sizing: border-box;top: 0;bottom: 0;left: 50%;z-index: -1;}#sk-container-id-1 div.sk-parallel-item {display: flex;flex-direction: column;z-index: 1;position: relative;background-color: white;}#sk-container-id-1 div.sk-parallel-item:first-child::after {align-self: flex-end;width: 50%;}#sk-container-id-1 div.sk-parallel-item:last-child::after {align-self: flex-start;width: 50%;}#sk-container-id-1 div.sk-parallel-item:only-child::after {width: 0;}#sk-container-id-1 div.sk-dashed-wrapped {border: 1px dashed gray;margin: 0 0.4em 0.5em 0.4em;box-sizing: border-box;padding-bottom: 0.4em;background-color: white;}#sk-container-id-1 div.sk-label label {font-family: monospace;font-weight: bold;display: inline-block;line-height: 1.2em;}#sk-container-id-1 div.sk-label-container {text-align: center;}#sk-container-id-1 div.sk-container {/* jupyter's `normalize.less` sets `[hidden] { display: none; }` but bootstrap.min.css set `[hidden] { display: none !important; }` so we also need the `!important` here to be able to override the default hidden behavior on the sphinx rendered scikit-learn.org. See: https://github.com/scikit-learn/scikit-learn/issues/21755 */display: inline-block !important;position: relative;}#sk-container-id-1 div.sk-text-repr-fallback {display: none;}</style><div id=\"sk-container-id-1\" class=\"sk-top-container\"><div class=\"sk-text-repr-fallback\"><pre>LogisticRegression(max_iter=1000)</pre><b>In a Jupyter environment, please rerun this cell to show the HTML representation or trust the notebook. <br />On GitHub, the HTML representation is unable to render, please try loading this page with nbviewer.org.</b></div><div class=\"sk-container\" hidden><div class=\"sk-item\"><div class=\"sk-estimator sk-toggleable\"><input class=\"sk-toggleable__control sk-hidden--visually\" id=\"sk-estimator-id-1\" type=\"checkbox\" checked><label for=\"sk-estimator-id-1\" class=\"sk-toggleable__label sk-toggleable__label-arrow\">LogisticRegression</label><div class=\"sk-toggleable__content\"><pre>LogisticRegression(max_iter=1000)</pre></div></div></div></div></div>"
      ],
      "text/plain": [
       "LogisticRegression(max_iter=1000)"
      ]
     },
     "execution_count": 13,
     "metadata": {},
     "output_type": "execute_result"
    }
   ],
   "source": [
    "# 1. Set up our model\n",
    "model = LogisticRegression(penalty='l2', solver='lbfgs', max_iter=1000)\n",
    "\n",
    "# 2. Fit our model\n",
    "model.fit(X_train, y_train)"
   ]
  },
  {
   "cell_type": "markdown",
   "id": "7e935629-c646-44e6-8491-ecbf664b8e75",
   "metadata": {
    "id": "7e935629-c646-44e6-8491-ecbf664b8e75"
   },
   "source": [
    "After fitting the model, we can easily retrieve the values of the different weights coefficients: the intercept with `.intercept_`, and the weights of each feature with `.coef_.flatten()`:"
   ]
  },
  {
   "cell_type": "code",
   "execution_count": 14,
   "id": "a615f08f-a1b1-40df-b897-d2e01edc9b6e",
   "metadata": {
    "colab": {
     "base_uri": "https://localhost:8080/",
     "height": 425
    },
    "id": "a615f08f-a1b1-40df-b897-d2e01edc9b6e",
    "outputId": "183ddb00-f01c-4a9e-be0a-26bf59302779"
   },
   "outputs": [
    {
     "data": {
      "text/html": [
       "<div>\n",
       "<style scoped>\n",
       "    .dataframe tbody tr th:only-of-type {\n",
       "        vertical-align: middle;\n",
       "    }\n",
       "\n",
       "    .dataframe tbody tr th {\n",
       "        vertical-align: top;\n",
       "    }\n",
       "\n",
       "    .dataframe thead th {\n",
       "        text-align: right;\n",
       "    }\n",
       "</style>\n",
       "<table border=\"1\" class=\"dataframe\">\n",
       "  <thead>\n",
       "    <tr style=\"text-align: right;\">\n",
       "      <th></th>\n",
       "      <th>Coefficients logistic model</th>\n",
       "    </tr>\n",
       "  </thead>\n",
       "  <tbody>\n",
       "    <tr>\n",
       "      <th>Intercept</th>\n",
       "      <td>-0.096618</td>\n",
       "    </tr>\n",
       "    <tr>\n",
       "      <th>fixed acidity</th>\n",
       "      <td>1.060667</td>\n",
       "    </tr>\n",
       "    <tr>\n",
       "      <th>volatile acidity</th>\n",
       "      <td>-3.335574</td>\n",
       "    </tr>\n",
       "    <tr>\n",
       "      <th>citric acid</th>\n",
       "      <td>-0.269326</td>\n",
       "    </tr>\n",
       "    <tr>\n",
       "      <th>residual sugar</th>\n",
       "      <td>0.596732</td>\n",
       "    </tr>\n",
       "    <tr>\n",
       "      <th>chlorides</th>\n",
       "      <td>-1.266971</td>\n",
       "    </tr>\n",
       "    <tr>\n",
       "      <th>free sulfur dioxide</th>\n",
       "      <td>0.391015</td>\n",
       "    </tr>\n",
       "    <tr>\n",
       "      <th>total sulfur dioxide</th>\n",
       "      <td>-2.752863</td>\n",
       "    </tr>\n",
       "    <tr>\n",
       "      <th>density</th>\n",
       "      <td>-0.782913</td>\n",
       "    </tr>\n",
       "    <tr>\n",
       "      <th>pH</th>\n",
       "      <td>-0.245513</td>\n",
       "    </tr>\n",
       "    <tr>\n",
       "      <th>sulphates</th>\n",
       "      <td>2.852787</td>\n",
       "    </tr>\n",
       "    <tr>\n",
       "      <th>alcohol</th>\n",
       "      <td>4.432689</td>\n",
       "    </tr>\n",
       "  </tbody>\n",
       "</table>\n",
       "</div>"
      ],
      "text/plain": [
       "                      Coefficients logistic model\n",
       "Intercept                               -0.096618\n",
       "fixed acidity                            1.060667\n",
       "volatile acidity                        -3.335574\n",
       "citric acid                             -0.269326\n",
       "residual sugar                           0.596732\n",
       "chlorides                               -1.266971\n",
       "free sulfur dioxide                      0.391015\n",
       "total sulfur dioxide                    -2.752863\n",
       "density                                 -0.782913\n",
       "pH                                      -0.245513\n",
       "sulphates                                2.852787\n",
       "alcohol                                  4.432689"
      ]
     },
     "execution_count": 14,
     "metadata": {},
     "output_type": "execute_result"
    }
   ],
   "source": [
    "# Dataframe with the intercept and coefficients (weights) of the logistic model\n",
    "model_coeff = pd.DataFrame(np.concatenate((model.intercept_, model.coef_.flatten())),\n",
    "                     index=[\"Intercept\"] + list(X.columns.values),\n",
    "                     columns=['Coefficients logistic model'])\n",
    "model_coeff"
   ]
  },
  {
   "cell_type": "markdown",
   "id": "41e583fd-4373-47b2-a70b-23ad6e621981",
   "metadata": {
    "id": "41e583fd-4373-47b2-a70b-23ad6e621981"
   },
   "source": [
    "It seems like the level of alcohol and volatile acidity were the most important features to predict the wine quality, at least in our model."
   ]
  },
  {
   "cell_type": "markdown",
   "id": "4185d54b-63ca-41d0-a48a-2b4ea7930baa",
   "metadata": {
    "id": "4185d54b-63ca-41d0-a48a-2b4ea7930baa"
   },
   "source": [
    "### Using the classifier to make prediction"
   ]
  },
  {
   "cell_type": "markdown",
   "id": "5554cc06-ed5f-4b9d-a477-9943e551cf7a",
   "metadata": {
    "id": "5554cc06-ed5f-4b9d-a477-9943e551cf7a"
   },
   "source": [
    "Once our model has been trained, we can use `predict()` to predict new values. We predict the values from the test set to then evaluate the model, estimating the accuracy of our classifier."
   ]
  },
  {
   "cell_type": "code",
   "execution_count": 15,
   "id": "2883ebcd-bcfc-4bab-85ef-ad0ea8d78778",
   "metadata": {
    "id": "2883ebcd-bcfc-4bab-85ef-ad0ea8d78778"
   },
   "outputs": [],
   "source": [
    "y_pred = model.predict(X_test)"
   ]
  },
  {
   "cell_type": "markdown",
   "id": "8e1941fb-44bb-4abf-b9d8-0555a499fa6d",
   "metadata": {
    "id": "8e1941fb-44bb-4abf-b9d8-0555a499fa6d"
   },
   "source": [
    "We can even access the probabilities that one observation belongs to one class or the other with `predict_proba()`. The largest probability determines the predicted class."
   ]
  },
  {
   "cell_type": "code",
   "execution_count": 16,
   "id": "dd8bf5e9-f35c-44f2-9ce0-612bfe5bd53d",
   "metadata": {
    "colab": {
     "base_uri": "https://localhost:8080/",
     "height": 175
    },
    "id": "dd8bf5e9-f35c-44f2-9ce0-612bfe5bd53d",
    "outputId": "cdba8502-b494-4c71-ed58-293be15a184c"
   },
   "outputs": [
    {
     "data": {
      "text/html": [
       "<div>\n",
       "<style scoped>\n",
       "    .dataframe tbody tr th:only-of-type {\n",
       "        vertical-align: middle;\n",
       "    }\n",
       "\n",
       "    .dataframe tbody tr th {\n",
       "        vertical-align: top;\n",
       "    }\n",
       "\n",
       "    .dataframe thead th {\n",
       "        text-align: right;\n",
       "    }\n",
       "</style>\n",
       "<table border=\"1\" class=\"dataframe\">\n",
       "  <thead>\n",
       "    <tr style=\"text-align: right;\">\n",
       "      <th></th>\n",
       "      <th>Probability poor-quality wine</th>\n",
       "      <th>Probability good wine</th>\n",
       "    </tr>\n",
       "  </thead>\n",
       "  <tbody>\n",
       "    <tr>\n",
       "      <th>0</th>\n",
       "      <td>0.352811</td>\n",
       "      <td>0.647189</td>\n",
       "    </tr>\n",
       "    <tr>\n",
       "      <th>1</th>\n",
       "      <td>0.727663</td>\n",
       "      <td>0.272337</td>\n",
       "    </tr>\n",
       "    <tr>\n",
       "      <th>2</th>\n",
       "      <td>0.089182</td>\n",
       "      <td>0.910818</td>\n",
       "    </tr>\n",
       "    <tr>\n",
       "      <th>3</th>\n",
       "      <td>0.586545</td>\n",
       "      <td>0.413455</td>\n",
       "    </tr>\n",
       "  </tbody>\n",
       "</table>\n",
       "</div>"
      ],
      "text/plain": [
       "   Probability poor-quality wine  Probability good wine\n",
       "0                       0.352811               0.647189\n",
       "1                       0.727663               0.272337\n",
       "2                       0.089182               0.910818\n",
       "3                       0.586545               0.413455"
      ]
     },
     "execution_count": 16,
     "metadata": {},
     "output_type": "execute_result"
    }
   ],
   "source": [
    "# Dataframe with probabilities that our first 5 observations belong to each class\n",
    "model_proba = pd.DataFrame(model.predict_proba(X_test)[0:4],\n",
    "                     columns=['Probability poor-quality wine', 'Probability good wine'])\n",
    "model_proba"
   ]
  },
  {
   "cell_type": "markdown",
   "id": "0dc6921d-d075-4f8c-9ef8-e7ebdb150513",
   "metadata": {
    "id": "0dc6921d-d075-4f8c-9ef8-e7ebdb150513"
   },
   "source": [
    "###  Evaluating our classifier"
   ]
  },
  {
   "cell_type": "markdown",
   "id": "c2af149f-9cf2-45a1-9b15-279ecf50ef0a",
   "metadata": {
    "id": "c2af149f-9cf2-45a1-9b15-279ecf50ef0a"
   },
   "source": [
    "We will now evaluate the performance of our classifier using several metrics."
   ]
  },
  {
   "cell_type": "markdown",
   "id": "c9a3e15a-dd3f-40ec-afa7-782e5ba2fc5c",
   "metadata": {
    "id": "c9a3e15a-dd3f-40ec-afa7-782e5ba2fc5c"
   },
   "source": [
    "#### Accuracy\n",
    "\n",
    "For a sklearn classifier, this can be computed using the `score` method."
   ]
  },
  {
   "cell_type": "code",
   "execution_count": 17,
   "id": "81238743-9b28-410e-8f6a-f0934d6c8f6f",
   "metadata": {
    "colab": {
     "base_uri": "https://localhost:8080/"
    },
    "id": "81238743-9b28-410e-8f6a-f0934d6c8f6f",
    "outputId": "b7a7c125-4faf-46db-b955-66292ed42dc9"
   },
   "outputs": [
    {
     "name": "stdout",
     "output_type": "stream",
     "text": [
      "Accuracy of Logistic regression classifier on test set: 0.75\n",
      "Accuracy of Logistic regression classifier on training set: 0.74\n"
     ]
    }
   ],
   "source": [
    "# Accuracy on the test set\n",
    "print('Accuracy of Logistic regression classifier on test set: {:.2f}'\n",
    "     .format(model.score(X_test, y_test)))\n",
    "\n",
    "# Accuracy on the training set\n",
    "print('Accuracy of Logistic regression classifier on training set: {:.2f}'\n",
    "     .format(model.score(X_train, y_train)))"
   ]
  },
  {
   "cell_type": "markdown",
   "id": "3f8747b9-9300-4568-9144-5011d0bd7d57",
   "metadata": {
    "id": "3f8747b9-9300-4568-9144-5011d0bd7d57"
   },
   "source": [
    "Alternatively, we could use the `accuracy_score` module:\n",
    "\n"
   ]
  },
  {
   "cell_type": "code",
   "execution_count": 18,
   "id": "4385d7cb-2e5e-44dd-b6d6-1895303f0d6c",
   "metadata": {
    "colab": {
     "base_uri": "https://localhost:8080/"
    },
    "id": "4385d7cb-2e5e-44dd-b6d6-1895303f0d6c",
    "outputId": "aadc98a5-1e21-498f-9800-6a37aaf9b4da"
   },
   "outputs": [
    {
     "name": "stdout",
     "output_type": "stream",
     "text": [
      "Accurary of Logistic regression classifier on test set: 0.75\n"
     ]
    }
   ],
   "source": [
    "accuracy_test = accuracy_score(y_test, y_pred)\n",
    "\n",
    "print(f'Accurary of Logistic regression classifier on test set: {accuracy_test :.2f}')"
   ]
  },
  {
   "cell_type": "markdown",
   "id": "a4376c9e-5a5d-4d49-a30b-9b98d4b6f0b4",
   "metadata": {
    "id": "a4376c9e-5a5d-4d49-a30b-9b98d4b6f0b4"
   },
   "source": [
    "When the testing accuracy is much lower than the training accuracy, we have an overfitting issue. Reciprocally, when the testing accuracy is similar to or higher than the training accuracy, the model might be underfitting, and we could consider either using a more powerful model or adding additional\n",
    "features.\n",
    "\n",
    "Our testing accuracy is 75%. Is that good? It depends! The quality of our prediction depends on the distribution of the classes in our original data:"
   ]
  },
  {
   "cell_type": "code",
   "execution_count": 19,
   "id": "15ba86eb-3539-4b63-864a-c9643c7755bf",
   "metadata": {
    "colab": {
     "base_uri": "https://localhost:8080/",
     "height": 447
    },
    "id": "15ba86eb-3539-4b63-864a-c9643c7755bf",
    "outputId": "6fd356a3-a27c-437b-a971-6ca4f2432432"
   },
   "outputs": [
    {
     "data": {
      "image/png": "[encoded data removed]",
      "text/plain": [
       "<Figure size 640x480 with 1 Axes>"
      ]
     },
     "metadata": {},
     "output_type": "display_data"
    }
   ],
   "source": [
    "y.value_counts().plot.bar(color=['purple', 'blue'], grid=False)\n",
    "plt.ylabel('Number of observations')\n",
    "plt.title('Number of observations of each class in the wine dataset');"
   ]
  },
  {
   "cell_type": "markdown",
   "id": "26719ec2-0d1f-4516-a1d0-94afd091365a",
   "metadata": {
    "id": "26719ec2-0d1f-4516-a1d0-94afd091365a"
   },
   "source": [
    "Imagine we have a naive classifier that always predict the majority class. We call the default rate (or base rate) the accuracy of this classifier, which is equal to the size of the most common class over the size of the full dataset:\n",
    "\n",
    "$$\\text{Default rate} = \\frac{\\# \\text{ most frequent class}}{\\# \\text{ total observations}}$$\n",
    "\n",
    "If the default rate is too high, then the classification can be biased, meaning that the data set has too many observations of one class compared to the other classes, and has hence more impact on the classification results.\n",
    "\n",
    "The accuracy of our classifier should be better than the default rate. Let's calculate this default rate!"
   ]
  },
  {
   "cell_type": "code",
   "execution_count": 20,
   "id": "67a06e9a-9230-4a7b-b3f7-b46caf19b7a2",
   "metadata": {
    "colab": {
     "base_uri": "https://localhost:8080/"
    },
    "id": "67a06e9a-9230-4a7b-b3f7-b46caf19b7a2",
    "outputId": "825a5506-424b-4c4f-8304-97375c1be2b4"
   },
   "outputs": [
    {
     "name": "stdout",
     "output_type": "stream",
     "text": [
      "# occurrence of class 0:  744\n",
      "# occurence of class 1:  855\n",
      "Default rate = 0.5347\n"
     ]
    }
   ],
   "source": [
    "# Compute the default rate\n",
    "quality_0 = wines.loc[wines[\"quality\"] == 0].shape[0]\n",
    "print('# occurrence of class 0: ', quality_0)\n",
    "quality_1 = wines.loc[wines[\"quality\"] == 1].shape[0]\n",
    "print('# occurence of class 1: ', quality_1)\n",
    "defaultrate = max(quality_0, quality_1)/(wines[\"quality\"].shape[0])\n",
    "print(f'Default rate = {defaultrate:0.4f}')"
   ]
  },
  {
   "cell_type": "markdown",
   "id": "abfc42bc-843e-4872-b1f8-df31dd2b34bf",
   "metadata": {
    "id": "abfc42bc-843e-4872-b1f8-df31dd2b34bf"
   },
   "source": [
    "The default rate for our task is about 53.5% while our classifier accuracy is 75%. Not too bad!"
   ]
  },
  {
   "cell_type": "markdown",
   "id": "00d4d413-7a87-4590-a54f-cc5b6d44bb8e",
   "metadata": {
    "id": "00d4d413-7a87-4590-a54f-cc5b6d44bb8e"
   },
   "source": [
    "#### Confusion matrix\n",
    "\n",
    "The confusion matrix allows us to get more details on the performance of our model. It will allow us to see what our classification model is getting right and what types of errors it is making. So let's compute it. It requires as input the true values and the predicted values:"
   ]
  },
  {
   "cell_type": "code",
   "execution_count": 21,
   "id": "06f11c82-0201-4916-93c2-7309f84f7f91",
   "metadata": {
    "colab": {
     "base_uri": "https://localhost:8080/"
    },
    "id": "06f11c82-0201-4916-93c2-7309f84f7f91",
    "outputId": "e756be46-9ffb-445a-b952-4107bd8ca900"
   },
   "outputs": [
    {
     "data": {
      "text/plain": [
       "array([[137,  48],\n",
       "       [ 52, 163]])"
      ]
     },
     "execution_count": 21,
     "metadata": {},
     "output_type": "execute_result"
    }
   ],
   "source": [
    "confusion_matrix(y_test, y_pred)"
   ]
  },
  {
   "cell_type": "markdown",
   "id": "6b7b9179-14f6-42cc-8715-6a9248f10007",
   "metadata": {
    "id": "6b7b9179-14f6-42cc-8715-6a9248f10007"
   },
   "source": [
    "To obtain a more visual representation, we will use `heatmap` from the `seaborn` library:"
   ]
  },
  {
   "cell_type": "code",
   "execution_count": 22,
   "id": "760b68ac-74a0-4f8a-8e53-c4e5bd1f7838",
   "metadata": {
    "colab": {
     "base_uri": "https://localhost:8080/",
     "height": 472
    },
    "id": "760b68ac-74a0-4f8a-8e53-c4e5bd1f7838",
    "outputId": "94d90bb8-2fb5-4895-803b-f0b9e37e49be"
   },
   "outputs": [
    {
     "data": {
      "image/png": "[encoded data removed]",
      "text/plain": [
       "<Figure size 640x480 with 2 Axes>"
      ]
     },
     "metadata": {},
     "output_type": "display_data"
    }
   ],
   "source": [
    "sns.heatmap(confusion_matrix(y_test, y_pred), annot=True, cmap='Blues', fmt='.4g')\n",
    "plt.xlabel('Predicted label')\n",
    "plt.ylabel('True labels')\n",
    "plt.title('Confusion Matrix');"
   ]
  },
  {
   "cell_type": "markdown",
   "id": "c22860d3-e863-4045-b487-9ffbdc36093c",
   "metadata": {
    "id": "c22860d3-e863-4045-b487-9ffbdc36093c"
   },
   "source": [
    "#### Precision, Recall, F Score"
   ]
  },
  {
   "cell_type": "markdown",
   "id": "6aec43ad-713a-48bb-8517-5768fe3c35e9",
   "metadata": {
    "id": "6aec43ad-713a-48bb-8517-5768fe3c35e9"
   },
   "source": [
    "We will compute the precision using `precision_score` ([Documentation](https://scikit-learn.org/stable/modules/generated/sklearn.metrics.precision_score.html#sklearn.metrics.precision_score)), the recall using `recall_score` ([Documentation](https://scikit-learn.org/stable/modules/generated/sklearn.metrics.recall_score.html#sklearn.metrics.recall_score)), and the F1 score using `f1_score` ([Documentation](https://scikit-learn.org/stable/modules/generated/sklearn.metrics.f1_score.html#sklearn.metrics.f1_score)).\n",
    "\n",
    "For a binary classifier, all metrics will report by default the scores associated with the positive class (i.e., with observations equal to 1). If we are interested in the results for another class, we need to specify this in the parameters. For instance, the parameter `average = None` will return the scores of each class:"
   ]
  },
  {
   "cell_type": "code",
   "execution_count": 23,
   "id": "45baf3f7-da07-4ffd-b88d-56967671f118",
   "metadata": {
    "colab": {
     "base_uri": "https://localhost:8080/"
    },
    "id": "45baf3f7-da07-4ffd-b88d-56967671f118",
    "outputId": "875c1189-01ae-4fc5-f675-8b98e1a694f0"
   },
   "outputs": [
    {
     "name": "stdout",
     "output_type": "stream",
     "text": [
      "The precision for class 1 (good wines) is: 0.773\n",
      "The recall for class 1 is: 0.758\n",
      "The F1 score for class 1 is: 0.765\n"
     ]
    }
   ],
   "source": [
    "print('The precision for class 1 (good wines) is: {:0.3f}'.format(precision_score(y_test, y_pred)))\n",
    "print('The recall for class 1 is: {:0.3f}'.format(recall_score(y_test, y_pred)))\n",
    "print('The F1 score for class 1 is: {:0.3f}'.format(f1_score(y_test, y_pred)))"
   ]
  },
  {
   "cell_type": "code",
   "execution_count": 24,
   "id": "97534c50-3407-4bef-b79f-44da9ed81142",
   "metadata": {
    "colab": {
     "base_uri": "https://localhost:8080/",
     "height": 143
    },
    "id": "97534c50-3407-4bef-b79f-44da9ed81142",
    "outputId": "a9522bad-45ed-44e6-e277-16049d279666"
   },
   "outputs": [
    {
     "data": {
      "text/html": [
       "<div>\n",
       "<style scoped>\n",
       "    .dataframe tbody tr th:only-of-type {\n",
       "        vertical-align: middle;\n",
       "    }\n",
       "\n",
       "    .dataframe tbody tr th {\n",
       "        vertical-align: top;\n",
       "    }\n",
       "\n",
       "    .dataframe thead th {\n",
       "        text-align: right;\n",
       "    }\n",
       "</style>\n",
       "<table border=\"1\" class=\"dataframe\">\n",
       "  <thead>\n",
       "    <tr style=\"text-align: right;\">\n",
       "      <th></th>\n",
       "      <th>Class 0</th>\n",
       "      <th>Class 1</th>\n",
       "    </tr>\n",
       "  </thead>\n",
       "  <tbody>\n",
       "    <tr>\n",
       "      <th>Precision</th>\n",
       "      <td>0.724868</td>\n",
       "      <td>0.772512</td>\n",
       "    </tr>\n",
       "    <tr>\n",
       "      <th>Recall</th>\n",
       "      <td>0.740541</td>\n",
       "      <td>0.758140</td>\n",
       "    </tr>\n",
       "    <tr>\n",
       "      <th>F1 score</th>\n",
       "      <td>0.732620</td>\n",
       "      <td>0.765258</td>\n",
       "    </tr>\n",
       "  </tbody>\n",
       "</table>\n",
       "</div>"
      ],
      "text/plain": [
       "            Class 0   Class 1\n",
       "Precision  0.724868  0.772512\n",
       "Recall     0.740541  0.758140\n",
       "F1 score   0.732620  0.765258"
      ]
     },
     "execution_count": 24,
     "metadata": {},
     "output_type": "execute_result"
    }
   ],
   "source": [
    "# Precision of each class\n",
    "model_precision = precision_score(y_test, y_pred, average = None)\n",
    "# Recall of each class\n",
    "model_recall = recall_score(y_test, y_pred, average = None)\n",
    "# F1 score of each class\n",
    "model_f1 = f1_score(y_test, y_pred, average = None)\n",
    "\n",
    "# Visualize all results in a dataframe:\n",
    "model_eval = pd.DataFrame([model_precision, model_recall, model_f1],\n",
    "                    index = ['Precision', 'Recall', 'F1 score'],\n",
    "                    columns=['Class 0', 'Class 1'])\n",
    "model_eval"
   ]
  },
  {
   "cell_type": "markdown",
   "id": "b1ef31e3-c610-4964-be00-9b54f4be1cad",
   "metadata": {
    "id": "b1ef31e3-c610-4964-be00-9b54f4be1cad"
   },
   "source": [
    "You can find all the sklearn model evaluation metrics [here](https://scikit-learn.org/stable/modules/model_evaluation.html)."
   ]
  },
  {
   "cell_type": "markdown",
   "id": "h28lWAXVDtu7",
   "metadata": {
    "id": "h28lWAXVDtu7"
   },
   "source": [
    "## Your turn !"
   ]
  },
  {
   "cell_type": "markdown",
   "id": "_gs989cqMvBj",
   "metadata": {
    "id": "_gs989cqMvBj"
   },
   "source": [
    "Now it's your turn to use logistic regression! In this application, you will try to predict whether a forest fire spread and burned forest areas in the Montesinho natural park in Portugal.\n",
    "\n",
    "We are using the [Forest Fires dataset](https://www.kaggle.com/datasets/sumitm004/forest-fire-area), created by Paulo Cortez and Aníbal Morais, and available on Kaggle.\n",
    "\n",
    "Source: P. Cortez and A. Morais. A Data Mining Approach to Predict Forest Fires using Meteorological Data. In J. Neves, M. F. Santos and J. Machado Eds., New Trends in Artificial Intelligence, Proceedings of the 13th EPIA 2007 - Portuguese Conference on Artificial Intelligence, December, Guimaraes, Portugal, pp. 512-523, 2007. APPIA, ISBN-13 978-989-95618-0-9.\n",
    "\n",
    "The original dataset contains 13 columns:\n",
    "- X - x-axis spatial coordinate within the Montesinho park map: 1 to 9\n",
    "- Y - y-axis spatial coordinate within the Montesinho park map: 2 to 9\n",
    "- month - month of the year: \"jan\" to \"dec\"\n",
    "- day - day of the week: \"mon\" to \"sun\"\n",
    "- FFMC - Fine Fuel Moisture Code (FFMC) index from the [Fire Weather Index (FWI)](https://www.nwcg.gov/publications/pms437/cffdrs/fire-weather-index-system) system: 18.7 to 96.20\n",
    "- DMC - Duff Moisture Code (DMC) index from the FWI system: 1.1 to 291.3\n",
    "- DC - Drought Code (DC) index from the FWI system: 7.9 to 860.6\n",
    "- ISI - Initial Spread Index (ISI) index from the FWI system: 0.0 to 56.10\n",
    "- temp - temperature in Celsius degrees: 2.2 to 33.30\n",
    "- RH - relative humidity in %: 15.0 to 100\n",
    "- wind - wind speed in km/h: 0.40 to 9.40\n",
    "- rain - outside rain in mm/m2 : 0.0 to 6.4\n",
    "- area - the burned area of the forest (in ha): 0.00 to 1090.84\n",
    "\n",
    "In addition, we created a new column, \"class\", detailing whether the fire burned an area of forest:\n",
    "- class is equal to 0 if area = 0.00 ha\n",
    "- class is equal to 1 if area > 0.00 ha\n",
    "\n",
    "Our goal will be to predict the ***class*** using logistic regression, given the weather and FWI features."
   ]
  },
  {
   "cell_type": "code",
   "execution_count": 25,
   "id": "fea817c8-e3db-42fd-a429-8804c19b528d",
   "metadata": {
    "id": "fea817c8-e3db-42fd-a429-8804c19b528d"
   },
   "outputs": [],
   "source": [
    "# Load data\n",
    "forest_fire = pd.read_csv(\"forestfires.csv\")"
   ]
  },
  {
   "cell_type": "markdown",
   "id": "6ea0a3ee-2fda-45e2-bfbe-98f601ad0671",
   "metadata": {
    "id": "6ea0a3ee-2fda-45e2-bfbe-98f601ad0671"
   },
   "source": [
    "### Discover your dataset\n",
    "\n",
    "- Explore your dataset, displaying a few observations, the types of your data, some summary statistics, and the correlation matrix. Feel free to push forward your EDA using a few graphs e.g., boxplot and pairplot."
   ]
  },
  {
   "cell_type": "code",
   "execution_count": null,
   "id": "11c1303a-7a43-4bcc-a930-b91d16acf1af",
   "metadata": {
    "colab": {
     "base_uri": "https://localhost:8080/",
     "height": 478
    },
    "id": "11c1303a-7a43-4bcc-a930-b91d16acf1af",
    "outputId": "13b3ed51-8ea4-4826-92fb-71f2bae3d2d3"
   },
   "outputs": [],
   "source": [
    "# YOUR CODE HERE\n",
    "\n",
    "# Display a sample of the data, the data types, summary statistics, correlations, ranges of input features...\n"
   ]
  },
  {
   "cell_type": "markdown",
   "id": "ypmEjcXnN1yQ",
   "metadata": {
    "id": "ypmEjcXnN1yQ"
   },
   "source": [
    "### Multi-features logistic regression\n",
    "\n",
    "We'll start with only four features, the temperature, the rain, the FFMC and wind.\n",
    "\n",
    "- Define your features and target variable ('class'):"
   ]
  },
  {
   "cell_type": "code",
   "execution_count": 30,
   "id": "Pw3tnywxN1yR",
   "metadata": {
    "id": "Pw3tnywxN1yR"
   },
   "outputs": [],
   "source": [
    "# YOUR CODE HERE\n"
   ]
  },
  {
   "cell_type": "markdown",
   "id": "VWnHRgkDN1yS",
   "metadata": {
    "id": "VWnHRgkDN1yS"
   },
   "source": [
    "- Split you data intro training and test set (use 20% from the data as test set):"
   ]
  },
  {
   "cell_type": "code",
   "execution_count": 31,
   "id": "LfITZBy_N1yS",
   "metadata": {
    "id": "LfITZBy_N1yS"
   },
   "outputs": [],
   "source": [
    "# YOUR CODE HERE\n"
   ]
  },
  {
   "cell_type": "markdown",
   "id": "NjozmW_8N1yS",
   "metadata": {
    "id": "NjozmW_8N1yS"
   },
   "source": [
    "- Rescale your data, using the scaler of your choice:"
   ]
  },
  {
   "cell_type": "code",
   "execution_count": 32,
   "id": "GhRPOR3jN1yS",
   "metadata": {
    "id": "GhRPOR3jN1yS"
   },
   "outputs": [],
   "source": [
    "# YOUR CODE HERE\n"
   ]
  },
  {
   "cell_type": "markdown",
   "id": "gbB_uaxAN1yT",
   "metadata": {
    "id": "gbB_uaxAN1yT"
   },
   "source": [
    "- Build and train a simple logistic regression classifier:"
   ]
  },
  {
   "cell_type": "code",
   "execution_count": null,
   "id": "3KD_rGS9N1yT",
   "metadata": {
    "colab": {
     "base_uri": "https://localhost:8080/",
     "height": 74
    },
    "id": "3KD_rGS9N1yT",
    "outputId": "7c89f76b-a01b-43e9-9979-a08c9444efc8"
   },
   "outputs": [],
   "source": [
    "# YOUR CODE HERE\n"
   ]
  },
  {
   "cell_type": "markdown",
   "id": "_LtIMzU0N1yT",
   "metadata": {
    "id": "_LtIMzU0N1yT"
   },
   "source": [
    "- Compare the training and testing accuracy of your model"
   ]
  },
  {
   "cell_type": "code",
   "execution_count": null,
   "id": "5UAG09j0N1yT",
   "metadata": {
    "colab": {
     "base_uri": "https://localhost:8080/"
    },
    "id": "5UAG09j0N1yT",
    "outputId": "568dee24-747e-46d4-88be-948ef12b94f0"
   },
   "outputs": [],
   "source": [
    "# YOUR CODE HERE\n"
   ]
  },
  {
   "cell_type": "markdown",
   "id": "EopnGTX8N1yU",
   "metadata": {
    "id": "EopnGTX8N1yU"
   },
   "source": [
    "- Compute the default rate and compare it to the accuracy of your model. What do you think?"
   ]
  },
  {
   "cell_type": "code",
   "execution_count": null,
   "id": "0vL13TZIN1yU",
   "metadata": {
    "colab": {
     "base_uri": "https://localhost:8080/"
    },
    "id": "0vL13TZIN1yU",
    "outputId": "77c537d0-9dc9-418e-f3f0-922192641740"
   },
   "outputs": [],
   "source": [
    "# YOUR CODE HERE\n"
   ]
  },
  {
   "cell_type": "markdown",
   "id": "iLyHTxKnN1yU",
   "metadata": {
    "id": "iLyHTxKnN1yU"
   },
   "source": [
    "- Analyse the results further by looking at the confusion matrix, precision, recall and F1 Score. What do you think?"
   ]
  },
  {
   "cell_type": "code",
   "execution_count": null,
   "id": "tmKt_XrvN1yV",
   "metadata": {
    "colab": {
     "base_uri": "https://localhost:8080/",
     "height": 472
    },
    "id": "tmKt_XrvN1yV",
    "outputId": "713daf13-de87-4bf1-9a1c-bd0640a61563"
   },
   "outputs": [],
   "source": [
    "# YOUR CODE HERE\n"
   ]
  }
 ],
 "metadata": {
  "colab": {
   "provenance": [],
   "toc_visible": true
  },
  "kernelspec": {
   "display_name": "Python 3 (ipykernel)",
   "language": "python",
   "name": "python3"
  },
  "language_info": {
   "codemirror_mode": {
    "name": "ipython",
    "version": 3
   },
   "file_extension": ".py",
   "mimetype": "text/x-python",
   "name": "python",
   "nbconvert_exporter": "python",
   "pygments_lexer": "ipython3",
   "version": "3.10.13"
  }
 },
 "nbformat": 4,
 "nbformat_minor": 5
}
