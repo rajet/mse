{
 "cells": [
  {
   "cell_type": "markdown",
   "metadata": {
    "id": "bimh9kcn2-GO"
   },
   "source": [
    "# (Deep) Neural Networks\n",
    "\n",
    "It is the easiest if you work on this Notebook in google Colab where you don't need to install tensorflow on your laptop.\n",
    "\n",
    "+ Google Colab: https://colab.research.google.com/notebooks/welcome.ipynb#recent=true\n",
    "\n",
    "+ Go to \"upload\" to open this notebook in Google Colab.\n",
    "\n",
    "If you would like to install tensorflow on your local machine, run the following code in a notebok cell: `!pip install tensorflow`\n"
   ]
  },
  {
   "cell_type": "markdown",
   "metadata": {
    "id": "gCJHeDlM3uPD"
   },
   "source": [
    "## Neural Net with Fashion MNIST \n",
    "\n",
    "Our task is to classify images of clothing into 10 classes  using a neural network model. The goal is to get familiar with neural networks applied on real-world datasets.\n",
    "\n"
   ]
  },
  {
   "cell_type": "code",
   "execution_count": null,
   "metadata": {
    "colab": {
     "base_uri": "https://localhost:8080/"
    },
    "executionInfo": {
     "elapsed": 2302,
     "status": "ok",
     "timestamp": 1617102874825,
     "user": {
      "displayName": "Helmut Grabner",
      "photoUrl": "https://lh3.googleusercontent.com/a-/AOh14Gh7VFoSO9VR3VvyyTFY2VEA3A1vWKRswaJHGQ3HoA=s64",
      "userId": "06526771998566964714"
     },
     "user_tz": -120
    },
    "id": "dTl4OxSk-DXo",
    "outputId": "07eaff82-9d06-4e59-a38c-f4b5d255398c"
   },
   "outputs": [],
   "source": [
    "# load required packages\n",
    "import tensorflow as tf\n",
    "from tensorflow.keras.datasets import fashion_mnist\n",
    "from tensorflow.keras.models import Sequential\n",
    "from tensorflow.keras.layers import Dense, Flatten, Conv2D, Dropout, MaxPooling2D, Activation, BatchNormalization\n",
    "import numpy as np\n",
    "import matplotlib.pyplot as plt\n",
    "print(tf.__version__) #version should be at least 1.15.x"
   ]
  },
  {
   "cell_type": "markdown",
   "metadata": {},
   "source": [
    "### Dataset\n",
    "We use the Fashion MNIST dataset by Zalando which contains 70,000 grayscale images each assigned one of 10 clothing categories (e.g., Top, Trouser, Sneaker, ...). The images show individual clothing articles at low resolution (28 by 28 pixels). The dataset is available as tensorflow dataset.\n",
    "\n",
    "We take the split that comes with the dataset where 60,000 images are used to train the network and 10,000 images to evaluate its prediction performance. "
   ]
  },
  {
   "cell_type": "code",
   "execution_count": null,
   "metadata": {
    "executionInfo": {
     "elapsed": 1126,
     "status": "ok",
     "timestamp": 1617103330855,
     "user": {
      "displayName": "Helmut Grabner",
      "photoUrl": "https://lh3.googleusercontent.com/a-/AOh14Gh7VFoSO9VR3VvyyTFY2VEA3A1vWKRswaJHGQ3HoA=s64",
      "userId": "06526771998566964714"
     },
     "user_tz": -120
    },
    "id": "dCj7Sjae-DXt"
   },
   "outputs": [],
   "source": [
    "# load the training and test data\n",
    "(train_images, train_labels), (test_images, test_labels) = fashion_mnist.load_data()\n",
    "\n",
    "# names of class labels (we have ten classes)\n",
    "class_names = ['T-shirt/top', 'Trouser', 'Pullover', 'Dress', 'Coat',\n",
    "               'Sandal', 'Shirt', 'Sneaker', 'Bag', 'Ankle boot']"
   ]
  },
  {
   "cell_type": "markdown",
   "metadata": {
    "id": "iFkc33Amp5BP"
   },
   "source": [
    "Put the datasets in the necessary shapes (dimensionality) and check this."
   ]
  },
  {
   "cell_type": "code",
   "execution_count": null,
   "metadata": {
    "colab": {
     "base_uri": "https://localhost:8080/"
    },
    "executionInfo": {
     "elapsed": 652,
     "status": "ok",
     "timestamp": 1617102888724,
     "user": {
      "displayName": "Helmut Grabner",
      "photoUrl": "https://lh3.googleusercontent.com/a-/AOh14Gh7VFoSO9VR3VvyyTFY2VEA3A1vWKRswaJHGQ3HoA=s64",
      "userId": "06526771998566964714"
     },
     "user_tz": -120
    },
    "id": "WDk0xVuq-DXx",
    "outputId": "b59db441-27d2-43df-f436-94a0d5bcb3ba"
   },
   "outputs": [],
   "source": [
    "train_images = train_images.reshape((len(train_images),28,28))\n",
    "test_images = test_images.reshape((len(test_images),28,28))\n",
    "\n",
    "# check the shapes of the training and test data \n",
    "print(\"shape for training (x) data : \", train_images.shape) # should be: 60'000 Images each with 28x28 pixels\n",
    "print(\"shape for training (y) data : \", train_labels.shape)  # 60'000 Labels with 10 classes\n",
    "print(\"shape for test (x) data     : \", test_images.shape)  # 10'000 Images with 28x28 pixels\n",
    "print(\"shape for test (y) data     : \", test_labels.shape)  # 10'000 Labels with 10 classes"
   ]
  },
  {
   "cell_type": "code",
   "execution_count": null,
   "metadata": {
    "colab": {
     "base_uri": "https://localhost:8080/",
     "height": 589
    },
    "executionInfo": {
     "elapsed": 1731,
     "status": "ok",
     "timestamp": 1617102893417,
     "user": {
      "displayName": "Helmut Grabner",
      "photoUrl": "https://lh3.googleusercontent.com/a-/AOh14Gh7VFoSO9VR3VvyyTFY2VEA3A1vWKRswaJHGQ3HoA=s64",
      "userId": "06526771998566964714"
     },
     "user_tz": -120
    },
    "id": "Szbus8Lo-DXz",
    "outputId": "f0999792-7ed2-461c-92ad-ba6547a41f45"
   },
   "outputs": [],
   "source": [
    "# to give you an overview of the data plot first 25 images with corresponding labels\n",
    "plt.figure(figsize=(10,10))\n",
    "for i in range(25):\n",
    "    plt.subplot(5,5,i+1)\n",
    "    plt.xticks([])\n",
    "    plt.yticks([])\n",
    "    plt.grid(False)\n",
    "    plt.imshow(train_images[i], cmap=plt.cm.binary)\n",
    "    plt.xlabel(class_names[train_labels[i]])\n",
    "plt.show()"
   ]
  },
  {
   "cell_type": "markdown",
   "metadata": {
    "id": "IcN2HsZX7YHp"
   },
   "source": [
    "### Design the Deep Neural Network\n",
    "The goal here is to deisgn a convolutional neural network for classifying clothing images in ten clothing categories. The first and the last layer of the network are given. It is your choice how deep or complex you want to build your neural network. \n",
    "\n",
    "Here are some possible layers you could use:\n",
    "+ `Flatten()` https://keras.io/api/layers/reshaping_layers/flatten/ \n",
    "+ `Dense()` (specify a activation function i.e. use the argument, `activation=...`) https://keras.io/api/layers/core_layers/dense/\n",
    "+ `Dropout()` https://keras.io/api/layers/regularization_layers/dropout/\n",
    "+`BatchNormalization` https://keras.io/api/layers/normalization_layers/batch_normalization/\n",
    "+ `Conv2D()` (specify a activation function i.e. use the argument, `activation=...`)  https://keras.io/api/layers/convolution_layers/convolution2d/\n",
    "+ `MaxPooling2D()` https://keras.io/api/layers/pooling_layers/max_pooling2d/\n",
    "\n",
    "*Hint:* Consider that for using the Conv2D model we need to reshape the training and test images to (60000, 28, 28, **1**) and (10'000, 28, 28, **1**), respectively!"
   ]
  },
  {
   "cell_type": "code",
   "execution_count": null,
   "metadata": {
    "colab": {
     "base_uri": "https://localhost:8080/"
    },
    "executionInfo": {
     "elapsed": 655,
     "status": "ok",
     "timestamp": 1617103427269,
     "user": {
      "displayName": "Helmut Grabner",
      "photoUrl": "https://lh3.googleusercontent.com/a-/AOh14Gh7VFoSO9VR3VvyyTFY2VEA3A1vWKRswaJHGQ3HoA=s64",
      "userId": "06526771998566964714"
     },
     "user_tz": -120
    },
    "id": "_R_GExOx-DX1",
    "outputId": "b1c787f4-4db4-42c3-b54f-9761623a623b"
   },
   "outputs": [],
   "source": [
    "# you can also run this model without adding layers, to see how the most simple model performs\n",
    "model = Sequential()\n",
    "#model.add(Flatten(input_shape=(28, 28))) #remove this layer if you want to use Covolutional neural networks\n",
    "\n",
    "# data reshaped for Convolution2D\n",
    "train_images=train_images.reshape(60000,28,28,1)\n",
    "test_images=test_images.reshape(10000,28,28,1)\n",
    "\n",
    "#### DESIGN YOUR NETWORK HERE ####\n",
    "\n",
    "#### END YOUR NETWORK DESIGN HERE ####\n",
    "\n",
    "# final output softmax layer for 10 classes (do not modify this layer)\n",
    "model.add(Dense(10, activation = 'softmax'))\n",
    "\n",
    "# print a summary of your model\n",
    "model.summary()"
   ]
  },
  {
   "cell_type": "markdown",
   "metadata": {
    "id": "u8cdpGDliZv2"
   },
   "source": [
    "### Train the model\n",
    "Compile and train the model you designed. \n",
    "\n",
    "You can also adapt the `batch_size`, the number of epochs `epochs` and the optimizer used in the training process.\n"
   ]
  },
  {
   "cell_type": "code",
   "execution_count": null,
   "metadata": {
    "colab": {
     "base_uri": "https://localhost:8080/",
     "height": 635
    },
    "executionInfo": {
     "elapsed": 82620,
     "status": "ok",
     "timestamp": 1617103523290,
     "user": {
      "displayName": "Helmut Grabner",
      "photoUrl": "https://lh3.googleusercontent.com/a-/AOh14Gh7VFoSO9VR3VvyyTFY2VEA3A1vWKRswaJHGQ3HoA=s64",
      "userId": "06526771998566964714"
     },
     "user_tz": -120
    },
    "id": "3Wa4gIt3-DX3",
    "outputId": "a49a70b2-6000-47a6-f94f-753cf27b4c09"
   },
   "outputs": [],
   "source": [
    "# compile model\n",
    "# you can modify the parameter optimizer with different optimization methods\n",
    "model.compile(optimizer = 'adam', \n",
    "              loss='sparse_categorical_crossentropy', \n",
    "              metrics=['accuracy'])\n",
    "\n",
    "# specify batch size for the optimization (mini-batch)\n",
    "batch_size = 128\n",
    "# specify the number of epochs\n",
    "epochs = 10\n",
    "\n",
    "# fit model to train data\n",
    "# we use 10% of the data as validation set\n",
    "# you can add more 'iterations' by raising the parameter epochs\n",
    "log = model.fit(train_images, \n",
    "                train_labels, \n",
    "                batch_size=128,\n",
    "                epochs=10,\n",
    "                validation_split=0.1)\n",
    "\n",
    "# plot accuracy per epoch\n",
    "plt.plot(log.history['accuracy'], label='Training Accuracy')\n",
    "plt.plot(log.history['val_accuracy'], label='Validation Accuracy')\n",
    "plt.xlabel(\"Epochs\")\n",
    "plt.ylabel(\"Accuracy\")\n",
    "plt.legend()\n",
    "plt.grid()\n"
   ]
  },
  {
   "cell_type": "markdown",
   "metadata": {
    "id": "x_saOMcZjM7C"
   },
   "source": [
    "### Evaluate the model on the test dataset\n"
   ]
  },
  {
   "cell_type": "code",
   "execution_count": null,
   "metadata": {},
   "outputs": [],
   "source": [
    "# compute the loss and accuracy\n",
    "test_scores = model.evaluate(test_images, test_labels, verbose=0)\n",
    "print(\"Test loss:\", test_scores[0])\n",
    "print(\"Test accuracy:\", test_scores[1])\n",
    "\n",
    "# you can also make predictions for the test data\n",
    "predictions = model.predict(test_images)"
   ]
  },
  {
   "cell_type": "code",
   "execution_count": null,
   "metadata": {},
   "outputs": [],
   "source": [
    "from sklearn.metrics import confusion_matrix, ConfusionMatrixDisplay\n",
    "# get the maximum probability class\n",
    "max_probability_predictions = np.argmax(predictions, axis=1)\n",
    "# compute and display the confusion matrix\n",
    "conf_mat = confusion_matrix(test_labels, max_probability_predictions)\n",
    "conf_mat = ConfusionMatrixDisplay(conf_mat)\n",
    "\n",
    "conf_mat.plot()"
   ]
  },
  {
   "cell_type": "markdown",
   "metadata": {},
   "source": [
    "The cell below visualizes the some example images from the test set along with their true labels and the model predictions. "
   ]
  },
  {
   "cell_type": "code",
   "execution_count": null,
   "metadata": {
    "colab": {
     "base_uri": "https://localhost:8080/",
     "height": 513
    },
    "executionInfo": {
     "elapsed": 2217,
     "status": "ok",
     "timestamp": 1617103118547,
     "user": {
      "displayName": "Helmut Grabner",
      "photoUrl": "https://lh3.googleusercontent.com/a-/AOh14Gh7VFoSO9VR3VvyyTFY2VEA3A1vWKRswaJHGQ3HoA=s64",
      "userId": "06526771998566964714"
     },
     "user_tz": -120
    },
    "id": "ByKB6aCH-DX8",
    "outputId": "6a6825b9-3c37-4ffc-a24c-bc728eb132dd"
   },
   "outputs": [],
   "source": [
    "# This function plots the first n predictions with their true label (in brackets) and image\n",
    "test_images=test_images.reshape(10000,28,28)\n",
    "\n",
    "def plot_image(i, predictions_array, true_label, img):\n",
    "  predictions_array, true_label, img = predictions_array, true_label[i], img[i]\n",
    "  plt.xticks([])\n",
    "  plt.yticks([])\n",
    "  plt.imshow(img, cmap=plt.cm.binary)\n",
    "  predicted_label = np.argmax(predictions_array)\n",
    "  if predicted_label == true_label:\n",
    "    color = 'blue'\n",
    "  else:\n",
    "    color = 'red'\n",
    "  plt.xlabel(\"{} {:2.0f}% ({})\".format(class_names[predicted_label],\n",
    "                                100*np.max(predictions_array),\n",
    "                                class_names[true_label]),\n",
    "                                color=color)\n",
    "\n",
    "# plot prediction and image\n",
    "num_rows = 7\n",
    "num_cols = 5\n",
    "num_images = num_rows*num_cols\n",
    "plt.figure(figsize=(2*num_cols, 1*num_rows))\n",
    "for i in range(num_images):\n",
    "  plt.subplot(num_rows, num_cols, i+1)\n",
    "  plot_image(i, predictions[i], test_labels, test_images)\n",
    "plt.tight_layout()\n",
    "plt.show()"
   ]
  }
 ],
 "metadata": {
  "accelerator": "GPU",
  "colab": {
   "collapsed_sections": [],
   "name": "P06 Deep Learning (Solution).ipynb",
   "provenance": [],
   "toc_visible": true
  },
  "kernelspec": {
   "display_name": "Python 3 (ipykernel)",
   "language": "python",
   "name": "python3"
  },
  "language_info": {
   "codemirror_mode": {
    "name": "ipython",
    "version": 3
   },
   "file_extension": ".py",
   "mimetype": "text/x-python",
   "name": "python",
   "nbconvert_exporter": "python",
   "pygments_lexer": "ipython3",
   "version": "3.9.13"
  }
 },
 "nbformat": 4,
 "nbformat_minor": 1
}
