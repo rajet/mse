{
 "cells": [
  {
   "cell_type": "markdown",
   "metadata": {},
   "source": [
    "<img src=\"ost_logo.png\" width=\"240\" height=\"240\" align=\"right\"/>\n",
    "<div style=\"text-align: left\"> <b> Machine Learning </b> <br> MSE FTP MachLe <br> \n",
    "<a href=\"mailto:christoph.wuersch@ost.ch\"> Christoph Würsch </a> </div>"
   ]
  },
  {
   "cell_type": "markdown",
   "metadata": {},
   "source": [
    "# Lab 7, A3: Yelp Business Classification using Bag-of-Words and tf-idf\n",
    "\n",
    "Yelp is a crowd-sourced review forum, as well as an American multinational corporation headquartered in San Francisco, California. It develops, hosts and markets Yelp.com and the Yelp mobile app, which publish crowd-sourced reviews about local businesses, as well as the online reservation service Yelp Reservations. The company also trains small businesses in\n",
    "how to respond to reviews, hosts social events for reviewers, and provides data about businesses, including health inspection scores. The data is open and can be downloaded here https://www.yelp.com/dataset/challenge.\n",
    "\n",
    "We have prepared a partial dataset from the big Yelp dataset in the __pickle serialization format__ that you can read into a pandas dataframe using ``pd.read_pickle``.\n"
   ]
  },
  {
   "cell_type": "code",
   "execution_count": 1,
   "metadata": {},
   "outputs": [],
   "source": [
    "import json\n",
    "import numpy as np\n",
    "import pandas as pd\n",
    "from sklearn.feature_extraction import text\n",
    "from sklearn.linear_model import LogisticRegression\n",
    "import sklearn.model_selection as modsel\n",
    "import sklearn.preprocessing as preproc"
   ]
  },
  {
   "cell_type": "markdown",
   "metadata": {},
   "source": [
    "### (a)  Load and prep Yelp reviews data"
   ]
  },
  {
   "cell_type": "code",
   "execution_count": 11,
   "metadata": {},
   "outputs": [
    {
     "data": {
      "text/plain": [
       "business_id    object\n",
       "name           object\n",
       "stars_y         int64\n",
       "text           object\n",
       "categories     object\n",
       "target           bool\n",
       "dtype: object"
      ]
     },
     "execution_count": 11,
     "metadata": {},
     "output_type": "execute_result"
    }
   ],
   "source": [
    "DataPath='D:/Downloads/YelpDataset/'\n",
    "nightlife_subset = pd.read_pickle('nightlife_subset.pkl')\n",
    "restaurant_subset = pd.read_pickle('restaurant_subset.pkl')\n",
    "nightlife_subset.target.unique()\n",
    "restaurant_subset.target.unique()\n",
    "restaurant_subset.dtypes"
   ]
  },
  {
   "cell_type": "markdown",
   "metadata": {},
   "source": [
    "### (b) combine both datasets"
   ]
  },
  {
   "cell_type": "code",
   "execution_count": 14,
   "metadata": {},
   "outputs": [
    {
     "data": {
      "text/plain": [
       "'Food, Restaurants, American (New), Local Flavor, Breakfast & Brunch, Bars, Breweries, Nightlife, Pubs'"
      ]
     },
     "execution_count": 14,
     "metadata": {},
     "output_type": "execute_result"
    }
   ],
   "source": [
    "combined = pd.concat([nightlife_subset, restaurant_subset])\n",
    "combined.iloc[0].categories"
   ]
  },
  {
   "cell_type": "code",
   "execution_count": 15,
   "metadata": {},
   "outputs": [],
   "source": [
    "combined['target'] = combined.apply(lambda x: 'Nightlife' in x['categories'],\n",
    "                                    axis=1)"
   ]
  },
  {
   "cell_type": "code",
   "execution_count": 16,
   "metadata": {},
   "outputs": [
    {
     "data": {
      "text/html": [
       "<div>\n",
       "<style scoped>\n",
       "    .dataframe tbody tr th:only-of-type {\n",
       "        vertical-align: middle;\n",
       "    }\n",
       "\n",
       "    .dataframe tbody tr th {\n",
       "        vertical-align: top;\n",
       "    }\n",
       "\n",
       "    .dataframe thead th {\n",
       "        text-align: right;\n",
       "    }\n",
       "</style>\n",
       "<table border=\"1\" class=\"dataframe\">\n",
       "  <thead>\n",
       "    <tr style=\"text-align: right;\">\n",
       "      <th></th>\n",
       "      <th>business_id</th>\n",
       "      <th>name</th>\n",
       "      <th>stars_y</th>\n",
       "      <th>text</th>\n",
       "      <th>categories</th>\n",
       "      <th>target</th>\n",
       "    </tr>\n",
       "  </thead>\n",
       "  <tbody>\n",
       "    <tr>\n",
       "      <th>2203299</th>\n",
       "      <td>lpYFsXFrojiBZ1kbWR2lZw</td>\n",
       "      <td>Four Peaks Grill &amp; Tap</td>\n",
       "      <td>5</td>\n",
       "      <td>Great service and food... Enjoy the atmosphere...</td>\n",
       "      <td>Food, Restaurants, American (New), Local Flavo...</td>\n",
       "      <td>True</td>\n",
       "    </tr>\n",
       "    <tr>\n",
       "      <th>482774</th>\n",
       "      <td>KskYqH1Bi7Z_61pH6Om8pg</td>\n",
       "      <td>Lotus of Siam</td>\n",
       "      <td>5</td>\n",
       "      <td>Lotus is one of my all time favorites in Las V...</td>\n",
       "      <td>Wine Bars, Nightlife, Restaurants, Seafood, Ca...</td>\n",
       "      <td>True</td>\n",
       "    </tr>\n",
       "    <tr>\n",
       "      <th>3086879</th>\n",
       "      <td>zFnPRtP7LGvr3sfxvy_dfg</td>\n",
       "      <td>Revolution Ale House</td>\n",
       "      <td>1</td>\n",
       "      <td>This place has definitely gone downhill. We fi...</td>\n",
       "      <td>Nightlife, Italian, Restaurants, Pizza, Bars</td>\n",
       "      <td>True</td>\n",
       "    </tr>\n",
       "    <tr>\n",
       "      <th>512115</th>\n",
       "      <td>gUR2pWQKLPgMEm_R_aI_aw</td>\n",
       "      <td>Shooters On The Water</td>\n",
       "      <td>3</td>\n",
       "      <td>Thought this might be a worn out hang out for ...</td>\n",
       "      <td>Dive Bars, American (New), American (Tradition...</td>\n",
       "      <td>True</td>\n",
       "    </tr>\n",
       "    <tr>\n",
       "      <th>3278073</th>\n",
       "      <td>hmYnzs8-aHbltaOOGDgmbA</td>\n",
       "      <td>Zipps Sports Grill</td>\n",
       "      <td>4</td>\n",
       "      <td>Zipps is almost always on happy hour! They hav...</td>\n",
       "      <td>Sports Bars, American (Traditional), Nightlife...</td>\n",
       "      <td>True</td>\n",
       "    </tr>\n",
       "    <tr>\n",
       "      <th>...</th>\n",
       "      <td>...</td>\n",
       "      <td>...</td>\n",
       "      <td>...</td>\n",
       "      <td>...</td>\n",
       "      <td>...</td>\n",
       "      <td>...</td>\n",
       "    </tr>\n",
       "    <tr>\n",
       "      <th>2429937</th>\n",
       "      <td>Vs7gc9EE3k9wARuUcN9piA</td>\n",
       "      <td>Pan Asian</td>\n",
       "      <td>5</td>\n",
       "      <td>Pan Asian stays 5 stars for me.  I went back t...</td>\n",
       "      <td>Thai, Chinese, Japanese, Restaurants</td>\n",
       "      <td>False</td>\n",
       "    </tr>\n",
       "    <tr>\n",
       "      <th>640067</th>\n",
       "      <td>mYzlPKXvOVRrQivHnDqD5g</td>\n",
       "      <td>YamChops</td>\n",
       "      <td>5</td>\n",
       "      <td>Amazingly delicious with a variety of distinct...</td>\n",
       "      <td>Butcher, Juice Bars &amp; Smoothies, Vegan, Restau...</td>\n",
       "      <td>False</td>\n",
       "    </tr>\n",
       "    <tr>\n",
       "      <th>1566257</th>\n",
       "      <td>9Zl4uWSgSMpxHnsK_MPneg</td>\n",
       "      <td>Palermo Family Restaurant</td>\n",
       "      <td>4</td>\n",
       "      <td>Eat here quite often,  the Palermo Special piz...</td>\n",
       "      <td>Restaurants, Pizza</td>\n",
       "      <td>False</td>\n",
       "    </tr>\n",
       "    <tr>\n",
       "      <th>1607254</th>\n",
       "      <td>F-AYOq1xIY2u_qmWUG5VBw</td>\n",
       "      <td>Hakka Ren</td>\n",
       "      <td>5</td>\n",
       "      <td>It was amazing! I had the chilli fish schezuan...</td>\n",
       "      <td>Chinese, Halal, Indian, Restaurants</td>\n",
       "      <td>False</td>\n",
       "    </tr>\n",
       "    <tr>\n",
       "      <th>1076163</th>\n",
       "      <td>yNBVOKSZN_AIjSJdhF_rqA</td>\n",
       "      <td>Garbanzo Mediterranean Grill</td>\n",
       "      <td>4</td>\n",
       "      <td>My salad was really good. Nice atmosphere, fri...</td>\n",
       "      <td>Falafel, Event Planning &amp; Services, American (...</td>\n",
       "      <td>False</td>\n",
       "    </tr>\n",
       "  </tbody>\n",
       "</table>\n",
       "<p>20000 rows × 6 columns</p>\n",
       "</div>"
      ],
      "text/plain": [
       "                    business_id                          name  stars_y  \\\n",
       "2203299  lpYFsXFrojiBZ1kbWR2lZw        Four Peaks Grill & Tap        5   \n",
       "482774   KskYqH1Bi7Z_61pH6Om8pg                 Lotus of Siam        5   \n",
       "3086879  zFnPRtP7LGvr3sfxvy_dfg          Revolution Ale House        1   \n",
       "512115   gUR2pWQKLPgMEm_R_aI_aw         Shooters On The Water        3   \n",
       "3278073  hmYnzs8-aHbltaOOGDgmbA            Zipps Sports Grill        4   \n",
       "...                         ...                           ...      ...   \n",
       "2429937  Vs7gc9EE3k9wARuUcN9piA                     Pan Asian        5   \n",
       "640067   mYzlPKXvOVRrQivHnDqD5g                      YamChops        5   \n",
       "1566257  9Zl4uWSgSMpxHnsK_MPneg     Palermo Family Restaurant        4   \n",
       "1607254  F-AYOq1xIY2u_qmWUG5VBw                     Hakka Ren        5   \n",
       "1076163  yNBVOKSZN_AIjSJdhF_rqA  Garbanzo Mediterranean Grill        4   \n",
       "\n",
       "                                                      text  \\\n",
       "2203299  Great service and food... Enjoy the atmosphere...   \n",
       "482774   Lotus is one of my all time favorites in Las V...   \n",
       "3086879  This place has definitely gone downhill. We fi...   \n",
       "512115   Thought this might be a worn out hang out for ...   \n",
       "3278073  Zipps is almost always on happy hour! They hav...   \n",
       "...                                                    ...   \n",
       "2429937  Pan Asian stays 5 stars for me.  I went back t...   \n",
       "640067   Amazingly delicious with a variety of distinct...   \n",
       "1566257  Eat here quite often,  the Palermo Special piz...   \n",
       "1607254  It was amazing! I had the chilli fish schezuan...   \n",
       "1076163  My salad was really good. Nice atmosphere, fri...   \n",
       "\n",
       "                                                categories  target  \n",
       "2203299  Food, Restaurants, American (New), Local Flavo...    True  \n",
       "482774   Wine Bars, Nightlife, Restaurants, Seafood, Ca...    True  \n",
       "3086879       Nightlife, Italian, Restaurants, Pizza, Bars    True  \n",
       "512115   Dive Bars, American (New), American (Tradition...    True  \n",
       "3278073  Sports Bars, American (Traditional), Nightlife...    True  \n",
       "...                                                    ...     ...  \n",
       "2429937               Thai, Chinese, Japanese, Restaurants   False  \n",
       "640067   Butcher, Juice Bars & Smoothies, Vegan, Restau...   False  \n",
       "1566257                                 Restaurants, Pizza   False  \n",
       "1607254                Chinese, Halal, Indian, Restaurants   False  \n",
       "1076163  Falafel, Event Planning & Services, American (...   False  \n",
       "\n",
       "[20000 rows x 6 columns]"
      ]
     },
     "execution_count": 16,
     "metadata": {},
     "output_type": "execute_result"
    }
   ],
   "source": [
    "combined"
   ]
  },
  {
   "cell_type": "markdown",
   "metadata": {},
   "source": [
    "### (c) Split the dataset into a training and test set"
   ]
  },
  {
   "cell_type": "code",
   "execution_count": 17,
   "metadata": {},
   "outputs": [],
   "source": [
    "# Split into training and test data sets\n",
    "training_data, test_data = modsel.train_test_split(combined, \n",
    "                                                   train_size=0.7, \n",
    "                                                   random_state=123)"
   ]
  },
  {
   "cell_type": "code",
   "execution_count": 18,
   "metadata": {},
   "outputs": [
    {
     "data": {
      "text/plain": [
       "(14000, 6)"
      ]
     },
     "execution_count": 18,
     "metadata": {},
     "output_type": "execute_result"
    }
   ],
   "source": [
    "training_data.shape"
   ]
  },
  {
   "cell_type": "code",
   "execution_count": 19,
   "metadata": {},
   "outputs": [
    {
     "data": {
      "text/plain": [
       "(6000, 6)"
      ]
     },
     "execution_count": 19,
     "metadata": {},
     "output_type": "execute_result"
    }
   ],
   "source": [
    "test_data.shape"
   ]
  },
  {
   "cell_type": "markdown",
   "metadata": {},
   "source": [
    "### (d) Transform the text as BoW (bag-of-words)"
   ]
  },
  {
   "cell_type": "code",
   "execution_count": 20,
   "metadata": {},
   "outputs": [],
   "source": [
    "# Represent the review text as a bag-of-words \n",
    "bow_transform = text.CountVectorizer()\n",
    "X_tr_bow = bow_transform.fit_transform(training_data['text'])"
   ]
  },
  {
   "cell_type": "code",
   "execution_count": 21,
   "metadata": {},
   "outputs": [
    {
     "data": {
      "text/plain": [
       "29944"
      ]
     },
     "execution_count": 21,
     "metadata": {},
     "output_type": "execute_result"
    }
   ],
   "source": [
    "len(bow_transform.vocabulary_)"
   ]
  },
  {
   "cell_type": "code",
   "execution_count": 22,
   "metadata": {},
   "outputs": [
    {
     "data": {
      "text/plain": [
       "(14000, 29944)"
      ]
     },
     "execution_count": 22,
     "metadata": {},
     "output_type": "execute_result"
    }
   ],
   "source": [
    "X_tr_bow.shape"
   ]
  },
  {
   "cell_type": "code",
   "execution_count": 23,
   "metadata": {},
   "outputs": [],
   "source": [
    "X_te_bow = bow_transform.transform(test_data['text'])"
   ]
  },
  {
   "cell_type": "code",
   "execution_count": 15,
   "metadata": {},
   "outputs": [],
   "source": [
    "y_tr = training_data['target']\n",
    "y_te = test_data['target']"
   ]
  },
  {
   "cell_type": "markdown",
   "metadata": {},
   "source": [
    "### (e,f) Classify with logistic regression"
   ]
  },
  {
   "cell_type": "code",
   "execution_count": 16,
   "metadata": {},
   "outputs": [],
   "source": [
    "def simple_logistic_classify(X_tr, y_tr, X_test, y_test, description, _C=1.0):\n",
    "    ## Helper function to train a logistic classifier and score on test data\n",
    "    m = LogisticRegression(C=_C).fit(X_tr, y_tr)\n",
    "    s = m.score(X_test, y_test)\n",
    "    print ('Test score with', description, 'features:', s)\n",
    "    return m"
   ]
  },
  {
   "cell_type": "code",
   "execution_count": 17,
   "metadata": {},
   "outputs": [
    {
     "name": "stdout",
     "output_type": "stream",
     "text": [
      "Test score with bow features: 0.7143333333333334\n"
     ]
    }
   ],
   "source": [
    "m1 = simple_logistic_classify(..., y_tr, ..., y_te, 'bow')"
   ]
  },
  {
   "cell_type": "markdown",
   "metadata": {},
   "source": [
    "### (f) applying normalization to the features"
   ]
  },
  {
   "cell_type": "code",
   "execution_count": 18,
   "metadata": {},
   "outputs": [],
   "source": [
    "X_tr_l2 = preproc.normalize(..., axis=0)\n",
    "X_te_l2 = preproc.normalize(..., axis=0)"
   ]
  },
  {
   "cell_type": "code",
   "execution_count": 19,
   "metadata": {},
   "outputs": [
    {
     "name": "stdout",
     "output_type": "stream",
     "text": [
      "Test score with l2-normalized features: 0.739\n"
     ]
    }
   ],
   "source": [
    "m2 = simple_logistic_classify(X_tr_l2, y_tr, X_te_l2, y_te, 'l2-normalized')"
   ]
  },
  {
   "cell_type": "markdown",
   "metadata": {},
   "source": [
    "### (g) tf-idf represenation"
   ]
  },
  {
   "cell_type": "code",
   "execution_count": 20,
   "metadata": {},
   "outputs": [],
   "source": [
    "# Create the tf-idf representation using the bag-of-words matrix\n",
    "tfidf_trfm = text.TfidfTransformer(norm=None)\n",
    "X_tr_tfidf = tfidf_trfm.fit_transform(X_tr_bow)"
   ]
  },
  {
   "cell_type": "code",
   "execution_count": 21,
   "metadata": {},
   "outputs": [],
   "source": [
    "X_te_tfidf = tfidf_trfm.transform(X_te_bow)"
   ]
  },
  {
   "cell_type": "code",
   "execution_count": 22,
   "metadata": {},
   "outputs": [
    {
     "name": "stdout",
     "output_type": "stream",
     "text": [
      "Test score with tf-idf features: 0.6796666666666666\n"
     ]
    }
   ],
   "source": [
    "m3 = simple_logistic_classify(..., y_tr, ..., y_te, 'tf-idf')"
   ]
  },
  {
   "cell_type": "markdown",
   "metadata": {},
   "source": [
    "### (h) Tune regularization parameters using grid search"
   ]
  },
  {
   "cell_type": "code",
   "execution_count": 23,
   "metadata": {},
   "outputs": [],
   "source": [
    "param_grid_ = {'C': [1e-5, 1e-3, 1e-1, 1e0, 1e1, 1e2]}\n",
    "bow_search = modsel.GridSearchCV(LogisticRegression(), cv=5, param_grid=param_grid_, return_train_score=True)\n",
    "l2_search  = modsel.GridSearchCV(LogisticRegression(), cv=5, return_train_score=True,\n",
    "                               param_grid=param_grid_)\n",
    "tfidf_search = modsel.GridSearchCV(LogisticRegression(), cv=5, return_train_score=True,\n",
    "                                   param_grid=param_grid_)"
   ]
  },
  {
   "cell_type": "code",
   "execution_count": 24,
   "metadata": {},
   "outputs": [
    {
     "data": {
      "text/plain": [
       "GridSearchCV(cv=5, error_score='raise',\n",
       "       estimator=LogisticRegression(C=1.0, class_weight=None, dual=False, fit_intercept=True,\n",
       "          intercept_scaling=1, max_iter=100, multi_class='ovr', n_jobs=1,\n",
       "          penalty='l2', random_state=None, solver='liblinear', tol=0.0001,\n",
       "          verbose=0, warm_start=False),\n",
       "       fit_params=None, iid=True, n_jobs=1,\n",
       "       param_grid={'C': [1e-05, 0.001, 0.1, 1.0, 10.0, 100.0]},\n",
       "       pre_dispatch='2*n_jobs', refit=True, return_train_score=True,\n",
       "       scoring=None, verbose=0)"
      ]
     },
     "execution_count": 24,
     "metadata": {},
     "output_type": "execute_result"
    }
   ],
   "source": [
    "bow_search.fit(X_tr_bow, y_tr)"
   ]
  },
  {
   "cell_type": "code",
   "execution_count": 25,
   "metadata": {},
   "outputs": [
    {
     "data": {
      "text/plain": [
       "0.7187142857142857"
      ]
     },
     "execution_count": 25,
     "metadata": {},
     "output_type": "execute_result"
    }
   ],
   "source": [
    "bow_search.best_score_"
   ]
  },
  {
   "cell_type": "code",
   "execution_count": 26,
   "metadata": {},
   "outputs": [
    {
     "data": {
      "text/plain": [
       "GridSearchCV(cv=5, error_score='raise',\n",
       "       estimator=LogisticRegression(C=1.0, class_weight=None, dual=False, fit_intercept=True,\n",
       "          intercept_scaling=1, max_iter=100, multi_class='ovr', n_jobs=1,\n",
       "          penalty='l2', random_state=None, solver='liblinear', tol=0.0001,\n",
       "          verbose=0, warm_start=False),\n",
       "       fit_params=None, iid=True, n_jobs=1,\n",
       "       param_grid={'C': [1e-05, 0.001, 0.1, 1.0, 10.0, 100.0]},\n",
       "       pre_dispatch='2*n_jobs', refit=True, return_train_score=True,\n",
       "       scoring=None, verbose=0)"
      ]
     },
     "execution_count": 26,
     "metadata": {},
     "output_type": "execute_result"
    }
   ],
   "source": [
    "l2_search.fit(X_tr_l2, y_tr)"
   ]
  },
  {
   "cell_type": "code",
   "execution_count": 27,
   "metadata": {},
   "outputs": [
    {
     "data": {
      "text/plain": [
       "0.7277857142857143"
      ]
     },
     "execution_count": 27,
     "metadata": {},
     "output_type": "execute_result"
    }
   ],
   "source": [
    "l2_search.best_score_"
   ]
  },
  {
   "cell_type": "code",
   "execution_count": 28,
   "metadata": {},
   "outputs": [
    {
     "data": {
      "text/plain": [
       "GridSearchCV(cv=5, error_score='raise',\n",
       "       estimator=LogisticRegression(C=1.0, class_weight=None, dual=False, fit_intercept=True,\n",
       "          intercept_scaling=1, max_iter=100, multi_class='ovr', n_jobs=1,\n",
       "          penalty='l2', random_state=None, solver='liblinear', tol=0.0001,\n",
       "          verbose=0, warm_start=False),\n",
       "       fit_params=None, iid=True, n_jobs=1,\n",
       "       param_grid={'C': [1e-05, 0.001, 0.1, 1.0, 10.0, 100.0]},\n",
       "       pre_dispatch='2*n_jobs', refit=True, return_train_score=True,\n",
       "       scoring=None, verbose=0)"
      ]
     },
     "execution_count": 28,
     "metadata": {},
     "output_type": "execute_result"
    }
   ],
   "source": [
    "tfidf_search.fit(X_tr_tfidf, y_tr)"
   ]
  },
  {
   "cell_type": "code",
   "execution_count": 29,
   "metadata": {},
   "outputs": [
    {
     "data": {
      "text/plain": [
       "0.7322857142857143"
      ]
     },
     "execution_count": 29,
     "metadata": {},
     "output_type": "execute_result"
    }
   ],
   "source": [
    "tfidf_search.best_score_"
   ]
  },
  {
   "cell_type": "markdown",
   "metadata": {},
   "source": [
    "What regularization parameters are best for each method?"
   ]
  },
  {
   "cell_type": "code",
   "execution_count": 30,
   "metadata": {},
   "outputs": [
    {
     "data": {
      "text/plain": [
       "{'C': 0.1}"
      ]
     },
     "execution_count": 30,
     "metadata": {},
     "output_type": "execute_result"
    }
   ],
   "source": [
    "bow_search.best_params_"
   ]
  },
  {
   "cell_type": "code",
   "execution_count": 31,
   "metadata": {},
   "outputs": [
    {
     "data": {
      "text/plain": [
       "{'C': 1.0}"
      ]
     },
     "execution_count": 31,
     "metadata": {},
     "output_type": "execute_result"
    }
   ],
   "source": [
    "l2_search.best_params_"
   ]
  },
  {
   "cell_type": "code",
   "execution_count": 32,
   "metadata": {},
   "outputs": [
    {
     "data": {
      "text/plain": [
       "{'C': 0.001}"
      ]
     },
     "execution_count": 32,
     "metadata": {},
     "output_type": "execute_result"
    }
   ],
   "source": [
    "tfidf_search.best_params_"
   ]
  },
  {
   "cell_type": "markdown",
   "metadata": {},
   "source": [
    "Let's check one of the grid search outputs to see how it went:"
   ]
  },
  {
   "cell_type": "code",
   "execution_count": 33,
   "metadata": {},
   "outputs": [
    {
     "data": {
      "text/plain": [
       "{'mean_fit_time': array([0.11804013, 0.24627681, 0.85959325, 1.7806016 , 3.8583909 ,\n",
       "        6.77650714]),\n",
       " 'std_fit_time': array([0.00608705, 0.02285839, 0.01747164, 0.10508902, 0.751038  ,\n",
       "        1.29119196]),\n",
       " 'mean_score_time': array([0.00080228, 0.00080228, 0.        , 0.        , 0.00624814,\n",
       "        0.00624967]),\n",
       " 'std_score_time': array([0.00098259, 0.00098259, 0.        , 0.        , 0.00765238,\n",
       "        0.00765425]),\n",
       " 'param_C': masked_array(data=[1e-05, 0.001, 0.1, 1.0, 10.0, 100.0],\n",
       "              mask=[False, False, False, False, False, False],\n",
       "        fill_value='?',\n",
       "             dtype=object),\n",
       " 'params': [{'C': 1e-05},\n",
       "  {'C': 0.001},\n",
       "  {'C': 0.1},\n",
       "  {'C': 1.0},\n",
       "  {'C': 10.0},\n",
       "  {'C': 100.0}],\n",
       " 'split0_test_score': array([0.55357143, 0.70642857, 0.71178571, 0.69785714, 0.67892857,\n",
       "        0.66571429]),\n",
       " 'split1_test_score': array([0.535     , 0.71035714, 0.71964286, 0.7075    , 0.68178571,\n",
       "        0.6675    ]),\n",
       " 'split2_test_score': array([0.555     , 0.71178571, 0.71642857, 0.70678571, 0.68357143,\n",
       "        0.6675    ]),\n",
       " 'split3_test_score': array([0.56607143, 0.71714286, 0.72464286, 0.69821429, 0.67964286,\n",
       "        0.66964286]),\n",
       " 'split4_test_score': array([0.54142857, 0.71642857, 0.72107143, 0.70428571, 0.67892857,\n",
       "        0.66357143]),\n",
       " 'mean_test_score': array([0.55021429, 0.71242857, 0.71871429, 0.70292857, 0.68057143,\n",
       "        0.66678571]),\n",
       " 'std_test_score': array([0.01090216, 0.00397312, 0.00435421, 0.00413669, 0.00182946,\n",
       "        0.00203289]),\n",
       " 'rank_test_score': array([6, 2, 1, 3, 4, 5]),\n",
       " 'split0_train_score': array([0.55517857, 0.73919643, 0.86785714, 0.95883929, 0.99491071,\n",
       "        1.        ]),\n",
       " 'split1_train_score': array([0.54366071, 0.73571429, 0.86830357, 0.96035714, 0.99491071,\n",
       "        1.        ]),\n",
       " 'split2_train_score': array([0.559375  , 0.73964286, 0.86607143, 0.95946429, 0.99553571,\n",
       "        1.        ]),\n",
       " 'split3_train_score': array([0.56      , 0.73580357, 0.86696429, 0.95964286, 0.995625  ,\n",
       "        1.        ]),\n",
       " 'split4_train_score': array([0.54741071, 0.73589286, 0.86589286, 0.95794643, 0.99464286,\n",
       "        1.        ]),\n",
       " 'mean_train_score': array([0.553125  , 0.73725   , 0.86701786, 0.95925   , 0.995125  ,\n",
       "        1.        ]),\n",
       " 'std_train_score': array([0.00652336, 0.00177802, 0.00095097, 0.00081167, 0.00038548,\n",
       "        0.        ])}"
      ]
     },
     "execution_count": 33,
     "metadata": {},
     "output_type": "execute_result"
    }
   ],
   "source": [
    "bow_search.cv_results_"
   ]
  },
  {
   "cell_type": "code",
   "execution_count": 34,
   "metadata": {},
   "outputs": [],
   "source": [
    "import pickle"
   ]
  },
  {
   "cell_type": "code",
   "execution_count": 35,
   "metadata": {},
   "outputs": [],
   "source": [
    "results_file = open('tfidf_gridcv_results.pkl', 'wb')\n",
    "pickle.dump(bow_search, results_file, -1)\n",
    "pickle.dump(tfidf_search, results_file, -1)\n",
    "pickle.dump(l2_search, results_file, -1)\n",
    "results_file.close()"
   ]
  },
  {
   "cell_type": "code",
   "execution_count": 36,
   "metadata": {},
   "outputs": [],
   "source": [
    "pkl_file = open('tfidf_gridcv_results.pkl', 'rb')\n",
    "bow_search = pickle.load(pkl_file)\n",
    "tfidf_search = pickle.load(pkl_file)\n",
    "l2_search = pickle.load(pkl_file)\n",
    "pkl_file.close()"
   ]
  },
  {
   "cell_type": "code",
   "execution_count": 37,
   "metadata": {},
   "outputs": [
    {
     "data": {
      "text/html": [
       "<div>\n",
       "<style scoped>\n",
       "    .dataframe tbody tr th:only-of-type {\n",
       "        vertical-align: middle;\n",
       "    }\n",
       "\n",
       "    .dataframe tbody tr th {\n",
       "        vertical-align: top;\n",
       "    }\n",
       "\n",
       "    .dataframe thead th {\n",
       "        text-align: right;\n",
       "    }\n",
       "</style>\n",
       "<table border=\"1\" class=\"dataframe\">\n",
       "  <thead>\n",
       "    <tr style=\"text-align: right;\">\n",
       "      <th></th>\n",
       "      <th>bow</th>\n",
       "      <th>tfidf</th>\n",
       "      <th>l2</th>\n",
       "    </tr>\n",
       "  </thead>\n",
       "  <tbody>\n",
       "    <tr>\n",
       "      <th>0</th>\n",
       "      <td>0.550214</td>\n",
       "      <td>0.715357</td>\n",
       "      <td>0.502500</td>\n",
       "    </tr>\n",
       "    <tr>\n",
       "      <th>1</th>\n",
       "      <td>0.712429</td>\n",
       "      <td>0.732286</td>\n",
       "      <td>0.502500</td>\n",
       "    </tr>\n",
       "    <tr>\n",
       "      <th>2</th>\n",
       "      <td>0.718714</td>\n",
       "      <td>0.692786</td>\n",
       "      <td>0.710643</td>\n",
       "    </tr>\n",
       "    <tr>\n",
       "      <th>3</th>\n",
       "      <td>0.702929</td>\n",
       "      <td>0.673000</td>\n",
       "      <td>0.727786</td>\n",
       "    </tr>\n",
       "    <tr>\n",
       "      <th>4</th>\n",
       "      <td>0.680571</td>\n",
       "      <td>0.665357</td>\n",
       "      <td>0.716286</td>\n",
       "    </tr>\n",
       "    <tr>\n",
       "      <th>5</th>\n",
       "      <td>0.666786</td>\n",
       "      <td>0.659714</td>\n",
       "      <td>0.694643</td>\n",
       "    </tr>\n",
       "  </tbody>\n",
       "</table>\n",
       "</div>"
      ],
      "text/plain": [
       "        bow     tfidf        l2\n",
       "0  0.550214  0.715357  0.502500\n",
       "1  0.712429  0.732286  0.502500\n",
       "2  0.718714  0.692786  0.710643\n",
       "3  0.702929  0.673000  0.727786\n",
       "4  0.680571  0.665357  0.716286\n",
       "5  0.666786  0.659714  0.694643"
      ]
     },
     "execution_count": 37,
     "metadata": {},
     "output_type": "execute_result"
    }
   ],
   "source": [
    "search_results = pd.DataFrame.from_dict({'bow': bow_search.cv_results_['mean_test_score'],\n",
    "                               'tfidf': tfidf_search.cv_results_['mean_test_score'],\n",
    "                               'l2': l2_search.cv_results_['mean_test_score']})\n",
    "search_results"
   ]
  },
  {
   "cell_type": "markdown",
   "metadata": {},
   "source": [
    "## Plot cross validation results"
   ]
  },
  {
   "cell_type": "code",
   "execution_count": 38,
   "metadata": {},
   "outputs": [],
   "source": [
    "%matplotlib inline\n",
    "import matplotlib.pyplot as plt\n",
    "import seaborn as sns\n",
    "sns.set_style(\"whitegrid\")"
   ]
  },
  {
   "cell_type": "code",
   "execution_count": 39,
   "metadata": {},
   "outputs": [
    {
     "data": {
      "image/png": "[encoded data removed]",
      "text/plain": [
       "<Figure size 432x288 with 1 Axes>"
      ]
     },
     "metadata": {
      "needs_background": "light"
     },
     "output_type": "display_data"
    }
   ],
   "source": [
    "ax = sns.boxplot(data=search_results, width=0.4)\n",
    "ax.set_ylabel('Accuracy', size=14)\n",
    "ax.tick_params(labelsize=14)\n",
    "plt.savefig('tfidf_gridcv_results.png')"
   ]
  },
  {
   "cell_type": "code",
   "execution_count": 39,
   "metadata": {},
   "outputs": [
    {
     "name": "stdout",
     "output_type": "stream",
     "text": [
      "Test score with bow features: 0.7295\n",
      "Test score with l2-normalized features: 0.739\n",
      "Test score with tf-idf features: 0.74\n"
     ]
    }
   ],
   "source": [
    "m1 = simple_logistic_classify(X_tr_bow, y_tr, X_te_bow, y_te, 'bow', \n",
    "                              _C=bow_search.best_params_['C'])\n",
    "m2 = simple_logistic_classify(X_tr_l2, y_tr, X_te_l2, y_te, 'l2-normalized', \n",
    "                              _C=l2_search.best_params_['C'])\n",
    "m3 = simple_logistic_classify(X_tr_tfidf, y_tr, X_te_tfidf, y_te, 'tf-idf', \n",
    "                              _C=tfidf_search.best_params_['C'])"
   ]
  },
  {
   "cell_type": "code",
   "execution_count": 40,
   "metadata": {},
   "outputs": [
    {
     "data": {
      "text/plain": [
       "array([0.55021429, 0.71242857, 0.71871429, 0.70292857, 0.68057143,\n",
       "       0.66678571])"
      ]
     },
     "execution_count": 40,
     "metadata": {},
     "output_type": "execute_result"
    }
   ],
   "source": [
    "bow_search.cv_results_['mean_test_score']"
   ]
  }
 ],
 "metadata": {
  "kernelspec": {
   "display_name": "Python 3 (ipykernel)",
   "language": "python",
   "name": "python3"
  },
  "language_info": {
   "codemirror_mode": {
    "name": "ipython",
    "version": 3
   },
   "file_extension": ".py",
   "mimetype": "text/x-python",
   "name": "python",
   "nbconvert_exporter": "python",
   "pygments_lexer": "ipython3",
   "version": "3.12.7"
  }
 },
 "nbformat": 4,
 "nbformat_minor": 4
}
