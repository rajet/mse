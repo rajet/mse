{
 "cells": [
  {
   "cell_type": "markdown",
   "metadata": {},
   "source": [
    "<img src=\"ost_logo.png\" width=\"240\" height=\"240\" align=\"right\"/>\n",
    "<div style=\"text-align: left\"> <b> Machine Learning </b> <br> MSE FTP MachLe <br> \n",
    "<a href=\"mailto:christoph.wuersch@ost.ch\"> Christoph Würsch </a> </div>"
   ]
  },
  {
   "cell_type": "markdown",
   "metadata": {},
   "source": [
    "# Lab 7, A3: Yelp Business Classification using Bag-of-Words and tf-idf\n",
    "\n",
    "Yelp is a crowd-sourced review forum, as well as an American multinational corporation headquartered in San Francisco, California. It develops, hosts and markets Yelp.com and the Yelp mobile app, which publish crowd-sourced reviews about local businesses, as well as the online reservation service Yelp Reservations. The company also trains small businesses in\n",
    "how to respond to reviews, hosts social events for reviewers, and provides data about businesses, including health inspection scores. The data is open and can be downloaded here https://www.yelp.com/dataset/challenge.\n",
    "\n",
    "We have prepared a partial dataset from the big Yelp dataset in the __pickle serialization format__ that you can read into a pandas dataframe using ``pd.read_pickle``.\n"
   ]
  },
  {
   "cell_type": "code",
   "execution_count": 1,
   "metadata": {},
   "outputs": [],
   "source": [
    "import json\n",
    "import numpy as np\n",
    "import pandas as pd\n",
    "from sklearn.feature_extraction import text\n",
    "from sklearn.linear_model import LogisticRegression\n",
    "import sklearn.model_selection as modsel\n",
    "import sklearn.preprocessing as preproc"
   ]
  },
  {
   "cell_type": "markdown",
   "metadata": {},
   "source": [
    "### (a)  Load and prep Yelp reviews data"
   ]
  },
  {
   "cell_type": "code",
   "execution_count": 2,
   "metadata": {},
   "outputs": [],
   "source": [
    "DataPath='D:/Downloads/YelpDataset/'\n",
    "nightlife_subset = pd.read_pickle('nightlife_subset.pkl')\n",
    "restaurant_subset = pd.read_pickle('restaurant_subset.pkl')"
   ]
  },
  {
   "cell_type": "markdown",
   "metadata": {},
   "source": [
    "### (b) combine both datasets"
   ]
  },
  {
   "cell_type": "code",
   "execution_count": 3,
   "metadata": {},
   "outputs": [],
   "source": [
    "combined = pd.concat([nightlife_subset, restaurant_subset])"
   ]
  },
  {
   "cell_type": "code",
   "execution_count": 4,
   "metadata": {},
   "outputs": [],
   "source": [
    "combined['target'] = combined.apply(lambda x: 'Nightlife' in x['categories'],\n",
    "                                    axis=1)"
   ]
  },
  {
   "cell_type": "code",
   "execution_count": 5,
   "metadata": {},
   "outputs": [
    {
     "data": {
      "text/html": [
       "<div>\n",
       "<style scoped>\n",
       "    .dataframe tbody tr th:only-of-type {\n",
       "        vertical-align: middle;\n",
       "    }\n",
       "\n",
       "    .dataframe tbody tr th {\n",
       "        vertical-align: top;\n",
       "    }\n",
       "\n",
       "    .dataframe thead th {\n",
       "        text-align: right;\n",
       "    }\n",
       "</style>\n",
       "<table border=\"1\" class=\"dataframe\">\n",
       "  <thead>\n",
       "    <tr style=\"text-align: right;\">\n",
       "      <th></th>\n",
       "      <th>business_id</th>\n",
       "      <th>name</th>\n",
       "      <th>stars_y</th>\n",
       "      <th>text</th>\n",
       "      <th>categories</th>\n",
       "      <th>target</th>\n",
       "    </tr>\n",
       "  </thead>\n",
       "  <tbody>\n",
       "    <tr>\n",
       "      <th>2203299</th>\n",
       "      <td>lpYFsXFrojiBZ1kbWR2lZw</td>\n",
       "      <td>Four Peaks Grill &amp; Tap</td>\n",
       "      <td>5</td>\n",
       "      <td>Great service and food... Enjoy the atmosphere...</td>\n",
       "      <td>Food, Restaurants, American (New), Local Flavo...</td>\n",
       "      <td>True</td>\n",
       "    </tr>\n",
       "    <tr>\n",
       "      <th>482774</th>\n",
       "      <td>KskYqH1Bi7Z_61pH6Om8pg</td>\n",
       "      <td>Lotus of Siam</td>\n",
       "      <td>5</td>\n",
       "      <td>Lotus is one of my all time favorites in Las V...</td>\n",
       "      <td>Wine Bars, Nightlife, Restaurants, Seafood, Ca...</td>\n",
       "      <td>True</td>\n",
       "    </tr>\n",
       "    <tr>\n",
       "      <th>3086879</th>\n",
       "      <td>zFnPRtP7LGvr3sfxvy_dfg</td>\n",
       "      <td>Revolution Ale House</td>\n",
       "      <td>1</td>\n",
       "      <td>This place has definitely gone downhill. We fi...</td>\n",
       "      <td>Nightlife, Italian, Restaurants, Pizza, Bars</td>\n",
       "      <td>True</td>\n",
       "    </tr>\n",
       "    <tr>\n",
       "      <th>512115</th>\n",
       "      <td>gUR2pWQKLPgMEm_R_aI_aw</td>\n",
       "      <td>Shooters On The Water</td>\n",
       "      <td>3</td>\n",
       "      <td>Thought this might be a worn out hang out for ...</td>\n",
       "      <td>Dive Bars, American (New), American (Tradition...</td>\n",
       "      <td>True</td>\n",
       "    </tr>\n",
       "    <tr>\n",
       "      <th>3278073</th>\n",
       "      <td>hmYnzs8-aHbltaOOGDgmbA</td>\n",
       "      <td>Zipps Sports Grill</td>\n",
       "      <td>4</td>\n",
       "      <td>Zipps is almost always on happy hour! They hav...</td>\n",
       "      <td>Sports Bars, American (Traditional), Nightlife...</td>\n",
       "      <td>True</td>\n",
       "    </tr>\n",
       "    <tr>\n",
       "      <th>717572</th>\n",
       "      <td>aHACz8VHbBV5Je6q9u7g0Q</td>\n",
       "      <td>Burgers 2 Beer - Concord Twp.</td>\n",
       "      <td>1</td>\n",
       "      <td>The Concord Burgers to Beer NEEDS A NEW MANAGE...</td>\n",
       "      <td>Gastropubs, Bars, Nightlife, Restaurants, Beer...</td>\n",
       "      <td>True</td>\n",
       "    </tr>\n",
       "    <tr>\n",
       "      <th>590714</th>\n",
       "      <td>bXLaGCKzkQcA2hLT-JZQ1w</td>\n",
       "      <td>J. Sams Wine Bar</td>\n",
       "      <td>5</td>\n",
       "      <td>I saw the good reviews on here and wanted to c...</td>\n",
       "      <td>Restaurants, Arts &amp; Entertainment, American (N...</td>\n",
       "      <td>True</td>\n",
       "    </tr>\n",
       "    <tr>\n",
       "      <th>2165889</th>\n",
       "      <td>7sPNbCx7vGAaH7SbNPZ6oA</td>\n",
       "      <td>Bachi Burger</td>\n",
       "      <td>1</td>\n",
       "      <td>So it's been about 4 weeks since I was told th...</td>\n",
       "      <td>Restaurants, Food, Asian Fusion, American (New...</td>\n",
       "      <td>True</td>\n",
       "    </tr>\n",
       "    <tr>\n",
       "      <th>621638</th>\n",
       "      <td>DublKfLa9Y0PguCryoDJ-Q</td>\n",
       "      <td>Cantina 1511</td>\n",
       "      <td>5</td>\n",
       "      <td>Great food &amp; service! Stan the manager was the...</td>\n",
       "      <td>New Mexican Cuisine, Bars, Nightlife, Mexican,...</td>\n",
       "      <td>True</td>\n",
       "    </tr>\n",
       "    <tr>\n",
       "      <th>2048614</th>\n",
       "      <td>iH6heFdMwPXk9GIO6PwUvA</td>\n",
       "      <td>Beerhaus</td>\n",
       "      <td>5</td>\n",
       "      <td>We had fun at happy hour. Truth or dare Jenga ...</td>\n",
       "      <td>Breweries, Beer Bar, Bars, American (New), Foo...</td>\n",
       "      <td>True</td>\n",
       "    </tr>\n",
       "    <tr>\n",
       "      <th>12861</th>\n",
       "      <td>wKlH90YB5RYFvJ8N3pstVw</td>\n",
       "      <td>Union Standard</td>\n",
       "      <td>5</td>\n",
       "      <td>I go to Union Standard's happy hour from 4-6 a...</td>\n",
       "      <td>Seafood, Cocktail Bars, Nightlife, Restaurants...</td>\n",
       "      <td>True</td>\n",
       "    </tr>\n",
       "    <tr>\n",
       "      <th>1064434</th>\n",
       "      <td>B7pLK62P0rRxz25HV4RXFA</td>\n",
       "      <td>Victory Alley</td>\n",
       "      <td>4</td>\n",
       "      <td>I actually don't want to review this place and...</td>\n",
       "      <td>Bars, Burgers, Sports Bars, Chicken Wings, Nig...</td>\n",
       "      <td>True</td>\n",
       "    </tr>\n",
       "    <tr>\n",
       "      <th>2164784</th>\n",
       "      <td>7sPNbCx7vGAaH7SbNPZ6oA</td>\n",
       "      <td>Bachi Burger</td>\n",
       "      <td>4</td>\n",
       "      <td>Went here because of Diners, Drive-Ins and Div...</td>\n",
       "      <td>Restaurants, Food, Asian Fusion, American (New...</td>\n",
       "      <td>True</td>\n",
       "    </tr>\n",
       "    <tr>\n",
       "      <th>1315939</th>\n",
       "      <td>rZOzhSA5HP6IdpxuN4v66w</td>\n",
       "      <td>Nikko Japanese Restaurant &amp; Sushi Bar</td>\n",
       "      <td>5</td>\n",
       "      <td>I absolutely love the Sushi here. The rolls ar...</td>\n",
       "      <td>Party &amp; Event Planning, Japanese, Dance Clubs,...</td>\n",
       "      <td>True</td>\n",
       "    </tr>\n",
       "    <tr>\n",
       "      <th>3249081</th>\n",
       "      <td>foQZ6guS0l49trURKh7vlA</td>\n",
       "      <td>Double Barrel Roadhouse</td>\n",
       "      <td>4</td>\n",
       "      <td>The best things about this spot, are the atmos...</td>\n",
       "      <td>Cocktail Bars, Bars, Nightlife, American (Trad...</td>\n",
       "      <td>True</td>\n",
       "    </tr>\n",
       "    <tr>\n",
       "      <th>501133</th>\n",
       "      <td>vjlnj2qGXOQrLVLaCCF_mw</td>\n",
       "      <td>Desert Rose Pizza &amp; Gastropub</td>\n",
       "      <td>5</td>\n",
       "      <td>Everything was wonderful, service, food, cockt...</td>\n",
       "      <td>Sports Bars, Tobacco Shops, Nightlife, Restaur...</td>\n",
       "      <td>True</td>\n",
       "    </tr>\n",
       "    <tr>\n",
       "      <th>3101497</th>\n",
       "      <td>90bL34o2KEes9pUnCOm7pQ</td>\n",
       "      <td>The Gladly</td>\n",
       "      <td>5</td>\n",
       "      <td>The Gladly is located on the SE corner of Came...</td>\n",
       "      <td>Bars, American (New), Venues &amp; Event Spaces, N...</td>\n",
       "      <td>True</td>\n",
       "    </tr>\n",
       "    <tr>\n",
       "      <th>1862174</th>\n",
       "      <td>DYuOxkW4DtlJsTHdxdXSlg</td>\n",
       "      <td>Bahama Breeze</td>\n",
       "      <td>2</td>\n",
       "      <td>Maybe we got the wrong dishes. I got the chipo...</td>\n",
       "      <td>Laotian, Bars, Nightlife, Restaurants, Seafood...</td>\n",
       "      <td>True</td>\n",
       "    </tr>\n",
       "    <tr>\n",
       "      <th>1641551</th>\n",
       "      <td>jQJYvzUFsz9ytI1AzW0dyQ</td>\n",
       "      <td>Applebee's Grill + Bar</td>\n",
       "      <td>1</td>\n",
       "      <td>Walked in and no one greeting us, there was a ...</td>\n",
       "      <td>Steakhouses, Bars, Sports Bars, Nightlife, Ame...</td>\n",
       "      <td>True</td>\n",
       "    </tr>\n",
       "    <tr>\n",
       "      <th>3431743</th>\n",
       "      <td>pH0BLkL4cbxKzu471VZnuA</td>\n",
       "      <td>SUSHISAMBA - Las Vegas</td>\n",
       "      <td>2</td>\n",
       "      <td>A lot of experience was dampened by the servic...</td>\n",
       "      <td>Chinese, Japanese, Nightlife, Dim Sum, Asian F...</td>\n",
       "      <td>True</td>\n",
       "    </tr>\n",
       "    <tr>\n",
       "      <th>1972070</th>\n",
       "      <td>P7pxQFqr7yBKMMI2J51udw</td>\n",
       "      <td>Holsteins Shakes &amp; Buns</td>\n",
       "      <td>5</td>\n",
       "      <td>I'm posting this review on behalf of my husban...</td>\n",
       "      <td>American (Traditional), Restaurants, Burgers, ...</td>\n",
       "      <td>True</td>\n",
       "    </tr>\n",
       "    <tr>\n",
       "      <th>1930383</th>\n",
       "      <td>VsPoQeCRYYHQrj9jbiLmtA</td>\n",
       "      <td>Russell's Pub N Grill</td>\n",
       "      <td>2</td>\n",
       "      <td>Alright folks- this place could've been better...</td>\n",
       "      <td>Restaurants, Nightlife, American (New), Bars, ...</td>\n",
       "      <td>True</td>\n",
       "    </tr>\n",
       "    <tr>\n",
       "      <th>1383937</th>\n",
       "      <td>l_kefVF1frmC0xRW2YkvUA</td>\n",
       "      <td>Whisky River</td>\n",
       "      <td>3</td>\n",
       "      <td>Came in here with my sister. I'm in town for a...</td>\n",
       "      <td>Nightlife, Music Venues, Cocktail Bars, Venues...</td>\n",
       "      <td>True</td>\n",
       "    </tr>\n",
       "    <tr>\n",
       "      <th>2471262</th>\n",
       "      <td>GZfz7YiV1fUHjsBj_8ytZA</td>\n",
       "      <td>Anthony's Sports Bar Restaurant &amp; Catering</td>\n",
       "      <td>4</td>\n",
       "      <td>We went to this bar for the sole reason to wat...</td>\n",
       "      <td>Event Planning &amp; Services, Nightlife, Bars, Ca...</td>\n",
       "      <td>True</td>\n",
       "    </tr>\n",
       "    <tr>\n",
       "      <th>1099305</th>\n",
       "      <td>2skQeu3C36VCiB653MIfrw</td>\n",
       "      <td>Bootleggers Modern American Smokehouse</td>\n",
       "      <td>2</td>\n",
       "      <td>Not what we expected and not worth the money. ...</td>\n",
       "      <td>Barbeque, Restaurants, Nightlife, Bars, Food, ...</td>\n",
       "      <td>True</td>\n",
       "    </tr>\n",
       "    <tr>\n",
       "      <th>1774310</th>\n",
       "      <td>xy1McNUocWlt-8DZ7Ifg9A</td>\n",
       "      <td>Pravda Vodka Bar</td>\n",
       "      <td>3</td>\n",
       "      <td>Saturday night\\nI went to Pravda for my friend...</td>\n",
       "      <td>Bars, Nightlife, Lounges</td>\n",
       "      <td>True</td>\n",
       "    </tr>\n",
       "    <tr>\n",
       "      <th>3240924</th>\n",
       "      <td>iIok1p4qnpGAa07xoaXRQA</td>\n",
       "      <td>Field Table</td>\n",
       "      <td>4</td>\n",
       "      <td>Great service, vibe, and eats. I went for brun...</td>\n",
       "      <td>Restaurants, Nightlife, Cocktail Bars, Bars, C...</td>\n",
       "      <td>True</td>\n",
       "    </tr>\n",
       "    <tr>\n",
       "      <th>2576812</th>\n",
       "      <td>_T7f2wUgNlJqxsR-cR89SQ</td>\n",
       "      <td>Scaramouche Restaurant Pasta Bar &amp; Grill</td>\n",
       "      <td>5</td>\n",
       "      <td>Hands down the best restaurant in Toronto.  Ha...</td>\n",
       "      <td>Restaurants, Bars, French, Nightlife</td>\n",
       "      <td>True</td>\n",
       "    </tr>\n",
       "    <tr>\n",
       "      <th>2331196</th>\n",
       "      <td>8tKhimgRiNx74LbYDu9LIw</td>\n",
       "      <td>Greek Town</td>\n",
       "      <td>3</td>\n",
       "      <td>Close to a 4 star but...prawns were previously...</td>\n",
       "      <td>Wine Bars, Restaurants, Greek, Bars, Nightlife</td>\n",
       "      <td>True</td>\n",
       "    </tr>\n",
       "    <tr>\n",
       "      <th>898173</th>\n",
       "      <td>pHpU8lnnxMuPWRHOysuMIQ</td>\n",
       "      <td>Salut Kitchen Bar</td>\n",
       "      <td>5</td>\n",
       "      <td>In searching for an ideal venue for a group ce...</td>\n",
       "      <td>Bars, Nightlife, Beer, Wine &amp; Spirits, Restaur...</td>\n",
       "      <td>True</td>\n",
       "    </tr>\n",
       "    <tr>\n",
       "      <th>...</th>\n",
       "      <td>...</td>\n",
       "      <td>...</td>\n",
       "      <td>...</td>\n",
       "      <td>...</td>\n",
       "      <td>...</td>\n",
       "      <td>...</td>\n",
       "    </tr>\n",
       "    <tr>\n",
       "      <th>510186</th>\n",
       "      <td>tvYID0arhN-shKGUrC1Wsg</td>\n",
       "      <td>Copacabana Brazilian Steak House</td>\n",
       "      <td>4</td>\n",
       "      <td>Meat on meat on meat!\\n\\nIt was my second time...</td>\n",
       "      <td>Beer, Wine &amp; Spirits, Restaurants, Brazilian, ...</td>\n",
       "      <td>False</td>\n",
       "    </tr>\n",
       "    <tr>\n",
       "      <th>229587</th>\n",
       "      <td>QvltB7RjVOVRBl685azJ5g</td>\n",
       "      <td>Burntwood Tavern</td>\n",
       "      <td>1</td>\n",
       "      <td>We just left, we have been there many times bu...</td>\n",
       "      <td>American (Traditional), Restaurants</td>\n",
       "      <td>False</td>\n",
       "    </tr>\n",
       "    <tr>\n",
       "      <th>2011253</th>\n",
       "      <td>fcyk-PZKRqo4EUJ0vH1aNg</td>\n",
       "      <td>Capps Pizza</td>\n",
       "      <td>1</td>\n",
       "      <td>Called and ordered a pizza at 7pm and it still...</td>\n",
       "      <td>Pizza, Chicken Wings, Restaurants, Burgers</td>\n",
       "      <td>False</td>\n",
       "    </tr>\n",
       "    <tr>\n",
       "      <th>1039515</th>\n",
       "      <td>6ZIHxvFTHC1pvAzAS0uLDA</td>\n",
       "      <td>Lee's Sandwiches</td>\n",
       "      <td>4</td>\n",
       "      <td>Try the bbq pork sandwich... yum!! Gotta get e...</td>\n",
       "      <td>Vietnamese, Sandwiches, Food, Ice Cream &amp; Froz...</td>\n",
       "      <td>False</td>\n",
       "    </tr>\n",
       "    <tr>\n",
       "      <th>2066597</th>\n",
       "      <td>spDZkD6cp0JUUm6ghIWHzA</td>\n",
       "      <td>Kitchen M</td>\n",
       "      <td>1</td>\n",
       "      <td>Would give this place 0 stars if that were pos...</td>\n",
       "      <td>Restaurants, Chinese</td>\n",
       "      <td>False</td>\n",
       "    </tr>\n",
       "    <tr>\n",
       "      <th>1733536</th>\n",
       "      <td>GGecutXeoEVlYKoxVo2WPA</td>\n",
       "      <td>Mixteca Mexican Food</td>\n",
       "      <td>4</td>\n",
       "      <td>It's hard to go wrong at Mixteca.  At first gl...</td>\n",
       "      <td>Mexican, Restaurants</td>\n",
       "      <td>False</td>\n",
       "    </tr>\n",
       "    <tr>\n",
       "      <th>2740998</th>\n",
       "      <td>QDRFdG8gPPKL7r4yic8j7Q</td>\n",
       "      <td>The Original Burrito Company</td>\n",
       "      <td>4</td>\n",
       "      <td>So I've gota bad habit of ordering the same th...</td>\n",
       "      <td>Mexican, Restaurants</td>\n",
       "      <td>False</td>\n",
       "    </tr>\n",
       "    <tr>\n",
       "      <th>2603889</th>\n",
       "      <td>rbcfYmJtqwIkk17IeOI5Kw</td>\n",
       "      <td>BARDOT Brasserie</td>\n",
       "      <td>5</td>\n",
       "      <td>The best brunch in Las Vegas.  \\n\\nThat sounds...</td>\n",
       "      <td>Cafes, Hostels, Brasseries, Hotels &amp; Travel, R...</td>\n",
       "      <td>False</td>\n",
       "    </tr>\n",
       "    <tr>\n",
       "      <th>1023415</th>\n",
       "      <td>J2Am_nJkdicGk2S1DzwuPA</td>\n",
       "      <td>Carl's Jr</td>\n",
       "      <td>1</td>\n",
       "      <td>The worst carls jr. I have been to in the Paci...</td>\n",
       "      <td>Fast Food, Restaurants</td>\n",
       "      <td>False</td>\n",
       "    </tr>\n",
       "    <tr>\n",
       "      <th>1938088</th>\n",
       "      <td>kRgAf6j2y1eR0wOFdzFAuw</td>\n",
       "      <td>Firefly</td>\n",
       "      <td>4</td>\n",
       "      <td>Great bar with huge liquor selection. He tapas...</td>\n",
       "      <td>Tapas/Small Plates, Restaurants, Tapas Bars, S...</td>\n",
       "      <td>False</td>\n",
       "    </tr>\n",
       "    <tr>\n",
       "      <th>1231561</th>\n",
       "      <td>vWFhRvHVIJAzIeOX4g_YcA</td>\n",
       "      <td>Original Tommy's</td>\n",
       "      <td>1</td>\n",
       "      <td>All I have to say is I see why this place neve...</td>\n",
       "      <td>Restaurants, Burgers</td>\n",
       "      <td>False</td>\n",
       "    </tr>\n",
       "    <tr>\n",
       "      <th>3362107</th>\n",
       "      <td>BWWzh28StP6hkMm5L4nCAQ</td>\n",
       "      <td>Pita Land</td>\n",
       "      <td>2</td>\n",
       "      <td>This fast food restaurant is strangely under-s...</td>\n",
       "      <td>Middle Eastern, Sandwiches, Halal, Fast Food, ...</td>\n",
       "      <td>False</td>\n",
       "    </tr>\n",
       "    <tr>\n",
       "      <th>727051</th>\n",
       "      <td>j-5O-Ehd2eaCHYgmTSfoRw</td>\n",
       "      <td>Chipotle Mexican Grill</td>\n",
       "      <td>2</td>\n",
       "      <td>When I was halfway through the long line at Ch...</td>\n",
       "      <td>Mexican, Restaurants, Fast Food</td>\n",
       "      <td>False</td>\n",
       "    </tr>\n",
       "    <tr>\n",
       "      <th>2312132</th>\n",
       "      <td>EWpRPVSiPxWbdJBgNDNvGw</td>\n",
       "      <td>Piada Italian Street Food</td>\n",
       "      <td>5</td>\n",
       "      <td>My husband and I went to the soft opening earl...</td>\n",
       "      <td>Restaurants, Salad, Wraps, Italian</td>\n",
       "      <td>False</td>\n",
       "    </tr>\n",
       "    <tr>\n",
       "      <th>2859049</th>\n",
       "      <td>-_TSaVr53qiEGqMkwyEMaQ</td>\n",
       "      <td>Parsley Modern Mediterranean</td>\n",
       "      <td>4</td>\n",
       "      <td>Decent food, flavorful and filling, especially...</td>\n",
       "      <td>Sandwiches, Mediterranean, Restaurants, Middle...</td>\n",
       "      <td>False</td>\n",
       "    </tr>\n",
       "    <tr>\n",
       "      <th>97004</th>\n",
       "      <td>zidkKI_N1OPxsiddTOQH_Q</td>\n",
       "      <td>Naked BBQ</td>\n",
       "      <td>5</td>\n",
       "      <td>Best barbeque brisket I have ever eaten. The o...</td>\n",
       "      <td>American (New), Caterers, Southern, Restaurant...</td>\n",
       "      <td>False</td>\n",
       "    </tr>\n",
       "    <tr>\n",
       "      <th>852068</th>\n",
       "      <td>q3dJQtwZQrrurNT-1bNKgQ</td>\n",
       "      <td>Capo's Italian Cuisine</td>\n",
       "      <td>5</td>\n",
       "      <td>Had a great night and Armondo served us well! ...</td>\n",
       "      <td>Restaurants, Italian</td>\n",
       "      <td>False</td>\n",
       "    </tr>\n",
       "    <tr>\n",
       "      <th>916914</th>\n",
       "      <td>7iuruLs-q-_RW06IbsBxZw</td>\n",
       "      <td>Arirang Korean BBQ</td>\n",
       "      <td>5</td>\n",
       "      <td>I love this place. Every time I come I get the...</td>\n",
       "      <td>Korean, Barbeque, Restaurants</td>\n",
       "      <td>False</td>\n",
       "    </tr>\n",
       "    <tr>\n",
       "      <th>2932256</th>\n",
       "      <td>S599hCA4kJJO3_b6SRFKoA</td>\n",
       "      <td>Michoacan</td>\n",
       "      <td>1</td>\n",
       "      <td>This is the worst place I have ever been to! I...</td>\n",
       "      <td>Seafood, Restaurants, Mexican, Breakfast &amp; Brunch</td>\n",
       "      <td>False</td>\n",
       "    </tr>\n",
       "    <tr>\n",
       "      <th>2475995</th>\n",
       "      <td>4JNXUYY8wbaaDmk3BPzlWw</td>\n",
       "      <td>Mon Ami Gabi</td>\n",
       "      <td>4</td>\n",
       "      <td>Visited early August 2016. \\nWe came for break...</td>\n",
       "      <td>Steakhouses, Breakfast &amp; Brunch, Restaurants, ...</td>\n",
       "      <td>False</td>\n",
       "    </tr>\n",
       "    <tr>\n",
       "      <th>2970425</th>\n",
       "      <td>PeATTp15Y_ExaN6mR1dmKw</td>\n",
       "      <td>Quaker Steak &amp; Lube</td>\n",
       "      <td>4</td>\n",
       "      <td>Chicken was awesome! The Smokey Gold barbecue ...</td>\n",
       "      <td>Steakhouses, Restaurants, Chicken Wings, Ameri...</td>\n",
       "      <td>False</td>\n",
       "    </tr>\n",
       "    <tr>\n",
       "      <th>1176580</th>\n",
       "      <td>CPgz4srKkE5u9aoBAOaQsA</td>\n",
       "      <td>Davidson Pizza Company</td>\n",
       "      <td>4</td>\n",
       "      <td>Good selection of specialty pizzas. $18 range ...</td>\n",
       "      <td>Chicken Wings, Salad, Restaurants, Pizza</td>\n",
       "      <td>False</td>\n",
       "    </tr>\n",
       "    <tr>\n",
       "      <th>2786561</th>\n",
       "      <td>Jy40ercZIQaNcz2qV3qgow</td>\n",
       "      <td>Mi Amigo's Mexican Grill</td>\n",
       "      <td>5</td>\n",
       "      <td>Amazing prices, amazing food, amazing margarit...</td>\n",
       "      <td>Restaurants, Mexican</td>\n",
       "      <td>False</td>\n",
       "    </tr>\n",
       "    <tr>\n",
       "      <th>1147706</th>\n",
       "      <td>ysJo5Jdo29XOBCnKrbUKWg</td>\n",
       "      <td>Paris 66</td>\n",
       "      <td>4</td>\n",
       "      <td>Fine French food is rare in Pittsburgh.  Fairl...</td>\n",
       "      <td>Breakfast &amp; Brunch, Creperies, Gluten-Free, Br...</td>\n",
       "      <td>False</td>\n",
       "    </tr>\n",
       "    <tr>\n",
       "      <th>2061131</th>\n",
       "      <td>sGZg_8t5I5WopNwsW7riAQ</td>\n",
       "      <td>Wild Ocean Seafood Market &amp; Grille</td>\n",
       "      <td>5</td>\n",
       "      <td>Came for the fresh, wild caught fish and fell ...</td>\n",
       "      <td>Restaurants, Seafood Markets, Food, Meat Shops...</td>\n",
       "      <td>False</td>\n",
       "    </tr>\n",
       "    <tr>\n",
       "      <th>2429937</th>\n",
       "      <td>Vs7gc9EE3k9wARuUcN9piA</td>\n",
       "      <td>Pan Asian</td>\n",
       "      <td>5</td>\n",
       "      <td>Pan Asian stays 5 stars for me.  I went back t...</td>\n",
       "      <td>Thai, Chinese, Japanese, Restaurants</td>\n",
       "      <td>False</td>\n",
       "    </tr>\n",
       "    <tr>\n",
       "      <th>640067</th>\n",
       "      <td>mYzlPKXvOVRrQivHnDqD5g</td>\n",
       "      <td>YamChops</td>\n",
       "      <td>5</td>\n",
       "      <td>Amazingly delicious with a variety of distinct...</td>\n",
       "      <td>Butcher, Juice Bars &amp; Smoothies, Vegan, Restau...</td>\n",
       "      <td>False</td>\n",
       "    </tr>\n",
       "    <tr>\n",
       "      <th>1566257</th>\n",
       "      <td>9Zl4uWSgSMpxHnsK_MPneg</td>\n",
       "      <td>Palermo Family Restaurant</td>\n",
       "      <td>4</td>\n",
       "      <td>Eat here quite often,  the Palermo Special piz...</td>\n",
       "      <td>Restaurants, Pizza</td>\n",
       "      <td>False</td>\n",
       "    </tr>\n",
       "    <tr>\n",
       "      <th>1607254</th>\n",
       "      <td>F-AYOq1xIY2u_qmWUG5VBw</td>\n",
       "      <td>Hakka Ren</td>\n",
       "      <td>5</td>\n",
       "      <td>It was amazing! I had the chilli fish schezuan...</td>\n",
       "      <td>Chinese, Halal, Indian, Restaurants</td>\n",
       "      <td>False</td>\n",
       "    </tr>\n",
       "    <tr>\n",
       "      <th>1076163</th>\n",
       "      <td>yNBVOKSZN_AIjSJdhF_rqA</td>\n",
       "      <td>Garbanzo Mediterranean Grill</td>\n",
       "      <td>4</td>\n",
       "      <td>My salad was really good. Nice atmosphere, fri...</td>\n",
       "      <td>Falafel, Event Planning &amp; Services, American (...</td>\n",
       "      <td>False</td>\n",
       "    </tr>\n",
       "  </tbody>\n",
       "</table>\n",
       "<p>20000 rows × 6 columns</p>\n",
       "</div>"
      ],
      "text/plain": [
       "                    business_id                                        name  \\\n",
       "2203299  lpYFsXFrojiBZ1kbWR2lZw                      Four Peaks Grill & Tap   \n",
       "482774   KskYqH1Bi7Z_61pH6Om8pg                               Lotus of Siam   \n",
       "3086879  zFnPRtP7LGvr3sfxvy_dfg                        Revolution Ale House   \n",
       "512115   gUR2pWQKLPgMEm_R_aI_aw                       Shooters On The Water   \n",
       "3278073  hmYnzs8-aHbltaOOGDgmbA                          Zipps Sports Grill   \n",
       "717572   aHACz8VHbBV5Je6q9u7g0Q               Burgers 2 Beer - Concord Twp.   \n",
       "590714   bXLaGCKzkQcA2hLT-JZQ1w                            J. Sams Wine Bar   \n",
       "2165889  7sPNbCx7vGAaH7SbNPZ6oA                                Bachi Burger   \n",
       "621638   DublKfLa9Y0PguCryoDJ-Q                                Cantina 1511   \n",
       "2048614  iH6heFdMwPXk9GIO6PwUvA                                    Beerhaus   \n",
       "12861    wKlH90YB5RYFvJ8N3pstVw                              Union Standard   \n",
       "1064434  B7pLK62P0rRxz25HV4RXFA                               Victory Alley   \n",
       "2164784  7sPNbCx7vGAaH7SbNPZ6oA                                Bachi Burger   \n",
       "1315939  rZOzhSA5HP6IdpxuN4v66w       Nikko Japanese Restaurant & Sushi Bar   \n",
       "3249081  foQZ6guS0l49trURKh7vlA                     Double Barrel Roadhouse   \n",
       "501133   vjlnj2qGXOQrLVLaCCF_mw               Desert Rose Pizza & Gastropub   \n",
       "3101497  90bL34o2KEes9pUnCOm7pQ                                  The Gladly   \n",
       "1862174  DYuOxkW4DtlJsTHdxdXSlg                               Bahama Breeze   \n",
       "1641551  jQJYvzUFsz9ytI1AzW0dyQ                      Applebee's Grill + Bar   \n",
       "3431743  pH0BLkL4cbxKzu471VZnuA                      SUSHISAMBA - Las Vegas   \n",
       "1972070  P7pxQFqr7yBKMMI2J51udw                     Holsteins Shakes & Buns   \n",
       "1930383  VsPoQeCRYYHQrj9jbiLmtA                       Russell's Pub N Grill   \n",
       "1383937  l_kefVF1frmC0xRW2YkvUA                               Whisky River    \n",
       "2471262  GZfz7YiV1fUHjsBj_8ytZA  Anthony's Sports Bar Restaurant & Catering   \n",
       "1099305  2skQeu3C36VCiB653MIfrw      Bootleggers Modern American Smokehouse   \n",
       "1774310  xy1McNUocWlt-8DZ7Ifg9A                            Pravda Vodka Bar   \n",
       "3240924  iIok1p4qnpGAa07xoaXRQA                                 Field Table   \n",
       "2576812  _T7f2wUgNlJqxsR-cR89SQ    Scaramouche Restaurant Pasta Bar & Grill   \n",
       "2331196  8tKhimgRiNx74LbYDu9LIw                                  Greek Town   \n",
       "898173   pHpU8lnnxMuPWRHOysuMIQ                           Salut Kitchen Bar   \n",
       "...                         ...                                         ...   \n",
       "510186   tvYID0arhN-shKGUrC1Wsg            Copacabana Brazilian Steak House   \n",
       "229587   QvltB7RjVOVRBl685azJ5g                            Burntwood Tavern   \n",
       "2011253  fcyk-PZKRqo4EUJ0vH1aNg                                 Capps Pizza   \n",
       "1039515  6ZIHxvFTHC1pvAzAS0uLDA                            Lee's Sandwiches   \n",
       "2066597  spDZkD6cp0JUUm6ghIWHzA                                   Kitchen M   \n",
       "1733536  GGecutXeoEVlYKoxVo2WPA                        Mixteca Mexican Food   \n",
       "2740998  QDRFdG8gPPKL7r4yic8j7Q                The Original Burrito Company   \n",
       "2603889  rbcfYmJtqwIkk17IeOI5Kw                            BARDOT Brasserie   \n",
       "1023415  J2Am_nJkdicGk2S1DzwuPA                                   Carl's Jr   \n",
       "1938088  kRgAf6j2y1eR0wOFdzFAuw                                     Firefly   \n",
       "1231561  vWFhRvHVIJAzIeOX4g_YcA                            Original Tommy's   \n",
       "3362107  BWWzh28StP6hkMm5L4nCAQ                                   Pita Land   \n",
       "727051   j-5O-Ehd2eaCHYgmTSfoRw                      Chipotle Mexican Grill   \n",
       "2312132  EWpRPVSiPxWbdJBgNDNvGw                   Piada Italian Street Food   \n",
       "2859049  -_TSaVr53qiEGqMkwyEMaQ                Parsley Modern Mediterranean   \n",
       "97004    zidkKI_N1OPxsiddTOQH_Q                                   Naked BBQ   \n",
       "852068   q3dJQtwZQrrurNT-1bNKgQ                      Capo's Italian Cuisine   \n",
       "916914   7iuruLs-q-_RW06IbsBxZw                          Arirang Korean BBQ   \n",
       "2932256  S599hCA4kJJO3_b6SRFKoA                                   Michoacan   \n",
       "2475995  4JNXUYY8wbaaDmk3BPzlWw                                Mon Ami Gabi   \n",
       "2970425  PeATTp15Y_ExaN6mR1dmKw                         Quaker Steak & Lube   \n",
       "1176580  CPgz4srKkE5u9aoBAOaQsA                      Davidson Pizza Company   \n",
       "2786561  Jy40ercZIQaNcz2qV3qgow                    Mi Amigo's Mexican Grill   \n",
       "1147706  ysJo5Jdo29XOBCnKrbUKWg                                    Paris 66   \n",
       "2061131  sGZg_8t5I5WopNwsW7riAQ          Wild Ocean Seafood Market & Grille   \n",
       "2429937  Vs7gc9EE3k9wARuUcN9piA                                   Pan Asian   \n",
       "640067   mYzlPKXvOVRrQivHnDqD5g                                    YamChops   \n",
       "1566257  9Zl4uWSgSMpxHnsK_MPneg                   Palermo Family Restaurant   \n",
       "1607254  F-AYOq1xIY2u_qmWUG5VBw                                   Hakka Ren   \n",
       "1076163  yNBVOKSZN_AIjSJdhF_rqA                Garbanzo Mediterranean Grill   \n",
       "\n",
       "         stars_y                                               text  \\\n",
       "2203299        5  Great service and food... Enjoy the atmosphere...   \n",
       "482774         5  Lotus is one of my all time favorites in Las V...   \n",
       "3086879        1  This place has definitely gone downhill. We fi...   \n",
       "512115         3  Thought this might be a worn out hang out for ...   \n",
       "3278073        4  Zipps is almost always on happy hour! They hav...   \n",
       "717572         1  The Concord Burgers to Beer NEEDS A NEW MANAGE...   \n",
       "590714         5  I saw the good reviews on here and wanted to c...   \n",
       "2165889        1  So it's been about 4 weeks since I was told th...   \n",
       "621638         5  Great food & service! Stan the manager was the...   \n",
       "2048614        5  We had fun at happy hour. Truth or dare Jenga ...   \n",
       "12861          5  I go to Union Standard's happy hour from 4-6 a...   \n",
       "1064434        4  I actually don't want to review this place and...   \n",
       "2164784        4  Went here because of Diners, Drive-Ins and Div...   \n",
       "1315939        5  I absolutely love the Sushi here. The rolls ar...   \n",
       "3249081        4  The best things about this spot, are the atmos...   \n",
       "501133         5  Everything was wonderful, service, food, cockt...   \n",
       "3101497        5  The Gladly is located on the SE corner of Came...   \n",
       "1862174        2  Maybe we got the wrong dishes. I got the chipo...   \n",
       "1641551        1  Walked in and no one greeting us, there was a ...   \n",
       "3431743        2  A lot of experience was dampened by the servic...   \n",
       "1972070        5  I'm posting this review on behalf of my husban...   \n",
       "1930383        2  Alright folks- this place could've been better...   \n",
       "1383937        3  Came in here with my sister. I'm in town for a...   \n",
       "2471262        4  We went to this bar for the sole reason to wat...   \n",
       "1099305        2  Not what we expected and not worth the money. ...   \n",
       "1774310        3  Saturday night\\nI went to Pravda for my friend...   \n",
       "3240924        4  Great service, vibe, and eats. I went for brun...   \n",
       "2576812        5  Hands down the best restaurant in Toronto.  Ha...   \n",
       "2331196        3  Close to a 4 star but...prawns were previously...   \n",
       "898173         5  In searching for an ideal venue for a group ce...   \n",
       "...          ...                                                ...   \n",
       "510186         4  Meat on meat on meat!\\n\\nIt was my second time...   \n",
       "229587         1  We just left, we have been there many times bu...   \n",
       "2011253        1  Called and ordered a pizza at 7pm and it still...   \n",
       "1039515        4  Try the bbq pork sandwich... yum!! Gotta get e...   \n",
       "2066597        1  Would give this place 0 stars if that were pos...   \n",
       "1733536        4  It's hard to go wrong at Mixteca.  At first gl...   \n",
       "2740998        4  So I've gota bad habit of ordering the same th...   \n",
       "2603889        5  The best brunch in Las Vegas.  \\n\\nThat sounds...   \n",
       "1023415        1  The worst carls jr. I have been to in the Paci...   \n",
       "1938088        4  Great bar with huge liquor selection. He tapas...   \n",
       "1231561        1  All I have to say is I see why this place neve...   \n",
       "3362107        2  This fast food restaurant is strangely under-s...   \n",
       "727051         2  When I was halfway through the long line at Ch...   \n",
       "2312132        5  My husband and I went to the soft opening earl...   \n",
       "2859049        4  Decent food, flavorful and filling, especially...   \n",
       "97004          5  Best barbeque brisket I have ever eaten. The o...   \n",
       "852068         5  Had a great night and Armondo served us well! ...   \n",
       "916914         5  I love this place. Every time I come I get the...   \n",
       "2932256        1  This is the worst place I have ever been to! I...   \n",
       "2475995        4  Visited early August 2016. \\nWe came for break...   \n",
       "2970425        4  Chicken was awesome! The Smokey Gold barbecue ...   \n",
       "1176580        4  Good selection of specialty pizzas. $18 range ...   \n",
       "2786561        5  Amazing prices, amazing food, amazing margarit...   \n",
       "1147706        4  Fine French food is rare in Pittsburgh.  Fairl...   \n",
       "2061131        5  Came for the fresh, wild caught fish and fell ...   \n",
       "2429937        5  Pan Asian stays 5 stars for me.  I went back t...   \n",
       "640067         5  Amazingly delicious with a variety of distinct...   \n",
       "1566257        4  Eat here quite often,  the Palermo Special piz...   \n",
       "1607254        5  It was amazing! I had the chilli fish schezuan...   \n",
       "1076163        4  My salad was really good. Nice atmosphere, fri...   \n",
       "\n",
       "                                                categories  target  \n",
       "2203299  Food, Restaurants, American (New), Local Flavo...    True  \n",
       "482774   Wine Bars, Nightlife, Restaurants, Seafood, Ca...    True  \n",
       "3086879       Nightlife, Italian, Restaurants, Pizza, Bars    True  \n",
       "512115   Dive Bars, American (New), American (Tradition...    True  \n",
       "3278073  Sports Bars, American (Traditional), Nightlife...    True  \n",
       "717572   Gastropubs, Bars, Nightlife, Restaurants, Beer...    True  \n",
       "590714   Restaurants, Arts & Entertainment, American (N...    True  \n",
       "2165889  Restaurants, Food, Asian Fusion, American (New...    True  \n",
       "621638   New Mexican Cuisine, Bars, Nightlife, Mexican,...    True  \n",
       "2048614  Breweries, Beer Bar, Bars, American (New), Foo...    True  \n",
       "12861    Seafood, Cocktail Bars, Nightlife, Restaurants...    True  \n",
       "1064434  Bars, Burgers, Sports Bars, Chicken Wings, Nig...    True  \n",
       "2164784  Restaurants, Food, Asian Fusion, American (New...    True  \n",
       "1315939  Party & Event Planning, Japanese, Dance Clubs,...    True  \n",
       "3249081  Cocktail Bars, Bars, Nightlife, American (Trad...    True  \n",
       "501133   Sports Bars, Tobacco Shops, Nightlife, Restaur...    True  \n",
       "3101497  Bars, American (New), Venues & Event Spaces, N...    True  \n",
       "1862174  Laotian, Bars, Nightlife, Restaurants, Seafood...    True  \n",
       "1641551  Steakhouses, Bars, Sports Bars, Nightlife, Ame...    True  \n",
       "3431743  Chinese, Japanese, Nightlife, Dim Sum, Asian F...    True  \n",
       "1972070  American (Traditional), Restaurants, Burgers, ...    True  \n",
       "1930383  Restaurants, Nightlife, American (New), Bars, ...    True  \n",
       "1383937  Nightlife, Music Venues, Cocktail Bars, Venues...    True  \n",
       "2471262  Event Planning & Services, Nightlife, Bars, Ca...    True  \n",
       "1099305  Barbeque, Restaurants, Nightlife, Bars, Food, ...    True  \n",
       "1774310                           Bars, Nightlife, Lounges    True  \n",
       "3240924  Restaurants, Nightlife, Cocktail Bars, Bars, C...    True  \n",
       "2576812               Restaurants, Bars, French, Nightlife    True  \n",
       "2331196     Wine Bars, Restaurants, Greek, Bars, Nightlife    True  \n",
       "898173   Bars, Nightlife, Beer, Wine & Spirits, Restaur...    True  \n",
       "...                                                    ...     ...  \n",
       "510186   Beer, Wine & Spirits, Restaurants, Brazilian, ...   False  \n",
       "229587                 American (Traditional), Restaurants   False  \n",
       "2011253         Pizza, Chicken Wings, Restaurants, Burgers   False  \n",
       "1039515  Vietnamese, Sandwiches, Food, Ice Cream & Froz...   False  \n",
       "2066597                               Restaurants, Chinese   False  \n",
       "1733536                               Mexican, Restaurants   False  \n",
       "2740998                               Mexican, Restaurants   False  \n",
       "2603889  Cafes, Hostels, Brasseries, Hotels & Travel, R...   False  \n",
       "1023415                             Fast Food, Restaurants   False  \n",
       "1938088  Tapas/Small Plates, Restaurants, Tapas Bars, S...   False  \n",
       "1231561                               Restaurants, Burgers   False  \n",
       "3362107  Middle Eastern, Sandwiches, Halal, Fast Food, ...   False  \n",
       "727051                     Mexican, Restaurants, Fast Food   False  \n",
       "2312132                 Restaurants, Salad, Wraps, Italian   False  \n",
       "2859049  Sandwiches, Mediterranean, Restaurants, Middle...   False  \n",
       "97004    American (New), Caterers, Southern, Restaurant...   False  \n",
       "852068                                Restaurants, Italian   False  \n",
       "916914                       Korean, Barbeque, Restaurants   False  \n",
       "2932256  Seafood, Restaurants, Mexican, Breakfast & Brunch   False  \n",
       "2475995  Steakhouses, Breakfast & Brunch, Restaurants, ...   False  \n",
       "2970425  Steakhouses, Restaurants, Chicken Wings, Ameri...   False  \n",
       "1176580           Chicken Wings, Salad, Restaurants, Pizza   False  \n",
       "2786561                               Restaurants, Mexican   False  \n",
       "1147706  Breakfast & Brunch, Creperies, Gluten-Free, Br...   False  \n",
       "2061131  Restaurants, Seafood Markets, Food, Meat Shops...   False  \n",
       "2429937               Thai, Chinese, Japanese, Restaurants   False  \n",
       "640067   Butcher, Juice Bars & Smoothies, Vegan, Restau...   False  \n",
       "1566257                                 Restaurants, Pizza   False  \n",
       "1607254                Chinese, Halal, Indian, Restaurants   False  \n",
       "1076163  Falafel, Event Planning & Services, American (...   False  \n",
       "\n",
       "[20000 rows x 6 columns]"
      ]
     },
     "execution_count": 5,
     "metadata": {},
     "output_type": "execute_result"
    }
   ],
   "source": [
    "combined"
   ]
  },
  {
   "cell_type": "code",
   "execution_count": 5,
   "metadata": {},
   "outputs": [
    {
     "name": "stdout",
     "output_type": "stream",
     "text": [
      "(20000, 6)\n"
     ]
    }
   ],
   "source": [
    "print(combined.shape)"
   ]
  },
  {
   "cell_type": "markdown",
   "metadata": {},
   "source": [
    "### (c) Split the dataset into a training and test set"
   ]
  },
  {
   "cell_type": "code",
   "execution_count": 6,
   "metadata": {},
   "outputs": [],
   "source": [
    "# Split into training and test data sets\n",
    "training_data, test_data = modsel.train_test_split(combined, \n",
    "                                                   train_size=0.7, \n",
    "                                                   random_state=123)"
   ]
  },
  {
   "cell_type": "code",
   "execution_count": 7,
   "metadata": {},
   "outputs": [
    {
     "data": {
      "text/plain": [
       "(14000, 6)"
      ]
     },
     "execution_count": 7,
     "metadata": {},
     "output_type": "execute_result"
    }
   ],
   "source": [
    "training_data.shape"
   ]
  },
  {
   "cell_type": "code",
   "execution_count": 8,
   "metadata": {},
   "outputs": [
    {
     "data": {
      "text/plain": [
       "(6000, 6)"
      ]
     },
     "execution_count": 8,
     "metadata": {},
     "output_type": "execute_result"
    }
   ],
   "source": [
    "test_data.shape"
   ]
  },
  {
   "cell_type": "markdown",
   "metadata": {},
   "source": [
    "### (d) Transform the text as BoW (bag-of-words)"
   ]
  },
  {
   "cell_type": "code",
   "execution_count": 9,
   "metadata": {},
   "outputs": [],
   "source": [
    "# Represent the review text as a bag-of-words \n",
    "bow_transform = text.CountVectorizer()\n",
    "X_tr_bow = bow_transform.fit_transform(training_data['text'])"
   ]
  },
  {
   "cell_type": "code",
   "execution_count": 10,
   "metadata": {},
   "outputs": [
    {
     "data": {
      "text/plain": [
       "29944"
      ]
     },
     "execution_count": 10,
     "metadata": {},
     "output_type": "execute_result"
    }
   ],
   "source": [
    "len(bow_transform.vocabulary_)"
   ]
  },
  {
   "cell_type": "code",
   "execution_count": 11,
   "metadata": {},
   "outputs": [
    {
     "data": {
      "text/plain": [
       "(14000, 29944)"
      ]
     },
     "execution_count": 11,
     "metadata": {},
     "output_type": "execute_result"
    }
   ],
   "source": [
    "X_tr_bow.shape"
   ]
  },
  {
   "cell_type": "code",
   "execution_count": 15,
   "metadata": {},
   "outputs": [],
   "source": [
    "X_te_bow = bow_transform.transform(test_data['text'])"
   ]
  },
  {
   "cell_type": "code",
   "execution_count": 16,
   "metadata": {},
   "outputs": [],
   "source": [
    "y_tr = training_data['target']\n",
    "y_te = test_data['target']"
   ]
  },
  {
   "cell_type": "markdown",
   "metadata": {},
   "source": [
    "### (e,f) Classify with logistic regression"
   ]
  },
  {
   "cell_type": "code",
   "execution_count": 17,
   "metadata": {},
   "outputs": [],
   "source": [
    "def simple_logistic_classify(X_tr, y_tr, X_test, y_test, description, _C=1.0):\n",
    "    ## Helper function to train a logistic classifier and score on test data\n",
    "    m = LogisticRegression(C=_C, solver='newton-cg',max_iter=500).fit(X_tr, y_tr)\n",
    "    s = m.score(X_test, y_test)\n",
    "    print ('Test score with', description, 'features:', s)\n",
    "    return m"
   ]
  },
  {
   "cell_type": "code",
   "execution_count": 18,
   "metadata": {},
   "outputs": [
    {
     "name": "stdout",
     "output_type": "stream",
     "text": [
      "Test score with bow features: 0.7145\n"
     ]
    }
   ],
   "source": [
    "m1 = simple_logistic_classify(X_tr_bow, y_tr, X_te_bow, y_te, 'bow')"
   ]
  },
  {
   "cell_type": "markdown",
   "metadata": {},
   "source": [
    "### (f) applying normalization to the features"
   ]
  },
  {
   "cell_type": "code",
   "execution_count": 19,
   "metadata": {},
   "outputs": [],
   "source": [
    "X_tr_l2 = preproc.normalize(X_tr_bow, axis=0)\n",
    "X_te_l2 = preproc.normalize(X_te_bow, axis=0)"
   ]
  },
  {
   "cell_type": "code",
   "execution_count": 20,
   "metadata": {},
   "outputs": [
    {
     "name": "stdout",
     "output_type": "stream",
     "text": [
      "Test score with l2-normalized features: 0.739\n"
     ]
    }
   ],
   "source": [
    "m2 = simple_logistic_classify(X_tr_l2, y_tr, X_te_l2, y_te, 'l2-normalized')"
   ]
  },
  {
   "cell_type": "markdown",
   "metadata": {},
   "source": [
    "### (g) tf-idf represenation"
   ]
  },
  {
   "cell_type": "code",
   "execution_count": 21,
   "metadata": {},
   "outputs": [],
   "source": [
    "# Create the tf-idf representation using the bag-of-words matrix\n",
    "tfidf_trfm = text.TfidfTransformer(norm=None)\n",
    "X_tr_tfidf = tfidf_trfm.fit_transform(X_tr_bow)"
   ]
  },
  {
   "cell_type": "code",
   "execution_count": 22,
   "metadata": {},
   "outputs": [],
   "source": [
    "X_te_tfidf = tfidf_trfm.transform(X_te_bow)"
   ]
  },
  {
   "cell_type": "code",
   "execution_count": 23,
   "metadata": {},
   "outputs": [
    {
     "name": "stdout",
     "output_type": "stream",
     "text": [
      "Test score with tf-idf features: 0.6798333333333333\n"
     ]
    }
   ],
   "source": [
    "m3 = simple_logistic_classify(X_tr_tfidf, y_tr, X_te_tfidf, y_te, 'tf-idf')"
   ]
  },
  {
   "cell_type": "markdown",
   "metadata": {},
   "source": [
    "### (h) Tune regularization parameters using grid search"
   ]
  },
  {
   "cell_type": "code",
   "execution_count": 24,
   "metadata": {},
   "outputs": [],
   "source": [
    "param_grid_ = {'C': [1e-5, 1e-3, 1e-1, 1e0, 1e1, 1e2]}\n",
    "bow_search = modsel.GridSearchCV(LogisticRegression(solver='lbfgs',max_iter=1000),\n",
    "                                 cv=5, param_grid=param_grid_, return_train_score=True)\n",
    "l2_search  = modsel.GridSearchCV(LogisticRegression(solver='lbfgs',max_iter=500),\n",
    "                                 cv=5, return_train_score=True, param_grid=param_grid_)\n",
    "tfidf_search = modsel.GridSearchCV(LogisticRegression(solver='lbfgs',max_iter=500),\n",
    "                                cv=5, return_train_score=True, param_grid=param_grid_)"
   ]
  },
  {
   "cell_type": "code",
   "execution_count": 25,
   "metadata": {},
   "outputs": [
    {
     "name": "stderr",
     "output_type": "stream",
     "text": [
      "C:\\Anaconda3\\lib\\site-packages\\sklearn\\linear_model\\_logistic.py:940: ConvergenceWarning: lbfgs failed to converge (status=1):\n",
      "STOP: TOTAL NO. of ITERATIONS REACHED LIMIT.\n",
      "\n",
      "Increase the number of iterations (max_iter) or scale the data as shown in:\n",
      "    https://scikit-learn.org/stable/modules/preprocessing.html\n",
      "Please also refer to the documentation for alternative solver options:\n",
      "    https://scikit-learn.org/stable/modules/linear_model.html#logistic-regression\n",
      "  extra_warning_msg=_LOGISTIC_SOLVER_CONVERGENCE_MSG)\n",
      "C:\\Anaconda3\\lib\\site-packages\\sklearn\\linear_model\\_logistic.py:940: ConvergenceWarning: lbfgs failed to converge (status=1):\n",
      "STOP: TOTAL NO. of ITERATIONS REACHED LIMIT.\n",
      "\n",
      "Increase the number of iterations (max_iter) or scale the data as shown in:\n",
      "    https://scikit-learn.org/stable/modules/preprocessing.html\n",
      "Please also refer to the documentation for alternative solver options:\n",
      "    https://scikit-learn.org/stable/modules/linear_model.html#logistic-regression\n",
      "  extra_warning_msg=_LOGISTIC_SOLVER_CONVERGENCE_MSG)\n",
      "C:\\Anaconda3\\lib\\site-packages\\sklearn\\linear_model\\_logistic.py:940: ConvergenceWarning: lbfgs failed to converge (status=1):\n",
      "STOP: TOTAL NO. of ITERATIONS REACHED LIMIT.\n",
      "\n",
      "Increase the number of iterations (max_iter) or scale the data as shown in:\n",
      "    https://scikit-learn.org/stable/modules/preprocessing.html\n",
      "Please also refer to the documentation for alternative solver options:\n",
      "    https://scikit-learn.org/stable/modules/linear_model.html#logistic-regression\n",
      "  extra_warning_msg=_LOGISTIC_SOLVER_CONVERGENCE_MSG)\n",
      "C:\\Anaconda3\\lib\\site-packages\\sklearn\\linear_model\\_logistic.py:940: ConvergenceWarning: lbfgs failed to converge (status=1):\n",
      "STOP: TOTAL NO. of ITERATIONS REACHED LIMIT.\n",
      "\n",
      "Increase the number of iterations (max_iter) or scale the data as shown in:\n",
      "    https://scikit-learn.org/stable/modules/preprocessing.html\n",
      "Please also refer to the documentation for alternative solver options:\n",
      "    https://scikit-learn.org/stable/modules/linear_model.html#logistic-regression\n",
      "  extra_warning_msg=_LOGISTIC_SOLVER_CONVERGENCE_MSG)\n",
      "C:\\Anaconda3\\lib\\site-packages\\sklearn\\linear_model\\_logistic.py:940: ConvergenceWarning: lbfgs failed to converge (status=1):\n",
      "STOP: TOTAL NO. of ITERATIONS REACHED LIMIT.\n",
      "\n",
      "Increase the number of iterations (max_iter) or scale the data as shown in:\n",
      "    https://scikit-learn.org/stable/modules/preprocessing.html\n",
      "Please also refer to the documentation for alternative solver options:\n",
      "    https://scikit-learn.org/stable/modules/linear_model.html#logistic-regression\n",
      "  extra_warning_msg=_LOGISTIC_SOLVER_CONVERGENCE_MSG)\n",
      "C:\\Anaconda3\\lib\\site-packages\\sklearn\\linear_model\\_logistic.py:940: ConvergenceWarning: lbfgs failed to converge (status=1):\n",
      "STOP: TOTAL NO. of ITERATIONS REACHED LIMIT.\n",
      "\n",
      "Increase the number of iterations (max_iter) or scale the data as shown in:\n",
      "    https://scikit-learn.org/stable/modules/preprocessing.html\n",
      "Please also refer to the documentation for alternative solver options:\n",
      "    https://scikit-learn.org/stable/modules/linear_model.html#logistic-regression\n",
      "  extra_warning_msg=_LOGISTIC_SOLVER_CONVERGENCE_MSG)\n",
      "C:\\Anaconda3\\lib\\site-packages\\sklearn\\linear_model\\_logistic.py:940: ConvergenceWarning: lbfgs failed to converge (status=1):\n",
      "STOP: TOTAL NO. of ITERATIONS REACHED LIMIT.\n",
      "\n",
      "Increase the number of iterations (max_iter) or scale the data as shown in:\n",
      "    https://scikit-learn.org/stable/modules/preprocessing.html\n",
      "Please also refer to the documentation for alternative solver options:\n",
      "    https://scikit-learn.org/stable/modules/linear_model.html#logistic-regression\n",
      "  extra_warning_msg=_LOGISTIC_SOLVER_CONVERGENCE_MSG)\n",
      "C:\\Anaconda3\\lib\\site-packages\\sklearn\\linear_model\\_logistic.py:940: ConvergenceWarning: lbfgs failed to converge (status=1):\n",
      "STOP: TOTAL NO. of ITERATIONS REACHED LIMIT.\n",
      "\n",
      "Increase the number of iterations (max_iter) or scale the data as shown in:\n",
      "    https://scikit-learn.org/stable/modules/preprocessing.html\n",
      "Please also refer to the documentation for alternative solver options:\n",
      "    https://scikit-learn.org/stable/modules/linear_model.html#logistic-regression\n",
      "  extra_warning_msg=_LOGISTIC_SOLVER_CONVERGENCE_MSG)\n",
      "C:\\Anaconda3\\lib\\site-packages\\sklearn\\linear_model\\_logistic.py:940: ConvergenceWarning: lbfgs failed to converge (status=1):\n",
      "STOP: TOTAL NO. of ITERATIONS REACHED LIMIT.\n",
      "\n",
      "Increase the number of iterations (max_iter) or scale the data as shown in:\n",
      "    https://scikit-learn.org/stable/modules/preprocessing.html\n",
      "Please also refer to the documentation for alternative solver options:\n",
      "    https://scikit-learn.org/stable/modules/linear_model.html#logistic-regression\n",
      "  extra_warning_msg=_LOGISTIC_SOLVER_CONVERGENCE_MSG)\n",
      "C:\\Anaconda3\\lib\\site-packages\\sklearn\\linear_model\\_logistic.py:940: ConvergenceWarning: lbfgs failed to converge (status=1):\n",
      "STOP: TOTAL NO. of ITERATIONS REACHED LIMIT.\n",
      "\n",
      "Increase the number of iterations (max_iter) or scale the data as shown in:\n",
      "    https://scikit-learn.org/stable/modules/preprocessing.html\n",
      "Please also refer to the documentation for alternative solver options:\n",
      "    https://scikit-learn.org/stable/modules/linear_model.html#logistic-regression\n",
      "  extra_warning_msg=_LOGISTIC_SOLVER_CONVERGENCE_MSG)\n"
     ]
    },
    {
     "data": {
      "text/plain": [
       "GridSearchCV(cv=5, error_score=nan,\n",
       "             estimator=LogisticRegression(C=1.0, class_weight=None, dual=False,\n",
       "                                          fit_intercept=True,\n",
       "                                          intercept_scaling=1, l1_ratio=None,\n",
       "                                          max_iter=1000, multi_class='auto',\n",
       "                                          n_jobs=None, penalty='l2',\n",
       "                                          random_state=None, solver='lbfgs',\n",
       "                                          tol=0.0001, verbose=0,\n",
       "                                          warm_start=False),\n",
       "             iid='deprecated', n_jobs=None,\n",
       "             param_grid={'C': [1e-05, 0.001, 0.1, 1.0, 10.0, 100.0]},\n",
       "             pre_dispatch='2*n_jobs', refit=True, return_train_score=True,\n",
       "             scoring=None, verbose=0)"
      ]
     },
     "execution_count": 25,
     "metadata": {},
     "output_type": "execute_result"
    }
   ],
   "source": [
    "bow_search.fit(X_tr_bow, y_tr)"
   ]
  },
  {
   "cell_type": "code",
   "execution_count": 26,
   "metadata": {},
   "outputs": [
    {
     "data": {
      "text/plain": [
       "0.7190000000000001"
      ]
     },
     "execution_count": 26,
     "metadata": {},
     "output_type": "execute_result"
    }
   ],
   "source": [
    "bow_search.best_score_"
   ]
  },
  {
   "cell_type": "code",
   "execution_count": 27,
   "metadata": {},
   "outputs": [
    {
     "data": {
      "text/plain": [
       "GridSearchCV(cv=5, error_score=nan,\n",
       "             estimator=LogisticRegression(C=1.0, class_weight=None, dual=False,\n",
       "                                          fit_intercept=True,\n",
       "                                          intercept_scaling=1, l1_ratio=None,\n",
       "                                          max_iter=500, multi_class='auto',\n",
       "                                          n_jobs=None, penalty='l2',\n",
       "                                          random_state=None, solver='lbfgs',\n",
       "                                          tol=0.0001, verbose=0,\n",
       "                                          warm_start=False),\n",
       "             iid='deprecated', n_jobs=None,\n",
       "             param_grid={'C': [1e-05, 0.001, 0.1, 1.0, 10.0, 100.0]},\n",
       "             pre_dispatch='2*n_jobs', refit=True, return_train_score=True,\n",
       "             scoring=None, verbose=0)"
      ]
     },
     "execution_count": 27,
     "metadata": {},
     "output_type": "execute_result"
    }
   ],
   "source": [
    "l2_search.fit(X_tr_l2, y_tr)"
   ]
  },
  {
   "cell_type": "code",
   "execution_count": 49,
   "metadata": {},
   "outputs": [
    {
     "data": {
      "text/plain": [
       "0.7276428571428571"
      ]
     },
     "execution_count": 49,
     "metadata": {},
     "output_type": "execute_result"
    }
   ],
   "source": [
    "l2_search.best_score_"
   ]
  },
  {
   "cell_type": "code",
   "execution_count": 50,
   "metadata": {},
   "outputs": [
    {
     "name": "stderr",
     "output_type": "stream",
     "text": [
      "C:\\Users\\wurc\\.conda\\envs\\ML\\lib\\site-packages\\sklearn\\linear_model\\logistic.py:947: ConvergenceWarning: lbfgs failed to converge. Increase the number of iterations.\n",
      "  \"of iterations.\", ConvergenceWarning)\n",
      "C:\\Users\\wurc\\.conda\\envs\\ML\\lib\\site-packages\\sklearn\\linear_model\\logistic.py:947: ConvergenceWarning: lbfgs failed to converge. Increase the number of iterations.\n",
      "  \"of iterations.\", ConvergenceWarning)\n",
      "C:\\Users\\wurc\\.conda\\envs\\ML\\lib\\site-packages\\sklearn\\linear_model\\logistic.py:947: ConvergenceWarning: lbfgs failed to converge. Increase the number of iterations.\n",
      "  \"of iterations.\", ConvergenceWarning)\n",
      "C:\\Users\\wurc\\.conda\\envs\\ML\\lib\\site-packages\\sklearn\\linear_model\\logistic.py:947: ConvergenceWarning: lbfgs failed to converge. Increase the number of iterations.\n",
      "  \"of iterations.\", ConvergenceWarning)\n"
     ]
    },
    {
     "data": {
      "text/plain": [
       "GridSearchCV(cv=5, error_score='raise-deprecating',\n",
       "             estimator=LogisticRegression(C=1.0, class_weight=None, dual=False,\n",
       "                                          fit_intercept=True,\n",
       "                                          intercept_scaling=1, l1_ratio=None,\n",
       "                                          max_iter=500, multi_class='warn',\n",
       "                                          n_jobs=None, penalty='l2',\n",
       "                                          random_state=None, solver='lbfgs',\n",
       "                                          tol=0.0001, verbose=0,\n",
       "                                          warm_start=False),\n",
       "             iid='warn', n_jobs=None,\n",
       "             param_grid={'C': [1e-05, 0.001, 0.1, 1.0, 10.0, 100.0]},\n",
       "             pre_dispatch='2*n_jobs', refit=True, return_train_score=True,\n",
       "             scoring=None, verbose=0)"
      ]
     },
     "execution_count": 50,
     "metadata": {},
     "output_type": "execute_result"
    }
   ],
   "source": [
    "tfidf_search.fit(X_tr_tfidf, y_tr)"
   ]
  },
  {
   "cell_type": "code",
   "execution_count": 51,
   "metadata": {},
   "outputs": [
    {
     "data": {
      "text/plain": [
       "0.7340714285714286"
      ]
     },
     "execution_count": 51,
     "metadata": {},
     "output_type": "execute_result"
    }
   ],
   "source": [
    "tfidf_search.best_score_"
   ]
  },
  {
   "cell_type": "markdown",
   "metadata": {},
   "source": [
    "What regularization parameters are best for each method?"
   ]
  },
  {
   "cell_type": "code",
   "execution_count": 52,
   "metadata": {},
   "outputs": [
    {
     "data": {
      "text/plain": [
       "{'C': 0.1}"
      ]
     },
     "execution_count": 52,
     "metadata": {},
     "output_type": "execute_result"
    }
   ],
   "source": [
    "bow_search.best_params_"
   ]
  },
  {
   "cell_type": "code",
   "execution_count": 53,
   "metadata": {},
   "outputs": [
    {
     "data": {
      "text/plain": [
       "{'C': 1.0}"
      ]
     },
     "execution_count": 53,
     "metadata": {},
     "output_type": "execute_result"
    }
   ],
   "source": [
    "l2_search.best_params_"
   ]
  },
  {
   "cell_type": "code",
   "execution_count": 54,
   "metadata": {},
   "outputs": [
    {
     "data": {
      "text/plain": [
       "{'C': 0.001}"
      ]
     },
     "execution_count": 54,
     "metadata": {},
     "output_type": "execute_result"
    }
   ],
   "source": [
    "tfidf_search.best_params_"
   ]
  },
  {
   "cell_type": "markdown",
   "metadata": {},
   "source": [
    "Let's check one of the grid search outputs to see how it went:"
   ]
  },
  {
   "cell_type": "code",
   "execution_count": 55,
   "metadata": {},
   "outputs": [
    {
     "data": {
      "text/plain": [
       "{'mean_fit_time': array([0.14379988, 0.21599741, 1.66459932, 4.06620111, 7.41766043,\n",
       "        7.58538895]),\n",
       " 'std_fit_time': array([0.01511577, 0.02066551, 0.09023791, 0.2676194 , 0.31160726,\n",
       "        0.7963182 ]),\n",
       " 'mean_score_time': array([0.002598  , 0.00240026, 0.00260324, 0.0028017 , 0.00260191,\n",
       "        0.00320039]),\n",
       " 'std_score_time': array([0.00049296, 0.00049049, 0.00049121, 0.00074931, 0.00049081,\n",
       "        0.00147161]),\n",
       " 'param_C': masked_array(data=[1e-05, 0.001, 0.1, 1.0, 10.0, 100.0],\n",
       "              mask=[False, False, False, False, False, False],\n",
       "        fill_value='?',\n",
       "             dtype=object),\n",
       " 'params': [{'C': 1e-05},\n",
       "  {'C': 0.001},\n",
       "  {'C': 0.1},\n",
       "  {'C': 1.0},\n",
       "  {'C': 10.0},\n",
       "  {'C': 100.0}],\n",
       " 'split0_test_score': array([0.56535714, 0.70464286, 0.71285714, 0.69785714, 0.67857143,\n",
       "        0.66785714]),\n",
       " 'split1_test_score': array([0.55      , 0.71178571, 0.71964286, 0.7075    , 0.68178571,\n",
       "        0.66821429]),\n",
       " 'split2_test_score': array([0.57285714, 0.70892857, 0.71642857, 0.70642857, 0.68321429,\n",
       "        0.66892857]),\n",
       " 'split3_test_score': array([0.56857143, 0.72035714, 0.725     , 0.69821429, 0.67964286,\n",
       "        0.67035714]),\n",
       " 'split4_test_score': array([0.54535714, 0.71392857, 0.72107143, 0.70428571, 0.67857143,\n",
       "        0.66321429]),\n",
       " 'mean_test_score': array([0.56042857, 0.71192857, 0.719     , 0.70285714, 0.68035714,\n",
       "        0.66771429]),\n",
       " 'std_test_score': array([0.01077933, 0.00523723, 0.00412434, 0.00407206, 0.00184888,\n",
       "        0.00240747]),\n",
       " 'rank_test_score': array([6, 2, 1, 3, 4, 5]),\n",
       " 'split0_train_score': array([0.56491071, 0.73678571, 0.86758929, 0.95883929, 0.99491071,\n",
       "        1.        ]),\n",
       " 'split1_train_score': array([0.55928571, 0.73589286, 0.86803571, 0.96035714, 0.995     ,\n",
       "        1.        ]),\n",
       " 'split2_train_score': array([0.56482143, 0.73785714, 0.86598214, 0.95964286, 0.99553571,\n",
       "        1.        ]),\n",
       " 'split3_train_score': array([0.56848214, 0.73357143, 0.86669643, 0.95982143, 0.995625  ,\n",
       "        1.        ]),\n",
       " 'split4_train_score': array([0.56482143, 0.73428571, 0.86625   , 0.95785714, 0.99464286,\n",
       "        1.        ]),\n",
       " 'mean_train_score': array([0.56446429, 0.73567857, 0.86691071, 0.95930357, 0.99514286,\n",
       "        1.        ]),\n",
       " 'std_train_score': array([0.0029467 , 0.00157467, 0.00078368, 0.0008719 , 0.00037712,\n",
       "        0.        ])}"
      ]
     },
     "execution_count": 55,
     "metadata": {},
     "output_type": "execute_result"
    }
   ],
   "source": [
    "bow_search.cv_results_"
   ]
  },
  {
   "cell_type": "code",
   "execution_count": 56,
   "metadata": {},
   "outputs": [],
   "source": [
    "import pickle"
   ]
  },
  {
   "cell_type": "code",
   "execution_count": 57,
   "metadata": {},
   "outputs": [],
   "source": [
    "results_file = open('tfidf_gridcv_results.pkl', 'wb')\n",
    "pickle.dump(bow_search, results_file, -1)\n",
    "pickle.dump(tfidf_search, results_file, -1)\n",
    "pickle.dump(l2_search, results_file, -1)\n",
    "results_file.close()"
   ]
  },
  {
   "cell_type": "code",
   "execution_count": 58,
   "metadata": {},
   "outputs": [],
   "source": [
    "pkl_file = open('tfidf_gridcv_results.pkl', 'rb')\n",
    "bow_search = pickle.load(pkl_file)\n",
    "tfidf_search = pickle.load(pkl_file)\n",
    "l2_search = pickle.load(pkl_file)\n",
    "pkl_file.close()"
   ]
  },
  {
   "cell_type": "code",
   "execution_count": 59,
   "metadata": {},
   "outputs": [
    {
     "data": {
      "text/html": [
       "<div>\n",
       "<style scoped>\n",
       "    .dataframe tbody tr th:only-of-type {\n",
       "        vertical-align: middle;\n",
       "    }\n",
       "\n",
       "    .dataframe tbody tr th {\n",
       "        vertical-align: top;\n",
       "    }\n",
       "\n",
       "    .dataframe thead th {\n",
       "        text-align: right;\n",
       "    }\n",
       "</style>\n",
       "<table border=\"1\" class=\"dataframe\">\n",
       "  <thead>\n",
       "    <tr style=\"text-align: right;\">\n",
       "      <th></th>\n",
       "      <th>bow</th>\n",
       "      <th>tfidf</th>\n",
       "      <th>l2</th>\n",
       "    </tr>\n",
       "  </thead>\n",
       "  <tbody>\n",
       "    <tr>\n",
       "      <th>0</th>\n",
       "      <td>0.560429</td>\n",
       "      <td>0.701643</td>\n",
       "      <td>0.502500</td>\n",
       "    </tr>\n",
       "    <tr>\n",
       "      <th>1</th>\n",
       "      <td>0.711929</td>\n",
       "      <td>0.734071</td>\n",
       "      <td>0.502500</td>\n",
       "    </tr>\n",
       "    <tr>\n",
       "      <th>2</th>\n",
       "      <td>0.719000</td>\n",
       "      <td>0.692357</td>\n",
       "      <td>0.710357</td>\n",
       "    </tr>\n",
       "    <tr>\n",
       "      <th>3</th>\n",
       "      <td>0.702857</td>\n",
       "      <td>0.673286</td>\n",
       "      <td>0.727643</td>\n",
       "    </tr>\n",
       "    <tr>\n",
       "      <th>4</th>\n",
       "      <td>0.680357</td>\n",
       "      <td>0.665714</td>\n",
       "      <td>0.716286</td>\n",
       "    </tr>\n",
       "    <tr>\n",
       "      <th>5</th>\n",
       "      <td>0.667714</td>\n",
       "      <td>0.660714</td>\n",
       "      <td>0.694786</td>\n",
       "    </tr>\n",
       "  </tbody>\n",
       "</table>\n",
       "</div>"
      ],
      "text/plain": [
       "        bow     tfidf        l2\n",
       "0  0.560429  0.701643  0.502500\n",
       "1  0.711929  0.734071  0.502500\n",
       "2  0.719000  0.692357  0.710357\n",
       "3  0.702857  0.673286  0.727643\n",
       "4  0.680357  0.665714  0.716286\n",
       "5  0.667714  0.660714  0.694786"
      ]
     },
     "execution_count": 59,
     "metadata": {},
     "output_type": "execute_result"
    }
   ],
   "source": [
    "search_results = pd.DataFrame.from_dict({'bow': bow_search.cv_results_['mean_test_score'],\n",
    "                               'tfidf': tfidf_search.cv_results_['mean_test_score'],\n",
    "                               'l2': l2_search.cv_results_['mean_test_score']})\n",
    "search_results"
   ]
  },
  {
   "cell_type": "markdown",
   "metadata": {},
   "source": [
    "## Plot cross validation results"
   ]
  },
  {
   "cell_type": "code",
   "execution_count": 60,
   "metadata": {},
   "outputs": [],
   "source": [
    "%matplotlib inline\n",
    "import matplotlib.pyplot as plt\n",
    "import seaborn as sns\n",
    "sns.set_style(\"whitegrid\")"
   ]
  },
  {
   "cell_type": "code",
   "execution_count": 61,
   "metadata": {},
   "outputs": [
    {
     "data": {
      "image/png": "[encoded data removed]",
      "text/plain": [
       "<Figure size 432x288 with 1 Axes>"
      ]
     },
     "metadata": {},
     "output_type": "display_data"
    }
   ],
   "source": [
    "ax = sns.boxplot(data=search_results, width=0.4)\n",
    "ax.set_ylabel('Accuracy', size=14)\n",
    "ax.tick_params(labelsize=14)\n",
    "plt.savefig('tfidf_gridcv_results.png')"
   ]
  },
  {
   "cell_type": "code",
   "execution_count": 62,
   "metadata": {},
   "outputs": [
    {
     "name": "stdout",
     "output_type": "stream",
     "text": [
      "Test score with bow features: 0.7293333333333333\n",
      "Test score with l2-normalized features: 0.739\n",
      "Test score with tf-idf features: 0.7413333333333333\n"
     ]
    }
   ],
   "source": [
    "m1 = simple_logistic_classify(X_tr_bow, y_tr, X_te_bow, y_te, 'bow', \n",
    "                              _C=bow_search.best_params_['C'])\n",
    "m2 = simple_logistic_classify(X_tr_l2, y_tr, X_te_l2, y_te, 'l2-normalized', \n",
    "                              _C=l2_search.best_params_['C'])\n",
    "m3 = simple_logistic_classify(X_tr_tfidf, y_tr, X_te_tfidf, y_te, 'tf-idf', \n",
    "                              _C=tfidf_search.best_params_['C'])"
   ]
  },
  {
   "cell_type": "code",
   "execution_count": 63,
   "metadata": {},
   "outputs": [
    {
     "data": {
      "text/plain": [
       "array([0.56042857, 0.71192857, 0.719     , 0.70285714, 0.68035714,\n",
       "       0.66771429])"
      ]
     },
     "execution_count": 63,
     "metadata": {},
     "output_type": "execute_result"
    }
   ],
   "source": [
    "bow_search.cv_results_['mean_test_score']"
   ]
  },
  {
   "cell_type": "code",
   "execution_count": null,
   "metadata": {},
   "outputs": [],
   "source": []
  },
  {
   "cell_type": "code",
   "execution_count": null,
   "metadata": {},
   "outputs": [],
   "source": []
  }
 ],
 "metadata": {
  "kernelspec": {
   "display_name": "Python 3 (ipykernel)",
   "language": "python",
   "name": "python3"
  },
  "language_info": {
   "codemirror_mode": {
    "name": "ipython",
    "version": 3
   },
   "file_extension": ".py",
   "mimetype": "text/x-python",
   "name": "python",
   "nbconvert_exporter": "python",
   "pygments_lexer": "ipython3",
   "version": "3.9.16"
  }
 },
 "nbformat": 4,
 "nbformat_minor": 1
}
