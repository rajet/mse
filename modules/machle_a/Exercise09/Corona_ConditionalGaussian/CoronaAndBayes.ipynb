{
 "cells": [
  {
   "cell_type": "markdown",
   "metadata": {},
   "source": [
    "   # Corona Test: Application of Bayes' rule\n",
    "   MSE_FTP_MachLe\n",
    "    "
   ]
  },
  {
   "cell_type": "markdown",
   "metadata": {},
   "source": [
    "The following probabilities are given:\n",
    "\n",
    "- the **prior probability** of getting infected: $p(c)=10^{-3}$\n",
    "- the **conditional probability** of having a positive test result given you are infected (true positive rate): $p(t\\vert c)=\\frac{9}{10} $\n",
    "- the **conditional probability** of having a positive test result given you are not infected (false positive): $p(t\\vert \\bar{c})=\\frac{5}{100}$\n",
    "\n",
    "$$\n",
    "\\begin{aligned}\n",
    "p(c) &=10^{-3} = 0.1 \\% \\\\\n",
    "p(t\\vert c)&=\\frac{9}{10}= 90 \\%\\\\\n",
    "p(t\\vert \\bar{c})&=\\frac{1}{100} = 1\\%\n",
    "\\end{aligned}\n",
    "$$"
   ]
  },
  {
   "cell_type": "markdown",
   "metadata": {},
   "source": [
    "What is the probability that you actually are infected, given a positive test result?\n",
    "We can use Bayes' rule to invert the conditionals:\n",
    "\n",
    "$$ \\begin{align}\n",
    "p(c\\vert t) &=   \\frac{p(t\\vert c)\\cdot p(c)}{p(t)}\n",
    "=\\frac{p(t\\vert c)\\cdot p(c)}{\\sum_{c_i} p(t,c)} \\\\\n",
    "&=\\frac{p(t\\vert c)\\cdot p(c)}{\\sum_{c_i} p(t\\vert c_i )\\cdot p(c_i)}\n",
    "=\\frac{p(t\\vert c)\\cdot p(c)}{p(t\\vert c )\\cdot p(c)+p(t\\vert \\bar{c} )\\cdot p(\\bar{c})}\\\\\n",
    "&=\\frac{p(t\\vert c)\\cdot p(c)}{p(t\\vert c )\\cdot p(c)+p(t\\vert \\bar{c} )\\cdot (1-p(c))}\n",
    "\\end{align} $$"
   ]
  },
  {
   "cell_type": "code",
   "execution_count": 5,
   "metadata": {},
   "outputs": [
    {
     "name": "stdout",
     "output_type": "stream",
     "text": [
      "0.08264462809917356\n"
     ]
    }
   ],
   "source": [
    "# CORONA: for binary variables, this nomenclature is practical.\n",
    "p_1c    =1e-3\n",
    "p_0c    =1-p_1c\n",
    "p_1t_1c =9/10\n",
    "p_1t_0c =1/100\n",
    "\n",
    "p_1c_1t=(p_1t_1c*p_1c)/(p_1t_1c*p_1c+p_1t_0c*(1-p_1c))\n",
    "\n",
    "print(p_1c_1t)"
   ]
  },
  {
   "cell_type": "code",
   "execution_count": null,
   "metadata": {},
   "outputs": [],
   "source": []
  }
 ],
 "metadata": {
  "kernelspec": {
   "display_name": "Python 3",
   "language": "python",
   "name": "python3"
  },
  "language_info": {
   "codemirror_mode": {
    "name": "ipython",
    "version": 3
   },
   "file_extension": ".py",
   "mimetype": "text/x-python",
   "name": "python",
   "nbconvert_exporter": "python",
   "pygments_lexer": "ipython3",
   "version": "3.7.3"
  },
  "nbTranslate": {
   "displayLangs": [
    "ger",
    "en"
   ],
   "hotkey": "alt-t",
   "langInMainMenu": true,
   "sourceLang": "en",
   "targetLang": "ger",
   "useGoogleTranslate": true
  },
  "varInspector": {
   "cols": {
    "lenName": 16,
    "lenType": 16,
    "lenVar": 40
   },
   "kernels_config": {
    "python": {
     "delete_cmd_postfix": "",
     "delete_cmd_prefix": "del ",
     "library": "var_list.py",
     "varRefreshCmd": "print(var_dic_list())"
    },
    "r": {
     "delete_cmd_postfix": ") ",
     "delete_cmd_prefix": "rm(",
     "library": "var_list.r",
     "varRefreshCmd": "cat(var_dic_list()) "
    }
   },
   "types_to_exclude": [
    "module",
    "function",
    "builtin_function_or_method",
    "instance",
    "_Feature"
   ],
   "window_display": false
  }
 },
 "nbformat": 4,
 "nbformat_minor": 4
}
