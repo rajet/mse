{
 "cells": [
  {
   "cell_type": "markdown",
   "metadata": {},
   "source": [
    "<img src=\"ost_logo.png\" width=\"240\" height=\"240\" align=\"right\"/>\n",
    "<div style=\"text-align: left\"> <b> Machine Learning </b> <br> MSE FTP MachLe <br> \n",
    "<a href=\"mailto:christoph.wuersch@ost.ch\"> Christoph Würsch </a> </div>"
   ]
  },
  {
   "cell_type": "markdown",
   "metadata": {},
   "source": [
    "# The Naive Bayes Classifier\n",
    "MSE FTP_MachLe, Christoph Würsch\n",
    "\n"
   ]
  },
  {
   "cell_type": "markdown",
   "metadata": {},
   "source": [
    "Naive Bayes is a conditional probability model: given a problem instance to be classified, represented by a vector ${\\displaystyle \\mathbf {x} =(x_{1},\\ldots ,x_{n})}$ representing some $n$ features (independent variables), it assigns to this instance probabilities\n",
    "\n",
    "$${\\displaystyle p(C_{k}\\mid x_{1},\\ldots ,x_{n})\\,}$$\n",
    "\n",
    "for each of $K$ possible outcomes or classes ${\\displaystyle C_{k}}$ \n",
    "\n",
    "The problem with the above formulation is that if the number of features $n$ is large or if a feature can take on a large number of values, then basing such a model on probability tables is infeasible. We therefore reformulate the model to make it more tractable. Using __Bayes' theorem__, the conditional probability can be decomposed as:\n",
    "\n",
    "$$ {\\displaystyle p(C_{k}\\mid \\mathbf {x} )={\\frac {p(C_{k})\\ p(\\mathbf {x} \\mid C_{k})}{p(\\mathbf {x} )}}\\,} $$\n",
    "\n",
    "Using Bayesian probability terminology, the above equation can be written as\n",
    "\n",
    "$${\\displaystyle {\\text{posterior}}={\\frac {{\\text{prior}}\\cdot {\\text{likelihood}}}{\\text{evidence}}}\\,}$$\n",
    "\n",
    "In practice, there is interest only in the numerator of that fraction, because the denominator does not depend on $C$ and the values of the features ${\\displaystyle x_{i}}$ are given, so that the denominator is effectively constant. The numerator is equivalent to the joint probability model\n",
    "\n",
    "${\\displaystyle p(C_{k},x_{1},\\ldots ,x_{n})\\,}$ which can be rewritten as follows, using the chain rule for repeated applications of the definition of conditional probability:\n",
    "\n",
    "$${\\displaystyle {\\begin{aligned}p(C_{k},x_{1},\\ldots ,x_{n})&=p(x_{1},\\ldots ,x_{n},C_{k})\\\\&=p(x_{1}\\mid x_{2},\\ldots ,x_{n},C_{k})\\ p(x_{2},\\ldots ,x_{n},C_{k})\\\\&=p(x_{1}\\mid x_{2},\\ldots ,x_{n},C_{k})\\ p(x_{2}\\mid x_{3},\\ldots ,x_{n},C_{k})\\ p(x_{3},\\ldots ,x_{n},C_{k})\\\\&=\\cdots \\\\&=p(x_{1}\\mid x_{2},\\ldots ,x_{n},C_{k})\\ p(x_{2}\\mid x_{3},\\ldots ,x_{n},C_{k})\\cdots p(x_{n-1}\\mid x_{n},C_{k})\\ p(x_{n}\\mid C_{k})\\ p(C_{k})\\\\\\end{aligned}}}$$\n",
    "\n",
    "\n",
    "__Now the \"naive\" conditional independence assumptions come into play: assume that all features in ${\\displaystyle \\mathbf {x} }$ are mutually independent, conditional on the category ${\\displaystyle C_{k}}$.__ Under this assumption,\n",
    "\n",
    "$${\\displaystyle p(x_{i}\\mid x_{i+1},\\ldots ,x_{n},C_{k})=p(x_{i}\\mid C_{k})\\,}$$\n",
    "Thus, the joint model can be expressed as\n",
    "\n",
    "$${\\displaystyle {\\begin{aligned}p(C_{k}\\mid x_{1},\\ldots ,x_{n})&\\varpropto p(C_{k},x_{1},\\ldots ,x_{n})\\\\&=p(C_{k})\\ p(x_{1}\\mid C_{k})\\ p(x_{2}\\mid C_{k})\\ p(x_{3}\\mid C_{k})\\ \\cdots \\\\&=p(C_{k})\\prod _{i=1}^{n}p(x_{i}\\mid C_{k})\\,,\\end{aligned}}}$$\n",
    "\n",
    "where ${\\displaystyle \\varpropto }$ denotes proportionality.\n",
    "\n",
    "This means that __under the above independence assumptions__, the conditional distribution over the class variable $C$ is:\n",
    "\n",
    "$${\\displaystyle p(C_{k}\\mid x_{1},\\ldots ,x_{n})={\\frac {1}{Z}}p(C_{k})\\prod _{i=1}^{n}p(x_{i}\\mid C_{k})}$$\n",
    "\n",
    "where the evidence \n",
    "$${\\displaystyle Z=p(\\mathbf {x} )=\\sum _{k}p(C_{k})\\ p(\\mathbf {x} \\mid C_{k})}$$\n",
    "is a scaling factor dependent only on ${\\displaystyle x_{1},\\ldots ,x_{n}}$ that is, a constant if the values of the feature variables are known.\n",
    "\n",
    "Source: https://en.wikipedia.org/wiki/Naive_Bayes_classifier"
   ]
  },
  {
   "cell_type": "markdown",
   "metadata": {},
   "source": [
    "## An introductory example: Mrs Marple plays Golf\n",
    "\n",
    "Let's analyze the probabilty for Mrs Marple to play Golf on a given day. Mrs Marple has recorded her decisions on 14 different days. Depending on the `Temperature`, the `Outlook`, the `Humidity` and `Wind Condition` of the day, we want to predict, whether she is going to play Golf or not.\n",
    "\n",
    "- $X_1$: `Temperature`\n",
    "- $X_2$: `Outlook`\n",
    "- $X_3$: `Humidity`\n",
    "- $X_4$: `Windy?`\n",
    "\n",
    "\n",
    "- $ \\mathrm{dom}(X_1) = \\left \\lbrace \\text{hot, cold, mild} \\right \\rbrace$\n",
    "- $ \\mathrm{dom}(X_2) = \\left \\lbrace \\text{sunny, overcast, rain} \\right \\rbrace$\n",
    "- $ \\mathrm{dom}(X_3) = \\left \\lbrace \\text{normal, high} \\right \\rbrace$\n",
    "- $ \\mathrm{dom}(X_4) = \\left \\lbrace \\text{True, False} \\right \\rbrace$\n",
    "\n",
    "\n",
    "The response $y$ is: `Play Golf?`.\n"
   ]
  },
  {
   "cell_type": "code",
   "execution_count": 4,
   "metadata": {},
   "outputs": [
    {
     "data": {
      "text/html": [
       "<div>\n",
       "<style scoped>\n",
       "    .dataframe tbody tr th:only-of-type {\n",
       "        vertical-align: middle;\n",
       "    }\n",
       "\n",
       "    .dataframe tbody tr th {\n",
       "        vertical-align: top;\n",
       "    }\n",
       "\n",
       "    .dataframe thead th {\n",
       "        text-align: right;\n",
       "    }\n",
       "</style>\n",
       "<table border=\"1\" class=\"dataframe\">\n",
       "  <thead>\n",
       "    <tr style=\"text-align: right;\">\n",
       "      <th></th>\n",
       "      <th>Temperature</th>\n",
       "      <th>Outlook</th>\n",
       "      <th>Humidity</th>\n",
       "      <th>Windy</th>\n",
       "      <th>Play Golf?</th>\n",
       "    </tr>\n",
       "  </thead>\n",
       "  <tbody>\n",
       "    <tr>\n",
       "      <th>0</th>\n",
       "      <td>hot</td>\n",
       "      <td>sunny</td>\n",
       "      <td>high</td>\n",
       "      <td>False</td>\n",
       "      <td>no</td>\n",
       "    </tr>\n",
       "    <tr>\n",
       "      <th>1</th>\n",
       "      <td>hot</td>\n",
       "      <td>sunny</td>\n",
       "      <td>high</td>\n",
       "      <td>True</td>\n",
       "      <td>no</td>\n",
       "    </tr>\n",
       "    <tr>\n",
       "      <th>2</th>\n",
       "      <td>hot</td>\n",
       "      <td>overcast</td>\n",
       "      <td>high</td>\n",
       "      <td>False</td>\n",
       "      <td>yes</td>\n",
       "    </tr>\n",
       "    <tr>\n",
       "      <th>3</th>\n",
       "      <td>cool</td>\n",
       "      <td>rain</td>\n",
       "      <td>normal</td>\n",
       "      <td>False</td>\n",
       "      <td>yes</td>\n",
       "    </tr>\n",
       "    <tr>\n",
       "      <th>4</th>\n",
       "      <td>cool</td>\n",
       "      <td>overcast</td>\n",
       "      <td>normal</td>\n",
       "      <td>True</td>\n",
       "      <td>yes</td>\n",
       "    </tr>\n",
       "    <tr>\n",
       "      <th>5</th>\n",
       "      <td>mild</td>\n",
       "      <td>sunny</td>\n",
       "      <td>high</td>\n",
       "      <td>False</td>\n",
       "      <td>no</td>\n",
       "    </tr>\n",
       "    <tr>\n",
       "      <th>6</th>\n",
       "      <td>cool</td>\n",
       "      <td>sunny</td>\n",
       "      <td>normal</td>\n",
       "      <td>False</td>\n",
       "      <td>yes</td>\n",
       "    </tr>\n",
       "    <tr>\n",
       "      <th>7</th>\n",
       "      <td>mild</td>\n",
       "      <td>rain</td>\n",
       "      <td>normal</td>\n",
       "      <td>False</td>\n",
       "      <td>yes</td>\n",
       "    </tr>\n",
       "    <tr>\n",
       "      <th>8</th>\n",
       "      <td>mild</td>\n",
       "      <td>sunny</td>\n",
       "      <td>normal</td>\n",
       "      <td>True</td>\n",
       "      <td>yes</td>\n",
       "    </tr>\n",
       "    <tr>\n",
       "      <th>9</th>\n",
       "      <td>mild</td>\n",
       "      <td>overcast</td>\n",
       "      <td>high</td>\n",
       "      <td>True</td>\n",
       "      <td>yes</td>\n",
       "    </tr>\n",
       "    <tr>\n",
       "      <th>10</th>\n",
       "      <td>hot</td>\n",
       "      <td>overcast</td>\n",
       "      <td>normal</td>\n",
       "      <td>False</td>\n",
       "      <td>yes</td>\n",
       "    </tr>\n",
       "    <tr>\n",
       "      <th>11</th>\n",
       "      <td>mild</td>\n",
       "      <td>rain</td>\n",
       "      <td>high</td>\n",
       "      <td>True</td>\n",
       "      <td>no</td>\n",
       "    </tr>\n",
       "    <tr>\n",
       "      <th>12</th>\n",
       "      <td>cool</td>\n",
       "      <td>rain</td>\n",
       "      <td>normal</td>\n",
       "      <td>True</td>\n",
       "      <td>no</td>\n",
       "    </tr>\n",
       "    <tr>\n",
       "      <th>13</th>\n",
       "      <td>mild</td>\n",
       "      <td>rain</td>\n",
       "      <td>high</td>\n",
       "      <td>False</td>\n",
       "      <td>yes</td>\n",
       "    </tr>\n",
       "  </tbody>\n",
       "</table>\n",
       "</div>"
      ],
      "text/plain": [
       "   Temperature   Outlook Humidity  Windy Play Golf?\n",
       "0          hot     sunny     high  False         no\n",
       "1          hot     sunny     high   True         no\n",
       "2          hot  overcast     high  False        yes\n",
       "3         cool      rain   normal  False        yes\n",
       "4         cool  overcast   normal   True        yes\n",
       "5         mild     sunny     high  False         no\n",
       "6         cool     sunny   normal  False        yes\n",
       "7         mild      rain   normal  False        yes\n",
       "8         mild     sunny   normal   True        yes\n",
       "9         mild  overcast     high   True        yes\n",
       "10         hot  overcast   normal  False        yes\n",
       "11        mild      rain     high   True         no\n",
       "12        cool      rain   normal   True         no\n",
       "13        mild      rain     high  False        yes"
      ]
     },
     "execution_count": 4,
     "metadata": {},
     "output_type": "execute_result"
    }
   ],
   "source": [
    "import pandas as pd\n",
    "import matplotlib.pyplot as plt\n",
    "import numpy as np\n",
    "\n",
    "df=pd.read_excel('PlayGolf_NaiveBayes.xls')\n",
    "df.head(20)"
   ]
  },
  {
   "cell_type": "markdown",
   "metadata": {},
   "source": [
    "### 1. Calculation of the Prior\n",
    "\n",
    "The prior probabilty is the probability to play Golf at all. For this we only have to look at the last column.\n",
    "\n",
    "$$p(y=\\text{yes})=\\frac{9}{14}$$\n",
    "$$p(y=\\text{no})=\\frac{5}{14}$$\n"
   ]
  },
  {
   "cell_type": "markdown",
   "metadata": {},
   "source": [
    "### 2. Calculation of the conditional probabilities $p(X_i \\vert y)$\n",
    "\n",
    "As a next step, we have to calculate all conditional probabilities, i.e. the probability for every feature $X_i$ given $y=\\text{yes}$ and $y=\\text{no}$. We can use a contingency table (`pandas.cosstab`) to calculate these probabilities.\n"
   ]
  },
  {
   "cell_type": "code",
   "execution_count": 5,
   "metadata": {},
   "outputs": [
    {
     "data": {
      "text/html": [
       "<div>\n",
       "<style scoped>\n",
       "    .dataframe tbody tr th:only-of-type {\n",
       "        vertical-align: middle;\n",
       "    }\n",
       "\n",
       "    .dataframe tbody tr th {\n",
       "        vertical-align: top;\n",
       "    }\n",
       "\n",
       "    .dataframe thead th {\n",
       "        text-align: right;\n",
       "    }\n",
       "</style>\n",
       "<table border=\"1\" class=\"dataframe\">\n",
       "  <thead>\n",
       "    <tr style=\"text-align: right;\">\n",
       "      <th>Play Golf?</th>\n",
       "      <th>no</th>\n",
       "      <th>yes</th>\n",
       "      <th>All</th>\n",
       "    </tr>\n",
       "    <tr>\n",
       "      <th>Temperature</th>\n",
       "      <th></th>\n",
       "      <th></th>\n",
       "      <th></th>\n",
       "    </tr>\n",
       "  </thead>\n",
       "  <tbody>\n",
       "    <tr>\n",
       "      <th>cool</th>\n",
       "      <td>1</td>\n",
       "      <td>3</td>\n",
       "      <td>4</td>\n",
       "    </tr>\n",
       "    <tr>\n",
       "      <th>hot</th>\n",
       "      <td>2</td>\n",
       "      <td>2</td>\n",
       "      <td>4</td>\n",
       "    </tr>\n",
       "    <tr>\n",
       "      <th>mild</th>\n",
       "      <td>2</td>\n",
       "      <td>4</td>\n",
       "      <td>6</td>\n",
       "    </tr>\n",
       "    <tr>\n",
       "      <th>All</th>\n",
       "      <td>5</td>\n",
       "      <td>9</td>\n",
       "      <td>14</td>\n",
       "    </tr>\n",
       "  </tbody>\n",
       "</table>\n",
       "</div>"
      ],
      "text/plain": [
       "Play Golf?   no  yes  All\n",
       "Temperature              \n",
       "cool          1    3    4\n",
       "hot           2    2    4\n",
       "mild          2    4    6\n",
       "All           5    9   14"
      ]
     },
     "execution_count": 5,
     "metadata": {},
     "output_type": "execute_result"
    }
   ],
   "source": [
    "pd.crosstab(df['Temperature'],df['Play Golf?'],margins=True,normalize=False)"
   ]
  },
  {
   "cell_type": "markdown",
   "metadata": {},
   "source": [
    "From this table, we can calculate the following:\n",
    "\n",
    "- $p(X_1=\\text{cool} \\vert y=\\text{yes} ) = \\frac{3}{9}$\n",
    "- $p(X_1=\\text{hot } \\vert y=\\text{yes} )  = \\frac{2}{9}$\n",
    "- $p(X_1=\\text{mild} \\vert y=\\text{yes} ) = \\frac{4}{9}$\n",
    "\n",
    "- $p(X_1=\\text{cool} \\vert y=\\text{no } ) = \\frac{1}{5}$\n",
    "- $p(X_1=\\text{hot } \\vert y=\\text{no } )  = \\frac{2}{5}$\n",
    "- $p(X_1=\\text{mild} \\vert y=\\text{no } ) = \\frac{2}{5}$\n",
    "\n"
   ]
  },
  {
   "cell_type": "code",
   "execution_count": 6,
   "metadata": {},
   "outputs": [
    {
     "data": {
      "text/html": [
       "<div>\n",
       "<style scoped>\n",
       "    .dataframe tbody tr th:only-of-type {\n",
       "        vertical-align: middle;\n",
       "    }\n",
       "\n",
       "    .dataframe tbody tr th {\n",
       "        vertical-align: top;\n",
       "    }\n",
       "\n",
       "    .dataframe thead th {\n",
       "        text-align: right;\n",
       "    }\n",
       "</style>\n",
       "<table border=\"1\" class=\"dataframe\">\n",
       "  <thead>\n",
       "    <tr style=\"text-align: right;\">\n",
       "      <th>Play Golf?</th>\n",
       "      <th>no</th>\n",
       "      <th>yes</th>\n",
       "      <th>All</th>\n",
       "    </tr>\n",
       "    <tr>\n",
       "      <th>Outlook</th>\n",
       "      <th></th>\n",
       "      <th></th>\n",
       "      <th></th>\n",
       "    </tr>\n",
       "  </thead>\n",
       "  <tbody>\n",
       "    <tr>\n",
       "      <th>overcast</th>\n",
       "      <td>0</td>\n",
       "      <td>4</td>\n",
       "      <td>4</td>\n",
       "    </tr>\n",
       "    <tr>\n",
       "      <th>rain</th>\n",
       "      <td>2</td>\n",
       "      <td>3</td>\n",
       "      <td>5</td>\n",
       "    </tr>\n",
       "    <tr>\n",
       "      <th>sunny</th>\n",
       "      <td>3</td>\n",
       "      <td>2</td>\n",
       "      <td>5</td>\n",
       "    </tr>\n",
       "    <tr>\n",
       "      <th>All</th>\n",
       "      <td>5</td>\n",
       "      <td>9</td>\n",
       "      <td>14</td>\n",
       "    </tr>\n",
       "  </tbody>\n",
       "</table>\n",
       "</div>"
      ],
      "text/plain": [
       "Play Golf?  no  yes  All\n",
       "Outlook                 \n",
       "overcast     0    4    4\n",
       "rain         2    3    5\n",
       "sunny        3    2    5\n",
       "All          5    9   14"
      ]
     },
     "execution_count": 6,
     "metadata": {},
     "output_type": "execute_result"
    }
   ],
   "source": [
    "pd.crosstab(df['Outlook'],df['Play Golf?'],margins=True)"
   ]
  },
  {
   "cell_type": "markdown",
   "metadata": {},
   "source": [
    "From this table, we can calculate the following conditionals:\n",
    "\n",
    "- $p(X_2=\\text{overcast} \\vert y=\\text{yes} ) = \\frac{4}{9}$\n",
    "- $p(X_2=\\text{rain } \\vert y=\\text{yes} )  = \\frac{3}{9}$\n",
    "- $p(X_2=\\text{sunny} \\vert y=\\text{yes} ) = \\frac{2}{9}$\n",
    "\n",
    "- $p(X_2=\\text{overcast} \\vert y=\\text{no } ) = \\frac{0}{5}$\n",
    "- $p(X_2=\\text{rain } \\vert y=\\text{no } )  = \\frac{2}{5}$\n",
    "- $p(X_2=\\text{sunny} \\vert y=\\text{no } ) = \\frac{3}{5}$"
   ]
  },
  {
   "cell_type": "code",
   "execution_count": 7,
   "metadata": {
    "scrolled": true
   },
   "outputs": [
    {
     "data": {
      "text/html": [
       "<div>\n",
       "<style scoped>\n",
       "    .dataframe tbody tr th:only-of-type {\n",
       "        vertical-align: middle;\n",
       "    }\n",
       "\n",
       "    .dataframe tbody tr th {\n",
       "        vertical-align: top;\n",
       "    }\n",
       "\n",
       "    .dataframe thead th {\n",
       "        text-align: right;\n",
       "    }\n",
       "</style>\n",
       "<table border=\"1\" class=\"dataframe\">\n",
       "  <thead>\n",
       "    <tr style=\"text-align: right;\">\n",
       "      <th>Play Golf?</th>\n",
       "      <th>no</th>\n",
       "      <th>yes</th>\n",
       "      <th>All</th>\n",
       "    </tr>\n",
       "    <tr>\n",
       "      <th>Humidity</th>\n",
       "      <th></th>\n",
       "      <th></th>\n",
       "      <th></th>\n",
       "    </tr>\n",
       "  </thead>\n",
       "  <tbody>\n",
       "    <tr>\n",
       "      <th>high</th>\n",
       "      <td>4</td>\n",
       "      <td>3</td>\n",
       "      <td>7</td>\n",
       "    </tr>\n",
       "    <tr>\n",
       "      <th>normal</th>\n",
       "      <td>1</td>\n",
       "      <td>6</td>\n",
       "      <td>7</td>\n",
       "    </tr>\n",
       "    <tr>\n",
       "      <th>All</th>\n",
       "      <td>5</td>\n",
       "      <td>9</td>\n",
       "      <td>14</td>\n",
       "    </tr>\n",
       "  </tbody>\n",
       "</table>\n",
       "</div>"
      ],
      "text/plain": [
       "Play Golf?  no  yes  All\n",
       "Humidity                \n",
       "high         4    3    7\n",
       "normal       1    6    7\n",
       "All          5    9   14"
      ]
     },
     "execution_count": 7,
     "metadata": {},
     "output_type": "execute_result"
    }
   ],
   "source": [
    "pd.crosstab(df['Humidity'],df['Play Golf?'],margins=True)\n"
   ]
  },
  {
   "cell_type": "markdown",
   "metadata": {},
   "source": [
    "From this table, we can calculate the following conditionals:\n",
    "\n",
    "- $p(X_3=\\text{high  } \\vert y=\\text{yes} ) = \\frac{3}{9}$\n",
    "- $p(X_3=\\text{normal} \\vert y=\\text{yes} )  = \\frac{6}{9}$\n",
    "\n",
    "- $p(X_3=\\text{high  } \\vert y=\\text{no } ) = \\frac{4}{5}$\n",
    "- $p(X_3=\\text{normal} \\vert y=\\text{no } )  = \\frac{1}{5}$\n"
   ]
  },
  {
   "cell_type": "code",
   "execution_count": 8,
   "metadata": {},
   "outputs": [
    {
     "data": {
      "text/html": [
       "<div>\n",
       "<style scoped>\n",
       "    .dataframe tbody tr th:only-of-type {\n",
       "        vertical-align: middle;\n",
       "    }\n",
       "\n",
       "    .dataframe tbody tr th {\n",
       "        vertical-align: top;\n",
       "    }\n",
       "\n",
       "    .dataframe thead th {\n",
       "        text-align: right;\n",
       "    }\n",
       "</style>\n",
       "<table border=\"1\" class=\"dataframe\">\n",
       "  <thead>\n",
       "    <tr style=\"text-align: right;\">\n",
       "      <th>Play Golf?</th>\n",
       "      <th>no</th>\n",
       "      <th>yes</th>\n",
       "      <th>All</th>\n",
       "    </tr>\n",
       "    <tr>\n",
       "      <th>Windy</th>\n",
       "      <th></th>\n",
       "      <th></th>\n",
       "      <th></th>\n",
       "    </tr>\n",
       "  </thead>\n",
       "  <tbody>\n",
       "    <tr>\n",
       "      <th>False</th>\n",
       "      <td>2</td>\n",
       "      <td>6</td>\n",
       "      <td>8</td>\n",
       "    </tr>\n",
       "    <tr>\n",
       "      <th>True</th>\n",
       "      <td>3</td>\n",
       "      <td>3</td>\n",
       "      <td>6</td>\n",
       "    </tr>\n",
       "    <tr>\n",
       "      <th>All</th>\n",
       "      <td>5</td>\n",
       "      <td>9</td>\n",
       "      <td>14</td>\n",
       "    </tr>\n",
       "  </tbody>\n",
       "</table>\n",
       "</div>"
      ],
      "text/plain": [
       "Play Golf?  no  yes  All\n",
       "Windy                   \n",
       "False        2    6    8\n",
       "True         3    3    6\n",
       "All          5    9   14"
      ]
     },
     "execution_count": 8,
     "metadata": {},
     "output_type": "execute_result"
    }
   ],
   "source": [
    "pd.crosstab(df['Windy'],df['Play Golf?'],margins=True)"
   ]
  },
  {
   "cell_type": "markdown",
   "metadata": {},
   "source": [
    "And finally for the last feature $X_4$, we get\n",
    "\n",
    "- $p(X_4=\\text{False  } \\vert y=\\text{yes} ) = \\frac{6}{9}$\n",
    "- $p(X_4=\\text{True} \\vert y=\\text{yes} )  = \\frac{3}{9}$\n",
    "\n",
    "- $p(X_4=\\text{False  } \\vert y=\\text{no } ) = \\frac{2}{5}$\n",
    "- $p(X_4=\\text{True} \\vert y=\\text{no } )  = \\frac{3}{5}$"
   ]
  },
  {
   "cell_type": "markdown",
   "metadata": {},
   "source": [
    "### 3. Making predictions\n",
    "\n",
    "What is now the decision to play Golf under the the following conditions?\n",
    "\n",
    "$$X= \\left\\lbrace X_1, X_2, X_3, X_4 \\right \\rbrace = \\left \\lbrace \\text{hot, sunny, high, True} \\right \\rbrace$$"
   ]
  },
  {
   "cell_type": "markdown",
   "metadata": {},
   "source": [
    "It is not necessary, to calculate the evidence $Z=p(X)$, because we can compare the following two nominators:\n",
    "\n",
    "$$ p(y=\\text{yes} \\vert X ) \\propto p(X_1 \\vert y) \\cdot p(X_2 \\vert y) \\cdot p(X_3 \\vert y) \\cdotp(X_4 \\vert y) \\cdot p(y)$$\n",
    "and\n",
    "$$ p(y=\\text{no} \\vert X ) \\propto p(X_1 \\vert \\bar{y}) \\cdot p(X_2 \\vert \\bar{y}) \\cdot p(X_3 \\vert \\bar{y}) \\cdotp(X_4 \\vert y) \\cdot p(\\bar{y})$$\n"
   ]
  },
  {
   "cell_type": "markdown",
   "metadata": {},
   "source": [
    "By looking at our tables, we get for the probability to play Golf $y=\\text{yes}$:\n",
    "\n",
    "$$ p(y=\\text{yes} \\vert X) = \\frac{1}{Z} \\cdot p(X_1 \\vert y) \\cdot p(X_2 \\vert y) \\cdot p(X_3 \\vert y) \\cdotp(X_4 \\vert y) \\cdot p(y) =\n",
    "\\frac{2}{9} \\cdot \\frac{2}{9} \\cdot \\frac{3}{9} \\cdot \\frac{3}{9} \\cdot \\frac{9}{14} = \\frac{2^2}{9^2}\\cdot \\frac{1}{14 Z}$$"
   ]
  },
  {
   "cell_type": "markdown",
   "metadata": {},
   "source": [
    "By looking at our tables, we get for the probability __not__ to play Golf: $y=\\text{no}$:"
   ]
  },
  {
   "cell_type": "markdown",
   "metadata": {},
   "source": [
    "$$ p(y=\\text{not} \\vert X) = \\frac{1}{Z} \\cdot p(X_1 \\vert \\bar{y}) \\cdot p(X_2 \\vert \\bar{y}) \\cdot p(X_3 \\vert \\bar{y}) \\cdotp(X_4 \\vert \\bar{y}) \\cdot p(\\bar{y}) =\n",
    "\\frac{2}{5} \\cdot \\frac{2}{5} \\cdot \\frac{4}{5} \\cdot \\frac{3}{5} \\cdot \\frac{5}{14} = \\frac{2^4}{5^3}\\cdot \\frac{1}{14 Z}$$"
   ]
  },
  {
   "cell_type": "markdown",
   "metadata": {},
   "source": [
    "Now, we can compare these two probabilites and calculate the *ratio*:\n",
    "\n",
    "$$\\frac{p(y=\\text{yes} \\vert X = \\left \\lbrace \\text{hot, sunny, high, True} \\right \\rbrace)}{p(y=\\text{no} \\vert X = \\left \\lbrace \\text{hot, sunny, high, True} \\right \\rbrace)} = \\frac{2^2 \\cdot 5^3}{9^2 \\cdot 2^4} = \\frac{125}{4\\cdot 81} =\\frac{125}{324} < 1$$"
   ]
  },
  {
   "cell_type": "markdown",
   "metadata": {},
   "source": [
    "### 4. What happens, if one of the counts is zero? \n",
    "\n",
    "In this case, the posterior $p(y \\vert X)$ is zero as well. To avoid this, __Additive Smoothing (Laplace Smoothing)__ is normally applied to the data. \n",
    "\n",
    "$$p_i = \\frac{n_i +1 }{n+k}$$\n",
    "\n",
    "where:\n",
    "- $n_i$: is the actual count of characteristic $i$ of the feature $X$, $(i=1 \\dots k)$ conditioned on $y$\n",
    "- $k$: is the number of classes (characteristics) in the considered feature $X$ conditioned on $y$\n",
    "- $n$: is the total number of counts of this feature conditioned on $y$\n",
    "\n",
    "Interested readers can have a look at: https://en.wikipedia.org/wiki/Additive_smoothing\n"
   ]
  },
  {
   "cell_type": "code",
   "execution_count": null,
   "metadata": {},
   "outputs": [],
   "source": []
  }
 ],
 "metadata": {
  "kernelspec": {
   "display_name": "Python 3",
   "language": "python",
   "name": "python3"
  },
  "language_info": {
   "codemirror_mode": {
    "name": "ipython",
    "version": 3
   },
   "file_extension": ".py",
   "mimetype": "text/x-python",
   "name": "python",
   "nbconvert_exporter": "python",
   "pygments_lexer": "ipython3",
   "version": "3.7.3"
  },
  "nbTranslate": {
   "displayLangs": [
    "ger",
    "en"
   ],
   "hotkey": "alt-t",
   "langInMainMenu": true,
   "sourceLang": "en",
   "targetLang": "ger",
   "useGoogleTranslate": true
  },
  "varInspector": {
   "cols": {
    "lenName": 16,
    "lenType": 16,
    "lenVar": 40
   },
   "kernels_config": {
    "python": {
     "delete_cmd_postfix": "",
     "delete_cmd_prefix": "del ",
     "library": "var_list.py",
     "varRefreshCmd": "print(var_dic_list())"
    },
    "r": {
     "delete_cmd_postfix": ") ",
     "delete_cmd_prefix": "rm(",
     "library": "var_list.r",
     "varRefreshCmd": "cat(var_dic_list()) "
    }
   },
   "types_to_exclude": [
    "module",
    "function",
    "builtin_function_or_method",
    "instance",
    "_Feature"
   ],
   "window_display": false
  }
 },
 "nbformat": 4,
 "nbformat_minor": 4
}
